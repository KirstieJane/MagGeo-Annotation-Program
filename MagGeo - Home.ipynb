{
 "cells": [
  {
   "cell_type": "markdown",
   "metadata": {},
   "source": [
    "# MagGeo - Initial Description\n",
    "\n",
    "**Contact**  | [Fernando.Benitez@st-andrews.ac.uk](mailto:Fernando.Benitez@st-andrews.ac.uk), [ud2@st-andrews.ac.uk](mailto:ud2@st-andrews.ac.uk), <jed.long@uwo.ca>\n",
    "\n",
    "**nbviewer URL** | https://nbviewer.jupyter.org/github/maggeo\n",
    "\n",
    "**Keywords** | Bird migration, data fusion, Earth’s magnetic field, Swarm, GPS tracking "
   ]
  },
  {
   "cell_type": "markdown",
   "metadata": {},
   "source": [
    "# Introduction\n",
    "\n",
    "Inspired by The Environmental Data Automated Track Annotation System (Env-DATA) Service  a tool on Movebank, where ecologists and animal movement researchers all over the world can link movement data with global environmental datasets. Including  hundreds of variables from a diverse set of data sources including the European Space Agency (ESA), the National Aeronautics and Space Administration (NASA), the US National Oceanic and Atmospheric Administration (NOAA), and others. EnvData allow researchers to annotate in space and time multiples environmental information to enrich their GPS tracks to analyze the  influence of several environmental variables in the trajectory. Using the [Env-DATA Track Annotation Service](https://www.movebank.org/cms/movebank-content/env-data-track-annotation) registered users on MoveBank are able to get environmental parameters—such as wind conditions, land use, vegetation, and snow cover—for the whole world. Using different interpolation methods users can include multiple environment variables selecting from a comprehensive list of datasets (you can browse the available dataset [here](https://www.movebank.org/cms/movebank-content/envdata-products)).\n",
    "\n",
    "The second element that inspired **MagGeo** is having a tool to help researcher to get a better understanding over how the earth's magnetic field is being used by birds as one of their navigational strategies. Despite of there are several approach in this regards we know still have little knowledge about how birds can use the influence of the magnetic field for their migration patterns, especially for those long-distance migratory animals. Other studies have been reflecting into the magnetic field influence based on magnetic field estimation models, or using some displacement experiments with particular species. The disadvantage of those previous studies is the magnetic field is a highly dynamic force that have different impact around the earth every day. Having said that MagGeo wants to take advantage of what is considered best survey of the geomagnetic field and its temporal evolution - Swarm Constellation. Swarm is a ESA’s magnetic field mission, launched on 22 November 2013, consists of the three identical **Swarm satellites (Alpha, Bravo, and Charlie)**. Swarm A and C flying side-by-side (1.4° separation in longitude) at an altitude of 462 km (initial altitude) and Swarm B at higher orbit of 511 km (initial altitude) are equipped with the following set of [identical instruments](https://earth.esa.int/web/guest/missions/esa-eo-missions/swarm/instruments-overview).\n",
    "\n",
    "The data products available from  Swarm are Level 1b and Swarm Level 2 products. These products include Swarm magnetic field models, ionospheric and thermospheric products, and others. MagGeo use the Swarm Level 1b data product as the corrected and formatted output from each of the three Swarm satellites. For more information about the Swarm Data Products click [here]( https://earth.esa.int/web/guest/missions/esa-eo-missions/swarm/data-handbook).\n",
    "\n",
    "MagGeo has been deployed using a set of  Jupyter notebooks a powerful tool to run a python environment. Completely build in python 3.8 MagGeo is a well described program that will guide you through several steps to annotate your GPS trajectories with the geomagnetic field components reported by Swarm. You can access to Swarm Data products via HTTP or FTP using :\n",
    "\n",
    "- via any HTTP browser at [http://swarm-diss.eo.esa.int](http://swarm-diss.eo.esa.int/)\n",
    "- directly via an ftp client at [ftp://swarm-diss.eo.esa.int](ftp://swarm-diss.eo.esa.int/)\n",
    "\n",
    "However **MagGeo** use [**VirES**](https://swarm-vre.readthedocs.io/en/latest/Swarm_notebooks/02a__Intro-Swarm-viresclient.html) (Virtual environments for Earth Scientists) a platform for data & model access, analysis, and visualisation for ESA’s magnetic mission **Swarm**. This is a powerful client with the [viresclient API](https://swarm-vre.readthedocs.io/en/latest/Swarm_notebooks/02c__viresclient-API.html) that provide several classes and methods defined in the vires client package. The `viresclient` Python package allows you to connect to the VirES server to download [Swarm](https://earth.esa.int/web/guest/missions/esa-operational-eo-missions/swarm) data and data calculated using magnetic models."
   ]
  },
  {
   "cell_type": "markdown",
   "metadata": {},
   "source": [
    "# Background\n",
    "\n",
    "> ☝ Before moving on with this MagGeo you might want to take a look at the following concepts:\n",
    "\n",
    "## Earth's Magnetic Field\n",
    "\n",
    "The Earth's magnetic field (or geomagnetic field ) is generated in the fluid outer core by a self-exciting dynamo process. Electrical currents flowing in the slowly moving molten iron generate the magnetic field. In addition to sources in the Earth's core the magnetic field observable at the Earth's surface has sources in the crust and in the ionosphere and magnetosphere<sup>[1]</sup>.\n",
    "\n",
    "The Earth's magnetic field is described by seven components. These are **Declination (D)**, **Inclination (I)**, **Horizontal intensity (H)**, **Vertical intensity (Z)**, **total intensity (F)** and the **north (X)** and **east (Y)** components of the horizontal intensity. In most of the geomagnetic data sources the reference frame used to share the magnetic components is **NEC**, which is basically the same XYZ cartesian system.  By convention, declination is considered positive when measured east of north, Inclination and vertical intensity positive down, X (N) positive north, and Y(E) positive east. The magnetic field observed on Earth is constantly changing<sup>[2]</sup>. \n",
    "\n",
    "<div class=\"alert alert-warning\" role=\"alert\">\n",
    "  <strong>The Earth's magnetic field varies both in space and time</strong>\n",
    "    That is why the relevance of <strong>MagGeo</strong> helping researchers to understand the variations of the geomagnetic field across an animal movement trajectory. In particular having the annotated geomagnetic components at the the date and time the GPS point was collected. The following image can help you to understand how the geomagnetic components are represented and how they are computed.\n",
    "</div>\n",
    "<img src=\"./images/MagneticComponents-Jupyter.png\" width=\"400\">\n",
    "\n",
    "Considering the point of measurement (*p*) as the origin of a Cartesian system of reference, the x-axis is in the geographic meridian directed to the north, y-axis in the geographic parallel directed to the east and z-axis parallel to the vertical at the point and positive downwards. Then we have:\n",
    "\n",
    "![equation](https://latex.codecogs.com/gif.latex?F=&space;\\sqrt{X^{2}&plus;Y^{2}&plus;Z^{2}}&space;\\hspace{1cm}&space;or\\hspace{1cm}&space;F=&space;\\sqrt{N^{2}&plus;E^{2}&plus;C^{2}})\n",
    "\n",
    "\n",
    "![equation](https://latex.codecogs.com/gif.latex?H&space;=&space;\\sqrt{N^{2}&plus;E^{2}}&space;-&space;D&space;=&space;\\arctan\\frac{E}{N}&space;-&space;I&space;=&space;\\arctan\\frac{C}{H}&space;-)\n",
    "\n",
    "The unit of magnetic field intensity, strictly flux density, most commonly used in geomagnetism is the Tesla. At the Earth's surface the total intensity varies from 22,000 nanotesla (nT) to 67,000 nT.  The units of D and I are degrees.\n",
    "\n",
    "## Ionosphere Correction\n",
    "\n",
    "Swarm data provide information on the earth's magnetic field at the orbit level, which is above the ionosphere, where geomagnetic field is affected by the electrical currents induced by the interaction of the solar wind and magnetosphere [27]. This means that to obtain the values of the magnetic field on the Earth’s surface where animals are migrating, the raw measurements from Swarm need to be corrected by removing ionospheric disturbances. We do this by obtaining residuals between raw Swarm data and values from a world geomagnetic model, which represents the core and lithospheric crust fields as well as disturbances in the magnetosphere (including ionosphere) [30]. Specifically, we use the CHAmp, Orsted and Sac-c (CHAOS-7) time-dependent geomagnetic model in this calculation [43,44], which is based on magnetic observations by Swarm, CryoSat-2, CHAMP, SAC-C and Ørsted satellites, and terrestrial observations from the INTERMAGNET network. Swarm residuals capture the real-time solar-wind induced variability only. We then create realistic observations of geomagnetic field at ground level underneath each satellite by adding our residuals to the core and crust model values at ground altitude. For details of this correction see Supplementary Information 1. Swarm residuals and CHAOS-7 model values are also provided through VirES [45].\n"
   ]
  },
  {
   "cell_type": "markdown",
   "metadata": {},
   "source": [
    "# Data requirements\n",
    "\n",
    "**Your trajectory must be in a csv format**\n",
    "\n",
    "There are three columns that  must be included to run the **MagGeo**. Make sure your GPS trajectory include all. **Latitude** , **Longitude** and **timestamp**.  Timestamp should follow the day/month/year Hour:Minute (**dd/mm/yyyy HH:MM**) format, Latitude and Longitude should be in decimal degrees (WGS84). Other Columns will be ignored. Here it is an example of how your GPS track should looks like.\n",
    "\n",
    "<img src=\"./images/TableExample.png\">\n",
    "\n",
    "Of course with knowledge of pandas and python you can manipulate your csv file and make the adjustment you need. Although if you want to run the **MagGeo** using our suggested steps, we would  recommend to set your GPS track csv file in a text editor before being included into **MagGeo**."
   ]
  }
 ],
 "metadata": {
  "kernelspec": {
   "display_name": "Python 3",
   "language": "python",
   "name": "python3"
  },
  "language_info": {
   "codemirror_mode": {
    "name": "ipython",
    "version": 3
   },
   "file_extension": ".py",
   "mimetype": "text/x-python",
   "name": "python",
   "nbconvert_exporter": "python",
   "pygments_lexer": "ipython3",
   "version": "3.8.1"
  },
  "toc": {
   "base_numbering": 1,
   "nav_menu": {},
   "number_sections": true,
   "sideBar": true,
   "skip_h1_title": false,
   "title_cell": "Table of Contents",
   "title_sidebar": "Contents",
   "toc_cell": false,
   "toc_position": {},
   "toc_section_display": true,
   "toc_window_display": true
  }
 },
 "nbformat": 4,
 "nbformat_minor": 4
}
