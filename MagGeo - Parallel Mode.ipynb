{
 "cells": [
  {
   "cell_type": "markdown",
   "metadata": {},
   "source": [
    "# MagGeo - Parallel Mode \n",
    "\n",
    "**Authors** | Fernando Benitez-Paez, Urška Demšar, Jed Long, Ciaran Beggan\n",
    "\n",
    "**Contact**  | [Fernando.Benitez@st-andrews.ac.uk](mailto:Fernando.Benitez@st-andrews.ac.uk), [ud2@st-andrews.ac.uk](mailto:ud2@st-andrews.ac.uk), [jed.long@uwo.ca](mailto:jed.long@uwo.ca), [ciar@bgs.ac.uk](mailto:Fernando.Benitez@st-andrews.ac.uk)\n",
    "\n",
    "**nbviewer URL** | https://nbviewer.jupyter.org/github/MagGeo/MagGeo/blob/master/MagGeo_Parallel.ipynb\n",
    "\n",
    "**Keywords** | Bird migration, data fusion, Earth’s magnetic field, Swarm, GPS tracking"
   ]
  },
  {
   "cell_type": "markdown",
   "metadata": {},
   "source": [
    "## Overview\n",
    "\n",
    "This Jupyter Notebook will guide you through the required steps to annotate your GPS tracking data with the earth's magnetic field data from Swarm (European Space Agency). This version is called Parallel Mode to take advantage of parallelized computing to process big datasets.\n",
    "\n",
    "To execute the code, you can go through each cell (pressing <code>Crtl+Enter</code>), you will also find inner comments `##` to describe each particular step. If you are not familiar with Jupyter Notebook, you migth want to take some time to learn how to use it first, for example take a look at the <code>notebook-basics.ipynb</code> Notebook inside MagGeo.\n",
    "\n",
    "**For parallel processing, there are some considerations to make:**\n",
    "\n",
    "1. Linux and Windows environments have some differences. In windows we need to separate the functions and store them separately, then import them into a `main` function. \n",
    "3. Defining what part of the process is <strong>CPU bound</strong> and what part is <strong>I/O bound</strong>: Identify what parts of the program are I/O bound (writing or reading from the disk or network) and what part par CPU bound ( Processing capacity). To take advantage of our CPU capacity we need to identify the process where the CPU is actually doing the main Tasks."
   ]
  },
  {
   "cell_type": "markdown",
   "metadata": {},
   "source": [
    "## Data requirements\n",
    "\n",
    "<div class=\"alert alert-warning\" role=\"alert\">\n",
    "  <strong>🔎 Your trajectory must be in a csv format:</strong>\n",
    "\n",
    "There are three columns that  must be included in your GPS trajectory. Make sure your GPS trajectory includes  **Latitude** , **Longitude** and **timestamp**. We suggest that the Timestamp column follow the day/month/year Hour:Minute (**dd/mm/yyyy HH:MM:SS**) format, Latitude and Longitude should be in decimal degrees (WGS84). Optionally an altitude column can be used. Other Columns will be ignored. Here it is an example of how your GPS track should look:\n",
    "\n",
    "<img src=\"./images/TableExample.png\">\n",
    "\n",
    "For this example we are reading the <strong>BirdGPSTrajectory.csv</strong> file. If you want to run the method using your own csv file, make sure you store your the file in the <code>./data</code> folder. For more information about the dataset we used in this example go to the Main Notebook.\n",
    "</div>"
   ]
  },
  {
   "cell_type": "markdown",
   "metadata": {},
   "source": [
    "## Import the requeried libraries"
   ]
  },
  {
   "cell_type": "code",
   "execution_count": 1,
   "metadata": {
    "ExecuteTime": {
     "end_time": "2020-10-29T13:02:18.555814Z",
     "start_time": "2020-10-29T13:02:12.097722Z"
    }
   },
   "outputs": [],
   "source": [
    "import datetime as dt\n",
    "import sys,os\n",
    "from pathlib import Path\n",
    "import pandas as pd\n",
    "import numpy as np\n",
    "import datetime, time\n",
    "from datetime import timedelta\n",
    "import math\n",
    "import pathlib\n",
    "from datetime import datetime\n",
    "import time\n",
    "import calendar\n",
    "import datetime\n",
    "from viresclient import ClientConfig\n",
    "import matplotlib.pyplot as plt"
   ]
  },
  {
   "cell_type": "markdown",
   "metadata": {},
   "source": [
    "## Add your VirES web client Token"
   ]
  },
  {
   "cell_type": "code",
   "execution_count": null,
   "metadata": {
    "ExecuteTime": {
     "end_time": "2020-10-28T13:10:24.490619Z",
     "start_time": "2020-10-28T13:10:24.483620Z"
    }
   },
   "outputs": [],
   "source": [
    "VirESToken = \"rp-foC8gz-VTFz7He6SMPnQtKEpasEaB\""
   ]
  },
  {
   "cell_type": "markdown",
   "metadata": {},
   "source": [
    "## Reading the GPS track\n",
    "\n",
    "The following steps will load the GPS track from a csv file, and set some requirements before download the data from Swarm.\n",
    "Importing the GPS track. You can note that there is a folder to store the CSV file. Using `os.getcwd()` you can validate where the file is located."
   ]
  },
  {
   "cell_type": "code",
   "execution_count": 2,
   "metadata": {
    "ExecuteTime": {
     "end_time": "2020-10-29T13:02:55.174128Z",
     "start_time": "2020-10-29T13:02:24.698250Z"
    }
   },
   "outputs": [
    {
     "name": "stdout",
     "output_type": "stream",
     "text": [
      "What is the name of your .csv file?: BirdGPSTrajectory.csv\n",
      "Enter the name of your Latitude column?: location-lat\n",
      "Enter the name of your Longitud column?: location-long\n",
      "Enter the date and time column name?: timestamp\n",
      "Enter the Altitude column name?, if you dont have it just press Enter:height\n"
     ]
    }
   ],
   "source": [
    "#Enter the name of your GPS track csv file including the extension .csv  and press Enter (e.g. BirdGPSTrajectory.csv)\n",
    "gpsfilename=input(\"What is the name of your .csv file?: \")\n",
    "Lat=input(\"Enter the name of your Latitude column?: \")\n",
    "Long=input(\"Enter the name of your Longitud column?: \")\n",
    "DateTime=input(\"Enter the date and time column name?: \")\n",
    "altitude = input(\"Enter the Altitude column name?, if you dont have it just press Enter:\")\n",
    "#If you csv track file doesnt not have any altitude attribute, MagGeo will use the sea level as your altitude, means 0 Km."
   ]
  },
  {
   "cell_type": "code",
   "execution_count": 3,
   "metadata": {
    "ExecuteTime": {
     "end_time": "2020-10-29T13:02:56.822068Z",
     "start_time": "2020-10-29T13:02:56.803868Z"
    }
   },
   "outputs": [],
   "source": [
    "os.chdir(r\"./data\")\n",
    "def getGPSData():\n",
    "    if altitude == '':\n",
    "        nfp = pd.read_csv(gpsfilename, parse_dates=[0], encoding='utf-8', dayfirst=True, usecols=[Lat, Long, DateTime])\n",
    "        nfp['gpsAltitude'] = 0\n",
    "    else:\n",
    "        nfp = pd.read_csv(gpsfilename, parse_dates=[0], encoding='utf-8', dayfirst=True, usecols=[Lat, Long, DateTime, altitude])\n",
    "    return nfp"
   ]
  },
  {
   "cell_type": "code",
   "execution_count": 4,
   "metadata": {
    "ExecuteTime": {
     "end_time": "2020-10-29T13:02:58.706187Z",
     "start_time": "2020-10-29T13:02:58.173182Z"
    }
   },
   "outputs": [
    {
     "data": {
      "text/html": [
       "<div>\n",
       "<style scoped>\n",
       "    .dataframe tbody tr th:only-of-type {\n",
       "        vertical-align: middle;\n",
       "    }\n",
       "\n",
       "    .dataframe tbody tr th {\n",
       "        vertical-align: top;\n",
       "    }\n",
       "\n",
       "    .dataframe thead th {\n",
       "        text-align: right;\n",
       "    }\n",
       "</style>\n",
       "<table border=\"1\" class=\"dataframe\">\n",
       "  <thead>\n",
       "    <tr style=\"text-align: right;\">\n",
       "      <th></th>\n",
       "      <th>gpsDateTime</th>\n",
       "      <th>gpsLong</th>\n",
       "      <th>gpsLat</th>\n",
       "      <th>gpsAltitude</th>\n",
       "    </tr>\n",
       "  </thead>\n",
       "  <tbody>\n",
       "    <tr>\n",
       "      <th>0</th>\n",
       "      <td>2014-09-08 05:54:00</td>\n",
       "      <td>68.307333</td>\n",
       "      <td>70.854717</td>\n",
       "      <td>0.000</td>\n",
       "    </tr>\n",
       "    <tr>\n",
       "      <th>1</th>\n",
       "      <td>2014-09-08 06:10:00</td>\n",
       "      <td>67.975050</td>\n",
       "      <td>70.830300</td>\n",
       "      <td>0.406</td>\n",
       "    </tr>\n",
       "    <tr>\n",
       "      <th>2</th>\n",
       "      <td>2014-09-08 06:26:00</td>\n",
       "      <td>67.752417</td>\n",
       "      <td>70.761717</td>\n",
       "      <td>0.498</td>\n",
       "    </tr>\n",
       "    <tr>\n",
       "      <th>3</th>\n",
       "      <td>2014-09-08 06:42:00</td>\n",
       "      <td>67.561983</td>\n",
       "      <td>70.686517</td>\n",
       "      <td>0.787</td>\n",
       "    </tr>\n",
       "    <tr>\n",
       "      <th>4</th>\n",
       "      <td>2014-09-08 07:14:00</td>\n",
       "      <td>67.548317</td>\n",
       "      <td>70.685450</td>\n",
       "      <td>0.337</td>\n",
       "    </tr>\n",
       "  </tbody>\n",
       "</table>\n",
       "</div>"
      ],
      "text/plain": [
       "          gpsDateTime    gpsLong     gpsLat  gpsAltitude\n",
       "0 2014-09-08 05:54:00  68.307333  70.854717        0.000\n",
       "1 2014-09-08 06:10:00  67.975050  70.830300        0.406\n",
       "2 2014-09-08 06:26:00  67.752417  70.761717        0.498\n",
       "3 2014-09-08 06:42:00  67.561983  70.686517        0.787\n",
       "4 2014-09-08 07:14:00  67.548317  70.685450        0.337"
      ]
     },
     "execution_count": 4,
     "metadata": {},
     "output_type": "execute_result"
    }
   ],
   "source": [
    "# Calling the previous function to get the track as pandas Dataframe and renaming the columns for better experience.\n",
    "GPSData = getGPSData()\n",
    "GPSData.rename(columns={Lat: 'gpsLat', Long: 'gpsLong', DateTime: 'gpsDateTime', altitude: 'gpsAltitude'}, inplace = True)\n",
    "GPSData.head()"
   ]
  },
  {
   "cell_type": "markdown",
   "metadata": {},
   "source": [
    "Setting the date and time attributes for the requerided format and computing the epoch column. Values like Maximum and Minimun Date and time are also calculated."
   ]
  },
  {
   "cell_type": "code",
   "execution_count": 5,
   "metadata": {
    "ExecuteTime": {
     "end_time": "2020-10-29T13:03:02.747430Z",
     "start_time": "2020-10-29T13:03:02.549438Z"
    }
   },
   "outputs": [
    {
     "data": {
      "text/html": [
       "<div>\n",
       "<style scoped>\n",
       "    .dataframe tbody tr th:only-of-type {\n",
       "        vertical-align: middle;\n",
       "    }\n",
       "\n",
       "    .dataframe tbody tr th {\n",
       "        vertical-align: top;\n",
       "    }\n",
       "\n",
       "    .dataframe thead th {\n",
       "        text-align: right;\n",
       "    }\n",
       "</style>\n",
       "<table border=\"1\" class=\"dataframe\">\n",
       "  <thead>\n",
       "    <tr style=\"text-align: right;\">\n",
       "      <th></th>\n",
       "      <th>gpsDateTime</th>\n",
       "      <th>gpsLong</th>\n",
       "      <th>gpsLat</th>\n",
       "      <th>gpsAltitude</th>\n",
       "      <th>epoch</th>\n",
       "      <th>dates</th>\n",
       "      <th>times</th>\n",
       "    </tr>\n",
       "  </thead>\n",
       "  <tbody>\n",
       "    <tr>\n",
       "      <th>0</th>\n",
       "      <td>2014-09-08 05:54:00</td>\n",
       "      <td>68.307333</td>\n",
       "      <td>70.854717</td>\n",
       "      <td>0.000</td>\n",
       "      <td>1410155640</td>\n",
       "      <td>2014-09-08</td>\n",
       "      <td>05:54:00</td>\n",
       "    </tr>\n",
       "    <tr>\n",
       "      <th>1</th>\n",
       "      <td>2014-09-08 06:10:00</td>\n",
       "      <td>67.975050</td>\n",
       "      <td>70.830300</td>\n",
       "      <td>0.406</td>\n",
       "      <td>1410156600</td>\n",
       "      <td>2014-09-08</td>\n",
       "      <td>06:10:00</td>\n",
       "    </tr>\n",
       "    <tr>\n",
       "      <th>2</th>\n",
       "      <td>2014-09-08 06:26:00</td>\n",
       "      <td>67.752417</td>\n",
       "      <td>70.761717</td>\n",
       "      <td>0.498</td>\n",
       "      <td>1410157560</td>\n",
       "      <td>2014-09-08</td>\n",
       "      <td>06:26:00</td>\n",
       "    </tr>\n",
       "    <tr>\n",
       "      <th>3</th>\n",
       "      <td>2014-09-08 06:42:00</td>\n",
       "      <td>67.561983</td>\n",
       "      <td>70.686517</td>\n",
       "      <td>0.787</td>\n",
       "      <td>1410158520</td>\n",
       "      <td>2014-09-08</td>\n",
       "      <td>06:42:00</td>\n",
       "    </tr>\n",
       "    <tr>\n",
       "      <th>4</th>\n",
       "      <td>2014-09-08 07:14:00</td>\n",
       "      <td>67.548317</td>\n",
       "      <td>70.685450</td>\n",
       "      <td>0.337</td>\n",
       "      <td>1410160440</td>\n",
       "      <td>2014-09-08</td>\n",
       "      <td>07:14:00</td>\n",
       "    </tr>\n",
       "  </tbody>\n",
       "</table>\n",
       "</div>"
      ],
      "text/plain": [
       "          gpsDateTime    gpsLong     gpsLat  gpsAltitude       epoch  \\\n",
       "0 2014-09-08 05:54:00  68.307333  70.854717        0.000  1410155640   \n",
       "1 2014-09-08 06:10:00  67.975050  70.830300        0.406  1410156600   \n",
       "2 2014-09-08 06:26:00  67.752417  70.761717        0.498  1410157560   \n",
       "3 2014-09-08 06:42:00  67.561983  70.686517        0.787  1410158520   \n",
       "4 2014-09-08 07:14:00  67.548317  70.685450        0.337  1410160440   \n",
       "\n",
       "        dates     times  \n",
       "0  2014-09-08  05:54:00  \n",
       "1  2014-09-08  06:10:00  \n",
       "2  2014-09-08  06:26:00  \n",
       "3  2014-09-08  06:42:00  \n",
       "4  2014-09-08  07:14:00  "
      ]
     },
     "execution_count": 5,
     "metadata": {},
     "output_type": "execute_result"
    }
   ],
   "source": [
    "#2.1 Convert the gpsDateTime to datetime python object\n",
    "GPSData['gpsDateTime'] = pd.to_datetime(GPSData['gpsDateTime'], format='%d/%m/%Y %H:%M:%S')\n",
    "GPSData['gpsDateTime'] = GPSData['gpsDateTime'].map(lambda x: x.replace(second=0))\n",
    "GPSData['gpsLat'] = GPSData['gpsLat'].astype(float)\n",
    "#2.2 Adding new column epoch, will be usefuel to compare the date&time o each gps point againts the gathered swmarm data points\n",
    "GPSData['epoch'] = GPSData['gpsDateTime'].astype('int64')//1e9\n",
    "GPSData['epoch'] = GPSData['epoch'].astype(int)\n",
    "#2.3 Computing Date and Time columns\n",
    "GPSData['dates'] = GPSData['gpsDateTime'].dt.date\n",
    "GPSData['times'] = GPSData['gpsDateTime'].dt.time\n",
    "#2.4 Maximum and Minimum values\n",
    "MinDateTime = min(GPSData['gpsDateTime'])\n",
    "MaxDateTime = max(GPSData['gpsDateTime'])\n",
    "dt_object1 = MinDateTime.to_pydatetime()\n",
    "dt_object2 = MaxDateTime.to_pydatetime()\n",
    "startDate = MinDateTime.date()\n",
    "endDate = MaxDateTime.date()\n",
    "MinTime=MinDateTime.time()\n",
    "MaxTime=MaxDateTime.time()\n",
    "GPSData.head()"
   ]
  },
  {
   "cell_type": "markdown",
   "metadata": {},
   "source": [
    "## Validate the right amount of Swarm measures\n",
    "\n",
    "The following loop is identifiying the time and validating if the time is less than 4:00 hours and more than 20:00 hours to bring one extra day of data. The result of this validation is written in a empty python list which will be later validated to get the unique dates avoing to download data for the same day and reducing the the downloand time process."
   ]
  },
  {
   "cell_type": "code",
   "execution_count": 6,
   "metadata": {
    "ExecuteTime": {
     "end_time": "2020-10-29T10:10:21.287103Z",
     "start_time": "2020-10-29T10:10:20.647107Z"
    }
   },
   "outputs": [],
   "source": [
    "datestimeslist = []\n",
    "for index, row in GPSData.iterrows():\n",
    "    datetimerow  = row['gpsDateTime']\n",
    "    daterow = row['dates']\n",
    "    hourrow = row['times']\n",
    "    hourrow = hourrow.strftime('%H:%M:%S')\n",
    "    if hourrow < '04:00:00':\n",
    "        date_bfr = daterow - (timedelta(days=1))\n",
    "        datestimeslist.append(daterow)\n",
    "        datestimeslist.append(date_bfr)\n",
    "    if hourrow > '20:00:00':\n",
    "        Date_aft = daterow + (timedelta(days=1))\n",
    "        datestimeslist.append(daterow)\n",
    "        datestimeslist.append(Date_aft)  \n",
    "    else:\n",
    "        datestimeslist.append(daterow)"
   ]
  },
  {
   "cell_type": "markdown",
   "metadata": {},
   "source": [
    "Getting a list of unique dates, to being used to download the Swarm Data"
   ]
  },
  {
   "cell_type": "code",
   "execution_count": 7,
   "metadata": {
    "ExecuteTime": {
     "end_time": "2020-10-29T10:10:24.327229Z",
     "start_time": "2020-10-29T10:10:24.318138Z"
    }
   },
   "outputs": [
    {
     "data": {
      "text/plain": [
       "array([datetime.date(2014, 8, 18), datetime.date(2014, 8, 19),\n",
       "       datetime.date(2014, 8, 25), datetime.date(2014, 8, 26),\n",
       "       datetime.date(2014, 8, 27), datetime.date(2014, 8, 28),\n",
       "       datetime.date(2014, 8, 29), datetime.date(2014, 8, 30),\n",
       "       datetime.date(2014, 8, 31), datetime.date(2014, 9, 3),\n",
       "       datetime.date(2014, 9, 5), datetime.date(2014, 9, 6),\n",
       "       datetime.date(2014, 9, 8), datetime.date(2014, 9, 13),\n",
       "       datetime.date(2014, 9, 14), datetime.date(2014, 9, 15),\n",
       "       datetime.date(2014, 9, 17), datetime.date(2014, 9, 18),\n",
       "       datetime.date(2014, 9, 19), datetime.date(2014, 9, 20),\n",
       "       datetime.date(2014, 9, 21), datetime.date(2014, 9, 22),\n",
       "       datetime.date(2014, 9, 23), datetime.date(2014, 9, 24),\n",
       "       datetime.date(2014, 9, 25), datetime.date(2014, 9, 26),\n",
       "       datetime.date(2014, 9, 27), datetime.date(2014, 9, 29),\n",
       "       datetime.date(2014, 9, 30), datetime.date(2014, 10, 1),\n",
       "       datetime.date(2014, 10, 2), datetime.date(2014, 10, 3),\n",
       "       datetime.date(2014, 10, 4), datetime.date(2014, 10, 5),\n",
       "       datetime.date(2014, 10, 6), datetime.date(2014, 10, 10),\n",
       "       datetime.date(2014, 10, 13), datetime.date(2014, 10, 14),\n",
       "       datetime.date(2014, 10, 15), datetime.date(2014, 10, 22),\n",
       "       datetime.date(2014, 10, 23), datetime.date(2014, 10, 24)],\n",
       "      dtype=object)"
      ]
     },
     "execution_count": 7,
     "metadata": {},
     "output_type": "execute_result"
    }
   ],
   "source": [
    "def uniquelistdates(list): \n",
    "    x = np.array(list) \n",
    "    uniquelist = np.unique(x)\n",
    "    return uniquelist\n",
    "\n",
    "uniquelist_dates = uniquelistdates(datestimeslist)\n",
    "uniquelist_dates"
   ]
  },
  {
   "cell_type": "markdown",
   "metadata": {},
   "source": [
    "## Download Swarm residuals data\n",
    "\n",
    "Once the date and time columns have been defined, and the unique dates were identified the script can start the download process. Usually the data from Swarm is requested using only one satellite, however **MagGeo** will use the magnetic measures from the three satellite of the Swarm Mission.\n",
    "\n",
    "Using a loop to going through every date in the unique date list. The **VirES client API**, requires a token. You can visit https://vires.services/ to get your own token. We highly recommend to use your own token to run the script to annotate your own GPS tracks.\n",
    "\n",
    "<div class=\"alert alert-info\" role=\"alert\">\n",
    "📘 <strong>Be aware:</strong> Due to the amount of dates the GPS track has (42 days) to request and compute the residuals, the time to process the sample data will take approximately 10 minutes.</div>\n",
    "\n",
    "Set a connection to the <code>VirES client</code> and using the function <code>Get_Swarm_residuals</code> we will get the swarm residuals for the dates included in the previous list."
   ]
  },
  {
   "cell_type": "code",
   "execution_count": null,
   "metadata": {
    "ExecuteTime": {
     "end_time": "2020-10-28T13:20:00.523014Z",
     "start_time": "2020-10-28T13:11:48.799567Z"
    },
    "scrolled": true
   },
   "outputs": [],
   "source": [
    "%%time\n",
    "\n",
    "from MagGeoFunctions import Get_Swarm_residuals\n",
    "\n",
    "hours_t_day = 24\n",
    "hours_added = datetime.timedelta(hours = hours_t_day)\n",
    "\n",
    "listdfa = []\n",
    "listdfb = []\n",
    "listdfc = []\n",
    "\n",
    "cc = ClientConfig()\n",
    "cc.set_site_config(\"https://vires.services/ows\", token=VirESToken)\n",
    "cc.default_url = \"https://vires.services/ows\"\n",
    "cc.save()\n",
    "\n",
    "for d in uniquelist_dates:\n",
    "    print(\"Process for:\",d,\":\" )\n",
    "    startdate = datetime.datetime.combine(d, datetime.datetime.min.time())\n",
    "    enddate = startdate + hours_added\n",
    "    SwarmResidualsA,SwarmResidualsB,SwarmResidualsC = Get_Swarm_residuals(startdate, enddate)\n",
    "    listdfa.append(SwarmResidualsA)\n",
    "    listdfb.append(SwarmResidualsB)\n",
    "    listdfc.append(SwarmResidualsC)"
   ]
  },
  {
   "cell_type": "markdown",
   "metadata": {},
   "source": [
    "Integrate the previous list for all dates, into pandas dataframes"
   ]
  },
  {
   "cell_type": "code",
   "execution_count": null,
   "metadata": {
    "ExecuteTime": {
     "end_time": "2020-10-28T16:18:20.754734Z",
     "start_time": "2020-10-28T16:18:20.399732Z"
    }
   },
   "outputs": [],
   "source": [
    "TotalSwarmRes_A = pd.concat(listdfa, join='outer', axis=0)\n",
    "TotalSwarmRes_B = pd.concat(listdfb, join='outer', axis=0)\n",
    "TotalSwarmRes_C = pd.concat(listdfc, join='outer', axis=0)\n",
    "TotalSwarmRes_A.head()"
   ]
  },
  {
   "cell_type": "markdown",
   "metadata": {},
   "source": [
    "## Write the requested data in Disk, to be used into the requeried functions\n",
    "In Parallel mode we can not use a temporary results, therefore we need to store in disk the previous pandas dataframes in csv files."
   ]
  },
  {
   "cell_type": "code",
   "execution_count": null,
   "metadata": {
    "ExecuteTime": {
     "end_time": "2020-10-28T16:18:34.527824Z",
     "start_time": "2020-10-28T16:18:28.573801Z"
    }
   },
   "outputs": [],
   "source": [
    "TotalSwarmRes_A.to_csv ('TotalSwarmRes_A.csv', header=True)\n",
    "TotalSwarmRes_B.to_csv ('TotalSwarmRes_B.csv', header=True)\n",
    "TotalSwarmRes_C.to_csv ('TotalSwarmRes_C.csv', header=True)"
   ]
  },
  {
   "cell_type": "markdown",
   "metadata": {},
   "source": [
    "## Set the number of processes, and split the dataframe (GPSData) into chunks\n",
    "\n",
    "We can set the number or processess we need to dedicate for the multiprocessing mode, of course that also depends on the number of cores the machine you are using to run **MagGeo**. You can use `multiprocessing.cpu_count()` to set the number of processes as the the number of cores your machine has. Beside that we will also to split the GPS track into chucks to dedicate each core for each chuck."
   ]
  },
  {
   "cell_type": "code",
   "execution_count": 43,
   "metadata": {
    "ExecuteTime": {
     "end_time": "2020-10-29T16:47:41.676066Z",
     "start_time": "2020-10-29T16:47:41.403062Z"
    }
   },
   "outputs": [
    {
     "data": {
      "text/plain": [
       "[           gpsDateTime    gpsLong     gpsLat  gpsAltitude       epoch  \\\n",
       " 0  2014-09-08 05:54:00  68.307333  70.854717        0.000  1410155640   \n",
       " 1  2014-09-08 06:10:00  67.975050  70.830300        0.406  1410156600   \n",
       " 2  2014-09-08 06:26:00  67.752417  70.761717        0.498  1410157560   \n",
       " 3  2014-09-08 06:42:00  67.561983  70.686517        0.787  1410158520   \n",
       " 4  2014-09-08 07:14:00  67.548317  70.685450        0.337  1410160440   \n",
       " ..                 ...        ...        ...          ...         ...   \n",
       " 77 2014-10-01 07:23:00  27.264867  55.628233        0.132  1412148180   \n",
       " 78 2014-10-01 07:40:00  26.967033  55.513917        0.132  1412149200   \n",
       " 79 2014-10-01 07:56:00  26.703400  55.396383        0.131  1412150160   \n",
       " 80 2014-10-01 11:42:00  22.913617  53.929300        0.129  1412163720   \n",
       " 81 2014-10-01 12:13:00  22.347700  53.795100        0.131  1412165580   \n",
       " \n",
       "          dates     times  \n",
       " 0   2014-09-08  05:54:00  \n",
       " 1   2014-09-08  06:10:00  \n",
       " 2   2014-09-08  06:26:00  \n",
       " 3   2014-09-08  06:42:00  \n",
       " 4   2014-09-08  07:14:00  \n",
       " ..         ...       ...  \n",
       " 77  2014-10-01  07:23:00  \n",
       " 78  2014-10-01  07:40:00  \n",
       " 79  2014-10-01  07:56:00  \n",
       " 80  2014-10-01  11:42:00  \n",
       " 81  2014-10-01  12:13:00  \n",
       " \n",
       " [82 rows x 7 columns],\n",
       "             gpsDateTime    gpsLong     gpsLat  gpsAltitude       epoch  \\\n",
       " 82  2014-10-01 12:29:00  22.068817  53.726433        0.129  1412166540   \n",
       " 83  2014-10-01 13:02:00  21.519500  53.613633        0.000  1412168520   \n",
       " 84  2014-10-01 13:18:00  21.238517  53.580000        0.142  1412169480   \n",
       " 85  2014-10-01 13:34:00  20.974200  53.522383        0.137  1412170440   \n",
       " 86  2014-10-01 13:50:00  20.682200  53.486600        0.136  1412171400   \n",
       " ..                  ...        ...        ...          ...         ...   \n",
       " 158 2014-10-03 13:10:00  15.237350  54.089000        0.162  1412341800   \n",
       " 159 2014-10-03 13:26:00  15.237433  54.089017        0.109  1412342760   \n",
       " 160 2014-10-03 13:42:00  15.237433  54.088983        0.099  1412343720   \n",
       " 161 2014-10-03 13:58:00  15.237433  54.088983        0.106  1412344680   \n",
       " 162 2014-10-03 14:30:00  15.236800  54.088517        0.101  1412346600   \n",
       " \n",
       "           dates     times  \n",
       " 82   2014-10-01  12:29:00  \n",
       " 83   2014-10-01  13:02:00  \n",
       " 84   2014-10-01  13:18:00  \n",
       " 85   2014-10-01  13:34:00  \n",
       " 86   2014-10-01  13:50:00  \n",
       " ..          ...       ...  \n",
       " 158  2014-10-03  13:10:00  \n",
       " 159  2014-10-03  13:26:00  \n",
       " 160  2014-10-03  13:42:00  \n",
       " 161  2014-10-03  13:58:00  \n",
       " 162  2014-10-03  14:30:00  \n",
       " \n",
       " [81 rows x 7 columns],\n",
       "             gpsDateTime    gpsLong     gpsLat  gpsAltitude       epoch  \\\n",
       " 163 2014-10-03 14:47:00  15.236733  54.088233        0.105  1412347620   \n",
       " 164 2014-10-03 15:35:00  15.237633  54.088950        0.101  1412350500   \n",
       " 165 2014-10-03 15:51:00  15.243483  54.091083        0.108  1412351460   \n",
       " 166 2014-10-03 19:52:00  14.787900  54.018417        0.103  1412365920   \n",
       " 167 2014-10-03 20:08:00  14.787250  54.018517        0.104  1412366880   \n",
       " ..                  ...        ...        ...          ...         ...   \n",
       " 239 2014-10-03 10:26:00  10.983467  53.210333        0.129  1412331960   \n",
       " 240 2014-10-03 19:17:00  10.723367  53.327450        0.130  1412363820   \n",
       " 241 2014-10-03 19:32:00  10.723250  53.327783        0.000  1412364720   \n",
       " 242 2014-10-04 04:21:00  10.722500  53.326350        0.140  1412396460   \n",
       " 243 2014-10-04 04:37:00  10.723333  53.326817        0.122  1412397420   \n",
       " \n",
       "           dates     times  \n",
       " 163  2014-10-03  14:47:00  \n",
       " 164  2014-10-03  15:35:00  \n",
       " 165  2014-10-03  15:51:00  \n",
       " 166  2014-10-03  19:52:00  \n",
       " 167  2014-10-03  20:08:00  \n",
       " ..          ...       ...  \n",
       " 239  2014-10-03  10:26:00  \n",
       " 240  2014-10-03  19:17:00  \n",
       " 241  2014-10-03  19:32:00  \n",
       " 242  2014-10-04  04:21:00  \n",
       " 243  2014-10-04  04:37:00  \n",
       " \n",
       " [81 rows x 7 columns],\n",
       "             gpsDateTime    gpsLong     gpsLat  gpsAltitude       epoch  \\\n",
       " 244 2014-08-28 19:24:00  46.314867  68.164133        0.122  1409253840   \n",
       " 245 2014-08-28 20:30:00  46.314600  68.164267        0.125  1409257800   \n",
       " 246 2014-08-28 21:36:00  46.314600  68.164300        0.119  1409261760   \n",
       " 247 2014-09-30 10:03:00  33.854983  61.430817        0.119  1412071380   \n",
       " 248 2014-09-30 11:09:00  32.898767  60.844483        0.102  1412075340   \n",
       " ..                  ...        ...        ...          ...         ...   \n",
       " 320 2014-10-06 06:04:00   7.317600  52.795667        0.032  1412575440   \n",
       " 321 2014-08-25 18:36:00  97.534400  73.927933        0.025  1408991760   \n",
       " 322 2014-08-25 18:52:00  97.269250  73.855117        0.028  1408992720   \n",
       " 323 2014-08-26 01:39:00  94.702450  73.298750        0.026  1409017140   \n",
       " 324 2014-08-26 08:09:00  91.754767  72.214100        0.033  1409040540   \n",
       " \n",
       "           dates     times  \n",
       " 244  2014-08-28  19:24:00  \n",
       " 245  2014-08-28  20:30:00  \n",
       " 246  2014-08-28  21:36:00  \n",
       " 247  2014-09-30  10:03:00  \n",
       " 248  2014-09-30  11:09:00  \n",
       " ..          ...       ...  \n",
       " 320  2014-10-06  06:04:00  \n",
       " 321  2014-08-25  18:36:00  \n",
       " 322  2014-08-25  18:52:00  \n",
       " 323  2014-08-26  01:39:00  \n",
       " 324  2014-08-26  08:09:00  \n",
       " \n",
       " [81 rows x 7 columns],\n",
       "             gpsDateTime    gpsLong     gpsLat  gpsAltitude       epoch  \\\n",
       " 325 2014-08-26 08:26:00  91.754833  72.214100        0.032  1409041560   \n",
       " 326 2014-08-26 14:39:00  90.093117  71.737533        0.026  1409063940   \n",
       " 327 2014-08-26 15:11:00  89.239150  71.574917        0.027  1409065860   \n",
       " 328 2014-08-27 00:40:00  88.708533  71.532267        0.031  1409100000   \n",
       " 329 2014-08-27 01:29:00  88.710583  71.531883        0.026  1409102940   \n",
       " ..                  ...        ...        ...          ...         ...   \n",
       " 401 2014-09-13 16:30:00  48.867160  67.460884        0.018  1410625800   \n",
       " 402 2014-09-13 17:00:00  48.662421  67.440794        0.008  1410627600   \n",
       " 403 2014-09-13 17:30:00  48.643691  67.429982        0.010  1410629400   \n",
       " 404 2014-09-13 18:00:00  48.642742  67.429211        0.011  1410631200   \n",
       " 405 2014-09-13 18:30:00  48.642623  67.429291        0.006  1410633000   \n",
       " \n",
       "           dates     times  \n",
       " 325  2014-08-26  08:26:00  \n",
       " 326  2014-08-26  14:39:00  \n",
       " 327  2014-08-26  15:11:00  \n",
       " 328  2014-08-27  00:40:00  \n",
       " 329  2014-08-27  01:29:00  \n",
       " ..          ...       ...  \n",
       " 401  2014-09-13  16:30:00  \n",
       " 402  2014-09-13  17:00:00  \n",
       " 403  2014-09-13  17:30:00  \n",
       " 404  2014-09-13  18:00:00  \n",
       " 405  2014-09-13  18:30:00  \n",
       " \n",
       " [81 rows x 7 columns],\n",
       "             gpsDateTime    gpsLong     gpsLat  gpsAltitude       epoch  \\\n",
       " 406 2014-09-13 19:00:00  48.642502  67.429171        0.014  1410634800   \n",
       " 407 2014-09-13 19:30:00  48.642829  67.429360        0.013  1410636600   \n",
       " 408 2014-09-13 20:00:00  48.643960  67.426614        0.000  1410638400   \n",
       " 409 2014-09-13 20:30:00  48.645156  67.426192        0.021  1410640200   \n",
       " 410 2014-09-13 21:00:00  48.642171  67.425921        0.020  1410642000   \n",
       " ..                  ...        ...        ...          ...         ...   \n",
       " 482 2014-09-22 20:00:00  46.426857  66.806908        0.011  1411416000   \n",
       " 483 2014-09-22 20:30:00  46.426981  66.806911        0.011  1411417800   \n",
       " 484 2014-09-22 21:00:00  46.426022  66.806492        0.000  1411419600   \n",
       " 485 2014-09-22 21:30:00  46.426788  66.806857        0.000  1411421400   \n",
       " 486 2014-09-22 22:00:00  46.426821  66.806889        0.000  1411423200   \n",
       " \n",
       "           dates     times  \n",
       " 406  2014-09-13  19:00:00  \n",
       " 407  2014-09-13  19:30:00  \n",
       " 408  2014-09-13  20:00:00  \n",
       " 409  2014-09-13  20:30:00  \n",
       " 410  2014-09-13  21:00:00  \n",
       " ..          ...       ...  \n",
       " 482  2014-09-22  20:00:00  \n",
       " 483  2014-09-22  20:30:00  \n",
       " 484  2014-09-22  21:00:00  \n",
       " 485  2014-09-22  21:30:00  \n",
       " 486  2014-09-22  22:00:00  \n",
       " \n",
       " [81 rows x 7 columns],\n",
       "             gpsDateTime    gpsLong     gpsLat  gpsAltitude       epoch  \\\n",
       " 487 2014-09-22 22:30:00  46.426860  66.806897        0.000  1411425000   \n",
       " 488 2014-09-22 23:00:00  46.426833  66.806904        0.000  1411426800   \n",
       " 489 2014-09-22 23:30:00  46.426851  66.806886        0.002  1411428600   \n",
       " 490 2014-09-23 00:00:00  46.426851  66.806902        0.000  1411430400   \n",
       " 491 2014-09-23 00:30:00  46.426839  66.806889        0.013  1411432200   \n",
       " ..                  ...        ...        ...          ...         ...   \n",
       " 563 2014-10-01 13:00:00  12.930031  53.322022        0.101  1412168400   \n",
       " 564 2014-10-01 13:30:00  12.656559  53.184237        0.112  1412170200   \n",
       " 565 2014-10-01 14:00:00  12.315105  53.070336        0.116  1412172000   \n",
       " 566 2014-10-01 14:30:00  11.949193  52.973151        0.105  1412173800   \n",
       " 567 2014-10-01 15:00:00  11.786060  52.915731        0.105  1412175600   \n",
       " \n",
       "           dates     times  \n",
       " 487  2014-09-22  22:30:00  \n",
       " 488  2014-09-22  23:00:00  \n",
       " 489  2014-09-22  23:30:00  \n",
       " 490  2014-09-23  00:00:00  \n",
       " 491  2014-09-23  00:30:00  \n",
       " ..          ...       ...  \n",
       " 563  2014-10-01  13:00:00  \n",
       " 564  2014-10-01  13:30:00  \n",
       " 565  2014-10-01  14:00:00  \n",
       " 566  2014-10-01  14:30:00  \n",
       " 567  2014-10-01  15:00:00  \n",
       " \n",
       " [81 rows x 7 columns],\n",
       "             gpsDateTime    gpsLong     gpsLat  gpsAltitude       epoch  \\\n",
       " 568 2014-10-01 15:30:00  11.781071  52.915653        0.107  1412177400   \n",
       " 569 2014-10-01 16:00:00  11.781056  52.915783        0.141  1412179200   \n",
       " 570 2014-10-01 16:30:00  11.697068  52.976325        0.141  1412181000   \n",
       " 571 2014-10-01 17:00:00  11.649959  52.969775        0.148  1412182800   \n",
       " 572 2014-08-27 21:30:00  86.709547  73.502637        0.005  1409175000   \n",
       " ..                  ...        ...        ...          ...         ...   \n",
       " 644 2014-08-29 09:30:00  85.082153  73.347010        0.014  1409304600   \n",
       " 645 2014-08-29 10:00:00  85.081218  73.346824        0.026  1409306400   \n",
       " 646 2014-08-29 10:30:00  85.079892  73.346676        0.026  1409308200   \n",
       " 647 2014-08-29 11:00:00  85.081960  73.347171        0.025  1409310000   \n",
       " 648 2014-08-29 11:30:00  85.081363  73.346877        0.017  1409311800   \n",
       " \n",
       "           dates     times  \n",
       " 568  2014-10-01  15:30:00  \n",
       " 569  2014-10-01  16:00:00  \n",
       " 570  2014-10-01  16:30:00  \n",
       " 571  2014-10-01  17:00:00  \n",
       " 572  2014-08-27  21:30:00  \n",
       " ..          ...       ...  \n",
       " 644  2014-08-29  09:30:00  \n",
       " 645  2014-08-29  10:00:00  \n",
       " 646  2014-08-29  10:30:00  \n",
       " 647  2014-08-29  11:00:00  \n",
       " 648  2014-08-29  11:30:00  \n",
       " \n",
       " [81 rows x 7 columns],\n",
       "             gpsDateTime    gpsLong     gpsLat  gpsAltitude       epoch  \\\n",
       " 649 2014-08-29 12:00:00  85.079201  73.346284        0.005  1409313600   \n",
       " 650 2014-08-29 12:30:00  85.078666  73.346246        0.023  1409315400   \n",
       " 651 2014-08-29 13:00:00  84.617620  73.168724        0.021  1409317200   \n",
       " 652 2014-08-29 13:30:00  83.930193  72.982472        0.027  1409319000   \n",
       " 653 2014-08-29 14:00:00  83.138157  72.795321        0.025  1409320800   \n",
       " ..                  ...        ...        ...          ...         ...   \n",
       " 725 2014-08-31 02:00:00  81.322677  71.729081        0.002  1409450400   \n",
       " 726 2014-08-31 02:30:00  81.265211  71.722364        0.006  1409452200   \n",
       " 727 2014-08-31 03:00:00  80.301592  71.631956        0.005  1409454000   \n",
       " 728 2014-08-31 03:30:00  79.326800  71.491930        0.005  1409455800   \n",
       " 729 2014-08-31 04:00:00  78.371284  71.358101        0.009  1409457600   \n",
       " \n",
       "           dates     times  \n",
       " 649  2014-08-29  12:00:00  \n",
       " 650  2014-08-29  12:30:00  \n",
       " 651  2014-08-29  13:00:00  \n",
       " 652  2014-08-29  13:30:00  \n",
       " 653  2014-08-29  14:00:00  \n",
       " ..          ...       ...  \n",
       " 725  2014-08-31  02:00:00  \n",
       " 726  2014-08-31  02:30:00  \n",
       " 727  2014-08-31  03:00:00  \n",
       " 728  2014-08-31  03:30:00  \n",
       " 729  2014-08-31  04:00:00  \n",
       " \n",
       " [81 rows x 7 columns],\n",
       "             gpsDateTime    gpsLong     gpsLat  gpsAltitude       epoch  \\\n",
       " 730 2014-08-31 04:30:00  77.590304  71.178254        0.007  1409459400   \n",
       " 731 2014-08-31 05:00:00  76.570131  71.087524        0.014  1409461200   \n",
       " 732 2014-08-31 05:30:00  76.354865  71.093926        0.008  1409463000   \n",
       " 733 2014-08-31 06:00:00  76.355863  71.093613        0.009  1409464800   \n",
       " 734 2014-08-31 06:30:00  76.359674  71.093147        0.009  1409466600   \n",
       " ..                  ...        ...        ...          ...         ...   \n",
       " 806 2014-09-23 09:30:00  57.807959  68.008513        0.007  1411464600   \n",
       " 807 2014-09-23 10:00:00  57.137333  67.798523        0.015  1411466400   \n",
       " 808 2014-09-23 10:30:00  56.448078  67.569443        0.014  1411468200   \n",
       " 809 2014-09-23 11:00:00  55.710179  67.358363        0.008  1411470000   \n",
       " 810 2014-09-23 11:30:00  54.926363  67.166810        0.012  1411471800   \n",
       " \n",
       "           dates     times  \n",
       " 730  2014-08-31  04:30:00  \n",
       " 731  2014-08-31  05:00:00  \n",
       " 732  2014-08-31  05:30:00  \n",
       " 733  2014-08-31  06:00:00  \n",
       " 734  2014-08-31  06:30:00  \n",
       " ..          ...       ...  \n",
       " 806  2014-09-23  09:30:00  \n",
       " 807  2014-09-23  10:00:00  \n",
       " 808  2014-09-23  10:30:00  \n",
       " 809  2014-09-23  11:00:00  \n",
       " 810  2014-09-23  11:30:00  \n",
       " \n",
       " [81 rows x 7 columns],\n",
       "             gpsDateTime    gpsLong     gpsLat  gpsAltitude       epoch  \\\n",
       " 811 2014-09-23 12:00:00  54.022817  67.093627        0.004  1411473600   \n",
       " 812 2014-09-23 12:30:00  53.050532  67.081880        0.009  1411475400   \n",
       " 813 2014-09-23 13:00:00  52.941932  67.097804        0.093  1411477200   \n",
       " 814 2014-09-23 13:30:00  52.942203  67.100341        0.174  1411479000   \n",
       " 815 2014-09-23 14:00:00  52.940528  67.098634        0.310  1411480800   \n",
       " ..                  ...        ...        ...          ...         ...   \n",
       " 887 2014-10-13 18:30:00  21.296965  55.637718        0.117  1413225000   \n",
       " 888 2014-10-13 19:00:00  20.941531  55.858220        0.117  1413226800   \n",
       " 889 2014-10-13 19:30:00  20.945800  55.857084        0.116  1413228600   \n",
       " 890 2014-10-13 20:00:00  20.945886  55.857636        0.116  1413230400   \n",
       " 891 2014-10-13 20:30:00  20.942623  55.859784        0.116  1413232200   \n",
       " \n",
       "           dates     times  \n",
       " 811  2014-09-23  12:00:00  \n",
       " 812  2014-09-23  12:30:00  \n",
       " 813  2014-09-23  13:00:00  \n",
       " 814  2014-09-23  13:30:00  \n",
       " 815  2014-09-23  14:00:00  \n",
       " ..          ...       ...  \n",
       " 887  2014-10-13  18:30:00  \n",
       " 888  2014-10-13  19:00:00  \n",
       " 889  2014-10-13  19:30:00  \n",
       " 890  2014-10-13  20:00:00  \n",
       " 891  2014-10-13  20:30:00  \n",
       " \n",
       " [81 rows x 7 columns],\n",
       "             gpsDateTime    gpsLong     gpsLat  gpsAltitude       epoch  \\\n",
       " 892 2014-10-13 21:00:00  20.937634  55.860126        0.117  1413234000   \n",
       " 893 2014-10-13 21:30:00  20.716721  56.076801        0.113  1413235800   \n",
       " 894 2014-10-13 22:00:00  20.666843  56.113191        0.112  1413237600   \n",
       " 895 2014-10-13 22:30:00  20.650733  56.119690        0.116  1413239400   \n",
       " 896 2014-10-13 23:00:00  20.493115  56.294123        0.173  1413241200   \n",
       " ..                  ...        ...        ...          ...         ...   \n",
       " 968 2014-10-01 10:37:00  22.509733  55.214750        0.191  1412159820   \n",
       " 969 2014-10-03 11:28:00   7.292517  53.392167        0.184  1412335680   \n",
       " 970 2014-10-04 07:11:00   5.922067  53.107067        0.181  1412406660   \n",
       " 971 2014-10-04 14:12:00   5.811383  53.014967        0.190  1412431920   \n",
       " 972 2014-10-04 21:05:00   5.729433  53.009167        0.193  1412456700   \n",
       " \n",
       "           dates     times  \n",
       " 892  2014-10-13  21:00:00  \n",
       " 893  2014-10-13  21:30:00  \n",
       " 894  2014-10-13  22:00:00  \n",
       " 895  2014-10-13  22:30:00  \n",
       " 896  2014-10-13  23:00:00  \n",
       " ..          ...       ...  \n",
       " 968  2014-10-01  10:37:00  \n",
       " 969  2014-10-03  11:28:00  \n",
       " 970  2014-10-04  07:11:00  \n",
       " 971  2014-10-04  14:12:00  \n",
       " 972  2014-10-04  21:05:00  \n",
       " \n",
       " [81 rows x 7 columns]]"
      ]
     },
     "execution_count": 43,
     "metadata": {},
     "output_type": "execute_result"
    }
   ],
   "source": [
    "import multiprocessing\n",
    "import sklearn\n",
    "from multiprocessing import Pool\n",
    "\n",
    "NumCores = multiprocessing.cpu_count()\n",
    "df_chunks = np.array_split(GPSData,NumCores)\n",
    "df_chunks"
   ]
  },
  {
   "cell_type": "markdown",
   "metadata": {},
   "source": [
    "## Spatio-Temporal filter and Interpolation process (ST-IDW) \n",
    "\n",
    "Once we have requested the swarm data, now we need to `filter` in space and time the available points to compute the magnetic values (NEC frame) for each GPS point based on its particular date and time. The function <code>ST_IDW_Process</code> imported in the <code>row_handler</code>, takes the GPS track and the downloaded data from swarm to filter in space and time based on the criteria defined in our method. With the swarm data filtered we interpolated (IDW) the NEC components for each GPS data point, based on the latitude, date, time and number of Swarm points filtered.\n",
    "\n",
    "The function <code>CHAOS_ground_values</code>, inside the <code>MagGeoFunctions</code> file, is used to run the **ionospheric correction**. This correction requeries the magnetic components at the ground level using CHAOS (theta, phi, radial). This process include a rotation and transformation between a geocentric frame (CHAOS) and geodetic frame (GPS track). Once the corrected values are calculated, are included in the GPS track, and the non-necesary columns are removed. For more information about this process go to the Main Notebook.\n"
   ]
  },
  {
   "cell_type": "markdown",
   "metadata": {},
   "source": [
    "## Run the process in parallel mode\n",
    "\n",
    "Although the next cell seems to run a small `main` function.  What is happening is a call for several functions running at same time for several cores. Initially we set a pool of processes. Using the `pool` class we will distribute the assigned function among the data chucks we created. Every data chunk will be like a subset of the entire GPS track. So we need to iterate among data chunk. And inside every data chunk we need to identify the `datetime`, `epoch`, `altitude`, `latitude` and `longitude` of each row to run the interpolation & annotation process using the Swarm data we have filtered and stored in the previous steps.\n",
    "\n",
    "The function in charge to distribute the required function (`row_handler`) among the data chunks is the map function from the `pool` class. \n",
    "\n",
    "`row_handler.py` is an interows iteration to get the required parameter for the `ST_IDW_Process` function. \n",
    "\n",
    "<div class=\"alert alert-info\" role=\"alert\">\n",
    "<strong>📘 Auxiliary Functions:</strong>\n",
    " \n",
    "<ol>\n",
    "  <li><strong>ST_IDW_Process</strong> function: This is the main function in charge to read the Swarm Data already filtered, and then import  <code>DfTime_func</code>,  <code>distance_to_GPS</code>, <code>Kradius</code> , <code>DistJ</code> functions to compute the spatial-time cylinder and the annotation process. The return of this function is a row (dictionary) that will be appended into a python list where all the results from the different cores. The python list from every process is concatenated into a pandas dataframe in the <code>main</code> function having there the whole chain of the parallel process.</li>\n",
    "  <li><strong>distance_to_GPS</strong> function: Is the function in charge to calculate the distance between each GPS Point and the Swarm Point.</li>\n",
    "  <li><strong>Kradius</strong> function: Is the function in charge to compute the R (radius) value in the cylinder. The R value will be considered based on the latitude of each GPS Point.</li>\n",
    "    <li><strong>DistJ</strong> function: This function will calculate the <code>d</code> value as the hypotenuse created in the triangle created amount the locations of the GPS point, the location of the Swarm points and the radius value.</li>\n",
    "  <li><strong>DfTime_func</strong> function: This is a time function to selected the points in the range of a the DeltaTime - <code>DT</code> window. The Delta time window has been set as 4 hours for each satellite trajectory.</li>\n",
    "  <li><strong>CHAOS_ground_values</strong> function: This is a ionospheric correction function to get the CHAOS magnetic values and process the Nres,Eres,Cres values and transform them into the N,E,C values at the GPS altitude.</li>\n",
    "</ol> \n",
    "\n",
    "</div>\n"
   ]
  },
  {
   "cell_type": "code",
   "execution_count": 51,
   "metadata": {
    "ExecuteTime": {
     "end_time": "2020-10-29T17:00:26.860284Z",
     "start_time": "2020-10-29T17:00:08.366427Z"
    }
   },
   "outputs": [
    {
     "name": "stdout",
     "output_type": "stream",
     "text": [
      "Wall time: 18.5 s\n"
     ]
    }
   ],
   "source": [
    "%%time\n",
    "from functools import partial\n",
    "import row_handler\n",
    "\n",
    "if __name__ == '__main__':\n",
    "    with multiprocessing.Pool(NumCores) as pool:\n",
    "        GeoMagParallelResult = pd.concat(pool.map(partial(row_handler.row_handler), df_chunks), ignore_index=True)"
   ]
  },
  {
   "cell_type": "markdown",
   "metadata": {},
   "source": [
    "With the Parallel mode the Annotation process takes about 12 seconds to complete ( We had tested the parallel process in a  windows server machine with 12 cores, see the image bellow). With the same GPS track in the sequetial mode the process is complete in about 2 minutes. In the image bellow you can see how the machine create several python processes and all cores (full CPU capacity) is taken.\n",
    "\n",
    "<div class=\"alert alert-warning\" role=\"alert\">\n",
    "<strong>🔈 Multiprocessing:</strong>\n",
    "\n",
    "is even  more powerfull when you have to process a big amount of data (e.g. 2 millons of points). Although here is making a notable improvement if you have to process a big dataset the parallelization makes even more sense.\n",
    "\n",
    "</div>\n",
    "\n",
    "<img src=\"./images/CoresWorking.png\" style=\"zoom: 100%;\" >\n"
   ]
  },
  {
   "cell_type": "markdown",
   "metadata": {},
   "source": [
    "##  The final result \n",
    "\n",
    "With the NEC components for each GPS Track point, it is possible to compute the aditional magnetic components. For more information about the magnetic components and their relevance go to the main paper or notebook.\n",
    "\n",
    "<div class=\"alert alert-info\" role=\"alert\">\n",
    "    <strong>📘 The annotated dataframe will include the following attributes:</strong> If you need more information about how the geomagnetic component are described go to the main MagGeo Notebook (Add Link).\n",
    "    <ul>\n",
    "      <li><strong>Latitude</strong> from the GPS Track.</li>\n",
    "      <li><strong>Longitude</strong> from the GPS Track.</li>\n",
    "      <li><strong>Timestamp</strong> from the GPS Track.</li>\n",
    "      <li><strong>Magnetic Field Intensity</strong>  mapped as Fgps in nanoTeslas (nT).</li>\n",
    "      <li><strong>N (Northwards) component</strong> mapped as N in nanoTeslas (nT).</li>\n",
    "      <li><strong>E (Eastwards) component</strong> mapped as E. in nanoteslas (nT).</li>\n",
    "      <li><strong>C (Downwards or Center)</strong> component mapped as C in nanoTeslas (nT).</li>\n",
    "      <li><strong>Horizontal component</strong> mapped as H in nanoTeslas (nT).</li>\n",
    "      <li><strong>Magnetic Inclination </strong> mapped as I in degrees.</li> \n",
    "      <li><strong>Magnetic Declination or dip angle</strong> mapped as D in degrees</li>\n",
    "      <li><strong>Kp Index</strong> mapped as kp</li>\n",
    "      <li><strong>Total Points</strong> as the amount of Swarm messuares included in the ST-IDW process from the trajectories requested in the three satellites.</li>\n",
    "      <li><strong>Minimum Distance</strong> mapped as MinDist, representing the minimum distance amount the set of identified point inside the Space Time cylinder and each GPS point location.</li>\n",
    "      <li><strong>Average Distance</strong> mapped as AvDist, representing the average distance amount the set of distances between the identified Swarm Point in the Space Time cylinder and the GPS Points location.</li>\n",
    "    </ul>\n",
    "\n",
    "</div> "
   ]
  },
  {
   "cell_type": "code",
   "execution_count": 60,
   "metadata": {
    "ExecuteTime": {
     "end_time": "2020-10-29T19:59:21.480905Z",
     "start_time": "2020-10-29T19:59:21.384903Z"
    }
   },
   "outputs": [
    {
     "data": {
      "text/html": [
       "<div>\n",
       "<style scoped>\n",
       "    .dataframe tbody tr th:only-of-type {\n",
       "        vertical-align: middle;\n",
       "    }\n",
       "\n",
       "    .dataframe tbody tr th {\n",
       "        vertical-align: top;\n",
       "    }\n",
       "\n",
       "    .dataframe thead th {\n",
       "        text-align: right;\n",
       "    }\n",
       "</style>\n",
       "<table border=\"1\" class=\"dataframe\">\n",
       "  <thead>\n",
       "    <tr style=\"text-align: right;\">\n",
       "      <th></th>\n",
       "      <th>Latitude</th>\n",
       "      <th>Longitude</th>\n",
       "      <th>Altitude</th>\n",
       "      <th>DateTime</th>\n",
       "      <th>TotalPoints</th>\n",
       "      <th>Minimum_Distance</th>\n",
       "      <th>Average_Distance</th>\n",
       "      <th>Kp</th>\n",
       "      <th>N</th>\n",
       "      <th>E</th>\n",
       "      <th>C</th>\n",
       "      <th>H</th>\n",
       "      <th>D</th>\n",
       "      <th>I</th>\n",
       "      <th>F</th>\n",
       "    </tr>\n",
       "  </thead>\n",
       "  <tbody>\n",
       "    <tr>\n",
       "      <th>0</th>\n",
       "      <td>70.854717</td>\n",
       "      <td>68.307333</td>\n",
       "      <td>0.000</td>\n",
       "      <td>2014-09-08 05:54:00</td>\n",
       "      <td>21</td>\n",
       "      <td>327.950987</td>\n",
       "      <td>626.701218</td>\n",
       "      <td>1.319048</td>\n",
       "      <td>6950.195375</td>\n",
       "      <td>3846.562150</td>\n",
       "      <td>57704.463629</td>\n",
       "      <td>7943.629908</td>\n",
       "      <td>28.962187</td>\n",
       "      <td>82.161894</td>\n",
       "      <td>58248.659888</td>\n",
       "    </tr>\n",
       "    <tr>\n",
       "      <th>1</th>\n",
       "      <td>70.830300</td>\n",
       "      <td>67.975050</td>\n",
       "      <td>0.406</td>\n",
       "      <td>2014-09-08 06:10:00</td>\n",
       "      <td>21</td>\n",
       "      <td>340.038476</td>\n",
       "      <td>628.953831</td>\n",
       "      <td>1.319048</td>\n",
       "      <td>6986.622060</td>\n",
       "      <td>3861.900714</td>\n",
       "      <td>57646.117115</td>\n",
       "      <td>7982.929596</td>\n",
       "      <td>28.931908</td>\n",
       "      <td>82.115730</td>\n",
       "      <td>58196.236848</td>\n",
       "    </tr>\n",
       "    <tr>\n",
       "      <th>2</th>\n",
       "      <td>70.761717</td>\n",
       "      <td>67.752417</td>\n",
       "      <td>0.498</td>\n",
       "      <td>2014-09-08 06:26:00</td>\n",
       "      <td>26</td>\n",
       "      <td>348.223318</td>\n",
       "      <td>656.804069</td>\n",
       "      <td>1.200000</td>\n",
       "      <td>7035.862674</td>\n",
       "      <td>3874.626421</td>\n",
       "      <td>57610.695473</td>\n",
       "      <td>8032.191075</td>\n",
       "      <td>28.841432</td>\n",
       "      <td>82.062880</td>\n",
       "      <td>58167.932114</td>\n",
       "    </tr>\n",
       "    <tr>\n",
       "      <th>3</th>\n",
       "      <td>70.686517</td>\n",
       "      <td>67.561983</td>\n",
       "      <td>0.787</td>\n",
       "      <td>2014-09-08 06:42:00</td>\n",
       "      <td>26</td>\n",
       "      <td>355.472899</td>\n",
       "      <td>657.901776</td>\n",
       "      <td>1.200000</td>\n",
       "      <td>7083.226913</td>\n",
       "      <td>3884.207475</td>\n",
       "      <td>57575.741152</td>\n",
       "      <td>8078.314874</td>\n",
       "      <td>28.738907</td>\n",
       "      <td>82.013104</td>\n",
       "      <td>58139.703649</td>\n",
       "    </tr>\n",
       "    <tr>\n",
       "      <th>4</th>\n",
       "      <td>70.685450</td>\n",
       "      <td>67.548317</td>\n",
       "      <td>0.337</td>\n",
       "      <td>2014-09-08 07:14:00</td>\n",
       "      <td>26</td>\n",
       "      <td>355.980432</td>\n",
       "      <td>657.921513</td>\n",
       "      <td>1.200000</td>\n",
       "      <td>7086.257042</td>\n",
       "      <td>3885.842751</td>\n",
       "      <td>57585.573172</td>\n",
       "      <td>8081.758024</td>\n",
       "      <td>28.738744</td>\n",
       "      <td>82.011091</td>\n",
       "      <td>58149.918748</td>\n",
       "    </tr>\n",
       "  </tbody>\n",
       "</table>\n",
       "</div>"
      ],
      "text/plain": [
       "    Latitude  Longitude  Altitude            DateTime  TotalPoints  \\\n",
       "0  70.854717  68.307333     0.000 2014-09-08 05:54:00           21   \n",
       "1  70.830300  67.975050     0.406 2014-09-08 06:10:00           21   \n",
       "2  70.761717  67.752417     0.498 2014-09-08 06:26:00           26   \n",
       "3  70.686517  67.561983     0.787 2014-09-08 06:42:00           26   \n",
       "4  70.685450  67.548317     0.337 2014-09-08 07:14:00           26   \n",
       "\n",
       "   Minimum_Distance  Average_Distance        Kp            N            E  \\\n",
       "0        327.950987        626.701218  1.319048  6950.195375  3846.562150   \n",
       "1        340.038476        628.953831  1.319048  6986.622060  3861.900714   \n",
       "2        348.223318        656.804069  1.200000  7035.862674  3874.626421   \n",
       "3        355.472899        657.901776  1.200000  7083.226913  3884.207475   \n",
       "4        355.980432        657.921513  1.200000  7086.257042  3885.842751   \n",
       "\n",
       "              C            H          D          I             F  \n",
       "0  57704.463629  7943.629908  28.962187  82.161894  58248.659888  \n",
       "1  57646.117115  7982.929596  28.931908  82.115730  58196.236848  \n",
       "2  57610.695473  8032.191075  28.841432  82.062880  58167.932114  \n",
       "3  57575.741152  8078.314874  28.738907  82.013104  58139.703649  \n",
       "4  57585.573172  8081.758024  28.738744  82.011091  58149.918748  "
      ]
     },
     "execution_count": 60,
     "metadata": {},
     "output_type": "execute_result"
    }
   ],
   "source": [
    "#14. Having Intepolated and weigth magnetic values, we can compute the other magnectic components. \n",
    "GeoMagParallelResult['H'] = np.sqrt((GeoMagParallelResult['N']**2)+(GeoMagParallelResult['E']**2))\n",
    "#check the arcgtan in python., From arctan2 is saver.\n",
    "DgpsRad = np.arctan2(GeoMagParallelResult['E'],GeoMagParallelResult['N'])\n",
    "GeoMagParallelResult['D'] = np.degrees(DgpsRad)\n",
    "IgpsRad = np.arctan2(GeoMagParallelResult['C'],GeoMagParallelResult['H'])\n",
    "GeoMagParallelResult['I'] = np.degrees(IgpsRad)\n",
    "GeoMagParallelResult['F'] = np.sqrt((GeoMagParallelResult['N']**2)+(GeoMagParallelResult['E']**2)+(GeoMagParallelResult['C']**2))\n",
    "GeoMagParallelResult.head()"
   ]
  },
  {
   "cell_type": "markdown",
   "metadata": {},
   "source": [
    "## Validate the results\n",
    "To validate the results we plot the `F`column."
   ]
  },
  {
   "cell_type": "code",
   "execution_count": 61,
   "metadata": {
    "ExecuteTime": {
     "end_time": "2020-10-29T19:59:26.203933Z",
     "start_time": "2020-10-29T19:59:26.190933Z"
    }
   },
   "outputs": [],
   "source": [
    "## Creating a copy of the results and setting the Datetime Column as dataframe index.\n",
    "ValidateDF = GeoMagParallelResult.copy()\n",
    "ValidateDF.set_index(\"DateTime\", inplace=True)"
   ]
  },
  {
   "cell_type": "code",
   "execution_count": 62,
   "metadata": {
    "ExecuteTime": {
     "end_time": "2020-10-29T19:59:30.858966Z",
     "start_time": "2020-10-29T19:59:30.566976Z"
    }
   },
   "outputs": [
    {
     "data": {
      "image/png": "[encoded data removed]",
      "text/plain": [
       "<Figure size 432x288 with 1 Axes>"
      ]
     },
     "metadata": {
      "needs_background": "light"
     },
     "output_type": "display_data"
    }
   ],
   "source": [
    "## Plotting the F column.\n",
    "import matplotlib.pyplot as plt\n",
    "hist = ValidateDF.hist(column='F')"
   ]
  },
  {
   "cell_type": "markdown",
   "metadata": {},
   "source": [
    "## Optional: Map the GPS Track using the annotated Magnetic Values\n",
    "\n",
    "Now we are going to plot the annotated GPS track stored into the MagDataFinal dataframe to see how the different magnetic components in a map to have a better prespective of the impact of the earth magnetic field."
   ]
  },
  {
   "cell_type": "code",
   "execution_count": 64,
   "metadata": {
    "ExecuteTime": {
     "end_time": "2020-10-29T20:00:20.694513Z",
     "start_time": "2020-10-29T20:00:19.038503Z"
    }
   },
   "outputs": [
    {
     "data": {
      "image/png": "[encoded data removed]",
      "text/plain": [
       "<Figure size 720x504 with 2 Axes>"
      ]
     },
     "metadata": {
      "needs_background": "light"
     },
     "output_type": "display_data"
    }
   ],
   "source": [
    "import matplotlib.pyplot as plt\n",
    "\n",
    "ValidateDF.plot(kind=\"scatter\", x=\"Latitude\", y=\"Longitude\",\n",
    "    label=\"Magnetic Intensity\",\n",
    "    c=\"F\", cmap=plt.get_cmap(\"gist_rainbow\"),\n",
    "    colorbar=True, alpha=0.4, figsize=(10,7)\n",
    "    \n",
    ")\n",
    "\n",
    "plt.ylabel(\"Longitude\", fontsize=12)\n",
    "plt.xlabel(\"Latitude\", fontsize=12)\n",
    "plt.legend(fontsize=12)\n",
    "plt.show()"
   ]
  },
  {
   "cell_type": "code",
   "execution_count": 66,
   "metadata": {
    "ExecuteTime": {
     "end_time": "2020-10-29T20:00:41.764598Z",
     "start_time": "2020-10-29T20:00:41.583611Z"
    }
   },
   "outputs": [
    {
     "data": {
      "text/html": [
       "<div>\n",
       "<style scoped>\n",
       "    .dataframe tbody tr th:only-of-type {\n",
       "        vertical-align: middle;\n",
       "    }\n",
       "\n",
       "    .dataframe tbody tr th {\n",
       "        vertical-align: top;\n",
       "    }\n",
       "\n",
       "    .dataframe thead th {\n",
       "        text-align: right;\n",
       "    }\n",
       "</style>\n",
       "<table border=\"1\" class=\"dataframe\">\n",
       "  <thead>\n",
       "    <tr style=\"text-align: right;\">\n",
       "      <th></th>\n",
       "      <th>Latitude</th>\n",
       "      <th>Longitude</th>\n",
       "      <th>Altitude</th>\n",
       "      <th>TotalPoints</th>\n",
       "      <th>Minimum_Distance</th>\n",
       "      <th>Average_Distance</th>\n",
       "      <th>Kp</th>\n",
       "      <th>N</th>\n",
       "      <th>E</th>\n",
       "      <th>C</th>\n",
       "      <th>H</th>\n",
       "      <th>D</th>\n",
       "      <th>I</th>\n",
       "      <th>F</th>\n",
       "      <th>geometry</th>\n",
       "    </tr>\n",
       "    <tr>\n",
       "      <th>DateTime</th>\n",
       "      <th></th>\n",
       "      <th></th>\n",
       "      <th></th>\n",
       "      <th></th>\n",
       "      <th></th>\n",
       "      <th></th>\n",
       "      <th></th>\n",
       "      <th></th>\n",
       "      <th></th>\n",
       "      <th></th>\n",
       "      <th></th>\n",
       "      <th></th>\n",
       "      <th></th>\n",
       "      <th></th>\n",
       "      <th></th>\n",
       "    </tr>\n",
       "  </thead>\n",
       "  <tbody>\n",
       "    <tr>\n",
       "      <th>2014-09-08 05:54:00</th>\n",
       "      <td>70.854717</td>\n",
       "      <td>68.307333</td>\n",
       "      <td>0.000</td>\n",
       "      <td>21</td>\n",
       "      <td>327.950987</td>\n",
       "      <td>626.701218</td>\n",
       "      <td>1.319048</td>\n",
       "      <td>6950.195375</td>\n",
       "      <td>3846.562150</td>\n",
       "      <td>57704.463629</td>\n",
       "      <td>7943.629908</td>\n",
       "      <td>28.962187</td>\n",
       "      <td>82.161894</td>\n",
       "      <td>58248.659888</td>\n",
       "      <td>POINT (68.30733 70.85472)</td>\n",
       "    </tr>\n",
       "    <tr>\n",
       "      <th>2014-09-08 06:10:00</th>\n",
       "      <td>70.830300</td>\n",
       "      <td>67.975050</td>\n",
       "      <td>0.406</td>\n",
       "      <td>21</td>\n",
       "      <td>340.038476</td>\n",
       "      <td>628.953831</td>\n",
       "      <td>1.319048</td>\n",
       "      <td>6986.622060</td>\n",
       "      <td>3861.900714</td>\n",
       "      <td>57646.117115</td>\n",
       "      <td>7982.929596</td>\n",
       "      <td>28.931908</td>\n",
       "      <td>82.115730</td>\n",
       "      <td>58196.236848</td>\n",
       "      <td>POINT (67.97505 70.83030)</td>\n",
       "    </tr>\n",
       "    <tr>\n",
       "      <th>2014-09-08 06:26:00</th>\n",
       "      <td>70.761717</td>\n",
       "      <td>67.752417</td>\n",
       "      <td>0.498</td>\n",
       "      <td>26</td>\n",
       "      <td>348.223318</td>\n",
       "      <td>656.804069</td>\n",
       "      <td>1.200000</td>\n",
       "      <td>7035.862674</td>\n",
       "      <td>3874.626421</td>\n",
       "      <td>57610.695473</td>\n",
       "      <td>8032.191075</td>\n",
       "      <td>28.841432</td>\n",
       "      <td>82.062880</td>\n",
       "      <td>58167.932114</td>\n",
       "      <td>POINT (67.75242 70.76172)</td>\n",
       "    </tr>\n",
       "    <tr>\n",
       "      <th>2014-09-08 06:42:00</th>\n",
       "      <td>70.686517</td>\n",
       "      <td>67.561983</td>\n",
       "      <td>0.787</td>\n",
       "      <td>26</td>\n",
       "      <td>355.472899</td>\n",
       "      <td>657.901776</td>\n",
       "      <td>1.200000</td>\n",
       "      <td>7083.226913</td>\n",
       "      <td>3884.207475</td>\n",
       "      <td>57575.741152</td>\n",
       "      <td>8078.314874</td>\n",
       "      <td>28.738907</td>\n",
       "      <td>82.013104</td>\n",
       "      <td>58139.703649</td>\n",
       "      <td>POINT (67.56198 70.68652)</td>\n",
       "    </tr>\n",
       "    <tr>\n",
       "      <th>2014-09-08 07:14:00</th>\n",
       "      <td>70.685450</td>\n",
       "      <td>67.548317</td>\n",
       "      <td>0.337</td>\n",
       "      <td>26</td>\n",
       "      <td>355.980432</td>\n",
       "      <td>657.921513</td>\n",
       "      <td>1.200000</td>\n",
       "      <td>7086.257042</td>\n",
       "      <td>3885.842751</td>\n",
       "      <td>57585.573172</td>\n",
       "      <td>8081.758024</td>\n",
       "      <td>28.738744</td>\n",
       "      <td>82.011091</td>\n",
       "      <td>58149.918748</td>\n",
       "      <td>POINT (67.54832 70.68545)</td>\n",
       "    </tr>\n",
       "  </tbody>\n",
       "</table>\n",
       "</div>"
      ],
      "text/plain": [
       "                      Latitude  Longitude  Altitude  TotalPoints  \\\n",
       "DateTime                                                           \n",
       "2014-09-08 05:54:00  70.854717  68.307333     0.000           21   \n",
       "2014-09-08 06:10:00  70.830300  67.975050     0.406           21   \n",
       "2014-09-08 06:26:00  70.761717  67.752417     0.498           26   \n",
       "2014-09-08 06:42:00  70.686517  67.561983     0.787           26   \n",
       "2014-09-08 07:14:00  70.685450  67.548317     0.337           26   \n",
       "\n",
       "                     Minimum_Distance  Average_Distance        Kp  \\\n",
       "DateTime                                                            \n",
       "2014-09-08 05:54:00        327.950987        626.701218  1.319048   \n",
       "2014-09-08 06:10:00        340.038476        628.953831  1.319048   \n",
       "2014-09-08 06:26:00        348.223318        656.804069  1.200000   \n",
       "2014-09-08 06:42:00        355.472899        657.901776  1.200000   \n",
       "2014-09-08 07:14:00        355.980432        657.921513  1.200000   \n",
       "\n",
       "                               N            E             C            H  \\\n",
       "DateTime                                                                   \n",
       "2014-09-08 05:54:00  6950.195375  3846.562150  57704.463629  7943.629908   \n",
       "2014-09-08 06:10:00  6986.622060  3861.900714  57646.117115  7982.929596   \n",
       "2014-09-08 06:26:00  7035.862674  3874.626421  57610.695473  8032.191075   \n",
       "2014-09-08 06:42:00  7083.226913  3884.207475  57575.741152  8078.314874   \n",
       "2014-09-08 07:14:00  7086.257042  3885.842751  57585.573172  8081.758024   \n",
       "\n",
       "                             D          I             F  \\\n",
       "DateTime                                                  \n",
       "2014-09-08 05:54:00  28.962187  82.161894  58248.659888   \n",
       "2014-09-08 06:10:00  28.931908  82.115730  58196.236848   \n",
       "2014-09-08 06:26:00  28.841432  82.062880  58167.932114   \n",
       "2014-09-08 06:42:00  28.738907  82.013104  58139.703649   \n",
       "2014-09-08 07:14:00  28.738744  82.011091  58149.918748   \n",
       "\n",
       "                                      geometry  \n",
       "DateTime                                        \n",
       "2014-09-08 05:54:00  POINT (68.30733 70.85472)  \n",
       "2014-09-08 06:10:00  POINT (67.97505 70.83030)  \n",
       "2014-09-08 06:26:00  POINT (67.75242 70.76172)  \n",
       "2014-09-08 06:42:00  POINT (67.56198 70.68652)  \n",
       "2014-09-08 07:14:00  POINT (67.54832 70.68545)  "
      ]
     },
     "execution_count": 66,
     "metadata": {},
     "output_type": "execute_result"
    }
   ],
   "source": [
    "import geopandas\n",
    "import geoplot\n",
    "gdf = geopandas.GeoDataFrame(ValidateDF, geometry=geopandas.points_from_xy(ValidateDF.Longitude, ValidateDF.Latitude))\n",
    "gdf.head()"
   ]
  },
  {
   "cell_type": "code",
   "execution_count": 68,
   "metadata": {
    "ExecuteTime": {
     "end_time": "2020-10-29T20:01:00.725154Z",
     "start_time": "2020-10-29T20:00:59.444503Z"
    }
   },
   "outputs": [
    {
     "data": {
      "image/png": "[encoded data removed]",
      "text/plain": [
       "<Figure size 576x432 with 2 Axes>"
      ]
     },
     "metadata": {
      "needs_background": "light"
     },
     "output_type": "display_data"
    }
   ],
   "source": [
    "world = geopandas.read_file(geopandas.datasets.get_path('naturalearth_lowres'))\n",
    "# We restrict to South America.\n",
    "ax = world.plot(color='white', edgecolor='black', figsize = (8,6))\n",
    "\n",
    "# We can now plot our ``GeoDataFrame``.\n",
    "gdf.plot(ax=ax, column='F', legend=True, \n",
    "         legend_kwds={'label': \"Magnetic Intensity in nT\",\n",
    "                      'orientation': \"horizontal\"})\n",
    "plt.ylabel(\"Longitude\", fontsize=9)\n",
    "plt.xlabel(\"Latitude\", fontsize=9)\n",
    "\n",
    "plt.show()"
   ]
  },
  {
   "cell_type": "code",
   "execution_count": 69,
   "metadata": {
    "ExecuteTime": {
     "end_time": "2020-10-29T20:01:14.494071Z",
     "start_time": "2020-10-29T20:01:11.436052Z"
    }
   },
   "outputs": [
    {
     "data": {
      "text/plain": [
       "Text(567.7954545454544, 0.5, 'Longitude')"
      ]
     },
     "execution_count": 69,
     "metadata": {},
     "output_type": "execute_result"
    },
    {
     "data": {
      "image/png": "[encoded data removed]",
      "text/plain": [
       "<Figure size 1080x432 with 4 Axes>"
      ]
     },
     "metadata": {
      "needs_background": "light"
     },
     "output_type": "display_data"
    }
   ],
   "source": [
    "fig, (ax1, ax2) = plt.subplots(ncols=2, figsize = (15,6))\n",
    "\n",
    "ax1 = world.plot(ax=ax1, color='white', edgecolor='black')\n",
    "xlim = ([gdf.total_bounds[0],  gdf.total_bounds[2]])\n",
    "ylim = ([gdf.total_bounds[1],  gdf.total_bounds[3]])\n",
    "ax1.set_xlim(xlim)\n",
    "ax1.set_ylim(ylim)\n",
    "\n",
    "\n",
    "gdf.plot(ax=ax1, column='F', legend=True,\n",
    "         legend_kwds={'label': \"Magnetic Intensity in nT\",\n",
    "                      'orientation': \"horizontal\"})\n",
    "plt.ylabel(\"Longitude\", fontsize=9)\n",
    "plt.xlabel(\"Latitude\", fontsize=9)\n",
    "ax1.set_title('Magnetic Intensity - F')\n",
    "ax1.set_xlabel('Latitude')\n",
    "ax1.set_ylabel('Longitude')\n",
    "\n",
    "\n",
    "ax2 = world.plot( ax=ax2, color='white', edgecolor='black')\n",
    "xlim = ([gdf.total_bounds[0],  gdf.total_bounds[2]])\n",
    "ylim = ([gdf.total_bounds[1],  gdf.total_bounds[3]])\n",
    "ax2.set_xlim(xlim)\n",
    "ax2.set_ylim(ylim)\n",
    "\n",
    "\n",
    "# We can now plot our ``GeoDataFrame``.\n",
    "gdf.plot(ax=ax2, column='D', legend=True, cmap='Spectral', \n",
    "         legend_kwds={'label': \" Declination in Degrees\",\n",
    "                      'orientation': \"horizontal\"})\n",
    "ax2.set_title('Declination - D')\n",
    "ax2.set_xlabel('Latitude')\n",
    "ax2.set_ylabel('Longitude')"
   ]
  },
  {
   "cell_type": "markdown",
   "metadata": {},
   "source": [
    "## Export the final results to a CSV file\n"
   ]
  },
  {
   "cell_type": "code",
   "execution_count": 70,
   "metadata": {
    "ExecuteTime": {
     "end_time": "2020-10-29T20:01:33.530755Z",
     "start_time": "2020-10-29T20:01:33.484754Z"
    }
   },
   "outputs": [
    {
     "ename": "FileNotFoundError",
     "evalue": "[WinError 2] El sistema no puede encontrar el archivo especificado: './results'",
     "output_type": "error",
     "traceback": [
      "\u001b[1;31m---------------------------------------------------------------------------\u001b[0m",
      "\u001b[1;31mFileNotFoundError\u001b[0m                         Traceback (most recent call last)",
      "\u001b[1;32m<ipython-input-70-09f34ac761ce>\u001b[0m in \u001b[0;36m<module>\u001b[1;34m\u001b[0m\n\u001b[0;32m      1\u001b[0m \u001b[1;31m#Exporting the CSV file\u001b[0m\u001b[1;33m\u001b[0m\u001b[1;33m\u001b[0m\u001b[1;33m\u001b[0m\u001b[0m\n\u001b[1;32m----> 2\u001b[1;33m \u001b[0mos\u001b[0m\u001b[1;33m.\u001b[0m\u001b[0mchdir\u001b[0m\u001b[1;33m(\u001b[0m\u001b[1;34mr\"./results\"\u001b[0m\u001b[1;33m)\u001b[0m\u001b[1;33m\u001b[0m\u001b[1;33m\u001b[0m\u001b[0m\n\u001b[0m\u001b[0;32m      3\u001b[0m \u001b[0moutputfile\u001b[0m \u001b[1;33m=\u001b[0m\u001b[1;34m\"GeoMag_\"\u001b[0m\u001b[1;33m+\u001b[0m\u001b[0mgpsfilename\u001b[0m\u001b[1;33m\u001b[0m\u001b[1;33m\u001b[0m\u001b[0m\n\u001b[0;32m      4\u001b[0m \u001b[0mexport_csv\u001b[0m \u001b[1;33m=\u001b[0m \u001b[0mGeoMagParallelResult\u001b[0m\u001b[1;33m.\u001b[0m\u001b[0mto_csv\u001b[0m \u001b[1;33m(\u001b[0m\u001b[0moutputfile\u001b[0m\u001b[1;33m,\u001b[0m \u001b[0mindex\u001b[0m \u001b[1;33m=\u001b[0m \u001b[1;32mNone\u001b[0m\u001b[1;33m,\u001b[0m \u001b[0mheader\u001b[0m\u001b[1;33m=\u001b[0m\u001b[1;32mTrue\u001b[0m\u001b[1;33m)\u001b[0m\u001b[1;33m\u001b[0m\u001b[1;33m\u001b[0m\u001b[0m\n",
      "\u001b[1;31mFileNotFoundError\u001b[0m: [WinError 2] El sistema no puede encontrar el archivo especificado: './results'"
     ]
    }
   ],
   "source": [
    "#Exporting the CSV file\n",
    "os.chdir(r\"./results\")\n",
    "outputfile =\"GeoMag_\"+gpsfilename\n",
    "export_csv = GeoMagParallelResult.to_csv (outputfile, index = None, header=True)"
   ]
  }
 ],
 "metadata": {
  "kernelspec": {
   "display_name": "Python 3",
   "language": "python",
   "name": "python3"
  },
  "language_info": {
   "codemirror_mode": {
    "name": "ipython",
    "version": 3
   },
   "file_extension": ".py",
   "mimetype": "text/x-python",
   "name": "python",
   "nbconvert_exporter": "python",
   "pygments_lexer": "ipython3",
   "version": "3.8.1"
  },
  "toc": {
   "base_numbering": 1,
   "nav_menu": {},
   "number_sections": true,
   "sideBar": true,
   "skip_h1_title": false,
   "title_cell": "Table of Contents",
   "title_sidebar": "Contents",
   "toc_cell": false,
   "toc_position": {},
   "toc_section_display": true,
   "toc_window_display": true
  }
 },
 "nbformat": 4,
 "nbformat_minor": 4
}
