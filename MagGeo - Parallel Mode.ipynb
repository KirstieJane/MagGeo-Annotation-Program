{
 "cells": [
  {
   "cell_type": "markdown",
   "metadata": {},
   "source": [
    "# MagGeo - Parallel Mode \n",
    "\n",
    "**Authors** | Fernando Benitez-Paez, Urška Demšar, Jed Long, Ciaran Beggan\n",
    "\n",
    "**Contact**  | [Fernando.Benitez@st-andrews.ac.uk](mailto:Fernando.Benitez@st-andrews.ac.uk), [ud2@st-andrews.ac.uk](mailto:ud2@st-andrews.ac.uk), [jed.long@uwo.ca](mailto:jed.long@uwo.ca), [ciar@bgs.ac.uk](mailto:Fernando.Benitez@st-andrews.ac.uk)\n",
    "\n",
    "**nbviewer URL** | https://nbviewer.jupyter.org/github/MagGeo/MagGeo-Annotation-Program/blob/master/MagGeo%20-%20Parallel%20Mode.ipynb\n",
    "\n",
    "**Keywords** | Bird migration, data fusion, Earth’s magnetic field, Swarm, GPS tracking"
   ]
  },
  {
   "cell_type": "markdown",
   "metadata": {},
   "source": [
    "## Overview\n",
    "\n",
    "This Jupyter Notebook will guide you through the required steps to annotate your GPS tracking data with the earth's magnetic field data from Swarm (European Space Agency). This version is called Parallel Mode to take advantage of parallelized computing to process big datasets.\n",
    "\n",
    "To execute the code, you can go through each cell (pressing <code>Crtl+Enter</code>), you will also find inner comments `##` to describe each particular step. If you are not familiar with Jupyter Notebook, you migth want to take some time to learn how to use it first, for example take a look at the <code>notebook-basics.ipynb</code> Notebook inside MagGeo.\n",
    "\n",
    "**For parallel processing, there are some considerations to make:**\n",
    "\n",
    "1. Linux and Windows environments have some differences. In windows we need to separate the functions and store them separately, then import them into a `main` function. \n",
    "3. Defining what part of the process is <strong>CPU bound</strong> and what part is <strong>I/O bound</strong>: Identify what parts of the program are I/O bound (writing or reading from the disk or network) and what part par CPU bound ( Processing capacity). To take advantage of our CPU capacity we need to identify the process where the CPU is actually doing the main Tasks."
   ]
  },
  {
   "cell_type": "markdown",
   "metadata": {},
   "source": [
    "## Data requirements\n",
    "\n",
    "\n",
    "<div class=\"alert alert-warning\" role=\"alert\">\n",
    "  <strong>🔎 Your trajectory must be in a csv format:</strong>\n",
    "\n",
    "There are three columns that  must be included in your GPS trajectory. Make sure your GPS trajectory includes  **Latitude** , **Longitude** and **timestamp**. We suggest that the Timestamp column follow the day/month/year Hour:Minute (**dd/mm/yyyy HH:MM:SS**) format, Latitude and Longitude should be in decimal degrees (WGS84). Optionally an altitude column can be used providing altitude (the altitude must be in **km**). Other Columns will be ignored. Here it is an example of how your GPS track should look:\n",
    "\n",
    "<img src=\"./images/TableExample.png\">\n",
    "\n",
    "For this example we are reading the <strong>BirdGPSTrajectory.csv</strong> file. If you want to run the method using your own csv file, make sure you store your the file in the <code>./data</code> folder. For more information about the dataset we used in this example go to the Main Notebook.\n",
    "</div>"
   ]
  },
  {
   "cell_type": "markdown",
   "metadata": {},
   "source": [
    "## Import the requeried libraries"
   ]
  },
  {
   "cell_type": "code",
   "execution_count": 1,
   "metadata": {
    "ExecuteTime": {
     "end_time": "2020-11-21T16:25:47.716781Z",
     "start_time": "2020-11-21T16:25:21.893190Z"
    },
    "scrolled": true
   },
   "outputs": [],
   "source": [
    "import datetime as dt\n",
    "import sys,os\n",
    "from pathlib import Path\n",
    "import pandas as pd\n",
    "import numpy as np\n",
    "import datetime, time\n",
    "from datetime import timedelta\n",
    "import math\n",
    "import pathlib\n",
    "from datetime import datetime\n",
    "import time\n",
    "import calendar\n",
    "import datetime\n",
    "from viresclient import ClientConfig\n",
    "import matplotlib.pyplot as plt"
   ]
  },
  {
   "cell_type": "markdown",
   "metadata": {},
   "source": [
    "## Add your VirES web client Token\n",
    "\n",
    "The **VirES client API**, requires a token. Before start you need to get your own VirES token. You can visit https://vires.services/ to get yours, and then add it into the next cell."
   ]
  },
  {
   "cell_type": "code",
   "execution_count": 22,
   "metadata": {
    "ExecuteTime": {
     "end_time": "2020-11-21T16:57:48.555096Z",
     "start_time": "2020-11-21T16:57:48.547096Z"
    },
    "scrolled": true
   },
   "outputs": [],
   "source": [
    "VirESToken = \"Add your Token Here\""
   ]
  },
  {
   "cell_type": "markdown",
   "metadata": {},
   "source": [
    "## Reading the GPS track\n",
    "\n",
    "The following steps will load the GPS track from a csv file, and set some requirements before download the data from Swarm.\n",
    "Importing the GPS track. You can note that there is a folder to store the CSV file. Using `os.getcwd()` you can validate where the file is located."
   ]
  },
  {
   "cell_type": "code",
   "execution_count": 3,
   "metadata": {
    "ExecuteTime": {
     "end_time": "2020-11-21T16:26:26.220178Z",
     "start_time": "2020-11-21T16:25:53.800391Z"
    },
    "scrolled": true
   },
   "outputs": [
    {
     "name": "stdout",
     "output_type": "stream",
     "text": [
      "What is the name of your .csv file?: BirdGPSTrajectory.csv\n",
      "Enter the name of your Latitude column?: location-lat\n",
      "Enter the name of your Longitud column?: location-long\n",
      "Enter the date and time column name?: timestamp\n",
      "Enter the Altitude column name?, if you dont have it just press Enter:\n"
     ]
    }
   ],
   "source": [
    "#Enter the name of your GPS track csv file including the extension .csv  and press Enter (e.g. BirdGPSTrajectory.csv)\n",
    "gpsfilename=input(\"What is the name of your .csv file?: \")\n",
    "Lat=input(\"Enter the name of your Latitude column?: \")\n",
    "Long=input(\"Enter the name of your Longitud column?: \")\n",
    "DateTime=input(\"Enter the date and time column name?: \")\n",
    "altitude = input(\"Enter the Altitude column name?, if you dont have it just press Enter:\")\n",
    "#If you csv track file doesnt not have any altitude attribute, MagGeo will use the sea level as your altitude, means 0 Km."
   ]
  },
  {
   "cell_type": "code",
   "execution_count": 4,
   "metadata": {
    "ExecuteTime": {
     "end_time": "2020-11-21T16:26:30.677351Z",
     "start_time": "2020-11-21T16:26:30.661358Z"
    },
    "scrolled": true
   },
   "outputs": [],
   "source": [
    "os.chdir(r\"./data\")\n",
    "def getGPSData():\n",
    "    if altitude == '':\n",
    "        nfp = pd.read_csv(gpsfilename, parse_dates=[0], encoding='utf-8', dayfirst=True, usecols=[Lat, Long, DateTime])\n",
    "        nfp['gpsAltitude'] = 0\n",
    "    else:\n",
    "        nfp = pd.read_csv(gpsfilename, parse_dates=[0], encoding='utf-8', dayfirst=True, usecols=[Lat, Long, DateTime, altitude])\n",
    "    return nfp"
   ]
  },
  {
   "cell_type": "code",
   "execution_count": 5,
   "metadata": {
    "ExecuteTime": {
     "end_time": "2020-11-21T16:26:32.733341Z",
     "start_time": "2020-11-21T16:26:32.000553Z"
    },
    "scrolled": true
   },
   "outputs": [
    {
     "data": {
      "text/html": [
       "<div>\n",
       "<style scoped>\n",
       "    .dataframe tbody tr th:only-of-type {\n",
       "        vertical-align: middle;\n",
       "    }\n",
       "\n",
       "    .dataframe tbody tr th {\n",
       "        vertical-align: top;\n",
       "    }\n",
       "\n",
       "    .dataframe thead th {\n",
       "        text-align: right;\n",
       "    }\n",
       "</style>\n",
       "<table border=\"1\" class=\"dataframe\">\n",
       "  <thead>\n",
       "    <tr style=\"text-align: right;\">\n",
       "      <th></th>\n",
       "      <th>gpsDateTime</th>\n",
       "      <th>gpsLong</th>\n",
       "      <th>gpsLat</th>\n",
       "      <th>gpsAltitude</th>\n",
       "    </tr>\n",
       "  </thead>\n",
       "  <tbody>\n",
       "    <tr>\n",
       "      <th>0</th>\n",
       "      <td>2014-09-08 05:54:00</td>\n",
       "      <td>68.307333</td>\n",
       "      <td>70.854717</td>\n",
       "      <td>0</td>\n",
       "    </tr>\n",
       "    <tr>\n",
       "      <th>1</th>\n",
       "      <td>2014-09-08 06:10:00</td>\n",
       "      <td>67.975050</td>\n",
       "      <td>70.830300</td>\n",
       "      <td>0</td>\n",
       "    </tr>\n",
       "    <tr>\n",
       "      <th>2</th>\n",
       "      <td>2014-09-08 06:26:00</td>\n",
       "      <td>67.752417</td>\n",
       "      <td>70.761717</td>\n",
       "      <td>0</td>\n",
       "    </tr>\n",
       "    <tr>\n",
       "      <th>3</th>\n",
       "      <td>2014-09-08 06:42:00</td>\n",
       "      <td>67.561983</td>\n",
       "      <td>70.686517</td>\n",
       "      <td>0</td>\n",
       "    </tr>\n",
       "    <tr>\n",
       "      <th>4</th>\n",
       "      <td>2014-09-08 07:14:00</td>\n",
       "      <td>67.548317</td>\n",
       "      <td>70.685450</td>\n",
       "      <td>0</td>\n",
       "    </tr>\n",
       "  </tbody>\n",
       "</table>\n",
       "</div>"
      ],
      "text/plain": [
       "          gpsDateTime    gpsLong     gpsLat  gpsAltitude\n",
       "0 2014-09-08 05:54:00  68.307333  70.854717            0\n",
       "1 2014-09-08 06:10:00  67.975050  70.830300            0\n",
       "2 2014-09-08 06:26:00  67.752417  70.761717            0\n",
       "3 2014-09-08 06:42:00  67.561983  70.686517            0\n",
       "4 2014-09-08 07:14:00  67.548317  70.685450            0"
      ]
     },
     "execution_count": 5,
     "metadata": {},
     "output_type": "execute_result"
    }
   ],
   "source": [
    "# Calling the previous function to get the track as pandas Dataframe and renaming the columns for better experience.\n",
    "GPSData = getGPSData()\n",
    "GPSData.rename(columns={Lat: 'gpsLat', Long: 'gpsLong', DateTime: 'gpsDateTime', altitude: 'gpsAltitude'}, inplace = True)\n",
    "GPSData.head()"
   ]
  },
  {
   "cell_type": "markdown",
   "metadata": {},
   "source": [
    "Setting the date and time attributes for the requerided format and computing the epoch column. Values like Maximum and Minimun Date and time are also calculated."
   ]
  },
  {
   "cell_type": "code",
   "execution_count": 6,
   "metadata": {
    "ExecuteTime": {
     "end_time": "2020-11-21T16:26:37.087962Z",
     "start_time": "2020-11-21T16:26:36.657755Z"
    },
    "scrolled": true
   },
   "outputs": [
    {
     "data": {
      "text/html": [
       "<div>\n",
       "<style scoped>\n",
       "    .dataframe tbody tr th:only-of-type {\n",
       "        vertical-align: middle;\n",
       "    }\n",
       "\n",
       "    .dataframe tbody tr th {\n",
       "        vertical-align: top;\n",
       "    }\n",
       "\n",
       "    .dataframe thead th {\n",
       "        text-align: right;\n",
       "    }\n",
       "</style>\n",
       "<table border=\"1\" class=\"dataframe\">\n",
       "  <thead>\n",
       "    <tr style=\"text-align: right;\">\n",
       "      <th></th>\n",
       "      <th>gpsDateTime</th>\n",
       "      <th>gpsLong</th>\n",
       "      <th>gpsLat</th>\n",
       "      <th>gpsAltitude</th>\n",
       "      <th>epoch</th>\n",
       "      <th>dates</th>\n",
       "      <th>times</th>\n",
       "    </tr>\n",
       "  </thead>\n",
       "  <tbody>\n",
       "    <tr>\n",
       "      <th>0</th>\n",
       "      <td>2014-09-08 05:54:00</td>\n",
       "      <td>68.307333</td>\n",
       "      <td>70.854717</td>\n",
       "      <td>0</td>\n",
       "      <td>1410155640</td>\n",
       "      <td>2014-09-08</td>\n",
       "      <td>05:54:00</td>\n",
       "    </tr>\n",
       "    <tr>\n",
       "      <th>1</th>\n",
       "      <td>2014-09-08 06:10:00</td>\n",
       "      <td>67.975050</td>\n",
       "      <td>70.830300</td>\n",
       "      <td>0</td>\n",
       "      <td>1410156600</td>\n",
       "      <td>2014-09-08</td>\n",
       "      <td>06:10:00</td>\n",
       "    </tr>\n",
       "    <tr>\n",
       "      <th>2</th>\n",
       "      <td>2014-09-08 06:26:00</td>\n",
       "      <td>67.752417</td>\n",
       "      <td>70.761717</td>\n",
       "      <td>0</td>\n",
       "      <td>1410157560</td>\n",
       "      <td>2014-09-08</td>\n",
       "      <td>06:26:00</td>\n",
       "    </tr>\n",
       "    <tr>\n",
       "      <th>3</th>\n",
       "      <td>2014-09-08 06:42:00</td>\n",
       "      <td>67.561983</td>\n",
       "      <td>70.686517</td>\n",
       "      <td>0</td>\n",
       "      <td>1410158520</td>\n",
       "      <td>2014-09-08</td>\n",
       "      <td>06:42:00</td>\n",
       "    </tr>\n",
       "    <tr>\n",
       "      <th>4</th>\n",
       "      <td>2014-09-08 07:14:00</td>\n",
       "      <td>67.548317</td>\n",
       "      <td>70.685450</td>\n",
       "      <td>0</td>\n",
       "      <td>1410160440</td>\n",
       "      <td>2014-09-08</td>\n",
       "      <td>07:14:00</td>\n",
       "    </tr>\n",
       "  </tbody>\n",
       "</table>\n",
       "</div>"
      ],
      "text/plain": [
       "          gpsDateTime    gpsLong     gpsLat  gpsAltitude       epoch  \\\n",
       "0 2014-09-08 05:54:00  68.307333  70.854717            0  1410155640   \n",
       "1 2014-09-08 06:10:00  67.975050  70.830300            0  1410156600   \n",
       "2 2014-09-08 06:26:00  67.752417  70.761717            0  1410157560   \n",
       "3 2014-09-08 06:42:00  67.561983  70.686517            0  1410158520   \n",
       "4 2014-09-08 07:14:00  67.548317  70.685450            0  1410160440   \n",
       "\n",
       "        dates     times  \n",
       "0  2014-09-08  05:54:00  \n",
       "1  2014-09-08  06:10:00  \n",
       "2  2014-09-08  06:26:00  \n",
       "3  2014-09-08  06:42:00  \n",
       "4  2014-09-08  07:14:00  "
      ]
     },
     "execution_count": 6,
     "metadata": {},
     "output_type": "execute_result"
    }
   ],
   "source": [
    "# Convert the gpsDateTime to datetime python object\n",
    "GPSData['gpsDateTime'] = pd.to_datetime(GPSData['gpsDateTime'], format='%d/%m/%Y %H:%M')\n",
    "GPSData['gpsDateTime'] = GPSData['gpsDateTime'].map(lambda x: x.replace(second=0))\n",
    "GPSData['gpsLat'] = GPSData['gpsLat'].astype(float)\n",
    "GPSData['gpsLong'] = GPSData['gpsLong'].astype(float)\n",
    "#Adding new column epoch, will be usefuel to compare the date&time o each gps point againts the gathered swmarm data points\n",
    "GPSData['epoch'] = GPSData['gpsDateTime'].astype('int64')//1e9\n",
    "GPSData['epoch'] = GPSData['epoch'].astype(int)\n",
    "#Computing Date and Time columns\n",
    "GPSData['dates'] = GPSData['gpsDateTime'].dt.date\n",
    "GPSData['times'] = GPSData['gpsDateTime'].dt.time\n",
    "#Maximum and Minimum values\n",
    "MinDateTime = min(GPSData['gpsDateTime'])\n",
    "MaxDateTime = max(GPSData['gpsDateTime'])\n",
    "dt_object1 = MinDateTime.to_pydatetime()\n",
    "dt_object2 = MaxDateTime.to_pydatetime()\n",
    "startDate = MinDateTime.date()\n",
    "endDate = MaxDateTime.date()\n",
    "MinTime=MinDateTime.time()\n",
    "MaxTime=MaxDateTime.time()\n",
    "GPSData.head()"
   ]
  },
  {
   "cell_type": "markdown",
   "metadata": {},
   "source": [
    "## Validate the right amount of Swarm measures\n",
    "\n",
    "The following loop is identifiying the time and validating if the time is less than 4:00 hours and more than 20:00 hours to bring one extra day of data. The result of this validation is written in a empty python list which will be later validated to get the unique dates avoing to download data for the same day and reducing the the downloand time process."
   ]
  },
  {
   "cell_type": "code",
   "execution_count": 7,
   "metadata": {
    "ExecuteTime": {
     "end_time": "2020-11-21T16:26:41.015922Z",
     "start_time": "2020-11-21T16:26:40.416922Z"
    },
    "scrolled": true
   },
   "outputs": [],
   "source": [
    "datestimeslist = []\n",
    "for index, row in GPSData.iterrows():\n",
    "    datetimerow  = row['gpsDateTime']\n",
    "    daterow = row['dates']\n",
    "    hourrow = row['times']\n",
    "    hourrow = hourrow.strftime('%H:%M:%S')\n",
    "    if hourrow < '04:00:00':\n",
    "        date_bfr = daterow - (timedelta(days=1))\n",
    "        datestimeslist.append(daterow)\n",
    "        datestimeslist.append(date_bfr)\n",
    "    if hourrow > '20:00:00':\n",
    "        Date_aft = daterow + (timedelta(days=1))\n",
    "        datestimeslist.append(daterow)\n",
    "        datestimeslist.append(Date_aft)  \n",
    "    else:\n",
    "        datestimeslist.append(daterow)"
   ]
  },
  {
   "cell_type": "markdown",
   "metadata": {},
   "source": [
    "Getting a list of unique dates, to being used to download the Swarm Data"
   ]
  },
  {
   "cell_type": "code",
   "execution_count": null,
   "metadata": {
    "ExecuteTime": {
     "end_time": "2020-11-21T16:26:47.013267Z",
     "start_time": "2020-11-21T16:26:46.989271Z"
    },
    "scrolled": false
   },
   "outputs": [],
   "source": [
    "def uniquelistdates(list): \n",
    "    x = np.array(list) \n",
    "    uniquelist = np.unique(x)\n",
    "    return uniquelist\n",
    "\n",
    "uniquelist_dates = uniquelistdates(datestimeslist)\n",
    "uniquelist_dates"
   ]
  },
  {
   "cell_type": "markdown",
   "metadata": {},
   "source": [
    "## Download Swarm residuals data\n",
    "\n",
    "Once the date and time columns have been defined, and the unique dates were identified the script can start the download process. Usually the data from Swarm is requested using only one satellite, however **MagGeo** will use the magnetic measures from the three satellite of the Swarm Mission.\n",
    "\n",
    "<div class=\"alert alert-info\" role=\"alert\">\n",
    "📘 <strong>Be aware:</strong> Due to the amount of dates the GPS track has (42 days) to request and compute the residuals, the time to process the sample data will take approximately 10 minutes.</div>\n",
    "\n",
    "Set a connection to the <code>VirES client</code> and using the function <code>Get_Swarm_residuals</code> we will get the swarm residuals for the dates included in the previous list."
   ]
  },
  {
   "cell_type": "code",
   "execution_count": null,
   "metadata": {
    "ExecuteTime": {
     "end_time": "2020-11-21T16:37:38.385443Z",
     "start_time": "2020-11-21T16:26:52.696107Z"
    },
    "scrolled": false
   },
   "outputs": [],
   "source": [
    "%%time\n",
    "\n",
    "from MagGeoFunctions import Get_Swarm_residuals\n",
    "\n",
    "hours_t_day = 24\n",
    "hours_added = datetime.timedelta(hours = hours_t_day)\n",
    "\n",
    "listdfa = []\n",
    "listdfb = []\n",
    "listdfc = []\n",
    "\n",
    "cc = ClientConfig()\n",
    "cc.set_site_config(\"https://vires.services/ows\", token=VirESToken)\n",
    "cc.default_url = \"https://vires.services/ows\"\n",
    "cc.save()\n",
    "\n",
    "for d in uniquelist_dates:\n",
    "    print(\"Process for:\",d,\":\" )\n",
    "    startdate = datetime.datetime.combine(d, datetime.datetime.min.time())\n",
    "    enddate = startdate + hours_added\n",
    "    SwarmResidualsA,SwarmResidualsB,SwarmResidualsC = Get_Swarm_residuals(startdate, enddate)\n",
    "    listdfa.append(SwarmResidualsA)\n",
    "    listdfb.append(SwarmResidualsB)\n",
    "    listdfc.append(SwarmResidualsC)"
   ]
  },
  {
   "cell_type": "markdown",
   "metadata": {},
   "source": [
    "Integrate the previous list for all dates, into pandas dataframes"
   ]
  },
  {
   "cell_type": "code",
   "execution_count": 10,
   "metadata": {
    "ExecuteTime": {
     "end_time": "2020-11-21T16:51:19.737746Z",
     "start_time": "2020-11-21T16:51:19.603743Z"
    },
    "scrolled": true
   },
   "outputs": [
    {
     "data": {
      "text/html": [
       "<div>\n",
       "<style scoped>\n",
       "    .dataframe tbody tr th:only-of-type {\n",
       "        vertical-align: middle;\n",
       "    }\n",
       "\n",
       "    .dataframe tbody tr th {\n",
       "        vertical-align: top;\n",
       "    }\n",
       "\n",
       "    .dataframe thead th {\n",
       "        text-align: right;\n",
       "    }\n",
       "</style>\n",
       "<table border=\"1\" class=\"dataframe\">\n",
       "  <thead>\n",
       "    <tr style=\"text-align: right;\">\n",
       "      <th></th>\n",
       "      <th>Radius</th>\n",
       "      <th>Kp</th>\n",
       "      <th>Longitude</th>\n",
       "      <th>F_res_CHAOS_MCO_MLI_MMA</th>\n",
       "      <th>Spacecraft</th>\n",
       "      <th>Latitude</th>\n",
       "      <th>N_res</th>\n",
       "      <th>E_res</th>\n",
       "      <th>C_res</th>\n",
       "      <th>timestamp</th>\n",
       "    </tr>\n",
       "    <tr>\n",
       "      <th>epoch</th>\n",
       "      <th></th>\n",
       "      <th></th>\n",
       "      <th></th>\n",
       "      <th></th>\n",
       "      <th></th>\n",
       "      <th></th>\n",
       "      <th></th>\n",
       "      <th></th>\n",
       "      <th></th>\n",
       "      <th></th>\n",
       "    </tr>\n",
       "  </thead>\n",
       "  <tbody>\n",
       "    <tr>\n",
       "      <th>1408320000</th>\n",
       "      <td>6832723.53</td>\n",
       "      <td>1.0</td>\n",
       "      <td>-134.672531</td>\n",
       "      <td>6.514502</td>\n",
       "      <td>A</td>\n",
       "      <td>66.843847</td>\n",
       "      <td>-2.818325</td>\n",
       "      <td>9.260076</td>\n",
       "      <td>6.498977</td>\n",
       "      <td>2014-08-18 00:00:00</td>\n",
       "    </tr>\n",
       "    <tr>\n",
       "      <th>1408320060</th>\n",
       "      <td>6832377.42</td>\n",
       "      <td>0.7</td>\n",
       "      <td>-133.562740</td>\n",
       "      <td>2.395450</td>\n",
       "      <td>A</td>\n",
       "      <td>70.654918</td>\n",
       "      <td>-29.732619</td>\n",
       "      <td>34.448506</td>\n",
       "      <td>4.319175</td>\n",
       "      <td>2014-08-18 00:01:00</td>\n",
       "    </tr>\n",
       "    <tr>\n",
       "      <th>1408320120</th>\n",
       "      <td>6832096.43</td>\n",
       "      <td>0.7</td>\n",
       "      <td>-131.817227</td>\n",
       "      <td>-6.841385</td>\n",
       "      <td>A</td>\n",
       "      <td>74.451293</td>\n",
       "      <td>-72.881573</td>\n",
       "      <td>62.656630</td>\n",
       "      <td>-3.129330</td>\n",
       "      <td>2014-08-18 00:02:00</td>\n",
       "    </tr>\n",
       "    <tr>\n",
       "      <th>1408320180</th>\n",
       "      <td>6831883.56</td>\n",
       "      <td>0.7</td>\n",
       "      <td>-128.828006</td>\n",
       "      <td>-13.353861</td>\n",
       "      <td>A</td>\n",
       "      <td>78.218581</td>\n",
       "      <td>-149.117239</td>\n",
       "      <td>86.436650</td>\n",
       "      <td>-8.007169</td>\n",
       "      <td>2014-08-18 00:03:00</td>\n",
       "    </tr>\n",
       "    <tr>\n",
       "      <th>1408320240</th>\n",
       "      <td>6831741.03</td>\n",
       "      <td>0.7</td>\n",
       "      <td>-122.893911</td>\n",
       "      <td>-41.131992</td>\n",
       "      <td>A</td>\n",
       "      <td>81.915833</td>\n",
       "      <td>4.893830</td>\n",
       "      <td>2.873999</td>\n",
       "      <td>-41.353059</td>\n",
       "      <td>2014-08-18 00:04:00</td>\n",
       "    </tr>\n",
       "  </tbody>\n",
       "</table>\n",
       "</div>"
      ],
      "text/plain": [
       "                Radius   Kp   Longitude  F_res_CHAOS_MCO_MLI_MMA Spacecraft  \\\n",
       "epoch                                                                         \n",
       "1408320000  6832723.53  1.0 -134.672531                 6.514502          A   \n",
       "1408320060  6832377.42  0.7 -133.562740                 2.395450          A   \n",
       "1408320120  6832096.43  0.7 -131.817227                -6.841385          A   \n",
       "1408320180  6831883.56  0.7 -128.828006               -13.353861          A   \n",
       "1408320240  6831741.03  0.7 -122.893911               -41.131992          A   \n",
       "\n",
       "             Latitude       N_res      E_res      C_res           timestamp  \n",
       "epoch                                                                        \n",
       "1408320000  66.843847   -2.818325   9.260076   6.498977 2014-08-18 00:00:00  \n",
       "1408320060  70.654918  -29.732619  34.448506   4.319175 2014-08-18 00:01:00  \n",
       "1408320120  74.451293  -72.881573  62.656630  -3.129330 2014-08-18 00:02:00  \n",
       "1408320180  78.218581 -149.117239  86.436650  -8.007169 2014-08-18 00:03:00  \n",
       "1408320240  81.915833    4.893830   2.873999 -41.353059 2014-08-18 00:04:00  "
      ]
     },
     "execution_count": 10,
     "metadata": {},
     "output_type": "execute_result"
    }
   ],
   "source": [
    "TotalSwarmRes_A = pd.concat(listdfa, join='outer', axis=0)\n",
    "TotalSwarmRes_B = pd.concat(listdfb, join='outer', axis=0)\n",
    "TotalSwarmRes_C = pd.concat(listdfc, join='outer', axis=0)\n",
    "TotalSwarmRes_A.head()"
   ]
  },
  {
   "cell_type": "markdown",
   "metadata": {},
   "source": [
    "## Write the requested data in Disk, to be used into the requeried functions\n",
    "In Parallel mode we can not use a temporary results, therefore we need to store in disk the previous pandas dataframes in csv files."
   ]
  },
  {
   "cell_type": "code",
   "execution_count": 11,
   "metadata": {
    "ExecuteTime": {
     "end_time": "2020-11-21T16:51:26.081307Z",
     "start_time": "2020-11-21T16:51:22.254295Z"
    },
    "scrolled": true
   },
   "outputs": [],
   "source": [
    "TotalSwarmRes_A.to_csv ('TotalSwarmRes_A.csv', header=True)\n",
    "TotalSwarmRes_B.to_csv ('TotalSwarmRes_B.csv', header=True)\n",
    "TotalSwarmRes_C.to_csv ('TotalSwarmRes_C.csv', header=True)"
   ]
  },
  {
   "cell_type": "markdown",
   "metadata": {},
   "source": [
    "## Set the number of processes, and split the dataframe (GPSData) into chunks\n",
    "\n",
    "We can set the number or processess we need to dedicate for the multiprocessing mode, of course that also depends on the number of cores the machine you are using to run **MagGeo**. You can use `multiprocessing.cpu_count()` to set the number of processes as the the number of cores your machine has. Beside that we will also to split the GPS track into chucks to dedicate each core for each chuck."
   ]
  },
  {
   "cell_type": "code",
   "execution_count": null,
   "metadata": {
    "ExecuteTime": {
     "end_time": "2020-11-21T16:51:30.201901Z",
     "start_time": "2020-11-21T16:51:26.744206Z"
    },
    "scrolled": true
   },
   "outputs": [],
   "source": [
    "import multiprocessing\n",
    "import sklearn\n",
    "from multiprocessing import Pool\n",
    "\n",
    "NumCores = multiprocessing.cpu_count()\n",
    "df_chunks = np.array_split(GPSData,NumCores)\n",
    "df_chunks"
   ]
  },
  {
   "cell_type": "markdown",
   "metadata": {},
   "source": [
    "## Spatio-Temporal filter and Interpolation process (ST-IDW) \n",
    "\n",
    "Once we have requested the swarm data, now we need to `filter` in space and time the available points to compute the magnetic values (NEC frame) for each GPS point based on its particular date and time. The function <code>ST_IDW_Process</code> imported in the <code>row_handler</code>, takes the GPS track and the downloaded data from swarm to filter in space and time based on the criteria defined in our method. With the swarm data filtered we interpolated (IDW) the NEC components for each GPS data point, based on the latitude, date, time and number of Swarm points filtered.\n",
    "\n",
    "The function <code>CHAOS_ground_values</code>, inside the <code>MagGeoFunctions</code> file, is used to run the **ionospheric correction**. This correction requeries the magnetic components at the ground level using CHAOS (theta, phi, radial). This process include a rotation and transformation between a geocentric frame (CHAOS) and geodetic frame (GPS track). Once the corrected values are calculated, are included in the GPS track, and the non-necesary columns are removed. For more information about this process go to the Main Notebook.\n"
   ]
  },
  {
   "cell_type": "markdown",
   "metadata": {},
   "source": [
    "## Run the process in parallel mode\n",
    "\n",
    "Although the next cell seems to run a small `main` function.  What is happening is a call for several functions running at same time for several cores. Initially we set a pool of processes. Using the `pool` class we will distribute the assigned function among the data chucks we created. Every data chunk will be like a subset of the entire GPS track. So we need to iterate among data chunk. And inside every data chunk we need to identify the `datetime`, `epoch`, `altitude`, `latitude` and `longitude` of each row to run the interpolation & annotation process using the Swarm data we have filtered and stored in the previous steps.\n",
    "\n",
    "The function in charge to distribute the required function (`row_handler`) among the data chunks is the map function from the `pool` class. \n",
    "\n",
    "`row_handler.py` is an interows iteration to get the required parameter for the `ST_IDW_Process` function. \n",
    "\n",
    "<div class=\"alert alert-info\" role=\"alert\">\n",
    "<strong>📘 Auxiliary Functions:</strong>\n",
    " \n",
    "<ol>\n",
    "  <li><strong>ST_IDW_Process</strong> function: This is the main function in charge to read the Swarm Data already filtered, and then import  <code>DfTime_func</code>,  <code>distance_to_GPS</code>, <code>Kradius</code> , <code>DistJ</code> functions to compute the spatial-time cylinder and the annotation process. The return of this function is a row (dictionary) that will be appended into a python list where all the results from the different cores. The python list from every process is concatenated into a pandas dataframe in the <code>main</code> function having there the whole chain of the parallel process.</li>\n",
    "  <li><strong>distance_to_GPS</strong> function: Is the function in charge to calculate the distance between each GPS Point and the Swarm Point.</li>\n",
    "  <li><strong>Kradius</strong> function: Is the function in charge to compute the R (radius) value in the cylinder. The R value will be considered based on the latitude of each GPS Point.</li>\n",
    "    <li><strong>DistJ</strong> function: This function will calculate the <code>d</code> value as the hypotenuse created in the triangle created amount the locations of the GPS point, the location of the Swarm points and the radius value.</li>\n",
    "  <li><strong>DfTime_func</strong> function: This is a time function to selected the points in the range of a the DeltaTime - <code>DT</code> window. The Delta time window has been set as 4 hours for each satellite trajectory.</li>\n",
    "  <li><strong>CHAOS_ground_values</strong> function: This is a ionospheric correction function to get the CHAOS magnetic values and process the Nres,Eres,Cres values and transform them into the N,E,C values at the GPS altitude.</li>\n",
    "</ol> \n",
    "\n",
    "</div>\n"
   ]
  },
  {
   "cell_type": "code",
   "execution_count": 13,
   "metadata": {
    "ExecuteTime": {
     "end_time": "2020-11-21T16:51:50.141420Z",
     "start_time": "2020-11-21T16:51:31.401601Z"
    },
    "scrolled": true
   },
   "outputs": [
    {
     "name": "stdout",
     "output_type": "stream",
     "text": [
      "Wall time: 18.7 s\n"
     ]
    }
   ],
   "source": [
    "%%time\n",
    "from functools import partial\n",
    "import row_handler\n",
    "\n",
    "if __name__ == '__main__':\n",
    "    with multiprocessing.Pool(NumCores) as pool:\n",
    "        GeoMagParallelResult = pd.concat(pool.map(partial(row_handler.row_handler), df_chunks), ignore_index=True)"
   ]
  },
  {
   "cell_type": "markdown",
   "metadata": {},
   "source": [
    "With the Parallel mode the Annotation process takes about 12 seconds to complete ( We had tested the parallel process in a  windows server machine with 12 cores, see the image bellow). With the same GPS track in the sequetial mode the process is complete in about 2 minutes. In the image bellow you can see how the machine create several python processes and all cores (full CPU capacity) is taken.\n",
    "\n",
    "<div class=\"alert alert-warning\" role=\"alert\">\n",
    "<strong>🔈 Multiprocessing:</strong>\n",
    "\n",
    "is even  more powerfull when you have to process a big amount of data (e.g. 2 millons of points). Although here is making a notable improvement if you have to process a big dataset the parallelization makes even more sense.\n",
    "\n",
    "</div>\n",
    "\n",
    "<img src=\"./images/CoresWorking.png\" style=\"zoom: 100%;\" >\n"
   ]
  },
  {
   "cell_type": "markdown",
   "metadata": {},
   "source": [
    "##  The final result \n",
    "\n",
    "With the NEC components for each GPS Track point, it is possible to compute the aditional magnetic components. For more information about the magnetic components and their relevance go to the main paper or notebook.\n",
    "\n",
    "<div class=\"alert alert-info\" role=\"alert\">\n",
    "    <strong>📘 The annotated dataframe will include the following attributes:</strong> If you need more information about how the geomagnetic component are described go to the main MagGeo Notebook (Add Link).\n",
    "    <ul>\n",
    "      <li><strong>Latitude</strong> from the GPS Track.</li>\n",
    "      <li><strong>Longitude</strong> from the GPS Track.</li>\n",
    "      <li><strong>Timestamp</strong> from the GPS Track.</li>\n",
    "      <li><strong>Magnetic Field Intensity</strong>  mapped as Fgps in nanoTeslas (nT).</li>\n",
    "      <li><strong>N (Northwards) component</strong> mapped as N in nanoTeslas (nT).</li>\n",
    "      <li><strong>E (Eastwards) component</strong> mapped as E. in nanoteslas (nT).</li>\n",
    "      <li><strong>C (Downwards or Center)</strong> component mapped as C in nanoTeslas (nT).</li>\n",
    "      <li><strong>Horizontal component</strong> mapped as H in nanoTeslas (nT).</li>\n",
    "      <li><strong>Magnetic Inclination </strong> mapped as I in degrees.</li> \n",
    "      <li><strong>Magnetic Declination or dip angle</strong> mapped as D in degrees</li>\n",
    "      <li><strong>Kp Index</strong> mapped as kp</li>\n",
    "      <li><strong>Total Points</strong> as the amount of Swarm messuares included in the ST-IDW process from the trajectories requested in the three satellites.</li>\n",
    "      <li><strong>Minimum Distance</strong> mapped as MinDist, representing the minimum distance amount the set of identified point inside the Space Time cylinder and each GPS point location.</li>\n",
    "      <li><strong>Average Distance</strong> mapped as AvDist, representing the average distance amount the set of distances between the identified Swarm Point in the Space Time cylinder and the GPS Points location.</li>\n",
    "    </ul>\n",
    "\n",
    "</div> "
   ]
  },
  {
   "cell_type": "code",
   "execution_count": 14,
   "metadata": {
    "ExecuteTime": {
     "end_time": "2020-11-21T16:56:12.876939Z",
     "start_time": "2020-11-21T16:56:12.784928Z"
    },
    "scrolled": true
   },
   "outputs": [
    {
     "data": {
      "text/html": [
       "<div>\n",
       "<style scoped>\n",
       "    .dataframe tbody tr th:only-of-type {\n",
       "        vertical-align: middle;\n",
       "    }\n",
       "\n",
       "    .dataframe tbody tr th {\n",
       "        vertical-align: top;\n",
       "    }\n",
       "\n",
       "    .dataframe thead th {\n",
       "        text-align: right;\n",
       "    }\n",
       "</style>\n",
       "<table border=\"1\" class=\"dataframe\">\n",
       "  <thead>\n",
       "    <tr style=\"text-align: right;\">\n",
       "      <th></th>\n",
       "      <th>Latitude</th>\n",
       "      <th>Longitude</th>\n",
       "      <th>Altitude</th>\n",
       "      <th>DateTime</th>\n",
       "      <th>TotalPoints</th>\n",
       "      <th>Minimum_Distance</th>\n",
       "      <th>Average_Distance</th>\n",
       "      <th>Kp</th>\n",
       "      <th>N</th>\n",
       "      <th>E</th>\n",
       "      <th>C</th>\n",
       "      <th>H</th>\n",
       "      <th>D</th>\n",
       "      <th>I</th>\n",
       "      <th>F</th>\n",
       "    </tr>\n",
       "  </thead>\n",
       "  <tbody>\n",
       "    <tr>\n",
       "      <th>0</th>\n",
       "      <td>70.854717</td>\n",
       "      <td>68.307333</td>\n",
       "      <td>0</td>\n",
       "      <td>2014-09-08 05:54:00</td>\n",
       "      <td>21</td>\n",
       "      <td>327.950987</td>\n",
       "      <td>626.701218</td>\n",
       "      <td>1.319048</td>\n",
       "      <td>6950.195375</td>\n",
       "      <td>3846.562150</td>\n",
       "      <td>57704.463629</td>\n",
       "      <td>7943.629908</td>\n",
       "      <td>28.962187</td>\n",
       "      <td>82.161894</td>\n",
       "      <td>58248.659888</td>\n",
       "    </tr>\n",
       "    <tr>\n",
       "      <th>1</th>\n",
       "      <td>70.830300</td>\n",
       "      <td>67.975050</td>\n",
       "      <td>0</td>\n",
       "      <td>2014-09-08 06:10:00</td>\n",
       "      <td>21</td>\n",
       "      <td>340.038476</td>\n",
       "      <td>628.953831</td>\n",
       "      <td>1.319048</td>\n",
       "      <td>6987.096440</td>\n",
       "      <td>3863.738340</td>\n",
       "      <td>57656.841943</td>\n",
       "      <td>7984.233878</td>\n",
       "      <td>28.941803</td>\n",
       "      <td>82.115906</td>\n",
       "      <td>58207.039208</td>\n",
       "    </tr>\n",
       "    <tr>\n",
       "      <th>2</th>\n",
       "      <td>70.761717</td>\n",
       "      <td>67.752417</td>\n",
       "      <td>0</td>\n",
       "      <td>2014-09-08 06:26:00</td>\n",
       "      <td>26</td>\n",
       "      <td>348.223318</td>\n",
       "      <td>656.804069</td>\n",
       "      <td>1.200000</td>\n",
       "      <td>7036.412142</td>\n",
       "      <td>3876.893913</td>\n",
       "      <td>57623.804876</td>\n",
       "      <td>8033.766380</td>\n",
       "      <td>28.853707</td>\n",
       "      <td>82.063126</td>\n",
       "      <td>58181.133459</td>\n",
       "    </tr>\n",
       "    <tr>\n",
       "      <th>3</th>\n",
       "      <td>70.686517</td>\n",
       "      <td>67.561983</td>\n",
       "      <td>0</td>\n",
       "      <td>2014-09-08 06:42:00</td>\n",
       "      <td>26</td>\n",
       "      <td>355.472899</td>\n",
       "      <td>657.901776</td>\n",
       "      <td>1.200000</td>\n",
       "      <td>7084.031805</td>\n",
       "      <td>3887.799448</td>\n",
       "      <td>57596.417630</td>\n",
       "      <td>8080.748181</td>\n",
       "      <td>28.758495</td>\n",
       "      <td>82.013560</td>\n",
       "      <td>58160.517664</td>\n",
       "    </tr>\n",
       "    <tr>\n",
       "      <th>4</th>\n",
       "      <td>70.685450</td>\n",
       "      <td>67.548317</td>\n",
       "      <td>0</td>\n",
       "      <td>2014-09-08 07:14:00</td>\n",
       "      <td>26</td>\n",
       "      <td>355.980432</td>\n",
       "      <td>657.921513</td>\n",
       "      <td>1.200000</td>\n",
       "      <td>7086.600738</td>\n",
       "      <td>3887.382647</td>\n",
       "      <td>57594.425512</td>\n",
       "      <td>8082.799878</td>\n",
       "      <td>28.747143</td>\n",
       "      <td>82.011286</td>\n",
       "      <td>58158.829974</td>\n",
       "    </tr>\n",
       "  </tbody>\n",
       "</table>\n",
       "</div>"
      ],
      "text/plain": [
       "    Latitude  Longitude  Altitude            DateTime  TotalPoints  \\\n",
       "0  70.854717  68.307333         0 2014-09-08 05:54:00           21   \n",
       "1  70.830300  67.975050         0 2014-09-08 06:10:00           21   \n",
       "2  70.761717  67.752417         0 2014-09-08 06:26:00           26   \n",
       "3  70.686517  67.561983         0 2014-09-08 06:42:00           26   \n",
       "4  70.685450  67.548317         0 2014-09-08 07:14:00           26   \n",
       "\n",
       "   Minimum_Distance  Average_Distance        Kp            N            E  \\\n",
       "0        327.950987        626.701218  1.319048  6950.195375  3846.562150   \n",
       "1        340.038476        628.953831  1.319048  6987.096440  3863.738340   \n",
       "2        348.223318        656.804069  1.200000  7036.412142  3876.893913   \n",
       "3        355.472899        657.901776  1.200000  7084.031805  3887.799448   \n",
       "4        355.980432        657.921513  1.200000  7086.600738  3887.382647   \n",
       "\n",
       "              C            H          D          I             F  \n",
       "0  57704.463629  7943.629908  28.962187  82.161894  58248.659888  \n",
       "1  57656.841943  7984.233878  28.941803  82.115906  58207.039208  \n",
       "2  57623.804876  8033.766380  28.853707  82.063126  58181.133459  \n",
       "3  57596.417630  8080.748181  28.758495  82.013560  58160.517664  \n",
       "4  57594.425512  8082.799878  28.747143  82.011286  58158.829974  "
      ]
     },
     "execution_count": 14,
     "metadata": {},
     "output_type": "execute_result"
    }
   ],
   "source": [
    "#14. Having Intepolated and weigth magnetic values, we can compute the other magnectic components. \n",
    "GeoMagParallelResult['H'] = np.sqrt((GeoMagParallelResult['N']**2)+(GeoMagParallelResult['E']**2))\n",
    "#check the arcgtan in python., From arctan2 is saver.\n",
    "DgpsRad = np.arctan2(GeoMagParallelResult['E'],GeoMagParallelResult['N'])\n",
    "GeoMagParallelResult['D'] = np.degrees(DgpsRad)\n",
    "IgpsRad = np.arctan2(GeoMagParallelResult['C'],GeoMagParallelResult['H'])\n",
    "GeoMagParallelResult['I'] = np.degrees(IgpsRad)\n",
    "GeoMagParallelResult['F'] = np.sqrt((GeoMagParallelResult['N']**2)+(GeoMagParallelResult['E']**2)+(GeoMagParallelResult['C']**2))\n",
    "GeoMagParallelResult.head()"
   ]
  },
  {
   "cell_type": "markdown",
   "metadata": {},
   "source": [
    "## Validate the results\n",
    "To validate the results we plot the `F`column."
   ]
  },
  {
   "cell_type": "code",
   "execution_count": 15,
   "metadata": {
    "ExecuteTime": {
     "end_time": "2020-11-21T16:56:15.193040Z",
     "start_time": "2020-11-21T16:56:15.179042Z"
    },
    "scrolled": true
   },
   "outputs": [],
   "source": [
    "## Creating a copy of the results and setting the Datetime Column as dataframe index.\n",
    "ValidateDF = GeoMagParallelResult.copy()\n",
    "ValidateDF.set_index(\"DateTime\", inplace=True)"
   ]
  },
  {
   "cell_type": "code",
   "execution_count": 16,
   "metadata": {
    "ExecuteTime": {
     "end_time": "2020-11-21T16:56:17.515287Z",
     "start_time": "2020-11-21T16:56:16.486250Z"
    },
    "scrolled": true
   },
   "outputs": [
    {
     "data": {
      "image/png": "[encoded data removed]",
      "text/plain": [
       "<Figure size 432x288 with 1 Axes>"
      ]
     },
     "metadata": {
      "needs_background": "light"
     },
     "output_type": "display_data"
    }
   ],
   "source": [
    "## Plotting the F column.\n",
    "import matplotlib.pyplot as plt\n",
    "hist = ValidateDF.hist(column='F')"
   ]
  },
  {
   "cell_type": "markdown",
   "metadata": {},
   "source": [
    "## Optional: Map the GPS Track using the annotated Magnetic Values\n",
    "\n",
    "Now we are going to plot the annotated GPS track stored into the MagDataFinal dataframe to see how the different magnetic components in a map to have a better prespective of the impact of the earth magnetic field."
   ]
  },
  {
   "cell_type": "code",
   "execution_count": 17,
   "metadata": {
    "ExecuteTime": {
     "end_time": "2020-11-21T16:56:20.723585Z",
     "start_time": "2020-11-21T16:56:19.299294Z"
    },
    "scrolled": true
   },
   "outputs": [
    {
     "data": {
      "image/png": "[encoded data removed]",
      "text/plain": [
       "<Figure size 720x504 with 2 Axes>"
      ]
     },
     "metadata": {
      "needs_background": "light"
     },
     "output_type": "display_data"
    }
   ],
   "source": [
    "import matplotlib.pyplot as plt\n",
    "\n",
    "ValidateDF.plot(kind=\"scatter\", x=\"Latitude\", y=\"Longitude\",\n",
    "    label=\"Magnetic Intensity\",\n",
    "    c=\"F\", cmap=plt.get_cmap(\"gist_rainbow\"),\n",
    "    colorbar=True, alpha=0.4, figsize=(10,7)\n",
    "    \n",
    ")\n",
    "\n",
    "plt.ylabel(\"Longitude\", fontsize=12)\n",
    "plt.xlabel(\"Latitude\", fontsize=12)\n",
    "plt.legend(fontsize=12)\n",
    "plt.show()"
   ]
  },
  {
   "cell_type": "code",
   "execution_count": 18,
   "metadata": {
    "ExecuteTime": {
     "end_time": "2020-11-21T16:56:37.881198Z",
     "start_time": "2020-11-21T16:56:23.074551Z"
    },
    "scrolled": true
   },
   "outputs": [
    {
     "data": {
      "text/html": [
       "<div>\n",
       "<style scoped>\n",
       "    .dataframe tbody tr th:only-of-type {\n",
       "        vertical-align: middle;\n",
       "    }\n",
       "\n",
       "    .dataframe tbody tr th {\n",
       "        vertical-align: top;\n",
       "    }\n",
       "\n",
       "    .dataframe thead th {\n",
       "        text-align: right;\n",
       "    }\n",
       "</style>\n",
       "<table border=\"1\" class=\"dataframe\">\n",
       "  <thead>\n",
       "    <tr style=\"text-align: right;\">\n",
       "      <th></th>\n",
       "      <th>Latitude</th>\n",
       "      <th>Longitude</th>\n",
       "      <th>Altitude</th>\n",
       "      <th>TotalPoints</th>\n",
       "      <th>Minimum_Distance</th>\n",
       "      <th>Average_Distance</th>\n",
       "      <th>Kp</th>\n",
       "      <th>N</th>\n",
       "      <th>E</th>\n",
       "      <th>C</th>\n",
       "      <th>H</th>\n",
       "      <th>D</th>\n",
       "      <th>I</th>\n",
       "      <th>F</th>\n",
       "      <th>geometry</th>\n",
       "    </tr>\n",
       "    <tr>\n",
       "      <th>DateTime</th>\n",
       "      <th></th>\n",
       "      <th></th>\n",
       "      <th></th>\n",
       "      <th></th>\n",
       "      <th></th>\n",
       "      <th></th>\n",
       "      <th></th>\n",
       "      <th></th>\n",
       "      <th></th>\n",
       "      <th></th>\n",
       "      <th></th>\n",
       "      <th></th>\n",
       "      <th></th>\n",
       "      <th></th>\n",
       "      <th></th>\n",
       "    </tr>\n",
       "  </thead>\n",
       "  <tbody>\n",
       "    <tr>\n",
       "      <th>2014-09-08 05:54:00</th>\n",
       "      <td>70.854717</td>\n",
       "      <td>68.307333</td>\n",
       "      <td>0</td>\n",
       "      <td>21</td>\n",
       "      <td>327.950987</td>\n",
       "      <td>626.701218</td>\n",
       "      <td>1.319048</td>\n",
       "      <td>6950.195375</td>\n",
       "      <td>3846.562150</td>\n",
       "      <td>57704.463629</td>\n",
       "      <td>7943.629908</td>\n",
       "      <td>28.962187</td>\n",
       "      <td>82.161894</td>\n",
       "      <td>58248.659888</td>\n",
       "      <td>POINT (68.30733 70.85472)</td>\n",
       "    </tr>\n",
       "    <tr>\n",
       "      <th>2014-09-08 06:10:00</th>\n",
       "      <td>70.830300</td>\n",
       "      <td>67.975050</td>\n",
       "      <td>0</td>\n",
       "      <td>21</td>\n",
       "      <td>340.038476</td>\n",
       "      <td>628.953831</td>\n",
       "      <td>1.319048</td>\n",
       "      <td>6987.096440</td>\n",
       "      <td>3863.738340</td>\n",
       "      <td>57656.841943</td>\n",
       "      <td>7984.233878</td>\n",
       "      <td>28.941803</td>\n",
       "      <td>82.115906</td>\n",
       "      <td>58207.039208</td>\n",
       "      <td>POINT (67.97505 70.83030)</td>\n",
       "    </tr>\n",
       "    <tr>\n",
       "      <th>2014-09-08 06:26:00</th>\n",
       "      <td>70.761717</td>\n",
       "      <td>67.752417</td>\n",
       "      <td>0</td>\n",
       "      <td>26</td>\n",
       "      <td>348.223318</td>\n",
       "      <td>656.804069</td>\n",
       "      <td>1.200000</td>\n",
       "      <td>7036.412142</td>\n",
       "      <td>3876.893913</td>\n",
       "      <td>57623.804876</td>\n",
       "      <td>8033.766380</td>\n",
       "      <td>28.853707</td>\n",
       "      <td>82.063126</td>\n",
       "      <td>58181.133459</td>\n",
       "      <td>POINT (67.75242 70.76172)</td>\n",
       "    </tr>\n",
       "    <tr>\n",
       "      <th>2014-09-08 06:42:00</th>\n",
       "      <td>70.686517</td>\n",
       "      <td>67.561983</td>\n",
       "      <td>0</td>\n",
       "      <td>26</td>\n",
       "      <td>355.472899</td>\n",
       "      <td>657.901776</td>\n",
       "      <td>1.200000</td>\n",
       "      <td>7084.031805</td>\n",
       "      <td>3887.799448</td>\n",
       "      <td>57596.417630</td>\n",
       "      <td>8080.748181</td>\n",
       "      <td>28.758495</td>\n",
       "      <td>82.013560</td>\n",
       "      <td>58160.517664</td>\n",
       "      <td>POINT (67.56198 70.68652)</td>\n",
       "    </tr>\n",
       "    <tr>\n",
       "      <th>2014-09-08 07:14:00</th>\n",
       "      <td>70.685450</td>\n",
       "      <td>67.548317</td>\n",
       "      <td>0</td>\n",
       "      <td>26</td>\n",
       "      <td>355.980432</td>\n",
       "      <td>657.921513</td>\n",
       "      <td>1.200000</td>\n",
       "      <td>7086.600738</td>\n",
       "      <td>3887.382647</td>\n",
       "      <td>57594.425512</td>\n",
       "      <td>8082.799878</td>\n",
       "      <td>28.747143</td>\n",
       "      <td>82.011286</td>\n",
       "      <td>58158.829974</td>\n",
       "      <td>POINT (67.54832 70.68545)</td>\n",
       "    </tr>\n",
       "  </tbody>\n",
       "</table>\n",
       "</div>"
      ],
      "text/plain": [
       "                      Latitude  Longitude  Altitude  TotalPoints  \\\n",
       "DateTime                                                           \n",
       "2014-09-08 05:54:00  70.854717  68.307333         0           21   \n",
       "2014-09-08 06:10:00  70.830300  67.975050         0           21   \n",
       "2014-09-08 06:26:00  70.761717  67.752417         0           26   \n",
       "2014-09-08 06:42:00  70.686517  67.561983         0           26   \n",
       "2014-09-08 07:14:00  70.685450  67.548317         0           26   \n",
       "\n",
       "                     Minimum_Distance  Average_Distance        Kp  \\\n",
       "DateTime                                                            \n",
       "2014-09-08 05:54:00        327.950987        626.701218  1.319048   \n",
       "2014-09-08 06:10:00        340.038476        628.953831  1.319048   \n",
       "2014-09-08 06:26:00        348.223318        656.804069  1.200000   \n",
       "2014-09-08 06:42:00        355.472899        657.901776  1.200000   \n",
       "2014-09-08 07:14:00        355.980432        657.921513  1.200000   \n",
       "\n",
       "                               N            E             C            H  \\\n",
       "DateTime                                                                   \n",
       "2014-09-08 05:54:00  6950.195375  3846.562150  57704.463629  7943.629908   \n",
       "2014-09-08 06:10:00  6987.096440  3863.738340  57656.841943  7984.233878   \n",
       "2014-09-08 06:26:00  7036.412142  3876.893913  57623.804876  8033.766380   \n",
       "2014-09-08 06:42:00  7084.031805  3887.799448  57596.417630  8080.748181   \n",
       "2014-09-08 07:14:00  7086.600738  3887.382647  57594.425512  8082.799878   \n",
       "\n",
       "                             D          I             F  \\\n",
       "DateTime                                                  \n",
       "2014-09-08 05:54:00  28.962187  82.161894  58248.659888   \n",
       "2014-09-08 06:10:00  28.941803  82.115906  58207.039208   \n",
       "2014-09-08 06:26:00  28.853707  82.063126  58181.133459   \n",
       "2014-09-08 06:42:00  28.758495  82.013560  58160.517664   \n",
       "2014-09-08 07:14:00  28.747143  82.011286  58158.829974   \n",
       "\n",
       "                                      geometry  \n",
       "DateTime                                        \n",
       "2014-09-08 05:54:00  POINT (68.30733 70.85472)  \n",
       "2014-09-08 06:10:00  POINT (67.97505 70.83030)  \n",
       "2014-09-08 06:26:00  POINT (67.75242 70.76172)  \n",
       "2014-09-08 06:42:00  POINT (67.56198 70.68652)  \n",
       "2014-09-08 07:14:00  POINT (67.54832 70.68545)  "
      ]
     },
     "execution_count": 18,
     "metadata": {},
     "output_type": "execute_result"
    }
   ],
   "source": [
    "import geopandas\n",
    "import geoplot\n",
    "gdf = geopandas.GeoDataFrame(ValidateDF, geometry=geopandas.points_from_xy(ValidateDF.Longitude, ValidateDF.Latitude))\n",
    "gdf.head()"
   ]
  },
  {
   "cell_type": "code",
   "execution_count": 19,
   "metadata": {
    "ExecuteTime": {
     "end_time": "2020-11-21T16:56:42.875664Z",
     "start_time": "2020-11-21T16:56:40.309271Z"
    },
    "scrolled": true
   },
   "outputs": [
    {
     "data": {
      "image/png": "[encoded data removed]",
      "text/plain": [
       "<Figure size 576x432 with 2 Axes>"
      ]
     },
     "metadata": {
      "needs_background": "light"
     },
     "output_type": "display_data"
    }
   ],
   "source": [
    "world = geopandas.read_file(geopandas.datasets.get_path('naturalearth_lowres'))\n",
    "ax = world.plot(color='white', edgecolor='black', figsize = (8,6))\n",
    "\n",
    "# We can now plot our ``GeoDataFrame``.\n",
    "gdf.plot(ax=ax, column='F', legend=True, \n",
    "         legend_kwds={'label': \"Magnetic Intensity in nT\",\n",
    "                      'orientation': \"horizontal\"})\n",
    "plt.ylabel(\"Longitude\", fontsize=9)\n",
    "plt.xlabel(\"Latitude\", fontsize=9)\n",
    "\n",
    "plt.show()"
   ]
  },
  {
   "cell_type": "code",
   "execution_count": 20,
   "metadata": {
    "ExecuteTime": {
     "end_time": "2020-11-21T16:56:47.133768Z",
     "start_time": "2020-11-21T16:56:44.414743Z"
    },
    "scrolled": true
   },
   "outputs": [
    {
     "data": {
      "text/plain": [
       "Text(567.7954545454544, 0.5, 'Longitude')"
      ]
     },
     "execution_count": 20,
     "metadata": {},
     "output_type": "execute_result"
    },
    {
     "data": {
      "image/png": "[encoded data removed]",
      "text/plain": [
       "<Figure size 1080x432 with 4 Axes>"
      ]
     },
     "metadata": {
      "needs_background": "light"
     },
     "output_type": "display_data"
    }
   ],
   "source": [
    "fig, (ax1, ax2) = plt.subplots(ncols=2, figsize = (15,6))\n",
    "\n",
    "ax1 = world.plot(ax=ax1, color='white', edgecolor='black')\n",
    "xlim = ([gdf.total_bounds[0],  gdf.total_bounds[2]])\n",
    "ylim = ([gdf.total_bounds[1],  gdf.total_bounds[3]])\n",
    "ax1.set_xlim(xlim)\n",
    "ax1.set_ylim(ylim)\n",
    "\n",
    "\n",
    "gdf.plot(ax=ax1, column='F', legend=True,\n",
    "         legend_kwds={'label': \"Magnetic Intensity in nT\",\n",
    "                      'orientation': \"horizontal\"})\n",
    "plt.ylabel(\"Longitude\", fontsize=9)\n",
    "plt.xlabel(\"Latitude\", fontsize=9)\n",
    "ax1.set_title('Magnetic Intensity - F')\n",
    "ax1.set_xlabel('Latitude')\n",
    "ax1.set_ylabel('Longitude')\n",
    "\n",
    "\n",
    "ax2 = world.plot( ax=ax2, color='white', edgecolor='black')\n",
    "xlim = ([gdf.total_bounds[0],  gdf.total_bounds[2]])\n",
    "ylim = ([gdf.total_bounds[1],  gdf.total_bounds[3]])\n",
    "ax2.set_xlim(xlim)\n",
    "ax2.set_ylim(ylim)\n",
    "\n",
    "\n",
    "# We can now plot our ``GeoDataFrame``.\n",
    "gdf.plot(ax=ax2, column='D', legend=True, cmap='Spectral', \n",
    "         legend_kwds={'label': \" Declination in Degrees\",\n",
    "                      'orientation': \"horizontal\"})\n",
    "ax2.set_title('Declination - D')\n",
    "ax2.set_xlabel('Latitude')\n",
    "ax2.set_ylabel('Longitude')"
   ]
  },
  {
   "cell_type": "markdown",
   "metadata": {},
   "source": [
    "## Export the final results to a CSV file\n"
   ]
  },
  {
   "cell_type": "code",
   "execution_count": 21,
   "metadata": {
    "ExecuteTime": {
     "end_time": "2020-11-21T16:56:50.465552Z",
     "start_time": "2020-11-21T16:56:50.362551Z"
    },
    "scrolled": true
   },
   "outputs": [],
   "source": [
    "#Exporting the CSV file\n",
    "os.chdir(r\"../results\")\n",
    "outputfile =\"GeoMag_\"+gpsfilename\n",
    "export_csv = GeoMagParallelResult.to_csv (outputfile, index = None, header=True)"
   ]
  }
 ],
 "metadata": {
  "kernelspec": {
   "display_name": "Python 3",
   "language": "python",
   "name": "python3"
  },
  "language_info": {
   "codemirror_mode": {
    "name": "ipython",
    "version": 3
   },
   "file_extension": ".py",
   "mimetype": "text/x-python",
   "name": "python",
   "nbconvert_exporter": "python",
   "pygments_lexer": "ipython3",
   "version": "3.8.1"
  },
  "toc": {
   "base_numbering": 1,
   "nav_menu": {},
   "number_sections": true,
   "sideBar": true,
   "skip_h1_title": false,
   "title_cell": "Table of Contents",
   "title_sidebar": "Contents",
   "toc_cell": false,
   "toc_position": {},
   "toc_section_display": true,
   "toc_window_display": true
  }
 },
 "nbformat": 4,
 "nbformat_minor": 4
}
