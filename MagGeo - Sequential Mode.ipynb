{
 "cells": [
  {
   "cell_type": "markdown",
   "metadata": {},
   "source": [
    "# MagGeo - Sequential Mode \n",
    "\n",
    "**Authors** | Fernando Benitez-Paez, Urška Demšar, Jed Long, Ciaran Beggan\n",
    "\n",
    "**Contact**  | [Fernando.Benitez@st-andrews.ac.uk](mailto:Fernando.Benitez@st-andrews.ac.uk), [ud2@st-andrews.ac.uk](mailto:ud2@st-andrews.ac.uk), [jed.long@uwo.ca](mailto:jed.long@uwo.ca), [ciar@bgs.ac.uk](mailto:Fernando.Benitez@st-andrews.ac.uk)\n",
    "\n",
    "**nbviewer URL** | https://nbviewer.jupyter.org/github/MagGeo/MagGeo-Annotation-Program/blob/master/MagGeo%20-%20Sequential%20Mode.ipynb\n",
    "\n",
    "**Keywords** | Bird migration, data fusion, Earth’s magnetic field, Swarm, GPS tracking "
   ]
  },
  {
   "cell_type": "markdown",
   "metadata": {},
   "source": [
    "## Overview\n",
    "\n",
    "This Jupyter Notebook will guide you through the required steps to annotate your GPS tracking data with the earth's magnetic field data from Swarm (European Space Agency). This version is called Sequential Mode, alternatively you can use Parallel Mode to take advantage of parallelized computing if required. More information about the Swarm satellites can be found in the Main Document on the MagGeo github repository. This script will use a sequential loop to run the annotation process for each GPS Point (row) from your data.\n",
    "\n",
    "To execute the code, you can go through each cell (pressing <code>Crtl+Enter</code>), you will also find inner comments `##` to describe each particular step. If you are not familiar with using Jupyter Notebooks, you might want to take some time to learn how first, for example take a look at the <code>notebook-basics.ipynb</code> Notebook inside MagGeo."
   ]
  },
  {
   "cell_type": "markdown",
   "metadata": {},
   "source": [
    "## Data requirements\n",
    "\n",
    "<div class=\"alert alert-warning\" role=\"alert\">\n",
    "  <strong>🔎 Your trajectory must be in a csv format:</strong>\n",
    "\n",
    "There are three columns that  must be included in your GPS trajectory. Make sure your GPS trajectory includes  **Latitude** , **Longitude** and **timestamp**. We suggest that the Timestamp column follow the day/month/year Hour:Minute (**dd/mm/yyyy HH:MM:SS**) format, Latitude and Longitude should be in decimal degrees (WGS84). Optionally an altitude column can be used providing altitude (in km #CHECK THIS#). Other Columns will be ignored. Here it is an example of how your GPS track should look:\n",
    "\n",
    "<img src=\"./images/TableExample.png\">\n",
    "\n",
    "For this example we are reading the <strong>BirdGPSTrajectory.csv</strong> file. If you want to run the method using your own csv file, make sure you store your the file in the <code>./data</code> folder. For more information about the dataset we used in this example go to the Main Notebook.\n",
    "</div>"
   ]
  },
  {
   "cell_type": "markdown",
   "metadata": {},
   "source": [
    "## Import the required python libraries"
   ]
  },
  {
   "cell_type": "code",
   "execution_count": 1,
   "metadata": {
    "ExecuteTime": {
     "end_time": "2020-10-29T20:12:57.937685Z",
     "start_time": "2020-10-29T20:12:51.163571Z"
    }
   },
   "outputs": [],
   "source": [
    "import datetime as dt\n",
    "import sys,os\n",
    "from pathlib import Path\n",
    "import pandas as pd\n",
    "import numpy as np\n",
    "import datetime, time\n",
    "from datetime import timedelta\n",
    "import math\n",
    "import pathlib\n",
    "from datetime import datetime\n",
    "import time\n",
    "import calendar\n",
    "import datetime\n",
    "from viresclient import ClientConfig\n",
    "import matplotlib.pyplot as plt"
   ]
  },
  {
   "cell_type": "markdown",
   "metadata": {},
   "source": [
    "## Add your VirES web client Token"
   ]
  },
  {
   "cell_type": "code",
   "execution_count": 2,
   "metadata": {
    "ExecuteTime": {
     "end_time": "2020-10-29T20:13:00.173607Z",
     "start_time": "2020-10-29T20:13:00.166602Z"
    }
   },
   "outputs": [],
   "source": [
    "VirESToken = \"Add your VirES TOKEN here\""
   ]
  },
  {
   "cell_type": "markdown",
   "metadata": {},
   "source": [
    "## Read the GPS track\n",
    "The following steps will load the GPS track from a csv file, and set some requirements before downloading geomagnetic data from Swarm."
   ]
  },
  {
   "cell_type": "code",
   "execution_count": 3,
   "metadata": {
    "ExecuteTime": {
     "end_time": "2020-10-29T20:13:56.381693Z",
     "start_time": "2020-10-29T20:13:04.753554Z"
    }
   },
   "outputs": [
    {
     "name": "stdout",
     "output_type": "stream",
     "text": [
      "What is the name of your .csv file?: BirdGPSTrajectory.csv\n",
      "Enter the name of your latitude column?: location-lat\n",
      "Enter the name of your longitude column?: location-long\n",
      "Enter the date and time column name?: timestamp\n",
      "Enter the altitude column name?, if you dont have it just press Enter:height\n"
     ]
    }
   ],
   "source": [
    "#Enter the name of your GPS track csv file including the extension .csv  and press Enter (e.g. BirdGPSTrajectory.csv)\n",
    "gpsfilename=input(\"What is the name of your .csv file?: \")\n",
    "Lat=input(\"Enter the name of your Latitude column?: \")\n",
    "Long=input(\"Enter the name of your Longitud column?: \")\n",
    "DateTime=input(\"Enter the date and time column name?: \")\n",
    "altitude = input(\"Enter the Altitude column name?, if you dont have it just press Enter:\")\n",
    "#If your csv track file doesnt not have any altitude attribute, MagGeo will use sea level as your altitude (i.e., 0 Km)."
   ]
  },
  {
   "cell_type": "code",
   "execution_count": 4,
   "metadata": {
    "ExecuteTime": {
     "end_time": "2020-10-29T20:14:03.038934Z",
     "start_time": "2020-10-29T20:14:03.020929Z"
    }
   },
   "outputs": [],
   "source": [
    "os.chdir(r\"./data\")\n",
    "def getGPSData():\n",
    "    if altitude == '':\n",
    "        nfp = pd.read_csv(gpsfilename, parse_dates=[0], encoding='utf-8', dayfirst=True, usecols=[Lat, Long, DateTime])\n",
    "        nfp['gpsAltitude'] = 0\n",
    "    else:\n",
    "        nfp = pd.read_csv(gpsfilename, parse_dates=[0], encoding='utf-8', dayfirst=True, usecols=[Lat, Long, DateTime, altitude])\n",
    "    return nfp"
   ]
  },
  {
   "cell_type": "code",
   "execution_count": 5,
   "metadata": {
    "ExecuteTime": {
     "end_time": "2020-10-29T20:14:07.259474Z",
     "start_time": "2020-10-29T20:14:06.723458Z"
    }
   },
   "outputs": [
    {
     "data": {
      "text/html": [
       "<div>\n",
       "<style scoped>\n",
       "    .dataframe tbody tr th:only-of-type {\n",
       "        vertical-align: middle;\n",
       "    }\n",
       "\n",
       "    .dataframe tbody tr th {\n",
       "        vertical-align: top;\n",
       "    }\n",
       "\n",
       "    .dataframe thead th {\n",
       "        text-align: right;\n",
       "    }\n",
       "</style>\n",
       "<table border=\"1\" class=\"dataframe\">\n",
       "  <thead>\n",
       "    <tr style=\"text-align: right;\">\n",
       "      <th></th>\n",
       "      <th>gpsDateTime</th>\n",
       "      <th>gpsLong</th>\n",
       "      <th>gpsLat</th>\n",
       "      <th>gpsAltitude</th>\n",
       "    </tr>\n",
       "  </thead>\n",
       "  <tbody>\n",
       "    <tr>\n",
       "      <th>0</th>\n",
       "      <td>2014-09-08 05:54:00</td>\n",
       "      <td>68.307333</td>\n",
       "      <td>70.854717</td>\n",
       "      <td>0.000</td>\n",
       "    </tr>\n",
       "    <tr>\n",
       "      <th>1</th>\n",
       "      <td>2014-09-08 06:10:00</td>\n",
       "      <td>67.975050</td>\n",
       "      <td>70.830300</td>\n",
       "      <td>0.406</td>\n",
       "    </tr>\n",
       "    <tr>\n",
       "      <th>2</th>\n",
       "      <td>2014-09-08 06:26:00</td>\n",
       "      <td>67.752417</td>\n",
       "      <td>70.761717</td>\n",
       "      <td>0.498</td>\n",
       "    </tr>\n",
       "    <tr>\n",
       "      <th>3</th>\n",
       "      <td>2014-09-08 06:42:00</td>\n",
       "      <td>67.561983</td>\n",
       "      <td>70.686517</td>\n",
       "      <td>0.787</td>\n",
       "    </tr>\n",
       "    <tr>\n",
       "      <th>4</th>\n",
       "      <td>2014-09-08 07:14:00</td>\n",
       "      <td>67.548317</td>\n",
       "      <td>70.685450</td>\n",
       "      <td>0.337</td>\n",
       "    </tr>\n",
       "  </tbody>\n",
       "</table>\n",
       "</div>"
      ],
      "text/plain": [
       "          gpsDateTime    gpsLong     gpsLat  gpsAltitude\n",
       "0 2014-09-08 05:54:00  68.307333  70.854717        0.000\n",
       "1 2014-09-08 06:10:00  67.975050  70.830300        0.406\n",
       "2 2014-09-08 06:26:00  67.752417  70.761717        0.498\n",
       "3 2014-09-08 06:42:00  67.561983  70.686517        0.787\n",
       "4 2014-09-08 07:14:00  67.548317  70.685450        0.337"
      ]
     },
     "execution_count": 5,
     "metadata": {},
     "output_type": "execute_result"
    }
   ],
   "source": [
    "# Calling the previous function to get the track as a pandas Dataframe and renaming the columns.\n",
    "GPSData = getGPSData()\n",
    "GPSData.rename(columns={Lat: 'gpsLat', Long: 'gpsLong', DateTime: 'gpsDateTime', altitude: 'gpsAltitude'}, inplace = True)\n",
    "GPSData.head()"
   ]
  },
  {
   "cell_type": "markdown",
   "metadata": {},
   "source": [
    "Setting the date and time attributes for the required format and computing the epoch column. Values like Maximum and Minimun Date and time are also calculated."
   ]
  },
  {
   "cell_type": "code",
   "execution_count": 6,
   "metadata": {
    "ExecuteTime": {
     "end_time": "2020-10-29T20:14:27.758242Z",
     "start_time": "2020-10-29T20:14:27.576259Z"
    }
   },
   "outputs": [
    {
     "data": {
      "text/html": [
       "<div>\n",
       "<style scoped>\n",
       "    .dataframe tbody tr th:only-of-type {\n",
       "        vertical-align: middle;\n",
       "    }\n",
       "\n",
       "    .dataframe tbody tr th {\n",
       "        vertical-align: top;\n",
       "    }\n",
       "\n",
       "    .dataframe thead th {\n",
       "        text-align: right;\n",
       "    }\n",
       "</style>\n",
       "<table border=\"1\" class=\"dataframe\">\n",
       "  <thead>\n",
       "    <tr style=\"text-align: right;\">\n",
       "      <th></th>\n",
       "      <th>gpsDateTime</th>\n",
       "      <th>gpsLong</th>\n",
       "      <th>gpsLat</th>\n",
       "      <th>gpsAltitude</th>\n",
       "      <th>epoch</th>\n",
       "      <th>dates</th>\n",
       "      <th>times</th>\n",
       "    </tr>\n",
       "  </thead>\n",
       "  <tbody>\n",
       "    <tr>\n",
       "      <th>0</th>\n",
       "      <td>2014-09-08 05:54:00</td>\n",
       "      <td>68.307333</td>\n",
       "      <td>70.854717</td>\n",
       "      <td>0.000</td>\n",
       "      <td>1410155640</td>\n",
       "      <td>2014-09-08</td>\n",
       "      <td>05:54:00</td>\n",
       "    </tr>\n",
       "    <tr>\n",
       "      <th>1</th>\n",
       "      <td>2014-09-08 06:10:00</td>\n",
       "      <td>67.975050</td>\n",
       "      <td>70.830300</td>\n",
       "      <td>0.406</td>\n",
       "      <td>1410156600</td>\n",
       "      <td>2014-09-08</td>\n",
       "      <td>06:10:00</td>\n",
       "    </tr>\n",
       "    <tr>\n",
       "      <th>2</th>\n",
       "      <td>2014-09-08 06:26:00</td>\n",
       "      <td>67.752417</td>\n",
       "      <td>70.761717</td>\n",
       "      <td>0.498</td>\n",
       "      <td>1410157560</td>\n",
       "      <td>2014-09-08</td>\n",
       "      <td>06:26:00</td>\n",
       "    </tr>\n",
       "    <tr>\n",
       "      <th>3</th>\n",
       "      <td>2014-09-08 06:42:00</td>\n",
       "      <td>67.561983</td>\n",
       "      <td>70.686517</td>\n",
       "      <td>0.787</td>\n",
       "      <td>1410158520</td>\n",
       "      <td>2014-09-08</td>\n",
       "      <td>06:42:00</td>\n",
       "    </tr>\n",
       "    <tr>\n",
       "      <th>4</th>\n",
       "      <td>2014-09-08 07:14:00</td>\n",
       "      <td>67.548317</td>\n",
       "      <td>70.685450</td>\n",
       "      <td>0.337</td>\n",
       "      <td>1410160440</td>\n",
       "      <td>2014-09-08</td>\n",
       "      <td>07:14:00</td>\n",
       "    </tr>\n",
       "  </tbody>\n",
       "</table>\n",
       "</div>"
      ],
      "text/plain": [
       "          gpsDateTime    gpsLong     gpsLat  gpsAltitude       epoch  \\\n",
       "0 2014-09-08 05:54:00  68.307333  70.854717        0.000  1410155640   \n",
       "1 2014-09-08 06:10:00  67.975050  70.830300        0.406  1410156600   \n",
       "2 2014-09-08 06:26:00  67.752417  70.761717        0.498  1410157560   \n",
       "3 2014-09-08 06:42:00  67.561983  70.686517        0.787  1410158520   \n",
       "4 2014-09-08 07:14:00  67.548317  70.685450        0.337  1410160440   \n",
       "\n",
       "        dates     times  \n",
       "0  2014-09-08  05:54:00  \n",
       "1  2014-09-08  06:10:00  \n",
       "2  2014-09-08  06:26:00  \n",
       "3  2014-09-08  06:42:00  \n",
       "4  2014-09-08  07:14:00  "
      ]
     },
     "execution_count": 6,
     "metadata": {},
     "output_type": "execute_result"
    }
   ],
   "source": [
    "# Convert the gpsDateTime to datetime python object\n",
    "GPSData['gpsDateTime'] = pd.to_datetime(GPSData['gpsDateTime'], format='%d/%m/%Y %H:%M:%S')\n",
    "GPSData['gpsDateTime'] = GPSData['gpsDateTime'].map(lambda x: x.replace(second=0))\n",
    "GPSData['gpsLat'] = GPSData['gpsLat'].astype(float)\n",
    "GPSData['gpsLong'] = GPSData['gpsLong'].astype(float)\n",
    "# Adding new column epoch, will be usefuel to compare the date&time o each gps point agains the gathered swmarm data points\n",
    "GPSData['epoch'] = GPSData['gpsDateTime'].astype('int64')//1e9\n",
    "GPSData['epoch'] = GPSData['epoch'].astype(int)\n",
    "# Computing Date and Time columns\n",
    "GPSData['dates'] = GPSData['gpsDateTime'].dt.date\n",
    "GPSData['times'] = GPSData['gpsDateTime'].dt.time\n",
    "# Maximum and Minimum values\n",
    "MinDateTime = min(GPSData['gpsDateTime'])\n",
    "MaxDateTime = max(GPSData['gpsDateTime'])\n",
    "dt_object1 = MinDateTime.to_pydatetime()\n",
    "dt_object2 = MaxDateTime.to_pydatetime()\n",
    "startDate = MinDateTime.date()\n",
    "endDate = MaxDateTime.date()\n",
    "MinTime=MinDateTime.time()\n",
    "MaxTime=MaxDateTime.time()\n",
    "GPSData.head()"
   ]
  },
  {
   "cell_type": "markdown",
   "metadata": {},
   "source": [
    "## Validate the right amount of Swarm measures\n",
    "\n",
    "The following loop is identifiying the time and validating if the time is less than 4:00 hours and more than 20:00 hours to bring one extra day of data. The result of this validation is written in an empty python list which will be later validated to get the unique dates. This avoids duplicate downloading of data for the same day and reduces overall computational time."
   ]
  },
  {
   "cell_type": "code",
   "execution_count": 7,
   "metadata": {
    "ExecuteTime": {
     "end_time": "2020-10-29T20:14:33.658671Z",
     "start_time": "2020-10-29T20:14:33.081648Z"
    }
   },
   "outputs": [],
   "source": [
    "datestimeslist = []\n",
    "for index, row in GPSData.iterrows():\n",
    "    datetimerow  = row['gpsDateTime']\n",
    "    daterow = row['dates']\n",
    "    hourrow = row['times']\n",
    "    hourrow = hourrow.strftime('%H:%M:%S')\n",
    "    if hourrow < '04:00:00':\n",
    "        date_bfr = daterow - (timedelta(days=1))\n",
    "        datestimeslist.append(daterow)\n",
    "        datestimeslist.append(date_bfr)\n",
    "    if hourrow > '20:00:00':\n",
    "        Date_aft = daterow + (timedelta(days=1))\n",
    "        datestimeslist.append(daterow)\n",
    "        datestimeslist.append(Date_aft)  \n",
    "    else:\n",
    "        datestimeslist.append(daterow)"
   ]
  },
  {
   "cell_type": "markdown",
   "metadata": {},
   "source": [
    "Getting a list of unique dates to download the Swarm Data"
   ]
  },
  {
   "cell_type": "code",
   "execution_count": 8,
   "metadata": {
    "ExecuteTime": {
     "end_time": "2020-10-29T20:14:36.220439Z",
     "start_time": "2020-10-29T20:14:36.193437Z"
    }
   },
   "outputs": [
    {
     "data": {
      "text/plain": [
       "array([datetime.date(2014, 8, 18), datetime.date(2014, 8, 19),\n",
       "       datetime.date(2014, 8, 25), datetime.date(2014, 8, 26),\n",
       "       datetime.date(2014, 8, 27), datetime.date(2014, 8, 28),\n",
       "       datetime.date(2014, 8, 29), datetime.date(2014, 8, 30),\n",
       "       datetime.date(2014, 8, 31), datetime.date(2014, 9, 3),\n",
       "       datetime.date(2014, 9, 5), datetime.date(2014, 9, 6),\n",
       "       datetime.date(2014, 9, 8), datetime.date(2014, 9, 13),\n",
       "       datetime.date(2014, 9, 14), datetime.date(2014, 9, 15),\n",
       "       datetime.date(2014, 9, 17), datetime.date(2014, 9, 18),\n",
       "       datetime.date(2014, 9, 19), datetime.date(2014, 9, 20),\n",
       "       datetime.date(2014, 9, 21), datetime.date(2014, 9, 22),\n",
       "       datetime.date(2014, 9, 23), datetime.date(2014, 9, 24),\n",
       "       datetime.date(2014, 9, 25), datetime.date(2014, 9, 26),\n",
       "       datetime.date(2014, 9, 27), datetime.date(2014, 9, 29),\n",
       "       datetime.date(2014, 9, 30), datetime.date(2014, 10, 1),\n",
       "       datetime.date(2014, 10, 2), datetime.date(2014, 10, 3),\n",
       "       datetime.date(2014, 10, 4), datetime.date(2014, 10, 5),\n",
       "       datetime.date(2014, 10, 6), datetime.date(2014, 10, 10),\n",
       "       datetime.date(2014, 10, 13), datetime.date(2014, 10, 14),\n",
       "       datetime.date(2014, 10, 15), datetime.date(2014, 10, 22),\n",
       "       datetime.date(2014, 10, 23), datetime.date(2014, 10, 24)],\n",
       "      dtype=object)"
      ]
     },
     "execution_count": 8,
     "metadata": {},
     "output_type": "execute_result"
    }
   ],
   "source": [
    "def uniquelistdates(list): \n",
    "    x = np.array(list) \n",
    "    uniquelist = np.unique(x)\n",
    "    return uniquelist\n",
    "\n",
    "uniquelist_dates = uniquelistdates(datestimeslist)\n",
    "uniquelist_dates"
   ]
  },
  {
   "cell_type": "markdown",
   "metadata": {},
   "source": [
    "## Download Swarm residuals data\n",
    "\n",
    "Once the date and time columns have been defined and the unique dates are identified the script can start the download process. Usually the data from Swarm is requested using only one satellite, however **MagGeo** will use the magnetic measures from the three satellite of the Swarm Mission. \n",
    "\n",
    "The **VirES client API**, requires a token. You can visit https://vires.services/ to get your own token. We highly recommend to use your own token to run the script to annotate your own GPS tracks. ##SHOULDNT THIS INFORMATION BE AT THE TOP WHERE YOU HAVE TO INPUT YOUR TOKEN!##\n",
    "\n",
    "<div class=\"alert alert-info\" role=\"alert\">\n",
    "📘 <strong>Be aware:</strong> Due to the amount of dates in the demo GPS track (42 days), the time to process the sample data will take approximately 10 minutes.</div>\n",
    "\n",
    "Set a connection to the <code>VirES client</code> and using the function <code>Get_Swarm_residuals</code> we will get the swarm residuals for the dates included in the previous list."
   ]
  },
  {
   "cell_type": "code",
   "execution_count": null,
   "metadata": {
    "ExecuteTime": {
     "end_time": "2020-10-29T20:40:53.939666Z",
     "start_time": "2020-10-29T20:30:33.253158Z"
    },
    "scrolled": false
   },
   "outputs": [],
   "source": [
    "%%time\n",
    "\n",
    "from MagGeoFunctions import Get_Swarm_residuals\n",
    "\n",
    "hours_t_day = 24\n",
    "hours_added = datetime.timedelta(hours = hours_t_day)\n",
    "\n",
    "listdfa = []\n",
    "listdfb = []\n",
    "listdfc = []\n",
    "\n",
    "cc = ClientConfig()\n",
    "cc.set_site_config(\"https://vires.services/ows\", token=VirESToken)\n",
    "cc.default_url = \"https://vires.services/ows\"\n",
    "cc.save()\n",
    "\n",
    "for d in uniquelist_dates:\n",
    "    print(\"Process for:\",d,\":\" )\n",
    "    startdate = datetime.datetime.combine(d, datetime.datetime.min.time())\n",
    "    enddate = startdate + hours_added\n",
    "    SwarmResidualsA,SwarmResidualsB,SwarmResidualsC = Get_Swarm_residuals(startdate, enddate)\n",
    "    listdfa.append(SwarmResidualsA)\n",
    "    listdfb.append(SwarmResidualsB)\n",
    "    listdfc.append(SwarmResidualsC)"
   ]
  },
  {
   "cell_type": "markdown",
   "metadata": {},
   "source": [
    "Integrate the previous list for all dates, into pandas dataframes"
   ]
  },
  {
   "cell_type": "code",
   "execution_count": 11,
   "metadata": {
    "ExecuteTime": {
     "end_time": "2020-10-29T20:40:54.321667Z",
     "start_time": "2020-10-29T20:40:53.946657Z"
    }
   },
   "outputs": [
    {
     "data": {
      "text/html": [
       "<div>\n",
       "<style scoped>\n",
       "    .dataframe tbody tr th:only-of-type {\n",
       "        vertical-align: middle;\n",
       "    }\n",
       "\n",
       "    .dataframe tbody tr th {\n",
       "        vertical-align: top;\n",
       "    }\n",
       "\n",
       "    .dataframe thead th {\n",
       "        text-align: right;\n",
       "    }\n",
       "</style>\n",
       "<table border=\"1\" class=\"dataframe\">\n",
       "  <thead>\n",
       "    <tr style=\"text-align: right;\">\n",
       "      <th></th>\n",
       "      <th>Radius</th>\n",
       "      <th>Latitude</th>\n",
       "      <th>Kp</th>\n",
       "      <th>Longitude</th>\n",
       "      <th>Spacecraft</th>\n",
       "      <th>F_res_CHAOS_MCO_MLI_MMA</th>\n",
       "      <th>N_res</th>\n",
       "      <th>E_res</th>\n",
       "      <th>C_res</th>\n",
       "      <th>timestamp</th>\n",
       "    </tr>\n",
       "    <tr>\n",
       "      <th>epoch</th>\n",
       "      <th></th>\n",
       "      <th></th>\n",
       "      <th></th>\n",
       "      <th></th>\n",
       "      <th></th>\n",
       "      <th></th>\n",
       "      <th></th>\n",
       "      <th></th>\n",
       "      <th></th>\n",
       "      <th></th>\n",
       "    </tr>\n",
       "  </thead>\n",
       "  <tbody>\n",
       "    <tr>\n",
       "      <th>1408320000</th>\n",
       "      <td>6832723.53</td>\n",
       "      <td>66.843847</td>\n",
       "      <td>1.0</td>\n",
       "      <td>-134.672531</td>\n",
       "      <td>A</td>\n",
       "      <td>6.514502</td>\n",
       "      <td>-2.818325</td>\n",
       "      <td>9.260076</td>\n",
       "      <td>6.498977</td>\n",
       "      <td>2014-08-18 00:00:00</td>\n",
       "    </tr>\n",
       "    <tr>\n",
       "      <th>1408320060</th>\n",
       "      <td>6832377.42</td>\n",
       "      <td>70.654918</td>\n",
       "      <td>0.7</td>\n",
       "      <td>-133.562740</td>\n",
       "      <td>A</td>\n",
       "      <td>2.395450</td>\n",
       "      <td>-29.732619</td>\n",
       "      <td>34.448506</td>\n",
       "      <td>4.319175</td>\n",
       "      <td>2014-08-18 00:01:00</td>\n",
       "    </tr>\n",
       "    <tr>\n",
       "      <th>1408320120</th>\n",
       "      <td>6832096.43</td>\n",
       "      <td>74.451293</td>\n",
       "      <td>0.7</td>\n",
       "      <td>-131.817227</td>\n",
       "      <td>A</td>\n",
       "      <td>-6.841385</td>\n",
       "      <td>-72.881573</td>\n",
       "      <td>62.656630</td>\n",
       "      <td>-3.129330</td>\n",
       "      <td>2014-08-18 00:02:00</td>\n",
       "    </tr>\n",
       "    <tr>\n",
       "      <th>1408320180</th>\n",
       "      <td>6831883.56</td>\n",
       "      <td>78.218581</td>\n",
       "      <td>0.7</td>\n",
       "      <td>-128.828006</td>\n",
       "      <td>A</td>\n",
       "      <td>-13.353861</td>\n",
       "      <td>-149.117239</td>\n",
       "      <td>86.436650</td>\n",
       "      <td>-8.007169</td>\n",
       "      <td>2014-08-18 00:03:00</td>\n",
       "    </tr>\n",
       "    <tr>\n",
       "      <th>1408320240</th>\n",
       "      <td>6831741.03</td>\n",
       "      <td>81.915833</td>\n",
       "      <td>0.7</td>\n",
       "      <td>-122.893911</td>\n",
       "      <td>A</td>\n",
       "      <td>-41.131992</td>\n",
       "      <td>4.893830</td>\n",
       "      <td>2.873999</td>\n",
       "      <td>-41.353059</td>\n",
       "      <td>2014-08-18 00:04:00</td>\n",
       "    </tr>\n",
       "  </tbody>\n",
       "</table>\n",
       "</div>"
      ],
      "text/plain": [
       "                Radius   Latitude   Kp   Longitude Spacecraft  \\\n",
       "epoch                                                           \n",
       "1408320000  6832723.53  66.843847  1.0 -134.672531          A   \n",
       "1408320060  6832377.42  70.654918  0.7 -133.562740          A   \n",
       "1408320120  6832096.43  74.451293  0.7 -131.817227          A   \n",
       "1408320180  6831883.56  78.218581  0.7 -128.828006          A   \n",
       "1408320240  6831741.03  81.915833  0.7 -122.893911          A   \n",
       "\n",
       "            F_res_CHAOS_MCO_MLI_MMA       N_res      E_res      C_res  \\\n",
       "epoch                                                                   \n",
       "1408320000                 6.514502   -2.818325   9.260076   6.498977   \n",
       "1408320060                 2.395450  -29.732619  34.448506   4.319175   \n",
       "1408320120                -6.841385  -72.881573  62.656630  -3.129330   \n",
       "1408320180               -13.353861 -149.117239  86.436650  -8.007169   \n",
       "1408320240               -41.131992    4.893830   2.873999 -41.353059   \n",
       "\n",
       "                     timestamp  \n",
       "epoch                           \n",
       "1408320000 2014-08-18 00:00:00  \n",
       "1408320060 2014-08-18 00:01:00  \n",
       "1408320120 2014-08-18 00:02:00  \n",
       "1408320180 2014-08-18 00:03:00  \n",
       "1408320240 2014-08-18 00:04:00  "
      ]
     },
     "execution_count": 11,
     "metadata": {},
     "output_type": "execute_result"
    }
   ],
   "source": [
    "TotalSwarmRes_A = pd.concat(listdfa, join='outer', axis=0)\n",
    "TotalSwarmRes_B = pd.concat(listdfb, join='outer', axis=0)\n",
    "TotalSwarmRes_C = pd.concat(listdfc, join='outer', axis=0)\n",
    "TotalSwarmRes_A.head()"
   ]
  },
  {
   "cell_type": "markdown",
   "metadata": {},
   "source": [
    "## Write the requested data in Disk, to be used into the requeried functions\n",
    "\n",
    "We will temporally saved the previous results to being used in the following functions."
   ]
  },
  {
   "cell_type": "code",
   "execution_count": 12,
   "metadata": {
    "ExecuteTime": {
     "end_time": "2020-10-29T20:41:01.254777Z",
     "start_time": "2020-10-29T20:40:54.331680Z"
    }
   },
   "outputs": [],
   "source": [
    "TotalSwarmRes_A.to_csv ('TotalSwarmRes_A.csv', header=True)\n",
    "TotalSwarmRes_B.to_csv ('TotalSwarmRes_B.csv', header=True)\n",
    "TotalSwarmRes_C.to_csv ('TotalSwarmRes_C.csv', header=True)"
   ]
  },
  {
   "cell_type": "markdown",
   "metadata": {},
   "source": [
    "## Spatio-Temporal filter and interpolation process (ST-IDW) \n",
    "\n",
    "Once we have requested the swarm data, now we need to `filter` in space and time the available points to compute the magnetic values (NEC frame) for each GPS point based on its particular date and time. The function <code>ST_IDW_Process</code> takes the GPS track and the downloaded data from swarm to filter in space and time based on the criteria defined in our method. With the swarm data filtered we interpolate (IDW) the NEC components for each GPS data point."
   ]
  },
  {
   "cell_type": "code",
   "execution_count": null,
   "metadata": {
    "ExecuteTime": {
     "end_time": "2020-10-29T20:53:27.603703Z",
     "start_time": "2020-10-29T20:51:59.451531Z"
    },
    "scrolled": true
   },
   "outputs": [],
   "source": [
    "%%time\n",
    "\n",
    "from MagGeoFunctions import ST_IDW_Process\n",
    "\n",
    "#Sequential mode, applying a traditional loop using iterrows.\n",
    "if __name__ == '__main__':\n",
    "    dn = [] ## List used to add all the GPS points with the annotated MAG Data. See the last bullet point of this process        \n",
    "    for index, row in GPSData.iterrows():\n",
    "        GPSLat = row['gpsLat']\n",
    "        GPSLong = row['gpsLong']\n",
    "        GPSDateTime = row['gpsDateTime']\n",
    "        GPSTime = row['epoch']\n",
    "        GPSAltitude = row['gpsAltitude']\n",
    "        print(\"Process for:\", index,\"DateTime:\",GPSDateTime)\n",
    "        try:\n",
    "            result=ST_IDW_Process(GPSLat,GPSLong,GPSAltitude, GPSDateTime,GPSTime)\n",
    "            dn.append(result)\n",
    "        except:\n",
    "            print(\"Ups!.That was a bad Swarm Point, let's keep working with the next point\")\n",
    "            result_badPoint= {'Latitude': GPSLat, 'Longitude': GPSLong, 'Altitude':GPSAltitude, 'DateTime': GPSDateTime, 'N_res': np.nan, 'E_res': np.nan, 'C_res':np.nan, 'TotalPoints':0, 'Minimum_Distance':np.nan, 'Average_Distance':np.nan}  \n",
    "            dn.append(result_badPoint)\n",
    "            continue"
   ]
  },
  {
   "cell_type": "code",
   "execution_count": 23,
   "metadata": {
    "ExecuteTime": {
     "end_time": "2020-10-29T20:53:33.262838Z",
     "start_time": "2020-10-29T20:53:33.100850Z"
    }
   },
   "outputs": [
    {
     "data": {
      "text/html": [
       "<div>\n",
       "<style scoped>\n",
       "    .dataframe tbody tr th:only-of-type {\n",
       "        vertical-align: middle;\n",
       "    }\n",
       "\n",
       "    .dataframe tbody tr th {\n",
       "        vertical-align: top;\n",
       "    }\n",
       "\n",
       "    .dataframe thead th {\n",
       "        text-align: right;\n",
       "    }\n",
       "</style>\n",
       "<table border=\"1\" class=\"dataframe\">\n",
       "  <thead>\n",
       "    <tr style=\"text-align: right;\">\n",
       "      <th></th>\n",
       "      <th>Latitude</th>\n",
       "      <th>Longitude</th>\n",
       "      <th>Altitude</th>\n",
       "      <th>DateTime</th>\n",
       "      <th>N_res</th>\n",
       "      <th>E_res</th>\n",
       "      <th>C_res</th>\n",
       "      <th>TotalPoints</th>\n",
       "      <th>Minimum_Distance</th>\n",
       "      <th>Average_Distance</th>\n",
       "      <th>Kp</th>\n",
       "    </tr>\n",
       "  </thead>\n",
       "  <tbody>\n",
       "    <tr>\n",
       "      <th>0</th>\n",
       "      <td>70.854717</td>\n",
       "      <td>68.307333</td>\n",
       "      <td>0.000</td>\n",
       "      <td>2014-09-08 05:54:00</td>\n",
       "      <td>-13.675261</td>\n",
       "      <td>5.343588</td>\n",
       "      <td>2.351964</td>\n",
       "      <td>21</td>\n",
       "      <td>327.950987</td>\n",
       "      <td>626.701218</td>\n",
       "      <td>1.319048</td>\n",
       "    </tr>\n",
       "    <tr>\n",
       "      <th>1</th>\n",
       "      <td>70.830300</td>\n",
       "      <td>67.975050</td>\n",
       "      <td>0.406</td>\n",
       "      <td>2014-09-08 06:10:00</td>\n",
       "      <td>-13.292778</td>\n",
       "      <td>4.828641</td>\n",
       "      <td>2.389016</td>\n",
       "      <td>21</td>\n",
       "      <td>340.038476</td>\n",
       "      <td>628.953831</td>\n",
       "      <td>1.319048</td>\n",
       "    </tr>\n",
       "    <tr>\n",
       "      <th>2</th>\n",
       "      <td>70.761717</td>\n",
       "      <td>67.752417</td>\n",
       "      <td>0.498</td>\n",
       "      <td>2014-09-08 06:26:00</td>\n",
       "      <td>-10.962772</td>\n",
       "      <td>4.584038</td>\n",
       "      <td>1.856383</td>\n",
       "      <td>26</td>\n",
       "      <td>348.223318</td>\n",
       "      <td>656.804069</td>\n",
       "      <td>1.200000</td>\n",
       "    </tr>\n",
       "    <tr>\n",
       "      <th>3</th>\n",
       "      <td>70.686517</td>\n",
       "      <td>67.561983</td>\n",
       "      <td>0.787</td>\n",
       "      <td>2014-09-08 06:42:00</td>\n",
       "      <td>-10.413691</td>\n",
       "      <td>3.956717</td>\n",
       "      <td>1.878997</td>\n",
       "      <td>26</td>\n",
       "      <td>355.472899</td>\n",
       "      <td>657.901776</td>\n",
       "      <td>1.200000</td>\n",
       "    </tr>\n",
       "    <tr>\n",
       "      <th>4</th>\n",
       "      <td>70.685450</td>\n",
       "      <td>67.548317</td>\n",
       "      <td>0.337</td>\n",
       "      <td>2014-09-08 07:14:00</td>\n",
       "      <td>-9.343505</td>\n",
       "      <td>2.888716</td>\n",
       "      <td>1.878803</td>\n",
       "      <td>26</td>\n",
       "      <td>355.980432</td>\n",
       "      <td>657.921513</td>\n",
       "      <td>1.200000</td>\n",
       "    </tr>\n",
       "  </tbody>\n",
       "</table>\n",
       "</div>"
      ],
      "text/plain": [
       "    Latitude  Longitude  Altitude            DateTime      N_res     E_res  \\\n",
       "0  70.854717  68.307333     0.000 2014-09-08 05:54:00 -13.675261  5.343588   \n",
       "1  70.830300  67.975050     0.406 2014-09-08 06:10:00 -13.292778  4.828641   \n",
       "2  70.761717  67.752417     0.498 2014-09-08 06:26:00 -10.962772  4.584038   \n",
       "3  70.686517  67.561983     0.787 2014-09-08 06:42:00 -10.413691  3.956717   \n",
       "4  70.685450  67.548317     0.337 2014-09-08 07:14:00  -9.343505  2.888716   \n",
       "\n",
       "      C_res  TotalPoints  Minimum_Distance  Average_Distance        Kp  \n",
       "0  2.351964           21        327.950987        626.701218  1.319048  \n",
       "1  2.389016           21        340.038476        628.953831  1.319048  \n",
       "2  1.856383           26        348.223318        656.804069  1.200000  \n",
       "3  1.878997           26        355.472899        657.901776  1.200000  \n",
       "4  1.878803           26        355.980432        657.921513  1.200000  "
      ]
     },
     "execution_count": 23,
     "metadata": {},
     "output_type": "execute_result"
    }
   ],
   "source": [
    "GPS_ResInt = pd.DataFrame(dn)\n",
    "GPS_ResInt.to_csv ('GPS_ResInt.csv', header=True)\n",
    "GPS_ResInt.head()"
   ]
  },
  {
   "cell_type": "markdown",
   "metadata": {},
   "source": [
    "## Ionospheric correction - Compute the magnetic components at the ground using CHAOS model\n",
    "\n",
    "The function <code>CHAOS_ground_values</code> is used to run the ionospheric correction. This correction requeries the magnetic components at the ground level using CHAOS (theta, phi, radial). This process also further conducts the rotation and transformation between a geocentric earth-based reference system (CHAOS) and geodetic earth-based reference system (GPS track). Once the corrected values are calculated the non-necesary columns are removed. For more information about this process go to the Main Notebook."
   ]
  },
  {
   "cell_type": "code",
   "execution_count": 24,
   "metadata": {
    "ExecuteTime": {
     "end_time": "2020-10-29T20:53:42.542932Z",
     "start_time": "2020-10-29T20:53:35.648911Z"
    }
   },
   "outputs": [
    {
     "name": "stdout",
     "output_type": "stream",
     "text": [
      "Wall time: 6.87 s\n"
     ]
    },
    {
     "data": {
      "text/html": [
       "<div>\n",
       "<style scoped>\n",
       "    .dataframe tbody tr th:only-of-type {\n",
       "        vertical-align: middle;\n",
       "    }\n",
       "\n",
       "    .dataframe tbody tr th {\n",
       "        vertical-align: top;\n",
       "    }\n",
       "\n",
       "    .dataframe thead th {\n",
       "        text-align: right;\n",
       "    }\n",
       "</style>\n",
       "<table border=\"1\" class=\"dataframe\">\n",
       "  <thead>\n",
       "    <tr style=\"text-align: right;\">\n",
       "      <th></th>\n",
       "      <th>Latitude</th>\n",
       "      <th>Longitude</th>\n",
       "      <th>Altitude</th>\n",
       "      <th>DateTime</th>\n",
       "      <th>TotalPoints</th>\n",
       "      <th>Minimum_Distance</th>\n",
       "      <th>Average_Distance</th>\n",
       "      <th>Kp</th>\n",
       "      <th>N</th>\n",
       "      <th>E</th>\n",
       "      <th>C</th>\n",
       "    </tr>\n",
       "  </thead>\n",
       "  <tbody>\n",
       "    <tr>\n",
       "      <th>0</th>\n",
       "      <td>70.854717</td>\n",
       "      <td>68.307333</td>\n",
       "      <td>0.000</td>\n",
       "      <td>2014-09-08 05:54:00</td>\n",
       "      <td>21</td>\n",
       "      <td>327.950987</td>\n",
       "      <td>626.701218</td>\n",
       "      <td>1.319048</td>\n",
       "      <td>6950.195375</td>\n",
       "      <td>3846.562150</td>\n",
       "      <td>57704.463629</td>\n",
       "    </tr>\n",
       "    <tr>\n",
       "      <th>1</th>\n",
       "      <td>70.830300</td>\n",
       "      <td>67.975050</td>\n",
       "      <td>0.406</td>\n",
       "      <td>2014-09-08 06:10:00</td>\n",
       "      <td>21</td>\n",
       "      <td>340.038476</td>\n",
       "      <td>628.953831</td>\n",
       "      <td>1.319048</td>\n",
       "      <td>6986.622060</td>\n",
       "      <td>3861.900714</td>\n",
       "      <td>57646.117115</td>\n",
       "    </tr>\n",
       "    <tr>\n",
       "      <th>2</th>\n",
       "      <td>70.761717</td>\n",
       "      <td>67.752417</td>\n",
       "      <td>0.498</td>\n",
       "      <td>2014-09-08 06:26:00</td>\n",
       "      <td>26</td>\n",
       "      <td>348.223318</td>\n",
       "      <td>656.804069</td>\n",
       "      <td>1.200000</td>\n",
       "      <td>7035.862674</td>\n",
       "      <td>3874.626421</td>\n",
       "      <td>57610.695473</td>\n",
       "    </tr>\n",
       "    <tr>\n",
       "      <th>3</th>\n",
       "      <td>70.686517</td>\n",
       "      <td>67.561983</td>\n",
       "      <td>0.787</td>\n",
       "      <td>2014-09-08 06:42:00</td>\n",
       "      <td>26</td>\n",
       "      <td>355.472899</td>\n",
       "      <td>657.901776</td>\n",
       "      <td>1.200000</td>\n",
       "      <td>7083.226913</td>\n",
       "      <td>3884.207475</td>\n",
       "      <td>57575.741152</td>\n",
       "    </tr>\n",
       "    <tr>\n",
       "      <th>4</th>\n",
       "      <td>70.685450</td>\n",
       "      <td>67.548317</td>\n",
       "      <td>0.337</td>\n",
       "      <td>2014-09-08 07:14:00</td>\n",
       "      <td>26</td>\n",
       "      <td>355.980432</td>\n",
       "      <td>657.921513</td>\n",
       "      <td>1.200000</td>\n",
       "      <td>7086.257042</td>\n",
       "      <td>3885.842751</td>\n",
       "      <td>57585.573172</td>\n",
       "    </tr>\n",
       "  </tbody>\n",
       "</table>\n",
       "</div>"
      ],
      "text/plain": [
       "    Latitude  Longitude  Altitude            DateTime  TotalPoints  \\\n",
       "0  70.854717  68.307333     0.000 2014-09-08 05:54:00           21   \n",
       "1  70.830300  67.975050     0.406 2014-09-08 06:10:00           21   \n",
       "2  70.761717  67.752417     0.498 2014-09-08 06:26:00           26   \n",
       "3  70.686517  67.561983     0.787 2014-09-08 06:42:00           26   \n",
       "4  70.685450  67.548317     0.337 2014-09-08 07:14:00           26   \n",
       "\n",
       "   Minimum_Distance  Average_Distance        Kp            N            E  \\\n",
       "0        327.950987        626.701218  1.319048  6950.195375  3846.562150   \n",
       "1        340.038476        628.953831  1.319048  6986.622060  3861.900714   \n",
       "2        348.223318        656.804069  1.200000  7035.862674  3874.626421   \n",
       "3        355.472899        657.901776  1.200000  7083.226913  3884.207475   \n",
       "4        355.980432        657.921513  1.200000  7086.257042  3885.842751   \n",
       "\n",
       "              C  \n",
       "0  57704.463629  \n",
       "1  57646.117115  \n",
       "2  57610.695473  \n",
       "3  57575.741152  \n",
       "4  57585.573172  "
      ]
     },
     "execution_count": 24,
     "metadata": {},
     "output_type": "execute_result"
    }
   ],
   "source": [
    "%%time\n",
    "from MagGeoFunctions import CHAOS_ground_values\n",
    "\n",
    "X_obs, Y_obs, Z_obs =CHAOS_ground_values(GPS_ResInt)\n",
    "GPS_ResInt['N'] =pd.Series(X_obs)\n",
    "GPS_ResInt['E'] =pd.Series(Y_obs)\n",
    "GPS_ResInt['C'] =pd.Series(Z_obs)\n",
    "GPS_ResInt.drop(columns=['N_res', 'E_res','C_res'], inplace=True)\n",
    "GPS_ResInt.head()"
   ]
  },
  {
   "cell_type": "markdown",
   "metadata": {},
   "source": [
    "##  The final result \n",
    "\n",
    "With the NEC components for each GPS Track point, it is possible to compute the aditional magnetic components. For more information about the magnetic components and their relevance go to the main paper or notebook.\n",
    "\n",
    "<div class=\"alert alert-info\" role=\"alert\">\n",
    "    <strong>📘 The annotated dataframe will include the following attributes:</strong> If you need more information about how the geomagnetic components are described go to the main MagGeo Notebook (Add Link).\n",
    "    <ul>\n",
    "      <li><strong>Latitude</strong> from the GPS Track.</li>\n",
    "      <li><strong>Longitude</strong> from the GPS Track.</li>\n",
    "      <li><strong>Timestamp</strong> from the GPS Track.</li>\n",
    "      <li><strong>Magnetic Field Intensity</strong>  mapped as Fgps in nanoTeslas (nT).</li>\n",
    "      <li><strong>N (Northwards) component</strong> mapped as N in nanoTeslas (nT).</li>\n",
    "      <li><strong>E (Eastwards) component</strong> mapped as E. in nanoteslas (nT).</li>\n",
    "      <li><strong>C (Downwards or Center)</strong> component mapped as C in nanoTeslas (nT).</li>\n",
    "      <li><strong>Horizontal component</strong> mapped as H in nanoTeslas (nT).</li>\n",
    "      <li><strong>Magnetic Inclination </strong> mapped as I in degrees.</li> \n",
    "      <li><strong>Magnetic Declination or dip angle</strong> mapped as D in degrees</li>\n",
    "      <li><strong>Kp Index</strong> mapped as kp</li>\n",
    "      <li><strong>Total Points</strong> as the amount of Swarm points included in the ST-IDW process from the three satellites.</li>\n",
    "      <li><strong>Minimum Distance</strong> mapped as MinDist, representing the minimum distance from a Swarm points and each GPS point location.</li>\n",
    "      <li><strong>Average Distance</strong> mapped as AvDist, representing the average distance between the Swarm points and the GPS point location.</li>\n",
    "    </ul>\n",
    "\n",
    "</div> "
   ]
  },
  {
   "cell_type": "code",
   "execution_count": 25,
   "metadata": {
    "ExecuteTime": {
     "end_time": "2020-10-29T20:53:45.630182Z",
     "start_time": "2020-10-29T20:53:45.528184Z"
    }
   },
   "outputs": [
    {
     "data": {
      "text/html": [
       "<div>\n",
       "<style scoped>\n",
       "    .dataframe tbody tr th:only-of-type {\n",
       "        vertical-align: middle;\n",
       "    }\n",
       "\n",
       "    .dataframe tbody tr th {\n",
       "        vertical-align: top;\n",
       "    }\n",
       "\n",
       "    .dataframe thead th {\n",
       "        text-align: right;\n",
       "    }\n",
       "</style>\n",
       "<table border=\"1\" class=\"dataframe\">\n",
       "  <thead>\n",
       "    <tr style=\"text-align: right;\">\n",
       "      <th></th>\n",
       "      <th>Latitude</th>\n",
       "      <th>Longitude</th>\n",
       "      <th>Altitude</th>\n",
       "      <th>DateTime</th>\n",
       "      <th>TotalPoints</th>\n",
       "      <th>Minimum_Distance</th>\n",
       "      <th>Average_Distance</th>\n",
       "      <th>Kp</th>\n",
       "      <th>N</th>\n",
       "      <th>E</th>\n",
       "      <th>C</th>\n",
       "      <th>H</th>\n",
       "      <th>D</th>\n",
       "      <th>I</th>\n",
       "      <th>F</th>\n",
       "    </tr>\n",
       "  </thead>\n",
       "  <tbody>\n",
       "    <tr>\n",
       "      <th>0</th>\n",
       "      <td>70.854717</td>\n",
       "      <td>68.307333</td>\n",
       "      <td>0.000</td>\n",
       "      <td>2014-09-08 05:54:00</td>\n",
       "      <td>21</td>\n",
       "      <td>327.950987</td>\n",
       "      <td>626.701218</td>\n",
       "      <td>1.319048</td>\n",
       "      <td>6950.195375</td>\n",
       "      <td>3846.562150</td>\n",
       "      <td>57704.463629</td>\n",
       "      <td>7943.629908</td>\n",
       "      <td>28.962187</td>\n",
       "      <td>82.161894</td>\n",
       "      <td>58248.659888</td>\n",
       "    </tr>\n",
       "    <tr>\n",
       "      <th>1</th>\n",
       "      <td>70.830300</td>\n",
       "      <td>67.975050</td>\n",
       "      <td>0.406</td>\n",
       "      <td>2014-09-08 06:10:00</td>\n",
       "      <td>21</td>\n",
       "      <td>340.038476</td>\n",
       "      <td>628.953831</td>\n",
       "      <td>1.319048</td>\n",
       "      <td>6986.622060</td>\n",
       "      <td>3861.900714</td>\n",
       "      <td>57646.117115</td>\n",
       "      <td>7982.929596</td>\n",
       "      <td>28.931908</td>\n",
       "      <td>82.115730</td>\n",
       "      <td>58196.236848</td>\n",
       "    </tr>\n",
       "    <tr>\n",
       "      <th>2</th>\n",
       "      <td>70.761717</td>\n",
       "      <td>67.752417</td>\n",
       "      <td>0.498</td>\n",
       "      <td>2014-09-08 06:26:00</td>\n",
       "      <td>26</td>\n",
       "      <td>348.223318</td>\n",
       "      <td>656.804069</td>\n",
       "      <td>1.200000</td>\n",
       "      <td>7035.862674</td>\n",
       "      <td>3874.626421</td>\n",
       "      <td>57610.695473</td>\n",
       "      <td>8032.191075</td>\n",
       "      <td>28.841432</td>\n",
       "      <td>82.062880</td>\n",
       "      <td>58167.932114</td>\n",
       "    </tr>\n",
       "    <tr>\n",
       "      <th>3</th>\n",
       "      <td>70.686517</td>\n",
       "      <td>67.561983</td>\n",
       "      <td>0.787</td>\n",
       "      <td>2014-09-08 06:42:00</td>\n",
       "      <td>26</td>\n",
       "      <td>355.472899</td>\n",
       "      <td>657.901776</td>\n",
       "      <td>1.200000</td>\n",
       "      <td>7083.226913</td>\n",
       "      <td>3884.207475</td>\n",
       "      <td>57575.741152</td>\n",
       "      <td>8078.314874</td>\n",
       "      <td>28.738907</td>\n",
       "      <td>82.013104</td>\n",
       "      <td>58139.703649</td>\n",
       "    </tr>\n",
       "    <tr>\n",
       "      <th>4</th>\n",
       "      <td>70.685450</td>\n",
       "      <td>67.548317</td>\n",
       "      <td>0.337</td>\n",
       "      <td>2014-09-08 07:14:00</td>\n",
       "      <td>26</td>\n",
       "      <td>355.980432</td>\n",
       "      <td>657.921513</td>\n",
       "      <td>1.200000</td>\n",
       "      <td>7086.257042</td>\n",
       "      <td>3885.842751</td>\n",
       "      <td>57585.573172</td>\n",
       "      <td>8081.758024</td>\n",
       "      <td>28.738744</td>\n",
       "      <td>82.011091</td>\n",
       "      <td>58149.918748</td>\n",
       "    </tr>\n",
       "  </tbody>\n",
       "</table>\n",
       "</div>"
      ],
      "text/plain": [
       "    Latitude  Longitude  Altitude            DateTime  TotalPoints  \\\n",
       "0  70.854717  68.307333     0.000 2014-09-08 05:54:00           21   \n",
       "1  70.830300  67.975050     0.406 2014-09-08 06:10:00           21   \n",
       "2  70.761717  67.752417     0.498 2014-09-08 06:26:00           26   \n",
       "3  70.686517  67.561983     0.787 2014-09-08 06:42:00           26   \n",
       "4  70.685450  67.548317     0.337 2014-09-08 07:14:00           26   \n",
       "\n",
       "   Minimum_Distance  Average_Distance        Kp            N            E  \\\n",
       "0        327.950987        626.701218  1.319048  6950.195375  3846.562150   \n",
       "1        340.038476        628.953831  1.319048  6986.622060  3861.900714   \n",
       "2        348.223318        656.804069  1.200000  7035.862674  3874.626421   \n",
       "3        355.472899        657.901776  1.200000  7083.226913  3884.207475   \n",
       "4        355.980432        657.921513  1.200000  7086.257042  3885.842751   \n",
       "\n",
       "              C            H          D          I             F  \n",
       "0  57704.463629  7943.629908  28.962187  82.161894  58248.659888  \n",
       "1  57646.117115  7982.929596  28.931908  82.115730  58196.236848  \n",
       "2  57610.695473  8032.191075  28.841432  82.062880  58167.932114  \n",
       "3  57575.741152  8078.314874  28.738907  82.013104  58139.703649  \n",
       "4  57585.573172  8081.758024  28.738744  82.011091  58149.918748  "
      ]
     },
     "execution_count": 25,
     "metadata": {},
     "output_type": "execute_result"
    }
   ],
   "source": [
    "# Having Intepolated and weighted the magnetic values, we can compute the other magnectic components. \n",
    "GPS_ResInt['H'] = np.sqrt((GPS_ResInt['N']**2)+(GPS_ResInt['E']**2))\n",
    "#check the arcgtan in python., From arctan2 is saver.\n",
    "DgpsRad = np.arctan2(GPS_ResInt['E'],GPS_ResInt['N'])\n",
    "GPS_ResInt['D'] = np.degrees(DgpsRad)\n",
    "IgpsRad = np.arctan2(GPS_ResInt['C'],GPS_ResInt['H'])\n",
    "GPS_ResInt['I'] = np.degrees(IgpsRad)\n",
    "GPS_ResInt['F'] = np.sqrt((GPS_ResInt['N']**2)+(GPS_ResInt['E']**2)+(GPS_ResInt['C']**2))\n",
    "GPS_ResInt.head()"
   ]
  },
  {
   "cell_type": "markdown",
   "metadata": {},
   "source": [
    "## Validate the results\n",
    "To validate the results we plot the `Fgps`column."
   ]
  },
  {
   "cell_type": "code",
   "execution_count": 26,
   "metadata": {
    "ExecuteTime": {
     "end_time": "2020-10-29T20:53:48.009023Z",
     "start_time": "2020-10-29T20:53:48.003023Z"
    }
   },
   "outputs": [],
   "source": [
    "## Creating a copy of the results and setting the Datetime Column as dataframe index.\n",
    "ValidateDF = GPS_ResInt.copy()\n",
    "ValidateDF.set_index(\"DateTime\", inplace=True)"
   ]
  },
  {
   "cell_type": "code",
   "execution_count": 27,
   "metadata": {
    "ExecuteTime": {
     "end_time": "2020-10-29T20:53:49.991066Z",
     "start_time": "2020-10-29T20:53:49.317063Z"
    }
   },
   "outputs": [
    {
     "data": {
      "image/png": "[encoded data removed]",
      "text/plain": [
       "<Figure size 432x288 with 1 Axes>"
      ]
     },
     "metadata": {
      "needs_background": "light"
     },
     "output_type": "display_data"
    }
   ],
   "source": [
    "## Plotting the F column.\n",
    "hist = ValidateDF.hist(column='F')"
   ]
  },
  {
   "cell_type": "markdown",
   "metadata": {},
   "source": [
    "## Optional: Map the GPS Track using the annotated Magnetic Values\n",
    "\n",
    "Now we are going to plot the annotated GPS track stored into the MagDataFinal dataframe to see the different magnetic components in a map to have a better prespective of the impact of the earth magnetic field."
   ]
  },
  {
   "cell_type": "code",
   "execution_count": 28,
   "metadata": {
    "ExecuteTime": {
     "end_time": "2020-10-29T20:53:53.748801Z",
     "start_time": "2020-10-29T20:53:52.097779Z"
    }
   },
   "outputs": [
    {
     "data": {
      "image/png": "[encoded data removed]",
      "text/plain": [
       "<Figure size 720x504 with 2 Axes>"
      ]
     },
     "metadata": {
      "needs_background": "light"
     },
     "output_type": "display_data"
    }
   ],
   "source": [
    "ValidateDF.plot(kind=\"scatter\", x=\"Latitude\", y=\"Longitude\",\n",
    "    label=\"Magnetic Intensity\",\n",
    "    c=\"F\", cmap=plt.get_cmap(\"gist_rainbow\"),\n",
    "    colorbar=True, alpha=0.4, figsize=(10,7)\n",
    "    \n",
    ")\n",
    "\n",
    "plt.ylabel(\"Longitude\", fontsize=12)\n",
    "plt.xlabel(\"Latitude\", fontsize=12)\n",
    "plt.legend(fontsize=12)\n",
    "plt.show()"
   ]
  },
  {
   "cell_type": "code",
   "execution_count": 29,
   "metadata": {
    "ExecuteTime": {
     "end_time": "2020-10-29T20:53:55.367620Z",
     "start_time": "2020-10-29T20:53:55.247620Z"
    }
   },
   "outputs": [
    {
     "data": {
      "text/html": [
       "<div>\n",
       "<style scoped>\n",
       "    .dataframe tbody tr th:only-of-type {\n",
       "        vertical-align: middle;\n",
       "    }\n",
       "\n",
       "    .dataframe tbody tr th {\n",
       "        vertical-align: top;\n",
       "    }\n",
       "\n",
       "    .dataframe thead th {\n",
       "        text-align: right;\n",
       "    }\n",
       "</style>\n",
       "<table border=\"1\" class=\"dataframe\">\n",
       "  <thead>\n",
       "    <tr style=\"text-align: right;\">\n",
       "      <th></th>\n",
       "      <th>Latitude</th>\n",
       "      <th>Longitude</th>\n",
       "      <th>Altitude</th>\n",
       "      <th>TotalPoints</th>\n",
       "      <th>Minimum_Distance</th>\n",
       "      <th>Average_Distance</th>\n",
       "      <th>Kp</th>\n",
       "      <th>N</th>\n",
       "      <th>E</th>\n",
       "      <th>C</th>\n",
       "      <th>H</th>\n",
       "      <th>D</th>\n",
       "      <th>I</th>\n",
       "      <th>F</th>\n",
       "      <th>geometry</th>\n",
       "    </tr>\n",
       "    <tr>\n",
       "      <th>DateTime</th>\n",
       "      <th></th>\n",
       "      <th></th>\n",
       "      <th></th>\n",
       "      <th></th>\n",
       "      <th></th>\n",
       "      <th></th>\n",
       "      <th></th>\n",
       "      <th></th>\n",
       "      <th></th>\n",
       "      <th></th>\n",
       "      <th></th>\n",
       "      <th></th>\n",
       "      <th></th>\n",
       "      <th></th>\n",
       "      <th></th>\n",
       "    </tr>\n",
       "  </thead>\n",
       "  <tbody>\n",
       "    <tr>\n",
       "      <th>2014-09-08 05:54:00</th>\n",
       "      <td>70.854717</td>\n",
       "      <td>68.307333</td>\n",
       "      <td>0.000</td>\n",
       "      <td>21</td>\n",
       "      <td>327.950987</td>\n",
       "      <td>626.701218</td>\n",
       "      <td>1.319048</td>\n",
       "      <td>6950.195375</td>\n",
       "      <td>3846.562150</td>\n",
       "      <td>57704.463629</td>\n",
       "      <td>7943.629908</td>\n",
       "      <td>28.962187</td>\n",
       "      <td>82.161894</td>\n",
       "      <td>58248.659888</td>\n",
       "      <td>POINT (68.30733 70.85472)</td>\n",
       "    </tr>\n",
       "    <tr>\n",
       "      <th>2014-09-08 06:10:00</th>\n",
       "      <td>70.830300</td>\n",
       "      <td>67.975050</td>\n",
       "      <td>0.406</td>\n",
       "      <td>21</td>\n",
       "      <td>340.038476</td>\n",
       "      <td>628.953831</td>\n",
       "      <td>1.319048</td>\n",
       "      <td>6986.622060</td>\n",
       "      <td>3861.900714</td>\n",
       "      <td>57646.117115</td>\n",
       "      <td>7982.929596</td>\n",
       "      <td>28.931908</td>\n",
       "      <td>82.115730</td>\n",
       "      <td>58196.236848</td>\n",
       "      <td>POINT (67.97505 70.83030)</td>\n",
       "    </tr>\n",
       "    <tr>\n",
       "      <th>2014-09-08 06:26:00</th>\n",
       "      <td>70.761717</td>\n",
       "      <td>67.752417</td>\n",
       "      <td>0.498</td>\n",
       "      <td>26</td>\n",
       "      <td>348.223318</td>\n",
       "      <td>656.804069</td>\n",
       "      <td>1.200000</td>\n",
       "      <td>7035.862674</td>\n",
       "      <td>3874.626421</td>\n",
       "      <td>57610.695473</td>\n",
       "      <td>8032.191075</td>\n",
       "      <td>28.841432</td>\n",
       "      <td>82.062880</td>\n",
       "      <td>58167.932114</td>\n",
       "      <td>POINT (67.75242 70.76172)</td>\n",
       "    </tr>\n",
       "    <tr>\n",
       "      <th>2014-09-08 06:42:00</th>\n",
       "      <td>70.686517</td>\n",
       "      <td>67.561983</td>\n",
       "      <td>0.787</td>\n",
       "      <td>26</td>\n",
       "      <td>355.472899</td>\n",
       "      <td>657.901776</td>\n",
       "      <td>1.200000</td>\n",
       "      <td>7083.226913</td>\n",
       "      <td>3884.207475</td>\n",
       "      <td>57575.741152</td>\n",
       "      <td>8078.314874</td>\n",
       "      <td>28.738907</td>\n",
       "      <td>82.013104</td>\n",
       "      <td>58139.703649</td>\n",
       "      <td>POINT (67.56198 70.68652)</td>\n",
       "    </tr>\n",
       "    <tr>\n",
       "      <th>2014-09-08 07:14:00</th>\n",
       "      <td>70.685450</td>\n",
       "      <td>67.548317</td>\n",
       "      <td>0.337</td>\n",
       "      <td>26</td>\n",
       "      <td>355.980432</td>\n",
       "      <td>657.921513</td>\n",
       "      <td>1.200000</td>\n",
       "      <td>7086.257042</td>\n",
       "      <td>3885.842751</td>\n",
       "      <td>57585.573172</td>\n",
       "      <td>8081.758024</td>\n",
       "      <td>28.738744</td>\n",
       "      <td>82.011091</td>\n",
       "      <td>58149.918748</td>\n",
       "      <td>POINT (67.54832 70.68545)</td>\n",
       "    </tr>\n",
       "  </tbody>\n",
       "</table>\n",
       "</div>"
      ],
      "text/plain": [
       "                      Latitude  Longitude  Altitude  TotalPoints  \\\n",
       "DateTime                                                           \n",
       "2014-09-08 05:54:00  70.854717  68.307333     0.000           21   \n",
       "2014-09-08 06:10:00  70.830300  67.975050     0.406           21   \n",
       "2014-09-08 06:26:00  70.761717  67.752417     0.498           26   \n",
       "2014-09-08 06:42:00  70.686517  67.561983     0.787           26   \n",
       "2014-09-08 07:14:00  70.685450  67.548317     0.337           26   \n",
       "\n",
       "                     Minimum_Distance  Average_Distance        Kp  \\\n",
       "DateTime                                                            \n",
       "2014-09-08 05:54:00        327.950987        626.701218  1.319048   \n",
       "2014-09-08 06:10:00        340.038476        628.953831  1.319048   \n",
       "2014-09-08 06:26:00        348.223318        656.804069  1.200000   \n",
       "2014-09-08 06:42:00        355.472899        657.901776  1.200000   \n",
       "2014-09-08 07:14:00        355.980432        657.921513  1.200000   \n",
       "\n",
       "                               N            E             C            H  \\\n",
       "DateTime                                                                   \n",
       "2014-09-08 05:54:00  6950.195375  3846.562150  57704.463629  7943.629908   \n",
       "2014-09-08 06:10:00  6986.622060  3861.900714  57646.117115  7982.929596   \n",
       "2014-09-08 06:26:00  7035.862674  3874.626421  57610.695473  8032.191075   \n",
       "2014-09-08 06:42:00  7083.226913  3884.207475  57575.741152  8078.314874   \n",
       "2014-09-08 07:14:00  7086.257042  3885.842751  57585.573172  8081.758024   \n",
       "\n",
       "                             D          I             F  \\\n",
       "DateTime                                                  \n",
       "2014-09-08 05:54:00  28.962187  82.161894  58248.659888   \n",
       "2014-09-08 06:10:00  28.931908  82.115730  58196.236848   \n",
       "2014-09-08 06:26:00  28.841432  82.062880  58167.932114   \n",
       "2014-09-08 06:42:00  28.738907  82.013104  58139.703649   \n",
       "2014-09-08 07:14:00  28.738744  82.011091  58149.918748   \n",
       "\n",
       "                                      geometry  \n",
       "DateTime                                        \n",
       "2014-09-08 05:54:00  POINT (68.30733 70.85472)  \n",
       "2014-09-08 06:10:00  POINT (67.97505 70.83030)  \n",
       "2014-09-08 06:26:00  POINT (67.75242 70.76172)  \n",
       "2014-09-08 06:42:00  POINT (67.56198 70.68652)  \n",
       "2014-09-08 07:14:00  POINT (67.54832 70.68545)  "
      ]
     },
     "execution_count": 29,
     "metadata": {},
     "output_type": "execute_result"
    }
   ],
   "source": [
    "import geopandas\n",
    "import geoplot\n",
    "gdf = geopandas.GeoDataFrame(ValidateDF, geometry=geopandas.points_from_xy(ValidateDF.Longitude, ValidateDF.Latitude))\n",
    "gdf.head()"
   ]
  },
  {
   "cell_type": "code",
   "execution_count": 30,
   "metadata": {
    "ExecuteTime": {
     "end_time": "2020-10-29T20:53:58.717194Z",
     "start_time": "2020-10-29T20:53:57.418192Z"
    }
   },
   "outputs": [
    {
     "data": {
      "image/png": "[encoded data removed]",
      "text/plain": [
       "<Figure size 864x864 with 2 Axes>"
      ]
     },
     "metadata": {
      "needs_background": "light"
     },
     "output_type": "display_data"
    }
   ],
   "source": [
    "world = geopandas.read_file(geopandas.datasets.get_path('naturalearth_lowres'))\n",
    "\n",
    "ax = world.plot(color='white', edgecolor='gray', figsize = (12,12))\n",
    "\n",
    "minx, miny, maxx, maxy = gdf.total_bounds\n",
    "ax.set_xlim(minx, maxx)\n",
    "ax.set_ylim(miny, maxy)\n",
    "\n",
    "gdf.plot(ax=ax, column='F', legend=True, \n",
    "         legend_kwds={'label': \"Magnetic Intensity in nT\",\n",
    "                      'orientation': \"horizontal\"})\n",
    "plt.ylabel(\"Longitude\", fontsize=9)\n",
    "plt.xlabel(\"Latitude\", fontsize=9)\n",
    "\n",
    "plt.show()"
   ]
  },
  {
   "cell_type": "code",
   "execution_count": 31,
   "metadata": {
    "ExecuteTime": {
     "end_time": "2020-10-29T20:54:03.535635Z",
     "start_time": "2020-10-29T20:54:00.073635Z"
    }
   },
   "outputs": [
    {
     "data": {
      "text/plain": [
       "Text(686.1045454545454, 0.5, 'Longitude')"
      ]
     },
     "execution_count": 31,
     "metadata": {},
     "output_type": "execute_result"
    },
    {
     "data": {
      "image/png": "[encoded data removed]",
      "text/plain": [
       "<Figure size 1296x576 with 4 Axes>"
      ]
     },
     "metadata": {
      "needs_background": "light"
     },
     "output_type": "display_data"
    }
   ],
   "source": [
    "fig, (ax1, ax2) = plt.subplots(ncols=2, figsize = (18,8))\n",
    "\n",
    "ax1 = world.plot(ax=ax1, color='white', edgecolor='black')\n",
    "xlim = ([gdf.total_bounds[0],  gdf.total_bounds[2]])\n",
    "ylim = ([gdf.total_bounds[1],  gdf.total_bounds[3]])\n",
    "ax1.set_xlim(xlim)\n",
    "ax1.set_ylim(ylim)\n",
    "\n",
    "\n",
    "gdf.plot(ax=ax1, column='F', legend=True,\n",
    "         legend_kwds={'label': \"Magnetic Intensity in nT\",\n",
    "                      'orientation': \"horizontal\"})\n",
    "plt.ylabel(\"Longitude\", fontsize=9)\n",
    "plt.xlabel(\"Latitude\", fontsize=9)\n",
    "ax1.set_title('Magnetic Intensity - F')\n",
    "ax1.set_xlabel('Latitude')\n",
    "ax1.set_ylabel('Longitude')\n",
    "\n",
    "\n",
    "ax2 = world.plot( ax=ax2, color='white', edgecolor='black')\n",
    "xlim = ([gdf.total_bounds[0],  gdf.total_bounds[2]])\n",
    "ylim = ([gdf.total_bounds[1],  gdf.total_bounds[3]])\n",
    "ax2.set_xlim(xlim)\n",
    "ax2.set_ylim(ylim)\n",
    "\n",
    "\n",
    "# We can now plot our ``GeoDataFrame``.\n",
    "gdf.plot(ax=ax2, column='I', legend=True, cmap='Spectral', \n",
    "         legend_kwds={'label': \" Inclination in Degrees\",\n",
    "                      'orientation': \"horizontal\"})\n",
    "ax2.set_title('Inclination - I')\n",
    "ax2.set_xlabel('Latitude')\n",
    "ax2.set_ylabel('Longitude')"
   ]
  },
  {
   "cell_type": "markdown",
   "metadata": {},
   "source": [
    "## Export the final results to a CSV file"
   ]
  },
  {
   "cell_type": "code",
   "execution_count": 32,
   "metadata": {
    "ExecuteTime": {
     "end_time": "2020-10-29T20:54:05.423399Z",
     "start_time": "2020-10-29T20:54:05.315397Z"
    }
   },
   "outputs": [],
   "source": [
    "#Exporting the CSV file\n",
    "os.chdir(r\"../results\")\n",
    "outputfile =\"GeoMag_\"+gpsfilename\n",
    "export_csv = GPS_ResInt.to_csv (outputfile, index = None, header=True)"
   ]
  }
 ],
 "metadata": {
  "kernelspec": {
   "display_name": "Python 3",
   "language": "python",
   "name": "python3"
  },
  "language_info": {
   "codemirror_mode": {
    "name": "ipython",
    "version": 3
   },
   "file_extension": ".py",
   "mimetype": "text/x-python",
   "name": "python",
   "nbconvert_exporter": "python",
   "pygments_lexer": "ipython3",
   "version": "3.8.1"
  },
  "toc": {
   "base_numbering": 1,
   "nav_menu": {},
   "number_sections": true,
   "sideBar": true,
   "skip_h1_title": false,
   "title_cell": "Table of Contents",
   "title_sidebar": "Contents",
   "toc_cell": false,
   "toc_position": {
    "height": "calc(100% - 180px)",
    "left": "10px",
    "top": "150px",
    "width": "362px"
   },
   "toc_section_display": true,
   "toc_window_display": true
  }
 },
 "nbformat": 4,
 "nbformat_minor": 4
}
