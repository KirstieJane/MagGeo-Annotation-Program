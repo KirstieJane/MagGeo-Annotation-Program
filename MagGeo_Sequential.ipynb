{
 "cells": [
  {
   "cell_type": "markdown",
   "metadata": {},
   "source": [
    "# MagGeo v1.0 - Sequential Mode \n",
    "\n",
    "**Authors** | Fernando Benitez-Paez, Urška Demšar, Jed Long\n",
    "\n",
    "**Contact**  | [Fernando.Benitez@st-andrews.ac.uk](mailto:Fernando.Benitez@st-andrews.ac.uk), [ud2@st-andrews.ac.uk](mailto:ud2@st-andrews.ac.uk), <jed.long@uwo.ca>\n",
    "\n",
    "**nbviewer URL** | https://nbviewer.jupyter.org/github/MagGeo/MagGeo-Annotation-Program/blob/master/MagGeo_Sequential.ipynb\n",
    "\n",
    "**Keywords** | Bird migration, data fusion, Earth’s magnetic field, Swarm, GPS tracking "
   ]
  },
  {
   "cell_type": "markdown",
   "metadata": {},
   "source": [
    "## Overview\n",
    "\n",
    "This Notebook will guide you through the required steps to annotate your GPS track with the earth magnetic field from Swarm Mission from European Spatial Agency, using the sequential Mode. If you need more information about Swarm mission go to the Main document, then concept requirements. This script will use a sequential loop to run an annotation process for each GPS Point (row) from your data.\n",
    "\n",
    "Each cell is proper described to present the process established. you can go through the cell you will also find inner comments `##` to describe any particular step that might be unclear. The process has several cells with commands only required to validated some intermediary results and help you to understand how the data is being manipulated. "
   ]
  },
  {
   "cell_type": "markdown",
   "metadata": {},
   "source": [
    "## Importing the requeried python libraries"
   ]
  },
  {
   "cell_type": "code",
   "execution_count": 2,
   "metadata": {
    "ExecuteTime": {
     "end_time": "2020-08-20T18:00:17.896234Z",
     "start_time": "2020-08-20T18:00:11.931138Z"
    }
   },
   "outputs": [],
   "source": [
    "from viresclient import SwarmRequest\n",
    "from viresclient import ClientConfig\n",
    "import datetime as dt\n",
    "import sys,os\n",
    "from pathlib import Path\n",
    "import pandas as pd\n",
    "import numpy as np\n",
    "import datetime, time\n",
    "from datetime import timedelta\n",
    "import math\n",
    "import pathlib\n",
    "from datetime import datetime\n",
    "import time\n",
    "import calendar\n",
    "import datetime"
   ]
  },
  {
   "cell_type": "markdown",
   "metadata": {},
   "source": [
    "## Reading the GPS track\n",
    "The following steps will load the GPS track from a csv file, and set some requirements before download the data from Swarm."
   ]
  },
  {
   "cell_type": "markdown",
   "metadata": {
    "ExecuteTime": {
     "end_time": "2020-08-20T17:59:37.681781Z",
     "start_time": "2020-08-20T17:59:37.666780Z"
    }
   },
   "source": [
    "**1.** Importing the GPS track. You can note that there is a folder to store the CSV file. Using `os.getcwd()` you can validate where the file is located."
   ]
  },
  {
   "cell_type": "code",
   "execution_count": 15,
   "metadata": {
    "ExecuteTime": {
     "end_time": "2020-08-20T18:06:57.501383Z",
     "start_time": "2020-08-20T18:06:57.488395Z"
    }
   },
   "outputs": [],
   "source": [
    "gpsfilename=\"BirdGPSTrajectory.csv\"\n",
    "def getGPSData():\n",
    "    nfp = pd.read_csv(r\"./data/BirdGPSTrajectory.csv\", parse_dates=[0], encoding='utf-8', dayfirst=True)\n",
    "    gpsData = pd.DataFrame({'gpsLat':nfp['location-lat'], 'gpsLong': nfp['location-long'], 'gpsDateTime':nfp['timestamp']})\n",
    "    return gpsData"
   ]
  },
  {
   "cell_type": "code",
   "execution_count": 16,
   "metadata": {
    "ExecuteTime": {
     "end_time": "2020-08-20T18:06:59.230393Z",
     "start_time": "2020-08-20T18:06:58.713387Z"
    }
   },
   "outputs": [
    {
     "data": {
      "text/html": [
       "<div>\n",
       "<style scoped>\n",
       "    .dataframe tbody tr th:only-of-type {\n",
       "        vertical-align: middle;\n",
       "    }\n",
       "\n",
       "    .dataframe tbody tr th {\n",
       "        vertical-align: top;\n",
       "    }\n",
       "\n",
       "    .dataframe thead th {\n",
       "        text-align: right;\n",
       "    }\n",
       "</style>\n",
       "<table border=\"1\" class=\"dataframe\">\n",
       "  <thead>\n",
       "    <tr style=\"text-align: right;\">\n",
       "      <th></th>\n",
       "      <th>gpsLat</th>\n",
       "      <th>gpsLong</th>\n",
       "      <th>gpsDateTime</th>\n",
       "    </tr>\n",
       "  </thead>\n",
       "  <tbody>\n",
       "    <tr>\n",
       "      <th>0</th>\n",
       "      <td>70.854717</td>\n",
       "      <td>68.307333</td>\n",
       "      <td>2014-09-08 05:54:00</td>\n",
       "    </tr>\n",
       "    <tr>\n",
       "      <th>1</th>\n",
       "      <td>70.830300</td>\n",
       "      <td>67.975050</td>\n",
       "      <td>2014-09-08 06:10:00</td>\n",
       "    </tr>\n",
       "    <tr>\n",
       "      <th>2</th>\n",
       "      <td>70.761717</td>\n",
       "      <td>67.752417</td>\n",
       "      <td>2014-09-08 06:26:00</td>\n",
       "    </tr>\n",
       "    <tr>\n",
       "      <th>3</th>\n",
       "      <td>70.686517</td>\n",
       "      <td>67.561983</td>\n",
       "      <td>2014-09-08 06:42:00</td>\n",
       "    </tr>\n",
       "    <tr>\n",
       "      <th>4</th>\n",
       "      <td>70.685450</td>\n",
       "      <td>67.548317</td>\n",
       "      <td>2014-09-08 07:14:00</td>\n",
       "    </tr>\n",
       "  </tbody>\n",
       "</table>\n",
       "</div>"
      ],
      "text/plain": [
       "      gpsLat    gpsLong         gpsDateTime\n",
       "0  70.854717  68.307333 2014-09-08 05:54:00\n",
       "1  70.830300  67.975050 2014-09-08 06:10:00\n",
       "2  70.761717  67.752417 2014-09-08 06:26:00\n",
       "3  70.686517  67.561983 2014-09-08 06:42:00\n",
       "4  70.685450  67.548317 2014-09-08 07:14:00"
      ]
     },
     "execution_count": 16,
     "metadata": {},
     "output_type": "execute_result"
    }
   ],
   "source": [
    "# Calling the previous function to get the track as pandas Dataframe.\n",
    "GPSData = getGPSData()\n",
    "GPSData.head()"
   ]
  },
  {
   "cell_type": "markdown",
   "metadata": {},
   "source": [
    "**2.** Setting the date and time attributes for the requerided format and computing the epoch column. Values like Maximum and Minimun Date and time are also calculated."
   ]
  },
  {
   "cell_type": "code",
   "execution_count": 17,
   "metadata": {
    "ExecuteTime": {
     "end_time": "2020-08-20T18:07:46.304357Z",
     "start_time": "2020-08-20T18:07:46.166357Z"
    }
   },
   "outputs": [],
   "source": [
    "#2.1 Convert the gpsDateTime to datetime python object\n",
    "GPSData['gpsDateTime'] = pd.to_datetime(GPSData['gpsDateTime'], format='%d/%m/%Y %H:%M')\n",
    "GPSData['gpsDateTime'] = GPSData['gpsDateTime'].map(lambda x: x.replace(second=0))\n",
    "GPSData['gpsLat'] = GPSData['gpsLat'].astype(float)\n",
    "#2.2 Adding new column epoch, will be usefuel to compare the date&time o each gps point againts the gathered swmarm data points\n",
    "GPSData['epoch'] = GPSData['gpsDateTime'].astype('int64')//1e9\n",
    "GPSData['epoch'] = GPSData['epoch'].astype(int)\n",
    "#2.3 Computing Date and Time columns\n",
    "GPSData['dates'] = GPSData['gpsDateTime'].dt.date\n",
    "GPSData['times'] = GPSData['gpsDateTime'].dt.time\n",
    "#2.4 Maximum and Minimum values\n",
    "MinDateTime = min(GPSData['gpsDateTime'])\n",
    "MaxDateTime = max(GPSData['gpsDateTime'])\n",
    "dt_object1 = MinDateTime.to_pydatetime()\n",
    "dt_object2 = MaxDateTime.to_pydatetime()\n",
    "startDate = MinDateTime.date()\n",
    "endDate = MaxDateTime.date()\n",
    "MinTime=MinDateTime.time()\n",
    "MaxTime=MaxDateTime.time()"
   ]
  },
  {
   "cell_type": "markdown",
   "metadata": {},
   "source": [
    "## Validating the proper amount of Swarm measures\n",
    "The annotation process apply an interpolation process which require for each GPS point time a set of Swarm points in the range of at least 4 hours before and 4 hours after each GPS Point time. To guarantee that all the GPS points have the enough amount of satellites measures."
   ]
  },
  {
   "cell_type": "markdown",
   "metadata": {},
   "source": [
    "**1**. The following loop is identifiying the time and validating if the time is less than 4:00 hours and more than 20:00 hours to bring one extra day of data. The result of this validation is written in a empty python list which will be later validated to get the unique dates avoing to download data for the same day and reducing the the downloand time process."
   ]
  },
  {
   "cell_type": "code",
   "execution_count": 18,
   "metadata": {
    "ExecuteTime": {
     "end_time": "2020-08-20T18:08:27.215296Z",
     "start_time": "2020-08-20T18:08:26.599289Z"
    }
   },
   "outputs": [],
   "source": [
    "datestimeslist = []\n",
    "for index, row in GPSData.iterrows():\n",
    "    datetimerow  = row['gpsDateTime']\n",
    "    daterow = row['dates']\n",
    "    hourrow = row['times']\n",
    "    hourrow = hourrow.strftime('%H:%M:%S')\n",
    "    if hourrow < '04:00:00':\n",
    "        date_bfr = daterow - (timedelta(days=1))\n",
    "        datestimeslist.append(daterow)\n",
    "        datestimeslist.append(date_bfr)\n",
    "    if hourrow > '20:00:00':\n",
    "        Date_aft = daterow + (timedelta(days=1))\n",
    "        datestimeslist.append(daterow)\n",
    "        datestimeslist.append(Date_aft)  \n",
    "    else:\n",
    "        datestimeslist.append(daterow)"
   ]
  },
  {
   "cell_type": "markdown",
   "metadata": {},
   "source": [
    "**2.** Getting a list of unique dates, to being used to download the Swarm Data"
   ]
  },
  {
   "cell_type": "code",
   "execution_count": 20,
   "metadata": {
    "ExecuteTime": {
     "end_time": "2020-08-20T18:09:05.428753Z",
     "start_time": "2020-08-20T18:09:05.402744Z"
    }
   },
   "outputs": [
    {
     "data": {
      "text/plain": [
       "array([datetime.date(2014, 8, 18), datetime.date(2014, 8, 19),\n",
       "       datetime.date(2014, 8, 25), datetime.date(2014, 8, 26),\n",
       "       datetime.date(2014, 8, 27), datetime.date(2014, 8, 28),\n",
       "       datetime.date(2014, 8, 29), datetime.date(2014, 8, 30),\n",
       "       datetime.date(2014, 8, 31), datetime.date(2014, 9, 3),\n",
       "       datetime.date(2014, 9, 5), datetime.date(2014, 9, 6),\n",
       "       datetime.date(2014, 9, 8), datetime.date(2014, 9, 13),\n",
       "       datetime.date(2014, 9, 14), datetime.date(2014, 9, 15),\n",
       "       datetime.date(2014, 9, 17), datetime.date(2014, 9, 18),\n",
       "       datetime.date(2014, 9, 19), datetime.date(2014, 9, 20),\n",
       "       datetime.date(2014, 9, 21), datetime.date(2014, 9, 22),\n",
       "       datetime.date(2014, 9, 23), datetime.date(2014, 9, 24),\n",
       "       datetime.date(2014, 9, 25), datetime.date(2014, 9, 26),\n",
       "       datetime.date(2014, 9, 27), datetime.date(2014, 9, 29),\n",
       "       datetime.date(2014, 9, 30), datetime.date(2014, 10, 1),\n",
       "       datetime.date(2014, 10, 2), datetime.date(2014, 10, 3),\n",
       "       datetime.date(2014, 10, 4), datetime.date(2014, 10, 5),\n",
       "       datetime.date(2014, 10, 6), datetime.date(2014, 10, 10),\n",
       "       datetime.date(2014, 10, 13), datetime.date(2014, 10, 14),\n",
       "       datetime.date(2014, 10, 15), datetime.date(2014, 10, 22),\n",
       "       datetime.date(2014, 10, 23), datetime.date(2014, 10, 24)],\n",
       "      dtype=object)"
      ]
     },
     "execution_count": 20,
     "metadata": {},
     "output_type": "execute_result"
    }
   ],
   "source": [
    "def uniquelistdates(list): \n",
    "    x = np.array(list) \n",
    "    uniquelist = np.unique(x)\n",
    "    return uniquelist\n",
    "\n",
    "uniquelist_dates = uniquelistdates(datestimeslist)\n",
    "uniquelist_dates"
   ]
  },
  {
   "cell_type": "markdown",
   "metadata": {},
   "source": [
    "## Downloading the data from Swarm and computing them at the ground level\n",
    "\n",
    "Once the date and time columns have been defined, and the unique dates were identified the script can start the download process. Usually the data from Swarm is requested using only one satellite, however **MagGeo** will use the magnetic measures from the three satellite of the Swarm Mission. The following function (<code>GetSwarmData_and_residual</code>) is  mainly divided in two parts. Get the data from Swarm including the residuals and then compute the magnetic field at the ground level using the residuals from the CHAOS model. \n",
    "\n",
    "<div class=\"alert alert-warning\" role=\"alert\">\n",
    "  <strong>🔎 CHAOS: </strong>\n",
    "\n",
    "is a comprehensive field model, containing the modelled contributions of the time-varying core, the static crustal field, the average time-varying magnetosphere. We show calculation of the residuals (adding this parameter <code>residuals=True</code>) which means: data - <code>CHAOS(Core+Static)</code> and  data - <code>CHAOS(Core+Static+Magnetosphere)</code>.\n",
    "    \n",
    "</div>\n",
    "\n",
    "The **CHAOS** model is available on the server as model variables:\n",
    "\n",
    "- CHAOS-Core: SH degree 1-20\n",
    "- CHAOS-Static: SH degree 21-110\n",
    "- CHAOS-MMA-Primary: Magnetosphere external field, SH degree 1-2\n",
    "- CHAOS-MMA-Secondary: Magnetosphere internal induced field, SH degree 1-2\n",
    "\n",
    "We will use the abbreviations:\n",
    "\n",
    "- MCO: core model\n",
    "- MLI: lithosphere model (i.e. static)\n",
    "- MMA: magnetosphere model\n",
    "\n",
    "<div class=\"alert alert-info\" role=\"alert\">\n",
    "📘  This will compute the magnetic measures not at the height of the three satellites (~462 km and ~511 km) and will approximate calculate the Swarm measures at the ground level, making the measures more precise to any GPS trajectory.\n",
    "</div>"
   ]
  },
  {
   "cell_type": "markdown",
   "metadata": {
    "ExecuteTime": {
     "end_time": "2020-08-20T19:39:24.776808Z",
     "start_time": "2020-08-20T19:39:24.764809Z"
    }
   },
   "source": [
    "**1.** Defining fucntion to get Swarm data and compute the magnetic values at the ground level"
   ]
  },
  {
   "cell_type": "code",
   "execution_count": 22,
   "metadata": {
    "ExecuteTime": {
     "end_time": "2020-08-20T19:40:09.249051Z",
     "start_time": "2020-08-20T19:40:07.697055Z"
    }
   },
   "outputs": [
    {
     "name": "stdout",
     "output_type": "stream",
     "text": [
      "Wall time: 1.49 s\n"
     ]
    }
   ],
   "source": [
    "%%time\n",
    "\n",
    "import chaosmagpy as cp\n",
    "from chaosmagpy import load_CHAOS_matfile\n",
    "from chaosmagpy.data_utils import mjd2000\n",
    "\n",
    "\n",
    "def GetSwarmData_and_residuals (startDateTime, endDateTime, mid_date):\n",
    "    \n",
    "    # 1. Starting the Swarm Request.\n",
    "    #    `SwarmRequest` is an object provided by the VirES interface, we need time objects \n",
    "    #    to be used by `SwarmRequest.get_between()` in this case we will get every date one day per loop (i.e. around 15 orbits)\n",
    "    #    of the scalar (`F`) measurements from Swarm Satellites. The data are then loaded as a `xarray` dataframe.\n",
    "    #    donwsamples the data to 60 seconds, from the `MAGx_LR` product having default of 1 second.\n",
    "    #    https://viresclient.readthedocs.io/en/latest/available_parameters.html\n",
    "    \n",
    "    requestA = SwarmRequest() \n",
    "    requestB = SwarmRequest()\n",
    "    requestC = SwarmRequest()\n",
    "    \n",
    "    #2. Loading the matlab CHAOS model to compute the residuals and resting those values from the residuals from Swarm.\n",
    "    model = load_CHAOS_matfile('C:\\\\foss4guk19-jupyter-master\\\\Project_StAndrews\\\\Parallel\\\\CHAOS-7.mat') \n",
    "    #For more information about the magnetic models go to: https://www.space.dtu.dk/english/research/scientific_data_and_models/magnetic_field_models\n",
    "    \n",
    "    #3. Getting the data for Satellite A. \n",
    "    requestA.set_collection(\"SW_OPER_MAGA_LR_1B\")\n",
    "    requestA.set_products(\n",
    "        measurements=[\n",
    "            'B_NEC', #The Magnetic values are in NEC system (North, East, Centre)\n",
    "\n",
    "        ],\n",
    "\n",
    "        models = [\n",
    "            '\"CHAOS_MCO_MLI\" = \"CHAOS-Core\" + \"CHAOS-Static\"',\n",
    "            '\"CHAOS_MCO_MLI_MMA\" = \"CHAOS-Core\" + \"CHAOS-Static\" + \"CHAOS-MMA-Primary\" + \"CHAOS-MMA-Secondary\"'\n",
    "        ],\n",
    "        residuals=True, #Brining the residuals.\n",
    "        sampling_step=\"PT60S\", #Get the data every 60 seconds. \n",
    "    )\n",
    "    \n",
    "    #4. Defining an array to store the data request for Satellite A, based on the starting Data and time.\n",
    "    #   You can display dsA to get an idea of how the data is requested.\n",
    "    dsA = requestA.get_between(\n",
    "        start_time=startDateTime,\n",
    "        end_time=endDateTime\n",
    "    ).as_xarray()\n",
    "    \n",
    "    \n",
    "    #5. Brining the residuals from CHAOS Model, the one was loaded in step No 2.\n",
    "    \n",
    "    thetaA = 90-dsA[\"Latitude\"].values  # colatitude in degrees (colatitude = 90-latitude)\n",
    "    phiA = dsA[\"Longitude\"].values  # longitude in degrees\n",
    "    time = mjd2000(mid_date.year, mid_date.month, mid_date.day)  * np.ones((thetaA.size,)) # The core field does not change over a day so pick a single time\n",
    "    radius = 6371.2 * np.ones((thetaA.size,))\n",
    "    # this is the Earth's average radius - \n",
    "    # if you need to add the heigth of your GPS trajectory, you need to put in the bird's height in km above the centre of the Earth\n",
    "    # and parsing this values as one extra parameter of this fuction. \n",
    "   \n",
    "    #6. The residuals from the model CHAOS are computed.  \n",
    "    B_r_coreA, B_t_coreA, B_phi_coreA = model.synth_values_tdep(time,radius, thetaA, phiA)\n",
    "    B_r_crustA, B_t_crustA, B_phi_crustA = model.synth_values_static(radius, thetaA, phiA)\n",
    "    \n",
    "    #7. Once the xarray is created, we can extracted the variables included using xarray.DataArray object e.g. dsA[\"Latitude\"]).\n",
    "    # The SwarmRequest inside in the dsA xarray has Timestamp as index. The vector measurements have 3 dimensions which are \n",
    "    # the three components (N, E, C). One dimension can be extracted like indexing into a numpy ndarray. The N (Northwards)\n",
    "    # component is accessed as xarray[\"variable\"][:, index]:\n",
    "    \n",
    "    B_r_swarmA, B_t_swarmA, B_phi_swarmA = -dsA[\"B_NEC_res_CHAOS_MCO_MLI_MMA\"][:, 2], -dsA[\"B_NEC_res_CHAOS_MCO_MLI_MMA\"][:, 0], dsA[\"B_NEC_res_CHAOS_MCO_MLI_MMA\"][:, 1]\n",
    "   \n",
    "    #8. Once the residuals are computed and extracted for Swarm data stored temporaly in xarray. The Magnetic fiel on\n",
    "    #   the ground is computed.\n",
    "    B_r_groundA = B_r_coreA + B_r_crustA - B_r_swarmA #(-Z)\n",
    "    B_t_groundA = B_t_coreA + B_t_crustA - B_t_swarmA #(-X)\n",
    "    B_phi_groundA = B_phi_coreA + B_phi_crustA - B_phi_swarmA #(Y)\n",
    "    \n",
    "    #9. Due to Swarm data are in NEC (or XYZ) while the CHAOS model outputs the radial, theta and phi components which are Br = -Z, \n",
    "    #   Bt = -X and BP = Y\n",
    "    C_groundA = -B_r_groundA   #Z\n",
    "    N_groundA = -B_t_groundA   #X\n",
    "    E_groundA = B_phi_groundA  #Z\n",
    "    \n",
    "    #10. To finish the transformation and extraction process, a final dataframe is created, setting clear names and including\n",
    "    #    a epoch columns to be the dataframe index.\n",
    "    \n",
    "    SwarmDataA = pd.DataFrame({'Na':N_groundA,'Ea':E_groundA, 'Ca':C_groundA, 'Ta':N_groundA['Timestamp'], 'LatA':dsA['Latitude'], 'LongA':dsA['Longitude']})\n",
    "    SwarmDataA['epoch'] = SwarmDataA['Ta'].astype('int64')//1e9\n",
    "    SwarmDataA['epoch'] = SwarmDataA['epoch'].astype(int)\n",
    "    SwarmDataA.set_index(\"epoch\", inplace=True)\n",
    "    \n",
    "    #11. The same process will take place for the satellites Bravo and Charlie.\n",
    "    \n",
    "    ######Request for Sat B #########\n",
    "    requestB.set_collection(\"SW_OPER_MAGB_LR_1B\")\n",
    "    requestB.set_products(\n",
    "        measurements=[\n",
    "            'B_NEC',\n",
    "\n",
    "        ],\n",
    "        models = [\n",
    "            '\"CHAOS_MCO_MLI\" = \"CHAOS-Core\" + \"CHAOS-Static\"',\n",
    "            '\"CHAOS_MCO_MLI_MMA\" = \"CHAOS-Core\" + \"CHAOS-Static\" + \"CHAOS-MMA-Primary\" + \"CHAOS-MMA-Secondary\"'\n",
    "        ],\n",
    "        residuals=True, \n",
    "        sampling_step=\"PT60S\",\n",
    "    )\n",
    "\n",
    "    dsB = requestB.get_between(\n",
    "        start_time= startDateTime,\n",
    "        end_time= endDateTime\n",
    "    ).as_xarray()\n",
    "    \n",
    "    # Getting the residuals for SatB...\n",
    "    thetaB = 90-dsB[\"Latitude\"].values  # colatitude in degrees (colatitude = 90-latitude)\n",
    "    phiB = dsB[\"Longitude\"].values  # longitude in degrees\n",
    "    time = mjd2000(mid_date.year, mid_date.month, mid_date.day)  * np.ones((thetaB.size,))\n",
    "    radius = 6371.2 * np.ones((thetaB.size,))  \n",
    "    B_r_coreB, B_t_coreB, B_phi_coreB = model.synth_values_tdep(time,radius, thetaB, phiB)\n",
    "    B_r_crustB, B_t_crustB, B_phi_crustB = model.synth_values_static(radius, thetaB, phiB)\n",
    "    \n",
    "    B_r_swarmB, B_t_swarmB, B_phi_swarmB = -dsB[\"B_NEC_res_CHAOS_MCO_MLI_MMA\"][:, 2], -dsB[\"B_NEC_res_CHAOS_MCO_MLI_MMA\"][:, 0], dsB[\"B_NEC_res_CHAOS_MCO_MLI_MMA\"][:, 1]\n",
    "\n",
    "\n",
    "    B_r_groundB = B_r_coreB + B_r_crustB - B_r_swarmB #(-Z)\n",
    "    B_t_groundB = B_t_coreB + B_t_crustB - B_t_swarmB #(-X)\n",
    "    B_phi_groundB = B_phi_coreB + B_phi_crustB - B_phi_swarmB #(Y)\n",
    "    \n",
    "    C_groundB = -B_r_groundB   #Z\n",
    "    N_groundB = -B_t_groundB   #X\n",
    "    E_groundB = B_phi_groundB  #Y\n",
    "    \n",
    "    SwarmDataB = pd.DataFrame({'Nb':N_groundB,'Eb':E_groundB, 'Cb':C_groundB, 'Tb':N_groundB['Timestamp'], 'LatB':dsB['Latitude'], 'LongB':dsB['Longitude']})\n",
    "    SwarmDataB['epoch'] = SwarmDataB['Tb'].astype('int64')//1e9\n",
    "    SwarmDataB['epoch'] = SwarmDataB['epoch'].astype(int)\n",
    "    SwarmDataB.set_index(\"epoch\", inplace=True)\n",
    "  \n",
    "    ######Request for Sat C #########\n",
    "    requestC.set_collection(\"SW_OPER_MAGC_LR_1B\")\n",
    "    requestC.set_products(\n",
    "        measurements=[\n",
    "            'B_NEC',\n",
    "\n",
    "        ],\n",
    "        models = [\n",
    "            '\"CHAOS_MCO_MLI\" = \"CHAOS-Core\" + \"CHAOS-Static\"',\n",
    "            '\"CHAOS_MCO_MLI_MMA\" = \"CHAOS-Core\" + \"CHAOS-Static\" + \"CHAOS-MMA-Primary\" + \"CHAOS-MMA-Secondary\"'\n",
    "        ],\n",
    "        residuals=True,\n",
    "        sampling_step=\"PT60S\",\n",
    "    )\n",
    "\n",
    "    dsC = requestC.get_between(\n",
    "        start_time=startDateTime,\n",
    "        end_time=endDateTime\n",
    "    ).as_xarray()\n",
    "    \n",
    "    #Getting the residuals for SatC...\n",
    "    thetaC = 90-dsC[\"Latitude\"].values  # colatitude in degrees (colatitude = 90-latitude)\n",
    "    phiC = dsC[\"Longitude\"].values  # longitude in degrees\n",
    "    time = mjd2000(mid_date.year, mid_date.month, mid_date.day)  * np.ones((thetaC.size,))\n",
    "    radius = 6371.2 * np.ones((thetaC.size,)) \n",
    "\n",
    "    B_r_coreC, B_t_coreC, B_phi_coreC = model.synth_values_tdep(time,radius, thetaC, phiC)\n",
    "    B_r_crustC, B_t_crustC, B_phi_crustC = model.synth_values_static(radius, thetaC, phiC)\n",
    "    \n",
    "    B_r_swarmC, B_t_swarmC, B_phi_swarmC = -dsC[\"B_NEC_res_CHAOS_MCO_MLI_MMA\"][:, 2], -dsC[\"B_NEC_res_CHAOS_MCO_MLI_MMA\"][:, 0], dsC[\"B_NEC_res_CHAOS_MCO_MLI_MMA\"][:, 1]\n",
    "\n",
    "    B_r_groundC = B_r_coreC+ B_r_crustC - B_r_swarmC #(-Z)\n",
    "    B_t_groundC = B_t_coreC + B_t_crustC - B_t_swarmC #(-X)\n",
    "    B_phi_groundC = B_phi_coreC + B_phi_crustC - B_phi_swarmC #(Y)\n",
    "    \n",
    "    C_groundC = -B_r_groundC   #Z\n",
    "    N_groundC = -B_t_groundC   #X\n",
    "    E_groundC = B_phi_groundC  #Y\n",
    "    \n",
    "    SwarmDataC = pd.DataFrame({'Nc':N_groundC,'Ec':E_groundC, 'Cc':C_groundC, 'Tc':N_groundC['Timestamp'], 'LatC':dsC['Latitude'], 'LongC':dsC['Longitude']})\n",
    "    SwarmDataC['epoch'] = SwarmDataC['Tc'].astype('int64')//1e9\n",
    "    SwarmDataC['epoch'] = SwarmDataC['epoch'].astype(int)\n",
    "    SwarmDataC.set_index(\"epoch\", inplace=True)\n",
    "    \n",
    "    return SwarmDataA,SwarmDataB,SwarmDataC"
   ]
  },
  {
   "cell_type": "markdown",
   "metadata": {},
   "source": [
    "**2.** Running the previous function, using a loop to going through every date in the unique date list. The **Vires client API**, requires a token. You can visit https://vires.services/ to get your own token. We highly recommend to use your own token to run the script to annotate your own GPS tracks. As we mentioned in the previous function definition the `SwarmRequest()` object have the `get_between` parameter which require a datetime variables. As the unique list is just a date python variable, we set a range of **24 hours to request the data** for one entire day at the every iteration. \n",
    "\n",
    "<div class=\"alert alert-warning\" role=\"alert\">\n",
    "  <strong>🔈  Note: 🔈 </strong>\n",
    "    <br> If you are aware that rather to requesting each day in the unique list we might set a minimum and maximum dates for the GPS track dates and thus get the entire data at once. Unfortunately due to the calculations required to compute the residual from the <strong>local CHAOS model</strong>, the number of days is limited to 10 days, including more days will raise a error into the chaosmagpy package. Likewise the amount of processing and downloading time is certainly very similar to get each date into a loop iteration. Therefore we have choose the most secure option.\n",
    "</div>\n",
    "\n",
    "<div class=\"alert alert-info\" role=\"alert\">\n",
    "📘 <strong>Be aware:</strong> Due to the amount of dates the GPS track has (40 days) to request and compute the residuals, the time to process the sample data will take approximately 20 minutes.</div>"
   ]
  },
  {
   "cell_type": "code",
   "execution_count": null,
   "metadata": {
    "ExecuteTime": {
     "end_time": "2020-08-20T20:04:20.558014Z",
     "start_time": "2020-08-20T19:43:07.945009Z"
    }
   },
   "outputs": [],
   "source": [
    "%%time\n",
    "\n",
    "hours_t_day = 24\n",
    "hours_added = datetime.timedelta(hours = hours_t_day)\n",
    "\n",
    "listdfa = []\n",
    "listdfb = []\n",
    "listdfc = []\n",
    "\n",
    "cc = ClientConfig()\n",
    "cc.set_site_config(\"https://vires.services/ows\", token=\"rp-foC8gz-VTFz7He6SMPnQtKEpasEaB\")\n",
    "cc.default_url = \"https://vires.services/ows\"\n",
    "cc.save()\n",
    "\n",
    "for d in uniquelist_dates:\n",
    "    print(\"Process for:\",d,\":\" )\n",
    "    startdate = datetime.datetime.combine(d, datetime.datetime.min.time())\n",
    "    enddate = startdate + hours_added\n",
    "    mid_date = d\n",
    "    SwarmDataA,SwarmDataB,SwarmDataC = GetSwarmData_and_residuals(startdate, enddate,mid_date)\n",
    "    listdfa.append(SwarmDataA)\n",
    "    listdfb.append(SwarmDataB)\n",
    "    listdfc.append(SwarmDataC)"
   ]
  },
  {
   "cell_type": "markdown",
   "metadata": {},
   "source": [
    "**3.**  As you might noted in the previous cell we append the results from each iteration into a empty python list. In here we join a sequence of arrays along the 0 axis (by applying the `concant` function ), to get a pandas dataframe that contains the data for each Swarm satellite for all the unique dates we identified in the GPS track `datetime` column."
   ]
  },
  {
   "cell_type": "code",
   "execution_count": 24,
   "metadata": {
    "ExecuteTime": {
     "end_time": "2020-08-20T20:11:14.908350Z",
     "start_time": "2020-08-20T20:11:14.648344Z"
    }
   },
   "outputs": [
    {
     "data": {
      "text/html": [
       "<div>\n",
       "<style scoped>\n",
       "    .dataframe tbody tr th:only-of-type {\n",
       "        vertical-align: middle;\n",
       "    }\n",
       "\n",
       "    .dataframe tbody tr th {\n",
       "        vertical-align: top;\n",
       "    }\n",
       "\n",
       "    .dataframe thead th {\n",
       "        text-align: right;\n",
       "    }\n",
       "</style>\n",
       "<table border=\"1\" class=\"dataframe\">\n",
       "  <thead>\n",
       "    <tr style=\"text-align: right;\">\n",
       "      <th></th>\n",
       "      <th>Na</th>\n",
       "      <th>Ea</th>\n",
       "      <th>Ca</th>\n",
       "      <th>Ta</th>\n",
       "      <th>LatA</th>\n",
       "      <th>LongA</th>\n",
       "    </tr>\n",
       "    <tr>\n",
       "      <th>epoch</th>\n",
       "      <th></th>\n",
       "      <th></th>\n",
       "      <th></th>\n",
       "      <th></th>\n",
       "      <th></th>\n",
       "      <th></th>\n",
       "    </tr>\n",
       "  </thead>\n",
       "  <tbody>\n",
       "    <tr>\n",
       "      <th>1408320000</th>\n",
       "      <td>8488.049419</td>\n",
       "      <td>3678.042652</td>\n",
       "      <td>56977.116484</td>\n",
       "      <td>2014-08-18 00:00:00</td>\n",
       "      <td>66.843847</td>\n",
       "      <td>-134.672531</td>\n",
       "    </tr>\n",
       "    <tr>\n",
       "      <th>1408320060</th>\n",
       "      <td>6299.698812</td>\n",
       "      <td>2809.512836</td>\n",
       "      <td>57193.881921</td>\n",
       "      <td>2014-08-18 00:01:00</td>\n",
       "      <td>70.654918</td>\n",
       "      <td>-133.562740</td>\n",
       "    </tr>\n",
       "    <tr>\n",
       "      <th>1408320120</th>\n",
       "      <td>4255.902625</td>\n",
       "      <td>1903.310746</td>\n",
       "      <td>57385.441493</td>\n",
       "      <td>2014-08-18 00:02:00</td>\n",
       "      <td>74.451293</td>\n",
       "      <td>-131.817227</td>\n",
       "    </tr>\n",
       "    <tr>\n",
       "      <th>1408320180</th>\n",
       "      <td>2557.202078</td>\n",
       "      <td>950.302393</td>\n",
       "      <td>57136.797202</td>\n",
       "      <td>2014-08-18 00:03:00</td>\n",
       "      <td>78.218581</td>\n",
       "      <td>-128.828006</td>\n",
       "    </tr>\n",
       "    <tr>\n",
       "      <th>1408320240</th>\n",
       "      <td>948.024938</td>\n",
       "      <td>29.660529</td>\n",
       "      <td>56837.439504</td>\n",
       "      <td>2014-08-18 00:04:00</td>\n",
       "      <td>81.915833</td>\n",
       "      <td>-122.893911</td>\n",
       "    </tr>\n",
       "    <tr>\n",
       "      <th>1408320300</th>\n",
       "      <td>-37.740767</td>\n",
       "      <td>-1153.060749</td>\n",
       "      <td>56610.055042</td>\n",
       "      <td>2014-08-18 00:05:00</td>\n",
       "      <td>85.371832</td>\n",
       "      <td>-107.323979</td>\n",
       "    </tr>\n",
       "    <tr>\n",
       "      <th>1408320360</th>\n",
       "      <td>1577.702484</td>\n",
       "      <td>-2222.685442</td>\n",
       "      <td>55856.246332</td>\n",
       "      <td>2014-08-18 00:06:00</td>\n",
       "      <td>87.354036</td>\n",
       "      <td>-51.425113</td>\n",
       "    </tr>\n",
       "    <tr>\n",
       "      <th>1408320420</th>\n",
       "      <td>4210.360659</td>\n",
       "      <td>-219.394370</td>\n",
       "      <td>55309.105382</td>\n",
       "      <td>2014-08-18 00:07:00</td>\n",
       "      <td>85.299258</td>\n",
       "      <td>3.178611</td>\n",
       "    </tr>\n",
       "    <tr>\n",
       "      <th>1408320480</th>\n",
       "      <td>5542.699912</td>\n",
       "      <td>1122.952796</td>\n",
       "      <td>54874.393158</td>\n",
       "      <td>2014-08-18 00:08:00</td>\n",
       "      <td>81.832625</td>\n",
       "      <td>18.336577</td>\n",
       "    </tr>\n",
       "    <tr>\n",
       "      <th>1408320540</th>\n",
       "      <td>6966.335172</td>\n",
       "      <td>1727.955074</td>\n",
       "      <td>54271.271615</td>\n",
       "      <td>2014-08-18 00:09:00</td>\n",
       "      <td>78.133003</td>\n",
       "      <td>24.163814</td>\n",
       "    </tr>\n",
       "  </tbody>\n",
       "</table>\n",
       "</div>"
      ],
      "text/plain": [
       "                     Na           Ea            Ca                  Ta  \\\n",
       "epoch                                                                    \n",
       "1408320000  8488.049419  3678.042652  56977.116484 2014-08-18 00:00:00   \n",
       "1408320060  6299.698812  2809.512836  57193.881921 2014-08-18 00:01:00   \n",
       "1408320120  4255.902625  1903.310746  57385.441493 2014-08-18 00:02:00   \n",
       "1408320180  2557.202078   950.302393  57136.797202 2014-08-18 00:03:00   \n",
       "1408320240   948.024938    29.660529  56837.439504 2014-08-18 00:04:00   \n",
       "1408320300   -37.740767 -1153.060749  56610.055042 2014-08-18 00:05:00   \n",
       "1408320360  1577.702484 -2222.685442  55856.246332 2014-08-18 00:06:00   \n",
       "1408320420  4210.360659  -219.394370  55309.105382 2014-08-18 00:07:00   \n",
       "1408320480  5542.699912  1122.952796  54874.393158 2014-08-18 00:08:00   \n",
       "1408320540  6966.335172  1727.955074  54271.271615 2014-08-18 00:09:00   \n",
       "\n",
       "                 LatA       LongA  \n",
       "epoch                              \n",
       "1408320000  66.843847 -134.672531  \n",
       "1408320060  70.654918 -133.562740  \n",
       "1408320120  74.451293 -131.817227  \n",
       "1408320180  78.218581 -128.828006  \n",
       "1408320240  81.915833 -122.893911  \n",
       "1408320300  85.371832 -107.323979  \n",
       "1408320360  87.354036  -51.425113  \n",
       "1408320420  85.299258    3.178611  \n",
       "1408320480  81.832625   18.336577  \n",
       "1408320540  78.133003   24.163814  "
      ]
     },
     "execution_count": 24,
     "metadata": {},
     "output_type": "execute_result"
    }
   ],
   "source": [
    "TotalSwarm_A = pd.concat(listdfa, join='outer', axis=0)\n",
    "TotalSwarm_B = pd.concat(listdfb, join='outer', axis=0)\n",
    "TotalSwarm_C = pd.concat(listdfc, join='outer', axis=0)\n",
    "# Preview the compiled data from Satellite Alpha\n",
    "TotalSwarm_A.head(10)"
   ]
  },
  {
   "cell_type": "markdown",
   "metadata": {},
   "source": [
    "## Interpolation (ST-IDW) and Annotation Process\n",
    "\n",
    "Once we have requested the data we need for each point in the GPS Track and considering we have gathered the available data from the three satellites for one day ( *24 hours, every 60 seconds around 1440 Swarm measures per satellite*). Now we need to `filter` in space and time the available points to compute the magnetic values for each GPS point in its particular date and time. Therefore, before running the interpolation process we set **four** functions that will require the *latitude* and *longitude* and the *epoch* time of each GPS point to filter the Swarm points into what we called **Space-Time Cylinder**. The following picture can provide a better explanation about how the points inside the space-time cylinder are included or excluded. **Figure I**, shows the idea behind the interpolation process for each GPS point, requesting and processing the avaliable Swarm messuares by the three satellites. **Figure II**, illustrate the geometric components behing the space-time cylinder where the points are filtered and included in the interpolation process. Figure B, will help you to understand how the following functions compute the required parameters **Figure III** shows how the R of the Space-Time cylinder is based on the GPS point latitude. For more information about the time-space windows please read the full paper where we explain the details of it.\n",
    "\n",
    "<img src=\"./images/AnnotateServiceJupiter.jpg\" >"
   ]
  },
  {
   "cell_type": "markdown",
   "metadata": {},
   "source": [
    "<div class=\"alert alert-info\" role=\"alert\">\n",
    "<strong>📘 Auxiliary Functions:</strong>\n",
    "    \n",
    "<ol>\n",
    "  <li><strong>distance_to_GPS</strong> function: Is the function in charge to calculate the distance between each GPS Point and the Swarm Point.</li>\n",
    "  <li><strong>Kradius</strong> function: Is the function in charge to compute the R (radius) value in the cylinder. The R value will be considered based on the latitude of each GPS Point.</li>\n",
    "    <li><strong>DistJ</strong> function: This function will calculate the <code>d</code> value as the hypotenuse created in the triangle created amount the locations of the GPS point, the location of the Swarm points and the radius value.</li>\n",
    "  <li><strong>DfTime_func</strong> function: This is a time function to selected the points in the range of a the DeltaTime - <code>DT</code> window. The Delta time window has been set as 4 hours for each satellite trajectory.</li>\n",
    "</ol> \n",
    "    \n",
    "</div>"
   ]
  },
  {
   "cell_type": "code",
   "execution_count": 25,
   "metadata": {
    "ExecuteTime": {
     "end_time": "2020-08-20T20:11:20.630903Z",
     "start_time": "2020-08-20T20:11:20.598902Z"
    }
   },
   "outputs": [],
   "source": [
    "def distance_to_GPS(s_lat, s_lng, e_lat, e_lng): \n",
    "    # approximate radius of earth in km\n",
    "    R = 6373.0\n",
    "    s_lat = s_lat*(np.pi)/180.0                     \n",
    "    s_lng = np.deg2rad(s_lng)     \n",
    "    e_lat = np.deg2rad(e_lat)                       \n",
    "    e_lng = np.deg2rad(e_lng)\n",
    "    d = np.sin((e_lat - s_lat)/2)**2 + np.cos(s_lat)*np.cos(e_lat) * np.sin((e_lng - s_lng)/2)**2\n",
    "    return 2 * R * np.arcsin(np.sqrt(d))\n",
    "\n",
    "def Kradius (lat):\n",
    "    if 0 <= lat < 90 :\n",
    "        #for Northern Latitudes \n",
    "        nlat = (-10 * lat) + 1800\n",
    "        #print(\"The R on the North\")\n",
    "    if -90 < lat < 0:\n",
    "        #for Southern Latitudes\n",
    "        nlat = (10 * lat) + 1800\n",
    "        #print (\"The R on the South\")\n",
    "    return nlat\n",
    "\n",
    "def DistJ(ds, r, dt, DT):\n",
    "    eDist = np.sqrt((ds/r)**2 + (dt/DT)**2)\n",
    "    return eDist\n",
    "\n",
    "def DfTime_func (SwarmData, GPSTime, DT):\n",
    "#     DT= 14400 #deltaT of 14400 secs, 4 hours, if the Period is 1s. 1440 for 10s of period. 240 for data every 60s.\n",
    "    DataFrame_Per_Time = []\n",
    "    for index in SwarmData.index:\n",
    "        if index == GPSTime:\n",
    "            DataFrame_Per_Time = pd.DataFrame(SwarmData.loc[index-DT:index+DT])\n",
    "    return DataFrame_Per_Time"
   ]
  },
  {
   "cell_type": "markdown",
   "metadata": {},
   "source": [
    "<div class=\"alert alert-info\" role=\"alert\">\n",
    "<strong>📘 SwarmMagAnnotation function:</strong>\n",
    "    \n",
    "Working as the main function for the annotation process, this functions meets the previous functions running the space-time window filters, and the computing the <code>ST- IDW process</code>. This function will run a interpolation process for each GPS Point considering only the Swarm points inside the Space-Time cylinder computed by the four previous functions. The return value will be an array with the values the annotated magnetic values for the GPS point. The function will be executed inside a loop going through the GPS track. This function is the annotation process per se, and through this process at first we run the interpolation getting the magnetic values in NEC reference frame and then we compute the extra magnetic values that are useful to get a better understating of the earth's magnetic field at this particular location, date and time.\n",
    " \n",
    " </div>"
   ]
  },
  {
   "cell_type": "code",
   "execution_count": 26,
   "metadata": {
    "ExecuteTime": {
     "end_time": "2020-08-20T20:11:24.459211Z",
     "start_time": "2020-08-20T20:11:24.346208Z"
    }
   },
   "outputs": [],
   "source": [
    "def SwarmMagAnnotation (GPSLat,GPSLong,GPSDateTime,GPSTime, DT):\n",
    "  \n",
    "    # 1. Runnig the DfTime_func function to filter by the defined Delta Time.\n",
    "    DfTimeA = DfTime_func(TotalSwarm_A,GPSTime,DT)\n",
    "    DfTimeB = DfTime_func(TotalSwarm_B,GPSTime,DT)\n",
    "    DfTimeC = DfTime_func(TotalSwarm_C,GPSTime,DT)\n",
    "    #2. Computing the dt as the difference between the datetime and the datetime from swarm point. At this point\n",
    "    #   we have filtered the swarm point by time.\n",
    "    DfTimeA['dTa'] = (GPSTime - (DfTimeA.index))\n",
    "    DfTimeB['dTb'] = (GPSTime - (DfTimeB.index))\n",
    "    DfTimeC['dTc'] = (GPSTime - (DfTimeC.index))\n",
    "    \n",
    "    #3.Computing the ds\n",
    "    # 3.1 Parsing the requieres parameters for distance_to_GPS function\n",
    "    \n",
    "    s_lat = GPSLat; e_lat = DfTimeA['LatA']; s_lng = GPSLong; e_lng = DfTimeA['LongA']  \n",
    "    ## Running the function, based on the previous parameters, for SatA\n",
    "    DfTimeA['distance']= distance_to_GPS(s_lat, s_lng, e_lat, e_lng) \n",
    "    \n",
    "    s_lat = GPSLat; e_lat = DfTimeB['LatB']; s_lng = GPSLong; e_lng = DfTimeB['LongB']  \n",
    "    # Running the function, based on the previous parameters, for SatB\n",
    "    DfTimeB['distance']= distance_to_GPS(s_lat, s_lng, e_lat, e_lng)\n",
    "    \n",
    "    s_lat = GPSLat; e_lat = DfTimeC['LatC']; s_lng = GPSLong; e_lng = DfTimeC['LongC']  \n",
    "    # Running the function, based on the previous parameters, for SatC\n",
    "    DfTimeC['distance']= distance_to_GPS(s_lat, s_lng, e_lat, e_lng) \n",
    "    \n",
    "    #3.2 Computing the R distance.\n",
    "    DfTimeA['r']= Kradius(GPSLat)\n",
    "    DfTimeB['r']= Kradius(GPSLat)\n",
    "    DfTimeC['r']= Kradius(GPSLat)\n",
    "    \n",
    "    #3.3 Filtering row that only fall into the computed R value.\n",
    "    dfFinalA=DfTimeA[DfTimeA['distance']<=DfTimeA['r']]\n",
    "    dfFinalB=DfTimeB[DfTimeB['distance']<=DfTimeB['r']]\n",
    "    dfFinalC=DfTimeC[DfTimeC['distance']<=DfTimeC['r']]\n",
    "    \n",
    "    #4. Calculating the number of points per satellite that have passed the Space and Time Windows.\n",
    "    NumSatA = len(dfFinalA.index)\n",
    "    NumSatB = len(dfFinalB.index)\n",
    "    NumSatC = len(dfFinalC.index)\n",
    "    TolSatPts = (NumSatA+NumSatB+NumSatC)\n",
    "    \n",
    "    #5. Getting ride of the unnecesarry columns.\n",
    "    dfFinalA.drop(['Ta'], axis=1, inplace=True) \n",
    "    dfFinalB.drop(['Tb'], axis=1, inplace=True)\n",
    "    dfFinalC.drop(['Tc'], axis=1, inplace=True)\n",
    "    \n",
    "    #6. Formatting columns for the filtered Swarm points to have the same schema.     \n",
    "    dfFinalA.rename(columns={\"LatA\": \"Lat\", \"LongA\": \"Long\", \"Na\": \"N\", \"Ea\": \"E\", \"Ca\": \"C\", \"dTa\": \"dT\"}, inplace=True)\n",
    "    dfFinalB.rename(columns={\"LatB\": \"Lat\", \"LongB\": \"Long\", \"Nb\": \"N\", \"Eb\": \"E\", \"Cb\": \"C\", \"dTb\": \"dT\"}, inplace=True)\n",
    "    dfFinalC.rename(columns={\"LatC\": \"Lat\", \"LongC\": \"Long\", \"Nc\": \"N\", \"Ec\": \"E\", \"Cc\": \"C\", \"dTc\": \"dT\"}, inplace=True)\n",
    "    \n",
    "    #7. Combining the three satellited messures into a bigger dataframe that store all the Swarm points that were filtered. \n",
    "    frames = [dfFinalA, dfFinalB, dfFinalC] #List to index the specific SatId to the new full DF.\n",
    "    SwarmData = pd.concat(frames, keys=['A', 'B', 'C'], sort=False)\n",
    "    \n",
    "    #8. Computing the minimum distance and the average distance.\n",
    "    MinDistance = SwarmData['distance'].min()\n",
    "    AvDistance = SwarmData['distance'].mean()\n",
    "    \n",
    "    #9. Computing the d (hypotenuse compused from the edges ds, dt values\n",
    "    ds = SwarmData['distance']\n",
    "    r = SwarmData['r']\n",
    "    dt = SwarmData['dT']\n",
    "    SwarmData['Dj']= DistJ(ds, r, dt, DT)\n",
    "   \n",
    "    #10 Calculating the weigth values based on the previuos parameters.\n",
    "    SwarmData['W']= 1/((SwarmData['Dj'])**2)\n",
    "    \n",
    "    #11. Computing the Sum of weigths\n",
    "    SumW = SwarmData['W'].sum()\n",
    "    #12. Distribution of weigths\n",
    "    SwarmData['Wj'] = SwarmData['W']/SumW\n",
    "    \n",
    "    #13. Computing the Magnetic componente based on the weigths prevoius weigths. \n",
    "    Ngps = (SwarmData['Wj']*SwarmData['N']).sum()\n",
    "    Egps = (SwarmData['Wj']*SwarmData['E']).sum()\n",
    "    Cgps = (SwarmData['Wj']*SwarmData['C']).sum()\n",
    "\n",
    "    #14. Having Intepolated and weigth magnetic values, we can compute the other magnectic components. \n",
    "    Hgps = np.sqrt((Ngps**2)+(Egps**2))\n",
    "    DgpsRad = np.arctan(Egps/Ngps)\n",
    "    Dgps = np.degrees(DgpsRad)\n",
    "    Fgps = np.sqrt((Ngps**2)+(Egps**2)+(Cgps**2))\n",
    "    IgpsRad = np.arctan(Cgps/Hgps)\n",
    "    Igps = np.degrees(IgpsRad)\n",
    "    #15. Write the results into an array that will be a dictionay for the final dataframe.\n",
    "    resultrow = {'Latitude': GPSLat, 'Longitude': GPSLong, 'DateTime': GPSDateTime, 'Fgps':Fgps, 'N': Ngps, 'E': Egps, 'C':Cgps, 'H':Hgps, 'D':Dgps,'I':Igps, 'TotalPoints':TolSatPts, 'MinDist':MinDistance, 'AvDist':AvDistance}  \n",
    "    return resultrow"
   ]
  },
  {
   "cell_type": "markdown",
   "metadata": {},
   "source": [
    "**6.** Loop to run the `SwarmMagAnnotation` function, for each GPS Point, getting the `Latitude`, `Longitude`, `DateTime`, `Epoch`, and a `DT` of **4 hours** (1440 seconds). The return of every iteration will be include in a empty list using the `append` function."
   ]
  },
  {
   "cell_type": "code",
   "execution_count": null,
   "metadata": {
    "ExecuteTime": {
     "end_time": "2020-08-20T20:12:47.617657Z",
     "start_time": "2020-08-20T20:11:26.431232Z"
    },
    "scrolled": true
   },
   "outputs": [],
   "source": [
    "%%time\n",
    "#Sequential mode, applying a traditional loop using iterrows.\n",
    "DT= 14400\n",
    "if __name__ == '__main__':\n",
    "    dn = [] ## List used to add all the GPS points with the annotated MAG Data. See the last bullet point of this process        \n",
    "    for index, row in GPSData.iterrows():\n",
    "        GPSLat = row['gpsLat']\n",
    "        GPSLong = row['gpsLong']\n",
    "        GPSDateTime = row['gpsDateTime']\n",
    "        GPSTime = row['epoch']\n",
    "        print(\"Process for:\", index,\"Epoch:\",GPSDateTime)\n",
    "        result=SwarmMagAnnotation(GPSLat,GPSLong,GPSDateTime,GPSTime, DT)\n",
    "        dn.append(result)"
   ]
  },
  {
   "cell_type": "markdown",
   "metadata": {},
   "source": [
    "**7.** Parsing the appended list to a dataframe and display the results."
   ]
  },
  {
   "cell_type": "code",
   "execution_count": 35,
   "metadata": {
    "ExecuteTime": {
     "end_time": "2020-08-20T20:17:27.853008Z",
     "start_time": "2020-08-20T20:17:27.780015Z"
    }
   },
   "outputs": [
    {
     "data": {
      "text/html": [
       "<div>\n",
       "<style scoped>\n",
       "    .dataframe tbody tr th:only-of-type {\n",
       "        vertical-align: middle;\n",
       "    }\n",
       "\n",
       "    .dataframe tbody tr th {\n",
       "        vertical-align: top;\n",
       "    }\n",
       "\n",
       "    .dataframe thead th {\n",
       "        text-align: right;\n",
       "    }\n",
       "</style>\n",
       "<table border=\"1\" class=\"dataframe\">\n",
       "  <thead>\n",
       "    <tr style=\"text-align: right;\">\n",
       "      <th></th>\n",
       "      <th>Latitude</th>\n",
       "      <th>Longitude</th>\n",
       "      <th>DateTime</th>\n",
       "      <th>Fgps</th>\n",
       "      <th>N</th>\n",
       "      <th>E</th>\n",
       "      <th>C</th>\n",
       "      <th>H</th>\n",
       "      <th>D</th>\n",
       "      <th>I</th>\n",
       "      <th>TotalPoints</th>\n",
       "      <th>MinDist</th>\n",
       "      <th>AvDist</th>\n",
       "    </tr>\n",
       "  </thead>\n",
       "  <tbody>\n",
       "    <tr>\n",
       "      <th>0</th>\n",
       "      <td>70.854717</td>\n",
       "      <td>68.307333</td>\n",
       "      <td>2014-09-08 05:54:00</td>\n",
       "      <td>58263.516606</td>\n",
       "      <td>6533.771524</td>\n",
       "      <td>3145.053928</td>\n",
       "      <td>57810.516628</td>\n",
       "      <td>7251.312608</td>\n",
       "      <td>25.704002</td>\n",
       "      <td>82.850591</td>\n",
       "      <td>21</td>\n",
       "      <td>327.950987</td>\n",
       "      <td>626.701218</td>\n",
       "    </tr>\n",
       "    <tr>\n",
       "      <th>1</th>\n",
       "      <td>70.830300</td>\n",
       "      <td>67.975050</td>\n",
       "      <td>2014-09-08 06:10:00</td>\n",
       "      <td>58261.123705</td>\n",
       "      <td>6538.091436</td>\n",
       "      <td>3149.741775</td>\n",
       "      <td>57807.361318</td>\n",
       "      <td>7257.238653</td>\n",
       "      <td>25.722557</td>\n",
       "      <td>82.844422</td>\n",
       "      <td>21</td>\n",
       "      <td>340.038476</td>\n",
       "      <td>628.953831</td>\n",
       "    </tr>\n",
       "    <tr>\n",
       "      <th>2</th>\n",
       "      <td>70.761717</td>\n",
       "      <td>67.752417</td>\n",
       "      <td>2014-09-08 06:26:00</td>\n",
       "      <td>58058.984855</td>\n",
       "      <td>6682.091934</td>\n",
       "      <td>3212.055102</td>\n",
       "      <td>57583.661501</td>\n",
       "      <td>7414.017169</td>\n",
       "      <td>25.673409</td>\n",
       "      <td>82.663410</td>\n",
       "      <td>26</td>\n",
       "      <td>348.223318</td>\n",
       "      <td>656.804069</td>\n",
       "    </tr>\n",
       "    <tr>\n",
       "      <th>3</th>\n",
       "      <td>70.686517</td>\n",
       "      <td>67.561983</td>\n",
       "      <td>2014-09-08 06:42:00</td>\n",
       "      <td>58056.861413</td>\n",
       "      <td>6699.935204</td>\n",
       "      <td>3220.395629</td>\n",
       "      <td>57578.981212</td>\n",
       "      <td>7433.712380</td>\n",
       "      <td>25.671765</td>\n",
       "      <td>82.643543</td>\n",
       "      <td>26</td>\n",
       "      <td>355.472899</td>\n",
       "      <td>657.901776</td>\n",
       "    </tr>\n",
       "    <tr>\n",
       "      <th>4</th>\n",
       "      <td>70.685450</td>\n",
       "      <td>67.548317</td>\n",
       "      <td>2014-09-08 07:14:00</td>\n",
       "      <td>58045.681746</td>\n",
       "      <td>6704.933680</td>\n",
       "      <td>3235.486162</td>\n",
       "      <td>57566.280608</td>\n",
       "      <td>7444.763687</td>\n",
       "      <td>25.759774</td>\n",
       "      <td>82.631119</td>\n",
       "      <td>26</td>\n",
       "      <td>355.980432</td>\n",
       "      <td>657.921513</td>\n",
       "    </tr>\n",
       "    <tr>\n",
       "      <th>5</th>\n",
       "      <td>70.685750</td>\n",
       "      <td>67.549433</td>\n",
       "      <td>2014-09-08 07:30:00</td>\n",
       "      <td>58025.343330</td>\n",
       "      <td>6715.628143</td>\n",
       "      <td>3249.373034</td>\n",
       "      <td>57543.743205</td>\n",
       "      <td>7460.434738</td>\n",
       "      <td>25.820132</td>\n",
       "      <td>82.612918</td>\n",
       "      <td>26</td>\n",
       "      <td>355.937927</td>\n",
       "      <td>657.916808</td>\n",
       "    </tr>\n",
       "    <tr>\n",
       "      <th>6</th>\n",
       "      <td>70.690333</td>\n",
       "      <td>67.530983</td>\n",
       "      <td>2014-09-08 07:46:00</td>\n",
       "      <td>57990.038391</td>\n",
       "      <td>6733.573966</td>\n",
       "      <td>3269.069234</td>\n",
       "      <td>57504.927793</td>\n",
       "      <td>7485.174147</td>\n",
       "      <td>25.896016</td>\n",
       "      <td>82.583747</td>\n",
       "      <td>26</td>\n",
       "      <td>356.593532</td>\n",
       "      <td>657.856468</td>\n",
       "    </tr>\n",
       "    <tr>\n",
       "      <th>7</th>\n",
       "      <td>70.692683</td>\n",
       "      <td>67.506233</td>\n",
       "      <td>2014-09-08 08:03:00</td>\n",
       "      <td>57936.413695</td>\n",
       "      <td>6762.515584</td>\n",
       "      <td>3296.360226</td>\n",
       "      <td>57445.891272</td>\n",
       "      <td>7523.138160</td>\n",
       "      <td>25.986727</td>\n",
       "      <td>82.538981</td>\n",
       "      <td>26</td>\n",
       "      <td>357.491672</td>\n",
       "      <td>657.831026</td>\n",
       "    </tr>\n",
       "    <tr>\n",
       "      <th>8</th>\n",
       "      <td>70.692533</td>\n",
       "      <td>67.506167</td>\n",
       "      <td>2014-09-08 08:34:00</td>\n",
       "      <td>57803.666217</td>\n",
       "      <td>6836.087914</td>\n",
       "      <td>3357.377373</td>\n",
       "      <td>57299.736015</td>\n",
       "      <td>7616.041018</td>\n",
       "      <td>26.156834</td>\n",
       "      <td>82.428862</td>\n",
       "      <td>26</td>\n",
       "      <td>357.494814</td>\n",
       "      <td>657.833213</td>\n",
       "    </tr>\n",
       "    <tr>\n",
       "      <th>9</th>\n",
       "      <td>70.692583</td>\n",
       "      <td>67.506383</td>\n",
       "      <td>2014-09-08 08:50:00</td>\n",
       "      <td>57718.201582</td>\n",
       "      <td>6883.306232</td>\n",
       "      <td>3391.968293</td>\n",
       "      <td>57205.816490</td>\n",
       "      <td>7673.679273</td>\n",
       "      <td>26.233241</td>\n",
       "      <td>82.359861</td>\n",
       "      <td>26</td>\n",
       "      <td>357.486638</td>\n",
       "      <td>657.832415</td>\n",
       "    </tr>\n",
       "  </tbody>\n",
       "</table>\n",
       "</div>"
      ],
      "text/plain": [
       "    Latitude  Longitude            DateTime          Fgps            N  \\\n",
       "0  70.854717  68.307333 2014-09-08 05:54:00  58263.516606  6533.771524   \n",
       "1  70.830300  67.975050 2014-09-08 06:10:00  58261.123705  6538.091436   \n",
       "2  70.761717  67.752417 2014-09-08 06:26:00  58058.984855  6682.091934   \n",
       "3  70.686517  67.561983 2014-09-08 06:42:00  58056.861413  6699.935204   \n",
       "4  70.685450  67.548317 2014-09-08 07:14:00  58045.681746  6704.933680   \n",
       "5  70.685750  67.549433 2014-09-08 07:30:00  58025.343330  6715.628143   \n",
       "6  70.690333  67.530983 2014-09-08 07:46:00  57990.038391  6733.573966   \n",
       "7  70.692683  67.506233 2014-09-08 08:03:00  57936.413695  6762.515584   \n",
       "8  70.692533  67.506167 2014-09-08 08:34:00  57803.666217  6836.087914   \n",
       "9  70.692583  67.506383 2014-09-08 08:50:00  57718.201582  6883.306232   \n",
       "\n",
       "             E             C            H          D          I  TotalPoints  \\\n",
       "0  3145.053928  57810.516628  7251.312608  25.704002  82.850591           21   \n",
       "1  3149.741775  57807.361318  7257.238653  25.722557  82.844422           21   \n",
       "2  3212.055102  57583.661501  7414.017169  25.673409  82.663410           26   \n",
       "3  3220.395629  57578.981212  7433.712380  25.671765  82.643543           26   \n",
       "4  3235.486162  57566.280608  7444.763687  25.759774  82.631119           26   \n",
       "5  3249.373034  57543.743205  7460.434738  25.820132  82.612918           26   \n",
       "6  3269.069234  57504.927793  7485.174147  25.896016  82.583747           26   \n",
       "7  3296.360226  57445.891272  7523.138160  25.986727  82.538981           26   \n",
       "8  3357.377373  57299.736015  7616.041018  26.156834  82.428862           26   \n",
       "9  3391.968293  57205.816490  7673.679273  26.233241  82.359861           26   \n",
       "\n",
       "      MinDist      AvDist  \n",
       "0  327.950987  626.701218  \n",
       "1  340.038476  628.953831  \n",
       "2  348.223318  656.804069  \n",
       "3  355.472899  657.901776  \n",
       "4  355.980432  657.921513  \n",
       "5  355.937927  657.916808  \n",
       "6  356.593532  657.856468  \n",
       "7  357.491672  657.831026  \n",
       "8  357.494814  657.833213  \n",
       "9  357.486638  657.832415  "
      ]
     },
     "execution_count": 35,
     "metadata": {},
     "output_type": "execute_result"
    }
   ],
   "source": [
    "GeoMagResults = pd.DataFrame(dn)\n",
    "# SwarmAnnotation.describe()"
   ]
  },
  {
   "cell_type": "markdown",
   "metadata": {},
   "source": [
    "##  The final result \n",
    "\n",
    "<div class=\"alert alert-info\" role=\"alert\">\n",
    "    <strong>📘 The annotated dataframe will include the following attributes:</strong> If you need more information about how the geomagnetic component are described go to the main MagGeo Notebook (Add Link).\n",
    "    <ul>\n",
    "      <li><strong>Latitude</strong> from the GPS Track.</li>\n",
    "      <li><strong>Longitude</strong> from the GPS Track.</li>\n",
    "      <li><strong>Timestamp</strong> from the GPS Track.</li>\n",
    "      <li><strong>Magnetic Field Intensity</strong>  mapped as Fgps in nanoTeslas (nT).</li>\n",
    "      <li><strong>N (Northwards) component</strong> mapped as N in nanoTeslas (nT).</li>\n",
    "      <li><strong>E (Eastwards) component</strong> mapped as E. in nanoteslas (nT).</li>\n",
    "      <li><strong>C (Downwards or Center)</strong> component mapped as C in nanoTeslas (nT).</li>\n",
    "      <li><strong>Horizontal component</strong> mapped as H in nanoTeslas (nT).</li>\n",
    "      <li><strong>Magnetic Declination or dip angle</strong> mapped as D in degrees</li>\n",
    "        <li><strong>Total Points</strong> as the amount of Swarm messuares included in the ST-IDW process from the trajectories requested in the three satellites.</li>\n",
    "        <li><strong>Minimum Distance</strong> mapped as MinDist, representing the minimum distance amount the set of identified point inside the Space Time cylinder and each GPS point location.</li>\n",
    "        <li><strong>Average Distance</strong> mapped as AvDist, representing the average distance amount the set of distances between the identified Swarm Point in the Space Time cylinder and the GPS Points location.</li>\n",
    "    </ul>\n",
    "\n",
    "</div> "
   ]
  },
  {
   "cell_type": "code",
   "execution_count": 43,
   "metadata": {
    "ExecuteTime": {
     "end_time": "2020-08-20T20:18:10.260079Z",
     "start_time": "2020-08-20T20:18:10.196077Z"
    }
   },
   "outputs": [
    {
     "data": {
      "text/html": [
       "<div>\n",
       "<style scoped>\n",
       "    .dataframe tbody tr th:only-of-type {\n",
       "        vertical-align: middle;\n",
       "    }\n",
       "\n",
       "    .dataframe tbody tr th {\n",
       "        vertical-align: top;\n",
       "    }\n",
       "\n",
       "    .dataframe thead th {\n",
       "        text-align: right;\n",
       "    }\n",
       "</style>\n",
       "<table border=\"1\" class=\"dataframe\">\n",
       "  <thead>\n",
       "    <tr style=\"text-align: right;\">\n",
       "      <th></th>\n",
       "      <th>Latitude</th>\n",
       "      <th>Longitude</th>\n",
       "      <th>DateTime</th>\n",
       "      <th>Fgps</th>\n",
       "      <th>N</th>\n",
       "      <th>E</th>\n",
       "      <th>C</th>\n",
       "      <th>H</th>\n",
       "      <th>D</th>\n",
       "      <th>I</th>\n",
       "      <th>TotalPoints</th>\n",
       "      <th>MinDist</th>\n",
       "      <th>AvDist</th>\n",
       "    </tr>\n",
       "  </thead>\n",
       "  <tbody>\n",
       "    <tr>\n",
       "      <th>0</th>\n",
       "      <td>70.854717</td>\n",
       "      <td>68.307333</td>\n",
       "      <td>2014-09-08 05:54:00</td>\n",
       "      <td>58263.516606</td>\n",
       "      <td>6533.771524</td>\n",
       "      <td>3145.053928</td>\n",
       "      <td>57810.516628</td>\n",
       "      <td>7251.312608</td>\n",
       "      <td>25.704002</td>\n",
       "      <td>82.850591</td>\n",
       "      <td>21</td>\n",
       "      <td>327.950987</td>\n",
       "      <td>626.701218</td>\n",
       "    </tr>\n",
       "    <tr>\n",
       "      <th>1</th>\n",
       "      <td>70.830300</td>\n",
       "      <td>67.975050</td>\n",
       "      <td>2014-09-08 06:10:00</td>\n",
       "      <td>58261.123705</td>\n",
       "      <td>6538.091436</td>\n",
       "      <td>3149.741775</td>\n",
       "      <td>57807.361318</td>\n",
       "      <td>7257.238653</td>\n",
       "      <td>25.722557</td>\n",
       "      <td>82.844422</td>\n",
       "      <td>21</td>\n",
       "      <td>340.038476</td>\n",
       "      <td>628.953831</td>\n",
       "    </tr>\n",
       "    <tr>\n",
       "      <th>2</th>\n",
       "      <td>70.761717</td>\n",
       "      <td>67.752417</td>\n",
       "      <td>2014-09-08 06:26:00</td>\n",
       "      <td>58058.984855</td>\n",
       "      <td>6682.091934</td>\n",
       "      <td>3212.055102</td>\n",
       "      <td>57583.661501</td>\n",
       "      <td>7414.017169</td>\n",
       "      <td>25.673409</td>\n",
       "      <td>82.663410</td>\n",
       "      <td>26</td>\n",
       "      <td>348.223318</td>\n",
       "      <td>656.804069</td>\n",
       "    </tr>\n",
       "    <tr>\n",
       "      <th>3</th>\n",
       "      <td>70.686517</td>\n",
       "      <td>67.561983</td>\n",
       "      <td>2014-09-08 06:42:00</td>\n",
       "      <td>58056.861413</td>\n",
       "      <td>6699.935204</td>\n",
       "      <td>3220.395629</td>\n",
       "      <td>57578.981212</td>\n",
       "      <td>7433.712380</td>\n",
       "      <td>25.671765</td>\n",
       "      <td>82.643543</td>\n",
       "      <td>26</td>\n",
       "      <td>355.472899</td>\n",
       "      <td>657.901776</td>\n",
       "    </tr>\n",
       "    <tr>\n",
       "      <th>4</th>\n",
       "      <td>70.685450</td>\n",
       "      <td>67.548317</td>\n",
       "      <td>2014-09-08 07:14:00</td>\n",
       "      <td>58045.681746</td>\n",
       "      <td>6704.933680</td>\n",
       "      <td>3235.486162</td>\n",
       "      <td>57566.280608</td>\n",
       "      <td>7444.763687</td>\n",
       "      <td>25.759774</td>\n",
       "      <td>82.631119</td>\n",
       "      <td>26</td>\n",
       "      <td>355.980432</td>\n",
       "      <td>657.921513</td>\n",
       "    </tr>\n",
       "  </tbody>\n",
       "</table>\n",
       "</div>"
      ],
      "text/plain": [
       "    Latitude  Longitude            DateTime          Fgps            N  \\\n",
       "0  70.854717  68.307333 2014-09-08 05:54:00  58263.516606  6533.771524   \n",
       "1  70.830300  67.975050 2014-09-08 06:10:00  58261.123705  6538.091436   \n",
       "2  70.761717  67.752417 2014-09-08 06:26:00  58058.984855  6682.091934   \n",
       "3  70.686517  67.561983 2014-09-08 06:42:00  58056.861413  6699.935204   \n",
       "4  70.685450  67.548317 2014-09-08 07:14:00  58045.681746  6704.933680   \n",
       "\n",
       "             E             C            H          D          I  TotalPoints  \\\n",
       "0  3145.053928  57810.516628  7251.312608  25.704002  82.850591           21   \n",
       "1  3149.741775  57807.361318  7257.238653  25.722557  82.844422           21   \n",
       "2  3212.055102  57583.661501  7414.017169  25.673409  82.663410           26   \n",
       "3  3220.395629  57578.981212  7433.712380  25.671765  82.643543           26   \n",
       "4  3235.486162  57566.280608  7444.763687  25.759774  82.631119           26   \n",
       "\n",
       "      MinDist      AvDist  \n",
       "0  327.950987  626.701218  \n",
       "1  340.038476  628.953831  \n",
       "2  348.223318  656.804069  \n",
       "3  355.472899  657.901776  \n",
       "4  355.980432  657.921513  "
      ]
     },
     "execution_count": 43,
     "metadata": {},
     "output_type": "execute_result"
    }
   ],
   "source": [
    "GeoMagResults.head()\n",
    "# GeoMagResults.tail()"
   ]
  },
  {
   "cell_type": "markdown",
   "metadata": {},
   "source": [
    "## Validating the results\n",
    "To validate the results we plot the `Fgps`column. You will note that there is an significat outlier with Magnetic Intensity values with Zero."
   ]
  },
  {
   "cell_type": "code",
   "execution_count": 36,
   "metadata": {
    "ExecuteTime": {
     "end_time": "2020-08-20T20:17:30.596772Z",
     "start_time": "2020-08-20T20:17:30.582758Z"
    }
   },
   "outputs": [],
   "source": [
    "## Creating a copy of the results and setting the Datetime Column as dataframe index.\n",
    "ValidateDF = GeoMagResults.copy()\n",
    "ValidateDF.set_index(\"DateTime\", inplace=True)"
   ]
  },
  {
   "cell_type": "code",
   "execution_count": 37,
   "metadata": {
    "ExecuteTime": {
     "end_time": "2020-08-20T20:17:32.474712Z",
     "start_time": "2020-08-20T20:17:31.899719Z"
    }
   },
   "outputs": [
    {
     "data": {
      "image/png": "[encoded data removed]",
      "text/plain": [
       "<Figure size 432x288 with 1 Axes>"
      ]
     },
     "metadata": {
      "needs_background": "light"
     },
     "output_type": "display_data"
    }
   ],
   "source": [
    "## Plotting the Fgps column.\n",
    "import matplotlib.pyplot as plt\n",
    "hist = ValidateDF.hist(column='Fgps')"
   ]
  },
  {
   "cell_type": "markdown",
   "metadata": {},
   "source": [
    "<div class=\"alert alert-warning\" role=\"alert\">\n",
    "  <strong>🔈  Note: 🔈 </strong>\n",
    "    <br> Based on the previous plot you can realize that there were over 100 point with Zero value for Magnetic intensity. Having Zero values means that there were no Swarm points into the <strong>ST-Cylinder</strong> (see the MagGeo Main Notebook) for certain rows with specific date and time. This could be a common output when we use satellite data source, as the mission could have maintenance, calibration or other data processing chain issues. For  more information, you might want to check <a href=\"https://earth.esa.int/web/guest/missions/esa-eo-missions/swarm/operational-news\">Swarm Operational News website</a>.\n",
    "</div>"
   ]
  },
  {
   "cell_type": "markdown",
   "metadata": {},
   "source": [
    "## Optional: Mapping the GPS Track using the annotated Magnetic Values\n",
    "\n",
    "Now we are going to plot the annotated GPS track stored into the MagDataFinal dataframe to see how the different magnetic components in a map to have a better prespective of the impact of the earth magnetic field."
   ]
  },
  {
   "cell_type": "code",
   "execution_count": 45,
   "metadata": {
    "ExecuteTime": {
     "end_time": "2020-08-20T20:18:17.745986Z",
     "start_time": "2020-08-20T20:18:16.665997Z"
    }
   },
   "outputs": [
    {
     "data": {
      "image/png": "[encoded data removed]",
      "text/plain": [
       "<Figure size 720x504 with 2 Axes>"
      ]
     },
     "metadata": {
      "needs_background": "light"
     },
     "output_type": "display_data"
    }
   ],
   "source": [
    "import matplotlib.pyplot as plt\n",
    "\n",
    "GeoMagResults.plot(kind=\"scatter\", x=\"Latitude\", y=\"Longitude\",\n",
    "    label=\"Magnetic Intensity\",\n",
    "    c=\"Fgps\", cmap=plt.get_cmap(\"gist_rainbow\"),\n",
    "    colorbar=True, alpha=0.4, figsize=(10,7)\n",
    "    \n",
    ")\n",
    "\n",
    "plt.ylabel(\"Longitude\", fontsize=12)\n",
    "plt.xlabel(\"Latitude\", fontsize=12)\n",
    "plt.legend(fontsize=12)\n",
    "plt.show()"
   ]
  },
  {
   "cell_type": "code",
   "execution_count": 46,
   "metadata": {
    "ExecuteTime": {
     "end_time": "2020-08-20T20:18:22.305602Z",
     "start_time": "2020-08-20T20:18:19.279735Z"
    }
   },
   "outputs": [
    {
     "data": {
      "text/html": [
       "<div>\n",
       "<style scoped>\n",
       "    .dataframe tbody tr th:only-of-type {\n",
       "        vertical-align: middle;\n",
       "    }\n",
       "\n",
       "    .dataframe tbody tr th {\n",
       "        vertical-align: top;\n",
       "    }\n",
       "\n",
       "    .dataframe thead th {\n",
       "        text-align: right;\n",
       "    }\n",
       "</style>\n",
       "<table border=\"1\" class=\"dataframe\">\n",
       "  <thead>\n",
       "    <tr style=\"text-align: right;\">\n",
       "      <th></th>\n",
       "      <th>Latitude</th>\n",
       "      <th>Longitude</th>\n",
       "      <th>DateTime</th>\n",
       "      <th>Fgps</th>\n",
       "      <th>N</th>\n",
       "      <th>E</th>\n",
       "      <th>C</th>\n",
       "      <th>H</th>\n",
       "      <th>D</th>\n",
       "      <th>I</th>\n",
       "      <th>TotalPoints</th>\n",
       "      <th>MinDist</th>\n",
       "      <th>AvDist</th>\n",
       "      <th>geometry</th>\n",
       "    </tr>\n",
       "  </thead>\n",
       "  <tbody>\n",
       "    <tr>\n",
       "      <th>0</th>\n",
       "      <td>70.854717</td>\n",
       "      <td>68.307333</td>\n",
       "      <td>2014-09-08 05:54:00</td>\n",
       "      <td>58263.516606</td>\n",
       "      <td>6533.771524</td>\n",
       "      <td>3145.053928</td>\n",
       "      <td>57810.516628</td>\n",
       "      <td>7251.312608</td>\n",
       "      <td>25.704002</td>\n",
       "      <td>82.850591</td>\n",
       "      <td>21</td>\n",
       "      <td>327.950987</td>\n",
       "      <td>626.701218</td>\n",
       "      <td>POINT (68.30733 70.85472)</td>\n",
       "    </tr>\n",
       "    <tr>\n",
       "      <th>1</th>\n",
       "      <td>70.830300</td>\n",
       "      <td>67.975050</td>\n",
       "      <td>2014-09-08 06:10:00</td>\n",
       "      <td>58261.123705</td>\n",
       "      <td>6538.091436</td>\n",
       "      <td>3149.741775</td>\n",
       "      <td>57807.361318</td>\n",
       "      <td>7257.238653</td>\n",
       "      <td>25.722557</td>\n",
       "      <td>82.844422</td>\n",
       "      <td>21</td>\n",
       "      <td>340.038476</td>\n",
       "      <td>628.953831</td>\n",
       "      <td>POINT (67.97505 70.83030)</td>\n",
       "    </tr>\n",
       "    <tr>\n",
       "      <th>2</th>\n",
       "      <td>70.761717</td>\n",
       "      <td>67.752417</td>\n",
       "      <td>2014-09-08 06:26:00</td>\n",
       "      <td>58058.984855</td>\n",
       "      <td>6682.091934</td>\n",
       "      <td>3212.055102</td>\n",
       "      <td>57583.661501</td>\n",
       "      <td>7414.017169</td>\n",
       "      <td>25.673409</td>\n",
       "      <td>82.663410</td>\n",
       "      <td>26</td>\n",
       "      <td>348.223318</td>\n",
       "      <td>656.804069</td>\n",
       "      <td>POINT (67.75242 70.76172)</td>\n",
       "    </tr>\n",
       "    <tr>\n",
       "      <th>3</th>\n",
       "      <td>70.686517</td>\n",
       "      <td>67.561983</td>\n",
       "      <td>2014-09-08 06:42:00</td>\n",
       "      <td>58056.861413</td>\n",
       "      <td>6699.935204</td>\n",
       "      <td>3220.395629</td>\n",
       "      <td>57578.981212</td>\n",
       "      <td>7433.712380</td>\n",
       "      <td>25.671765</td>\n",
       "      <td>82.643543</td>\n",
       "      <td>26</td>\n",
       "      <td>355.472899</td>\n",
       "      <td>657.901776</td>\n",
       "      <td>POINT (67.56198 70.68652)</td>\n",
       "    </tr>\n",
       "    <tr>\n",
       "      <th>4</th>\n",
       "      <td>70.685450</td>\n",
       "      <td>67.548317</td>\n",
       "      <td>2014-09-08 07:14:00</td>\n",
       "      <td>58045.681746</td>\n",
       "      <td>6704.933680</td>\n",
       "      <td>3235.486162</td>\n",
       "      <td>57566.280608</td>\n",
       "      <td>7444.763687</td>\n",
       "      <td>25.759774</td>\n",
       "      <td>82.631119</td>\n",
       "      <td>26</td>\n",
       "      <td>355.980432</td>\n",
       "      <td>657.921513</td>\n",
       "      <td>POINT (67.54832 70.68545)</td>\n",
       "    </tr>\n",
       "  </tbody>\n",
       "</table>\n",
       "</div>"
      ],
      "text/plain": [
       "    Latitude  Longitude            DateTime          Fgps            N  \\\n",
       "0  70.854717  68.307333 2014-09-08 05:54:00  58263.516606  6533.771524   \n",
       "1  70.830300  67.975050 2014-09-08 06:10:00  58261.123705  6538.091436   \n",
       "2  70.761717  67.752417 2014-09-08 06:26:00  58058.984855  6682.091934   \n",
       "3  70.686517  67.561983 2014-09-08 06:42:00  58056.861413  6699.935204   \n",
       "4  70.685450  67.548317 2014-09-08 07:14:00  58045.681746  6704.933680   \n",
       "\n",
       "             E             C            H          D          I  TotalPoints  \\\n",
       "0  3145.053928  57810.516628  7251.312608  25.704002  82.850591           21   \n",
       "1  3149.741775  57807.361318  7257.238653  25.722557  82.844422           21   \n",
       "2  3212.055102  57583.661501  7414.017169  25.673409  82.663410           26   \n",
       "3  3220.395629  57578.981212  7433.712380  25.671765  82.643543           26   \n",
       "4  3235.486162  57566.280608  7444.763687  25.759774  82.631119           26   \n",
       "\n",
       "      MinDist      AvDist                   geometry  \n",
       "0  327.950987  626.701218  POINT (68.30733 70.85472)  \n",
       "1  340.038476  628.953831  POINT (67.97505 70.83030)  \n",
       "2  348.223318  656.804069  POINT (67.75242 70.76172)  \n",
       "3  355.472899  657.901776  POINT (67.56198 70.68652)  \n",
       "4  355.980432  657.921513  POINT (67.54832 70.68545)  "
      ]
     },
     "execution_count": 46,
     "metadata": {},
     "output_type": "execute_result"
    }
   ],
   "source": [
    "import geopandas\n",
    "import geoplot\n",
    "gdf = geopandas.GeoDataFrame(GeoMagResults, geometry=geopandas.points_from_xy(GeoMagResults.Longitude, GeoMagResults.Latitude))\n",
    "gdf.head()"
   ]
  },
  {
   "cell_type": "code",
   "execution_count": 47,
   "metadata": {
    "ExecuteTime": {
     "end_time": "2020-08-20T20:18:24.813356Z",
     "start_time": "2020-08-20T20:18:23.409352Z"
    }
   },
   "outputs": [
    {
     "data": {
      "image/png": "[encoded data removed]",
      "text/plain": [
       "<Figure size 576x432 with 2 Axes>"
      ]
     },
     "metadata": {
      "needs_background": "light"
     },
     "output_type": "display_data"
    }
   ],
   "source": [
    "world = geopandas.read_file(geopandas.datasets.get_path('naturalearth_lowres'))\n",
    "# We restrict to South America.\n",
    "ax = world.plot(color='white', edgecolor='black', figsize = (8,6))\n",
    "\n",
    "# We can now plot our ``GeoDataFrame``.\n",
    "gdf.plot(ax=ax, column='Fgps', legend=True, \n",
    "         legend_kwds={'label': \"Magnetic Intensity in nT\",\n",
    "                      'orientation': \"horizontal\"})\n",
    "plt.ylabel(\"Longitude\", fontsize=9)\n",
    "plt.xlabel(\"Latitude\", fontsize=9)\n",
    "\n",
    "plt.show()"
   ]
  },
  {
   "cell_type": "code",
   "execution_count": 48,
   "metadata": {
    "ExecuteTime": {
     "end_time": "2020-08-20T20:18:29.105695Z",
     "start_time": "2020-08-20T20:18:26.483666Z"
    }
   },
   "outputs": [
    {
     "data": {
      "text/plain": [
       "Text(567.7954545454544, 0.5, 'Longitude')"
      ]
     },
     "execution_count": 48,
     "metadata": {},
     "output_type": "execute_result"
    },
    {
     "data": {
      "image/png": "[encoded data removed]",
      "text/plain": [
       "<Figure size 1080x432 with 4 Axes>"
      ]
     },
     "metadata": {
      "needs_background": "light"
     },
     "output_type": "display_data"
    }
   ],
   "source": [
    "fig, (ax1, ax2) = plt.subplots(ncols=2, figsize = (15,6))\n",
    "\n",
    "ax1 = world.plot(ax=ax1, color='white', edgecolor='black')\n",
    "xlim = ([gdf.total_bounds[0],  gdf.total_bounds[2]])\n",
    "ylim = ([gdf.total_bounds[1],  gdf.total_bounds[3]])\n",
    "ax1.set_xlim(xlim)\n",
    "ax1.set_ylim(ylim)\n",
    "\n",
    "\n",
    "gdf.plot(ax=ax1, column='Fgps', legend=True,\n",
    "         legend_kwds={'label': \"Magnetic Intensity in nT\",\n",
    "                      'orientation': \"horizontal\"})\n",
    "plt.ylabel(\"Longitude\", fontsize=9)\n",
    "plt.xlabel(\"Latitude\", fontsize=9)\n",
    "ax1.set_title('Magnetic Intensity - F')\n",
    "ax1.set_xlabel('Latitude')\n",
    "ax1.set_ylabel('Longitude')\n",
    "\n",
    "\n",
    "ax2 = world.plot( ax=ax2, color='white', edgecolor='black')\n",
    "xlim = ([gdf.total_bounds[0],  gdf.total_bounds[2]])\n",
    "ylim = ([gdf.total_bounds[1],  gdf.total_bounds[3]])\n",
    "ax2.set_xlim(xlim)\n",
    "ax2.set_ylim(ylim)\n",
    "\n",
    "\n",
    "# We can now plot our ``GeoDataFrame``.\n",
    "gdf.plot(ax=ax2, column='D', legend=True, cmap='Spectral', \n",
    "         legend_kwds={'label': \" Declination in Degrees\",\n",
    "                      'orientation': \"horizontal\"})\n",
    "ax2.set_title('Declination - D')\n",
    "ax2.set_xlabel('Latitude')\n",
    "ax2.set_ylabel('Longitude')"
   ]
  },
  {
   "cell_type": "markdown",
   "metadata": {},
   "source": [
    "## Exporting the final results to a CSV file"
   ]
  },
  {
   "cell_type": "code",
   "execution_count": 58,
   "metadata": {
    "ExecuteTime": {
     "end_time": "2020-08-20T20:22:15.781978Z",
     "start_time": "2020-08-20T20:22:15.544983Z"
    }
   },
   "outputs": [],
   "source": [
    "#Exporting the CSV file\n",
    "os.chdir(r\"./results\")\n",
    "outputfile =\"GeoMag_\"+gpsfilename\n",
    "export_csv = GeoMagResults.to_csv (outputfile, index = None, header=True)"
   ]
  }
 ],
 "metadata": {
  "kernelspec": {
   "display_name": "Python 3",
   "language": "python",
   "name": "python3"
  },
  "language_info": {
   "codemirror_mode": {
    "name": "ipython",
    "version": 3
   },
   "file_extension": ".py",
   "mimetype": "text/x-python",
   "name": "python",
   "nbconvert_exporter": "python",
   "pygments_lexer": "ipython3",
   "version": "3.8.1"
  },
  "toc": {
   "base_numbering": 1,
   "nav_menu": {},
   "number_sections": true,
   "sideBar": true,
   "skip_h1_title": false,
   "title_cell": "Table of Contents",
   "title_sidebar": "Contents",
   "toc_cell": false,
   "toc_position": {
    "height": "calc(100% - 180px)",
    "left": "10px",
    "top": "150px",
    "width": "540px"
   },
   "toc_section_display": true,
   "toc_window_display": true
  }
 },
 "nbformat": 4,
 "nbformat_minor": 4
}
