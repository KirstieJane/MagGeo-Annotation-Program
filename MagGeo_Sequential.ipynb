{
 "cells": [
  {
   "cell_type": "markdown",
   "metadata": {},
   "source": [
    "# MagGeo v1.0 - Sequential Mode \n",
    "\n",
    "**Authors** | Fernando Benitez-Paez, Urška Demšar, Jed Long\n",
    "\n",
    "**Contact**  | [Fernando.Benitez@st-andrews.ac.uk](mailto:Fernando.Benitez@st-andrews.ac.uk), [ud2@st-andrews.ac.uk](mailto:ud2@st-andrews.ac.uk), <jed.long@uwo.ca>\n",
    "\n",
    "**nbviewer URL** | https://nbviewer.jupyter.org/github/MagGeo/MagGeo-Annotation-Program/blob/master/MagGeo_Sequential.ipynb\n",
    "\n",
    "**Keywords** | Bird migration, data fusion, Earth’s magnetic field, Swarm, GPS tracking "
   ]
  },
  {
   "cell_type": "markdown",
   "metadata": {},
   "source": [
    "## Overview\n",
    "\n",
    "This Jupyter Notebook will guide you through the required steps to annotate your GPS track with the earth's magnetic field components from Swarm (a European Spatial Agency mission), using the sequential Mode. If you need more information about Swarm mission go to the Main document, then concept requirements. This script will use a sequential loop to run an annotation process for each GPS Point (row) from your data.\n",
    "\n",
    "Each cell is properly described. You can go through each cell (pressing <code>Crtl+Enter</code>), you will also find inner comments `##` to describe any particular step that might be confused. The process has several cells with commands only required to validated some intermediary results and help you to understand how the data is being manipulated. If you are not familiar with Jupyter Notebook, you migth want to take some time learning how to use it, exploring the <code>notebook-basics.ipynb</code> Notebook inside MagGeo. "
   ]
  },
  {
   "cell_type": "markdown",
   "metadata": {},
   "source": [
    "## Importing the requeried python libraries"
   ]
  },
  {
   "cell_type": "code",
   "execution_count": 1,
   "metadata": {
    "ExecuteTime": {
     "end_time": "2020-09-15T10:46:02.379049Z",
     "start_time": "2020-09-15T10:45:37.618085Z"
    }
   },
   "outputs": [],
   "source": [
    "from viresclient import SwarmRequest\n",
    "from viresclient import ClientConfig\n",
    "import datetime as dt\n",
    "import sys,os\n",
    "from pathlib import Path\n",
    "import pandas as pd\n",
    "import numpy as np\n",
    "import datetime, time\n",
    "from datetime import timedelta\n",
    "import math\n",
    "import pathlib\n",
    "from datetime import datetime\n",
    "import time\n",
    "import calendar\n",
    "import datetime"
   ]
  },
  {
   "cell_type": "markdown",
   "metadata": {},
   "source": [
    "## Reading the GPS track\n",
    "The following steps will load the GPS track from a csv file, and set some requirements before download the data from Swarm."
   ]
  },
  {
   "cell_type": "markdown",
   "metadata": {},
   "source": [
    "\n",
    "\n",
    "<div class=\"alert alert-warning\" role=\"alert\">\n",
    "  <strong>🔎 Reading your CSV file: </strong>\n",
    "\n",
    "For this example we are reading the <strong>BirdGPSTrajectory.csv</strong> file. If you want to run the method using your own csv file, make sure you store your the file in the <code>./data</code> folder.\n",
    "\n",
    "<img src=\"./images/data_folder.PNG\" >\n",
    "    \n",
    "</div>"
   ]
  },
  {
   "cell_type": "code",
   "execution_count": 55,
   "metadata": {
    "ExecuteTime": {
     "end_time": "2020-09-22T13:07:11.214483Z",
     "start_time": "2020-09-22T13:06:59.502209Z"
    }
   },
   "outputs": [
    {
     "name": "stdout",
     "output_type": "stream",
     "text": [
      "BirdGPSTrajectory.csv\n"
     ]
    }
   ],
   "source": [
    "#Enter the name of your GPS track csv file including the extension .csv  and press Enter (e.g. BirdGPSTrajectory.csv)\n",
    "gpsfilename=input()"
   ]
  },
  {
   "cell_type": "code",
   "execution_count": 83,
   "metadata": {
    "ExecuteTime": {
     "end_time": "2020-09-22T14:42:18.652925Z",
     "start_time": "2020-09-22T14:41:45.058573Z"
    }
   },
   "outputs": [
    {
     "name": "stdout",
     "output_type": "stream",
     "text": [
      "location-lat\n",
      "location-long\n",
      "timestamp\n"
     ]
    }
   ],
   "source": [
    "# Enter the name of your latitude, Longitude, and timestamp columns from your CSV file.\n",
    "# Press enter for each input\n",
    "# (e.g. In our study case we have location-lat, location-long,timestamp)\n",
    "Lat=input()\n",
    "Long=input()\n",
    "DateTime=input()"
   ]
  },
  {
   "cell_type": "code",
   "execution_count": 92,
   "metadata": {
    "ExecuteTime": {
     "end_time": "2020-09-22T14:48:44.174637Z",
     "start_time": "2020-09-22T14:48:44.161407Z"
    }
   },
   "outputs": [],
   "source": [
    "#Enter the name of your csv file. In this example you are loading the BirdGPSTrajectory located at ./data/ folder\n",
    "os.chdir(r\"../data\")\n",
    "def getGPSData():\n",
    "    nfp = pd.read_csv(gpsfilename, parse_dates=[0], encoding='utf-8', dayfirst=True, usecols=[Lat, Long, DateTime])\n",
    "    return nfp"
   ]
  },
  {
   "cell_type": "code",
   "execution_count": 98,
   "metadata": {
    "ExecuteTime": {
     "end_time": "2020-09-22T14:57:31.368367Z",
     "start_time": "2020-09-22T14:57:30.846363Z"
    }
   },
   "outputs": [
    {
     "data": {
      "text/html": [
       "<div>\n",
       "<style scoped>\n",
       "    .dataframe tbody tr th:only-of-type {\n",
       "        vertical-align: middle;\n",
       "    }\n",
       "\n",
       "    .dataframe tbody tr th {\n",
       "        vertical-align: top;\n",
       "    }\n",
       "\n",
       "    .dataframe thead th {\n",
       "        text-align: right;\n",
       "    }\n",
       "</style>\n",
       "<table border=\"1\" class=\"dataframe\">\n",
       "  <thead>\n",
       "    <tr style=\"text-align: right;\">\n",
       "      <th></th>\n",
       "      <th>gpsDateTime</th>\n",
       "      <th>gpsLong</th>\n",
       "      <th>gpsLat</th>\n",
       "    </tr>\n",
       "  </thead>\n",
       "  <tbody>\n",
       "    <tr>\n",
       "      <th>0</th>\n",
       "      <td>2014-09-08 05:54:00</td>\n",
       "      <td>68.307333</td>\n",
       "      <td>70.854717</td>\n",
       "    </tr>\n",
       "    <tr>\n",
       "      <th>1</th>\n",
       "      <td>2014-09-08 06:10:00</td>\n",
       "      <td>67.975050</td>\n",
       "      <td>70.830300</td>\n",
       "    </tr>\n",
       "    <tr>\n",
       "      <th>2</th>\n",
       "      <td>2014-09-08 06:26:00</td>\n",
       "      <td>67.752417</td>\n",
       "      <td>70.761717</td>\n",
       "    </tr>\n",
       "    <tr>\n",
       "      <th>3</th>\n",
       "      <td>2014-09-08 06:42:00</td>\n",
       "      <td>67.561983</td>\n",
       "      <td>70.686517</td>\n",
       "    </tr>\n",
       "    <tr>\n",
       "      <th>4</th>\n",
       "      <td>2014-09-08 07:14:00</td>\n",
       "      <td>67.548317</td>\n",
       "      <td>70.685450</td>\n",
       "    </tr>\n",
       "    <tr>\n",
       "      <th>...</th>\n",
       "      <td>...</td>\n",
       "      <td>...</td>\n",
       "      <td>...</td>\n",
       "    </tr>\n",
       "    <tr>\n",
       "      <th>968</th>\n",
       "      <td>2014-10-01 10:37:00</td>\n",
       "      <td>22.509733</td>\n",
       "      <td>55.214750</td>\n",
       "    </tr>\n",
       "    <tr>\n",
       "      <th>969</th>\n",
       "      <td>2014-10-03 11:28:00</td>\n",
       "      <td>7.292517</td>\n",
       "      <td>53.392167</td>\n",
       "    </tr>\n",
       "    <tr>\n",
       "      <th>970</th>\n",
       "      <td>2014-10-04 07:11:00</td>\n",
       "      <td>5.922067</td>\n",
       "      <td>53.107067</td>\n",
       "    </tr>\n",
       "    <tr>\n",
       "      <th>971</th>\n",
       "      <td>2014-10-04 14:12:00</td>\n",
       "      <td>5.811383</td>\n",
       "      <td>53.014967</td>\n",
       "    </tr>\n",
       "    <tr>\n",
       "      <th>972</th>\n",
       "      <td>2014-10-04 21:05:00</td>\n",
       "      <td>5.729433</td>\n",
       "      <td>53.009167</td>\n",
       "    </tr>\n",
       "  </tbody>\n",
       "</table>\n",
       "<p>973 rows × 3 columns</p>\n",
       "</div>"
      ],
      "text/plain": [
       "            gpsDateTime    gpsLong     gpsLat\n",
       "0   2014-09-08 05:54:00  68.307333  70.854717\n",
       "1   2014-09-08 06:10:00  67.975050  70.830300\n",
       "2   2014-09-08 06:26:00  67.752417  70.761717\n",
       "3   2014-09-08 06:42:00  67.561983  70.686517\n",
       "4   2014-09-08 07:14:00  67.548317  70.685450\n",
       "..                  ...        ...        ...\n",
       "968 2014-10-01 10:37:00  22.509733  55.214750\n",
       "969 2014-10-03 11:28:00   7.292517  53.392167\n",
       "970 2014-10-04 07:11:00   5.922067  53.107067\n",
       "971 2014-10-04 14:12:00   5.811383  53.014967\n",
       "972 2014-10-04 21:05:00   5.729433  53.009167\n",
       "\n",
       "[973 rows x 3 columns]"
      ]
     },
     "execution_count": 98,
     "metadata": {},
     "output_type": "execute_result"
    }
   ],
   "source": [
    "# Calling the previous function to get the track as pandas Dataframe and renaming the columns for better experience.\n",
    "GPSData = getGPSData()\n",
    "GPSData.rename(columns={Lat: 'gpsLat', Long: 'gpsLong', DateTime: 'gpsDateTime'}, inplace = True)\n",
    "GPSData"
   ]
  },
  {
   "cell_type": "markdown",
   "metadata": {},
   "source": [
    "**2.** Setting the date and time attributes for the requerided format and computing the epoch column. Values like Maximum and Minimun Date and time are also calculated."
   ]
  },
  {
   "cell_type": "code",
   "execution_count": 99,
   "metadata": {
    "ExecuteTime": {
     "end_time": "2020-09-22T14:57:38.060498Z",
     "start_time": "2020-09-22T14:57:37.949500Z"
    }
   },
   "outputs": [],
   "source": [
    "#2.1 Convert the gpsDateTime to datetime python object\n",
    "GPSData['gpsDateTime'] = pd.to_datetime(GPSData['gpsDateTime'], format='%d/%m/%Y %H:%M:%S')\n",
    "GPSData['gpsDateTime'] = GPSData['gpsDateTime'].map(lambda x: x.replace(second=0))\n",
    "GPSData['gpsLat'] = GPSData['gpsLat'].astype(float)\n",
    "#2.2 Adding new column epoch, will be usefuel to compare the date&time o each gps point againts the gathered swmarm data points\n",
    "GPSData['epoch'] = GPSData['gpsDateTime'].astype('int64')//1e9\n",
    "GPSData['epoch'] = GPSData['epoch'].astype(int)\n",
    "#2.3 Computing Date and Time columns\n",
    "GPSData['dates'] = GPSData['gpsDateTime'].dt.date\n",
    "GPSData['times'] = GPSData['gpsDateTime'].dt.time\n",
    "#2.4 Maximum and Minimum values\n",
    "MinDateTime = min(GPSData['gpsDateTime'])\n",
    "MaxDateTime = max(GPSData['gpsDateTime'])\n",
    "dt_object1 = MinDateTime.to_pydatetime()\n",
    "dt_object2 = MaxDateTime.to_pydatetime()\n",
    "startDate = MinDateTime.date()\n",
    "endDate = MaxDateTime.date()\n",
    "MinTime=MinDateTime.time()\n",
    "MaxTime=MaxDateTime.time()"
   ]
  },
  {
   "cell_type": "markdown",
   "metadata": {},
   "source": [
    "## Validating the proper amount of Swarm measures\n",
    "The annotation process apply an interpolation process which require for each GPS point time a set of Swarm points in the range of at least 4 hours before and 4 hours after each GPS Point time. To guarantee that all the GPS points have the enough amount of satellites measures."
   ]
  },
  {
   "cell_type": "markdown",
   "metadata": {},
   "source": [
    "**1**. The following loop is identifiying the time and validating if the time is less than 4:00 hours and more than 20:00 hours to bring one extra day of data. The result of this validation is written in a empty python list which will be later validated to get the unique dates avoing to download data for the same day and reducing the the downloand time process."
   ]
  },
  {
   "cell_type": "code",
   "execution_count": 100,
   "metadata": {
    "ExecuteTime": {
     "end_time": "2020-09-22T14:57:45.868401Z",
     "start_time": "2020-09-22T14:57:45.281386Z"
    }
   },
   "outputs": [],
   "source": [
    "datestimeslist = []\n",
    "for index, row in GPSData.iterrows():\n",
    "    datetimerow  = row['gpsDateTime']\n",
    "    daterow = row['dates']\n",
    "    hourrow = row['times']\n",
    "    hourrow = hourrow.strftime('%H:%M:%S')\n",
    "    if hourrow < '04:00:00':\n",
    "        date_bfr = daterow - (timedelta(days=1))\n",
    "        datestimeslist.append(daterow)\n",
    "        datestimeslist.append(date_bfr)\n",
    "    if hourrow > '20:00:00':\n",
    "        Date_aft = daterow + (timedelta(days=1))\n",
    "        datestimeslist.append(daterow)\n",
    "        datestimeslist.append(Date_aft)  \n",
    "    else:\n",
    "        datestimeslist.append(daterow)"
   ]
  },
  {
   "cell_type": "markdown",
   "metadata": {},
   "source": [
    "**2.** Getting a list of unique dates, to being used to download the Swarm Data"
   ]
  },
  {
   "cell_type": "code",
   "execution_count": 101,
   "metadata": {
    "ExecuteTime": {
     "end_time": "2020-09-22T14:57:48.202027Z",
     "start_time": "2020-09-22T14:57:48.170935Z"
    }
   },
   "outputs": [
    {
     "data": {
      "text/plain": [
       "array([datetime.date(2014, 8, 18), datetime.date(2014, 8, 19),\n",
       "       datetime.date(2014, 8, 25), datetime.date(2014, 8, 26),\n",
       "       datetime.date(2014, 8, 27), datetime.date(2014, 8, 28),\n",
       "       datetime.date(2014, 8, 29), datetime.date(2014, 8, 30),\n",
       "       datetime.date(2014, 8, 31), datetime.date(2014, 9, 3),\n",
       "       datetime.date(2014, 9, 5), datetime.date(2014, 9, 6),\n",
       "       datetime.date(2014, 9, 8), datetime.date(2014, 9, 13),\n",
       "       datetime.date(2014, 9, 14), datetime.date(2014, 9, 15),\n",
       "       datetime.date(2014, 9, 17), datetime.date(2014, 9, 18),\n",
       "       datetime.date(2014, 9, 19), datetime.date(2014, 9, 20),\n",
       "       datetime.date(2014, 9, 21), datetime.date(2014, 9, 22),\n",
       "       datetime.date(2014, 9, 23), datetime.date(2014, 9, 24),\n",
       "       datetime.date(2014, 9, 25), datetime.date(2014, 9, 26),\n",
       "       datetime.date(2014, 9, 27), datetime.date(2014, 9, 29),\n",
       "       datetime.date(2014, 9, 30), datetime.date(2014, 10, 1),\n",
       "       datetime.date(2014, 10, 2), datetime.date(2014, 10, 3),\n",
       "       datetime.date(2014, 10, 4), datetime.date(2014, 10, 5),\n",
       "       datetime.date(2014, 10, 6), datetime.date(2014, 10, 10),\n",
       "       datetime.date(2014, 10, 13), datetime.date(2014, 10, 14),\n",
       "       datetime.date(2014, 10, 15), datetime.date(2014, 10, 22),\n",
       "       datetime.date(2014, 10, 23), datetime.date(2014, 10, 24)],\n",
       "      dtype=object)"
      ]
     },
     "execution_count": 101,
     "metadata": {},
     "output_type": "execute_result"
    }
   ],
   "source": [
    "def uniquelistdates(list): \n",
    "    x = np.array(list) \n",
    "    uniquelist = np.unique(x)\n",
    "    return uniquelist\n",
    "\n",
    "uniquelist_dates = uniquelistdates(datestimeslist)\n",
    "uniquelist_dates"
   ]
  },
  {
   "cell_type": "markdown",
   "metadata": {},
   "source": [
    "## Downloading the data from Swarm and computing them at the ground level\n",
    "\n",
    "Once the date and time columns have been defined, and the unique dates were identified the script can start the download process. Usually the data from Swarm is requested using only one satellite, however **MagGeo** will use the magnetic measures from the three satellite of the Swarm Mission. The following function (<code>GetSwarmData_and_residual</code>) is  mainly divided in two parts. Get the data from Swarm including the residuals and then compute the magnetic field at the ground level using the residuals from the CHAOS model. \n",
    "\n",
    "<div class=\"alert alert-warning\" role=\"alert\">\n",
    "  <strong>🔎 CHAOS: </strong>\n",
    "\n",
    "is a comprehensive field model, containing the modelled contributions of the time-varying core, the static crustal field, the average time-varying magnetosphere. We show calculation of the residuals (adding this parameter <code>residuals=True</code>) which means: data - <code>CHAOS(Core+Static)</code> and  data - <code>CHAOS(Core+Static+Magnetosphere)</code>.\n",
    "    \n",
    "</div>\n",
    "\n",
    "The **CHAOS** model is available on the server as model variables:\n",
    "\n",
    "- CHAOS-Core: SH degree 1-20\n",
    "- CHAOS-Static: SH degree 21-110\n",
    "- CHAOS-MMA-Primary: Magnetosphere external field, SH degree 1-2\n",
    "- CHAOS-MMA-Secondary: Magnetosphere internal induced field, SH degree 1-2\n",
    "\n",
    "We will use the abbreviations:\n",
    "\n",
    "- MCO: core model\n",
    "- MLI: lithosphere model (i.e. static)\n",
    "- MMA: magnetosphere model\n",
    "\n",
    "<div class=\"alert alert-info\" role=\"alert\">\n",
    "📘  This will compute the magnetic measures not at the height of the three satellites (~462 km and ~511 km) and will approximate calculate the Swarm measures at the ground level, making the measures more precise to any GPS trajectory.\n",
    "</div>"
   ]
  },
  {
   "cell_type": "markdown",
   "metadata": {},
   "source": [
    "**1.** Defining fucntion to get Swarm data and compute the magnetic values at the ground level"
   ]
  },
  {
   "cell_type": "code",
   "execution_count": 7,
   "metadata": {
    "ExecuteTime": {
     "end_time": "2020-09-15T10:59:00.140870Z",
     "start_time": "2020-09-15T10:58:46.819544Z"
    }
   },
   "outputs": [
    {
     "name": "stdout",
     "output_type": "stream",
     "text": [
      "Wall time: 13.2 s\n"
     ]
    }
   ],
   "source": [
    "%%time\n",
    "\n",
    "import chaosmagpy as cp\n",
    "from chaosmagpy import load_CHAOS_matfile\n",
    "from chaosmagpy.data_utils import mjd2000\n",
    "\n",
    "\n",
    "def GetSwarmData_and_residuals (startDateTime, endDateTime, mid_date):\n",
    "    \n",
    "    # 1. Starting the Swarm Request.\n",
    "    #    `SwarmRequest` is an object provided by the VirES interface, we need time objects \n",
    "    #    to be used by `SwarmRequest.get_between()` in this case we will get every date one day per loop (i.e. around 15 orbits)\n",
    "    #    of the scalar (`F`) measurements from Swarm Satellites. The data are then loaded as a `xarray` dataframe.\n",
    "    #    donwsamples the data to 60 seconds, from the `MAGx_LR` product having default of 1 second.\n",
    "    #    https://viresclient.readthedocs.io/en/latest/available_parameters.html\n",
    "    \n",
    "    requestA = SwarmRequest() \n",
    "    requestB = SwarmRequest()\n",
    "    requestC = SwarmRequest()\n",
    "    \n",
    "    #2. Loading the matlab CHAOS model to compute the residuals and resting those values from the residuals from Swarm.\n",
    "    model = load_CHAOS_matfile('C:\\\\foss4guk19-jupyter-master\\\\Project_StAndrews\\\\Parallel\\\\CHAOS-7.mat') \n",
    "    #For more information about the magnetic models go to: https://www.space.dtu.dk/english/research/scientific_data_and_models/magnetic_field_models\n",
    "    \n",
    "    #3. Getting the data for Satellite A. \n",
    "    requestA.set_collection(\"SW_OPER_MAGA_LR_1B\")\n",
    "    requestA.set_products(\n",
    "        measurements=[\n",
    "            'B_NEC', #The Magnetic values are in NEC system (North, East, Centre)\n",
    "\n",
    "        ],\n",
    "\n",
    "        models = [\n",
    "            \n",
    "            '\"CHAOS_MCO_MLI_MMA\" = \"CHAOS-Core\" + \"CHAOS-Static\" + \"CHAOS-MMA-Primary\" + \"CHAOS-MMA-Secondary\"'\n",
    "        ],\n",
    "        residuals=True, #Brining the residuals.\n",
    "        sampling_step=\"PT60S\", #Get the data every 60 seconds. \n",
    "    )\n",
    "    \n",
    "    #4. Defining an array to store the data request for Satellite A, based on the starting Data and time.\n",
    "    #   You can display dsA to get an idea of how the data is requested.\n",
    "    dsA = requestA.get_between(\n",
    "        start_time=startDateTime,\n",
    "        end_time=endDateTime\n",
    "    ).as_xarray()\n",
    "    \n",
    "    \n",
    "    #5. Brining the residuals from CHAOS Model, the one was loaded in step No 2.\n",
    "    \n",
    "    thetaA = 90-dsA[\"Latitude\"].values  # colatitude in degrees (colatitude = 90-latitude)\n",
    "    phiA = dsA[\"Longitude\"].values  # longitude in degrees\n",
    "    time = mjd2000(mid_date.year, mid_date.month, mid_date.day)  * np.ones((thetaA.size,)) # The core field does not change over a day so pick a single time\n",
    "    radius = 6371.2 * np.ones((thetaA.size,))\n",
    "    # this is the Earth's average radius - \n",
    "    # if you need to add the heigth of your GPS trajectory, you need to put in the bird's height in km above the centre of the Earth\n",
    "    # and parsing this values as one extra parameter of this fuction. \n",
    "   \n",
    "    #6. The residuals from the model CHAOS are computed.  \n",
    "    B_r_coreA, B_t_coreA, B_phi_coreA = model.synth_values_tdep(time,radius, thetaA, phiA)\n",
    "    B_r_crustA, B_t_crustA, B_phi_crustA = model.synth_values_static(radius, thetaA, phiA)\n",
    "    \n",
    "    #7. Once the xarray is created, we can extracted the variables included using xarray.DataArray object e.g. dsA[\"Latitude\"]).\n",
    "    # The SwarmRequest inside in the dsA xarray has Timestamp as index. The vector measurements have 3 dimensions which are \n",
    "    # the three components (N, E, C). One dimension can be extracted like indexing into a numpy ndarray. The N (Northwards)\n",
    "    # component is accessed as xarray[\"variable\"][:, index]:\n",
    "    \n",
    "    B_r_swarmA, B_t_swarmA, B_phi_swarmA = -dsA[\"B_NEC_res_CHAOS_MCO_MLI_MMA\"][:, 2], -dsA[\"B_NEC_res_CHAOS_MCO_MLI_MMA\"][:, 0], dsA[\"B_NEC_res_CHAOS_MCO_MLI_MMA\"][:, 1]\n",
    "   \n",
    "    #8. Once the residuals are computed and extracted for Swarm data stored temporaly in xarray. The Magnetic fiel on\n",
    "    #   the ground is computed.\n",
    "    B_r_groundA = B_r_coreA + B_r_crustA - B_r_swarmA #(-Z)\n",
    "    B_t_groundA = B_t_coreA + B_t_crustA - B_t_swarmA #(-X)\n",
    "    B_phi_groundA = B_phi_coreA + B_phi_crustA - B_phi_swarmA #(Y)\n",
    "    \n",
    "    #9. Due to Swarm data are in NEC (or XYZ) while the CHAOS model outputs the radial, theta and phi components which are Br = -Z, \n",
    "    #   Bt = -X and BP = Y\n",
    "    C_groundA = -B_r_groundA   #Z\n",
    "    N_groundA = -B_t_groundA   #X\n",
    "    E_groundA = B_phi_groundA  #Z\n",
    "    \n",
    "    #10. To finish the transformation and extraction process, a final dataframe is created, setting clear names and including\n",
    "    #    a epoch columns to be the dataframe index.\n",
    "    \n",
    "    SwarmDataA = pd.DataFrame({'Na':N_groundA,'Ea':E_groundA, 'Ca':C_groundA, 'Ta':N_groundA['Timestamp'], 'LatA':dsA['Latitude'], 'LongA':dsA['Longitude']})\n",
    "    SwarmDataA['epoch'] = SwarmDataA['Ta'].astype('int64')//1e9\n",
    "    SwarmDataA['epoch'] = SwarmDataA['epoch'].astype(int)\n",
    "    SwarmDataA.set_index(\"epoch\", inplace=True)\n",
    "    \n",
    "    #11. The same process will take place for the satellites Bravo and Charlie.\n",
    "    \n",
    "    ######Request for Sat B #########\n",
    "    requestB.set_collection(\"SW_OPER_MAGB_LR_1B\")\n",
    "    requestB.set_products(\n",
    "        measurements=[\n",
    "            'B_NEC',\n",
    "\n",
    "        ],\n",
    "        models = [\n",
    "            \n",
    "            '\"CHAOS_MCO_MLI_MMA\" = \"CHAOS-Core\" + \"CHAOS-Static\" + \"CHAOS-MMA-Primary\" + \"CHAOS-MMA-Secondary\"'\n",
    "        ],\n",
    "        residuals=True, \n",
    "        sampling_step=\"PT60S\",\n",
    "    )\n",
    "\n",
    "    dsB = requestB.get_between(\n",
    "        start_time= startDateTime,\n",
    "        end_time= endDateTime\n",
    "    ).as_xarray()\n",
    "    \n",
    "    # Getting the residuals for SatB...\n",
    "    thetaB = 90-dsB[\"Latitude\"].values  # colatitude in degrees (colatitude = 90-latitude)\n",
    "    phiB = dsB[\"Longitude\"].values  # longitude in degrees\n",
    "    time = mjd2000(mid_date.year, mid_date.month, mid_date.day)  * np.ones((thetaB.size,))\n",
    "    radius = 6371.2 * np.ones((thetaB.size,))  \n",
    "    B_r_coreB, B_t_coreB, B_phi_coreB = model.synth_values_tdep(time,radius, thetaB, phiB)\n",
    "    B_r_crustB, B_t_crustB, B_phi_crustB = model.synth_values_static(radius, thetaB, phiB)\n",
    "    \n",
    "    B_r_swarmB, B_t_swarmB, B_phi_swarmB = -dsB[\"B_NEC_res_CHAOS_MCO_MLI_MMA\"][:, 2], -dsB[\"B_NEC_res_CHAOS_MCO_MLI_MMA\"][:, 0], dsB[\"B_NEC_res_CHAOS_MCO_MLI_MMA\"][:, 1]\n",
    "\n",
    "\n",
    "    B_r_groundB = B_r_coreB + B_r_crustB - B_r_swarmB #(-Z)\n",
    "    B_t_groundB = B_t_coreB + B_t_crustB - B_t_swarmB #(-X)\n",
    "    B_phi_groundB = B_phi_coreB + B_phi_crustB - B_phi_swarmB #(Y)\n",
    "    \n",
    "    C_groundB = -B_r_groundB   #Z\n",
    "    N_groundB = -B_t_groundB   #X\n",
    "    E_groundB = B_phi_groundB  #Y\n",
    "    \n",
    "    SwarmDataB = pd.DataFrame({'Nb':N_groundB,'Eb':E_groundB, 'Cb':C_groundB, 'Tb':N_groundB['Timestamp'], 'LatB':dsB['Latitude'], 'LongB':dsB['Longitude']})\n",
    "    SwarmDataB['epoch'] = SwarmDataB['Tb'].astype('int64')//1e9\n",
    "    SwarmDataB['epoch'] = SwarmDataB['epoch'].astype(int)\n",
    "    SwarmDataB.set_index(\"epoch\", inplace=True)\n",
    "  \n",
    "    ######Request for Sat C #########\n",
    "    requestC.set_collection(\"SW_OPER_MAGC_LR_1B\")\n",
    "    requestC.set_products(\n",
    "        measurements=[\n",
    "            'B_NEC',\n",
    "\n",
    "        ],\n",
    "        models = [\n",
    "            \n",
    "            '\"CHAOS_MCO_MLI_MMA\" = \"CHAOS-Core\" + \"CHAOS-Static\" + \"CHAOS-MMA-Primary\" + \"CHAOS-MMA-Secondary\"'\n",
    "        ],\n",
    "        residuals=True,\n",
    "        sampling_step=\"PT60S\",\n",
    "    )\n",
    "\n",
    "    dsC = requestC.get_between(\n",
    "        start_time=startDateTime,\n",
    "        end_time=endDateTime\n",
    "    ).as_xarray()\n",
    "    \n",
    "    #Getting the residuals for SatC...\n",
    "    thetaC = 90-dsC[\"Latitude\"].values  # colatitude in degrees (colatitude = 90-latitude)\n",
    "    phiC = dsC[\"Longitude\"].values  # longitude in degrees\n",
    "    time = mjd2000(mid_date.year, mid_date.month, mid_date.day)  * np.ones((thetaC.size,))\n",
    "    radius = 6371.2 * np.ones((thetaC.size,)) \n",
    "\n",
    "    B_r_coreC, B_t_coreC, B_phi_coreC = model.synth_values_tdep(time,radius, thetaC, phiC)\n",
    "    B_r_crustC, B_t_crustC, B_phi_crustC = model.synth_values_static(radius, thetaC, phiC)\n",
    "    \n",
    "    B_r_swarmC, B_t_swarmC, B_phi_swarmC = -dsC[\"B_NEC_res_CHAOS_MCO_MLI_MMA\"][:, 2], -dsC[\"B_NEC_res_CHAOS_MCO_MLI_MMA\"][:, 0], dsC[\"B_NEC_res_CHAOS_MCO_MLI_MMA\"][:, 1]\n",
    "\n",
    "    B_r_groundC = B_r_coreC+ B_r_crustC - B_r_swarmC #(-Z)\n",
    "    B_t_groundC = B_t_coreC + B_t_crustC - B_t_swarmC #(-X)\n",
    "    B_phi_groundC = B_phi_coreC + B_phi_crustC - B_phi_swarmC #(Y)\n",
    "    \n",
    "    C_groundC = -B_r_groundC   #Z\n",
    "    N_groundC = -B_t_groundC   #X\n",
    "    E_groundC = B_phi_groundC  #Y\n",
    "    \n",
    "    SwarmDataC = pd.DataFrame({'Nc':N_groundC,'Ec':E_groundC, 'Cc':C_groundC, 'Tc':N_groundC['Timestamp'], 'LatC':dsC['Latitude'], 'LongC':dsC['Longitude']})\n",
    "    SwarmDataC['epoch'] = SwarmDataC['Tc'].astype('int64')//1e9\n",
    "    SwarmDataC['epoch'] = SwarmDataC['epoch'].astype(int)\n",
    "    SwarmDataC.set_index(\"epoch\", inplace=True)\n",
    "    \n",
    "    return SwarmDataA,SwarmDataB,SwarmDataC"
   ]
  },
  {
   "cell_type": "markdown",
   "metadata": {},
   "source": [
    "**2.** Running the previous function, using a loop to going through every date in the unique date list. The **Vires client API**, requires a token. You can visit https://vires.services/ to get your own token. We highly recommend to use your own token to run the script to annotate your own GPS tracks. As we mentioned in the previous function definition the `SwarmRequest()` object have the `get_between` parameter which require a datetime variables. As the unique list is just a date python variable, we set a range of **24 hours to request the data** for one entire day at the every iteration. \n",
    "\n",
    "<div class=\"alert alert-warning\" role=\"alert\">\n",
    "  <strong>🔈  Note: 🔈 </strong>\n",
    "    <br> If you are aware that rather to requesting each day in the unique list we might set a minimum and maximum dates for the GPS track dates and thus get the entire data at once. Unfortunately due to the calculations required to compute the residual from the <strong>local CHAOS model</strong>, the number of days is limited to 10 days, including more days will raise a error into the chaosmagpy package. Likewise the amount of processing and downloading time is certainly very similar to get each date into a loop iteration. Therefore we have choose the most secure option.\n",
    "</div>\n",
    "\n",
    "<div class=\"alert alert-info\" role=\"alert\">\n",
    "📘 <strong>Be aware:</strong> Due to the amount of dates the GPS track has (40 days) to request and compute the residuals, the time to process the sample data will take approximately 20 minutes.</div>"
   ]
  },
  {
   "cell_type": "code",
   "execution_count": 8,
   "metadata": {
    "ExecuteTime": {
     "end_time": "2020-09-15T11:20:42.954694Z",
     "start_time": "2020-09-15T10:59:00.152657Z"
    }
   },
   "outputs": [
    {
     "name": "stdout",
     "output_type": "stream",
     "text": [
      "Process for: 2014-08-18 :\n"
     ]
    },
    {
     "name": "stderr",
     "output_type": "stream",
     "text": [
      "[1/1] Processing:  100%|████████████████████████████████████████████████████████|  [ Elapsed: 00:02, Remaining: 00:00 ]\n",
      "      Downloading: 100%|██████████████████████████████████████████████|  [ Elapsed: 00:00, Remaining: 00:00 ] (0.094MB)\n",
      "[1/1] Processing:  100%|████████████████████████████████████████████████████████|  [ Elapsed: 00:02, Remaining: 00:00 ]\n",
      "      Downloading: 100%|██████████████████████████████████████████████|  [ Elapsed: 00:00, Remaining: 00:00 ] (0.094MB)\n",
      "[1/1] Processing:  100%|████████████████████████████████████████████████████████|  [ Elapsed: 00:02, Remaining: 00:00 ]\n",
      "      Downloading: 100%|██████████████████████████████████████████████|  [ Elapsed: 00:00, Remaining: 00:00 ] (0.094MB)\n"
     ]
    },
    {
     "name": "stdout",
     "output_type": "stream",
     "text": [
      "Process for: 2014-08-19 :\n"
     ]
    },
    {
     "name": "stderr",
     "output_type": "stream",
     "text": [
      "[1/1] Processing:  100%|████████████████████████████████████████████████████████|  [ Elapsed: 00:02, Remaining: 00:00 ]\n",
      "      Downloading: 100%|██████████████████████████████████████████████|  [ Elapsed: 00:00, Remaining: 00:00 ] (0.094MB)\n",
      "[1/1] Processing:  100%|████████████████████████████████████████████████████████|  [ Elapsed: 00:02, Remaining: 00:00 ]\n",
      "      Downloading: 100%|██████████████████████████████████████████████|  [ Elapsed: 00:00, Remaining: 00:00 ] (0.094MB)\n",
      "[1/1] Processing:  100%|████████████████████████████████████████████████████████|  [ Elapsed: 00:02, Remaining: 00:00 ]\n",
      "      Downloading: 100%|██████████████████████████████████████████████|  [ Elapsed: 00:00, Remaining: 00:00 ] (0.094MB)\n"
     ]
    },
    {
     "name": "stdout",
     "output_type": "stream",
     "text": [
      "Process for: 2014-08-25 :\n"
     ]
    },
    {
     "name": "stderr",
     "output_type": "stream",
     "text": [
      "[1/1] Processing:  100%|████████████████████████████████████████████████████████|  [ Elapsed: 00:02, Remaining: 00:00 ]\n",
      "      Downloading: 100%|██████████████████████████████████████████████|  [ Elapsed: 00:00, Remaining: 00:00 ] (0.094MB)\n",
      "[1/1] Processing:  100%|████████████████████████████████████████████████████████|  [ Elapsed: 00:03, Remaining: 00:00 ]\n",
      "      Downloading: 100%|██████████████████████████████████████████████|  [ Elapsed: 00:00, Remaining: 00:00 ] (0.094MB)\n",
      "[1/1] Processing:  100%|████████████████████████████████████████████████████████|  [ Elapsed: 00:02, Remaining: 00:00 ]\n",
      "      Downloading: 100%|██████████████████████████████████████████████|  [ Elapsed: 00:00, Remaining: 00:00 ] (0.094MB)\n"
     ]
    },
    {
     "name": "stdout",
     "output_type": "stream",
     "text": [
      "Process for: 2014-08-26 :\n"
     ]
    },
    {
     "name": "stderr",
     "output_type": "stream",
     "text": [
      "[1/1] Processing:  100%|████████████████████████████████████████████████████████|  [ Elapsed: 00:02, Remaining: 00:00 ]\n",
      "      Downloading: 100%|██████████████████████████████████████████████|  [ Elapsed: 00:00, Remaining: 00:00 ] (0.094MB)\n",
      "[1/1] Processing:  100%|████████████████████████████████████████████████████████|  [ Elapsed: 00:02, Remaining: 00:00 ]\n",
      "      Downloading: 100%|██████████████████████████████████████████████|  [ Elapsed: 00:00, Remaining: 00:00 ] (0.094MB)\n",
      "[1/1] Processing:  100%|████████████████████████████████████████████████████████|  [ Elapsed: 00:02, Remaining: 00:00 ]\n",
      "      Downloading: 100%|██████████████████████████████████████████████|  [ Elapsed: 00:00, Remaining: 00:00 ] (0.094MB)\n"
     ]
    },
    {
     "name": "stdout",
     "output_type": "stream",
     "text": [
      "Process for: 2014-08-27 :\n"
     ]
    },
    {
     "name": "stderr",
     "output_type": "stream",
     "text": [
      "[1/1] Processing:  100%|████████████████████████████████████████████████████████|  [ Elapsed: 00:02, Remaining: 00:00 ]\n",
      "      Downloading: 100%|██████████████████████████████████████████████|  [ Elapsed: 00:00, Remaining: 00:00 ] (0.094MB)\n",
      "[1/1] Processing:  100%|████████████████████████████████████████████████████████|  [ Elapsed: 00:02, Remaining: 00:00 ]\n",
      "      Downloading: 100%|██████████████████████████████████████████████|  [ Elapsed: 00:00, Remaining: 00:00 ] (0.094MB)\n",
      "[1/1] Processing:  100%|████████████████████████████████████████████████████████|  [ Elapsed: 00:02, Remaining: 00:00 ]\n",
      "      Downloading: 100%|██████████████████████████████████████████████|  [ Elapsed: 00:00, Remaining: 00:00 ] (0.094MB)\n"
     ]
    },
    {
     "name": "stdout",
     "output_type": "stream",
     "text": [
      "Process for: 2014-08-28 :\n"
     ]
    },
    {
     "name": "stderr",
     "output_type": "stream",
     "text": [
      "[1/1] Processing:  100%|████████████████████████████████████████████████████████|  [ Elapsed: 00:02, Remaining: 00:00 ]\n",
      "      Downloading: 100%|██████████████████████████████████████████████|  [ Elapsed: 00:00, Remaining: 00:00 ] (0.094MB)\n",
      "[1/1] Processing:  100%|████████████████████████████████████████████████████████|  [ Elapsed: 00:02, Remaining: 00:00 ]\n",
      "      Downloading: 100%|██████████████████████████████████████████████|  [ Elapsed: 00:00, Remaining: 00:00 ] (0.094MB)\n",
      "[1/1] Processing:  100%|████████████████████████████████████████████████████████|  [ Elapsed: 00:02, Remaining: 00:00 ]\n",
      "      Downloading: 100%|██████████████████████████████████████████████|  [ Elapsed: 00:00, Remaining: 00:00 ] (0.094MB)\n"
     ]
    },
    {
     "name": "stdout",
     "output_type": "stream",
     "text": [
      "Process for: 2014-08-29 :\n"
     ]
    },
    {
     "name": "stderr",
     "output_type": "stream",
     "text": [
      "[1/1] Processing:  100%|████████████████████████████████████████████████████████|  [ Elapsed: 00:02, Remaining: 00:00 ]\n",
      "      Downloading: 100%|██████████████████████████████████████████████|  [ Elapsed: 00:00, Remaining: 00:00 ] (0.094MB)\n",
      "[1/1] Processing:  100%|████████████████████████████████████████████████████████|  [ Elapsed: 00:02, Remaining: 00:00 ]\n",
      "      Downloading: 100%|██████████████████████████████████████████████|  [ Elapsed: 00:00, Remaining: 00:00 ] (0.094MB)\n",
      "[1/1] Processing:  100%|████████████████████████████████████████████████████████|  [ Elapsed: 00:02, Remaining: 00:00 ]\n",
      "      Downloading: 100%|██████████████████████████████████████████████|  [ Elapsed: 00:00, Remaining: 00:00 ] (0.094MB)\n"
     ]
    },
    {
     "name": "stdout",
     "output_type": "stream",
     "text": [
      "Process for: 2014-08-30 :\n"
     ]
    },
    {
     "name": "stderr",
     "output_type": "stream",
     "text": [
      "[1/1] Processing:  100%|████████████████████████████████████████████████████████|  [ Elapsed: 00:02, Remaining: 00:00 ]\n",
      "      Downloading: 100%|██████████████████████████████████████████████|  [ Elapsed: 00:00, Remaining: 00:00 ] (0.094MB)\n",
      "[1/1] Processing:  100%|████████████████████████████████████████████████████████|  [ Elapsed: 00:02, Remaining: 00:00 ]\n",
      "      Downloading: 100%|██████████████████████████████████████████████|  [ Elapsed: 00:00, Remaining: 00:00 ] (0.094MB)\n",
      "[1/1] Processing:  100%|████████████████████████████████████████████████████████|  [ Elapsed: 00:02, Remaining: 00:00 ]\n",
      "      Downloading: 100%|██████████████████████████████████████████████|  [ Elapsed: 00:00, Remaining: 00:00 ] (0.094MB)\n"
     ]
    },
    {
     "name": "stdout",
     "output_type": "stream",
     "text": [
      "Process for: 2014-08-31 :\n"
     ]
    },
    {
     "name": "stderr",
     "output_type": "stream",
     "text": [
      "[1/1] Processing:  100%|████████████████████████████████████████████████████████|  [ Elapsed: 00:02, Remaining: 00:00 ]\n",
      "      Downloading: 100%|██████████████████████████████████████████████|  [ Elapsed: 00:00, Remaining: 00:00 ] (0.094MB)\n",
      "[1/1] Processing:  100%|████████████████████████████████████████████████████████|  [ Elapsed: 00:02, Remaining: 00:00 ]\n",
      "      Downloading: 100%|██████████████████████████████████████████████|  [ Elapsed: 00:00, Remaining: 00:00 ] (0.094MB)\n",
      "[1/1] Processing:  100%|████████████████████████████████████████████████████████|  [ Elapsed: 00:02, Remaining: 00:00 ]\n",
      "      Downloading: 100%|██████████████████████████████████████████████|  [ Elapsed: 00:00, Remaining: 00:00 ] (0.094MB)\n"
     ]
    },
    {
     "name": "stdout",
     "output_type": "stream",
     "text": [
      "Process for: 2014-09-03 :\n"
     ]
    },
    {
     "name": "stderr",
     "output_type": "stream",
     "text": [
      "[1/1] Processing:  100%|████████████████████████████████████████████████████████|  [ Elapsed: 00:02, Remaining: 00:00 ]\n",
      "      Downloading: 100%|██████████████████████████████████████████████|  [ Elapsed: 00:00, Remaining: 00:00 ] (0.094MB)\n",
      "[1/1] Processing:  100%|████████████████████████████████████████████████████████|  [ Elapsed: 00:02, Remaining: 00:00 ]\n",
      "      Downloading: 100%|██████████████████████████████████████████████|  [ Elapsed: 00:00, Remaining: 00:00 ] (0.094MB)\n",
      "[1/1] Processing:  100%|████████████████████████████████████████████████████████|  [ Elapsed: 00:02, Remaining: 00:00 ]\n",
      "      Downloading: 100%|██████████████████████████████████████████████|  [ Elapsed: 00:00, Remaining: 00:00 ] (0.094MB)\n"
     ]
    },
    {
     "name": "stdout",
     "output_type": "stream",
     "text": [
      "Process for: 2014-09-05 :\n"
     ]
    },
    {
     "name": "stderr",
     "output_type": "stream",
     "text": [
      "[1/1] Processing:  100%|████████████████████████████████████████████████████████|  [ Elapsed: 00:02, Remaining: 00:00 ]\n",
      "      Downloading: 100%|██████████████████████████████████████████████|  [ Elapsed: 00:00, Remaining: 00:00 ] (0.094MB)\n",
      "[1/1] Processing:  100%|████████████████████████████████████████████████████████|  [ Elapsed: 00:02, Remaining: 00:00 ]\n",
      "      Downloading: 100%|██████████████████████████████████████████████|  [ Elapsed: 00:00, Remaining: 00:00 ] (0.094MB)\n",
      "[1/1] Processing:  100%|████████████████████████████████████████████████████████|  [ Elapsed: 00:02, Remaining: 00:00 ]\n",
      "      Downloading: 100%|██████████████████████████████████████████████|  [ Elapsed: 00:00, Remaining: 00:00 ] (0.094MB)\n"
     ]
    },
    {
     "name": "stdout",
     "output_type": "stream",
     "text": [
      "Process for: 2014-09-06 :\n"
     ]
    },
    {
     "name": "stderr",
     "output_type": "stream",
     "text": [
      "[1/1] Processing:  100%|████████████████████████████████████████████████████████|  [ Elapsed: 00:02, Remaining: 00:00 ]\n",
      "      Downloading: 100%|██████████████████████████████████████████████|  [ Elapsed: 00:00, Remaining: 00:00 ] (0.094MB)\n",
      "[1/1] Processing:  100%|████████████████████████████████████████████████████████|  [ Elapsed: 00:02, Remaining: 00:00 ]\n",
      "      Downloading: 100%|██████████████████████████████████████████████|  [ Elapsed: 00:00, Remaining: 00:00 ] (0.094MB)\n",
      "[1/1] Processing:  100%|████████████████████████████████████████████████████████|  [ Elapsed: 00:02, Remaining: 00:00 ]\n",
      "      Downloading: 100%|██████████████████████████████████████████████|  [ Elapsed: 00:00, Remaining: 00:00 ] (0.094MB)\n"
     ]
    },
    {
     "name": "stdout",
     "output_type": "stream",
     "text": [
      "Process for: 2014-09-08 :\n"
     ]
    },
    {
     "name": "stderr",
     "output_type": "stream",
     "text": [
      "[1/1] Processing:  100%|████████████████████████████████████████████████████████|  [ Elapsed: 00:02, Remaining: 00:00 ]\n",
      "      Downloading: 100%|██████████████████████████████████████████████|  [ Elapsed: 00:00, Remaining: 00:00 ] (0.094MB)\n",
      "[1/1] Processing:  100%|████████████████████████████████████████████████████████|  [ Elapsed: 00:02, Remaining: 00:00 ]\n",
      "      Downloading: 100%|██████████████████████████████████████████████|  [ Elapsed: 00:00, Remaining: 00:00 ] (0.094MB)\n",
      "[1/1] Processing:  100%|████████████████████████████████████████████████████████|  [ Elapsed: 00:02, Remaining: 00:00 ]\n",
      "      Downloading: 100%|██████████████████████████████████████████████|  [ Elapsed: 00:00, Remaining: 00:00 ] (0.094MB)\n"
     ]
    },
    {
     "name": "stdout",
     "output_type": "stream",
     "text": [
      "Process for: 2014-09-13 :\n"
     ]
    },
    {
     "name": "stderr",
     "output_type": "stream",
     "text": [
      "[1/1] Processing:  100%|████████████████████████████████████████████████████████|  [ Elapsed: 00:02, Remaining: 00:00 ]\n",
      "      Downloading: 100%|██████████████████████████████████████████████|  [ Elapsed: 00:00, Remaining: 00:00 ] (0.094MB)\n",
      "[1/1] Processing:  100%|████████████████████████████████████████████████████████|  [ Elapsed: 00:02, Remaining: 00:00 ]\n",
      "      Downloading: 100%|██████████████████████████████████████████████|  [ Elapsed: 00:00, Remaining: 00:00 ] (0.094MB)\n",
      "[1/1] Processing:  100%|████████████████████████████████████████████████████████|  [ Elapsed: 00:02, Remaining: 00:00 ]\n",
      "      Downloading: 100%|██████████████████████████████████████████████|  [ Elapsed: 00:00, Remaining: 00:00 ] (0.094MB)\n"
     ]
    },
    {
     "name": "stdout",
     "output_type": "stream",
     "text": [
      "Process for: 2014-09-14 :\n"
     ]
    },
    {
     "name": "stderr",
     "output_type": "stream",
     "text": [
      "[1/1] Processing:  100%|████████████████████████████████████████████████████████|  [ Elapsed: 00:02, Remaining: 00:00 ]\n",
      "      Downloading: 100%|██████████████████████████████████████████████|  [ Elapsed: 00:00, Remaining: 00:00 ] (0.094MB)\n",
      "[1/1] Processing:  100%|████████████████████████████████████████████████████████|  [ Elapsed: 00:02, Remaining: 00:00 ]\n",
      "      Downloading: 100%|██████████████████████████████████████████████|  [ Elapsed: 00:00, Remaining: 00:00 ] (0.094MB)\n",
      "[1/1] Processing:  100%|████████████████████████████████████████████████████████|  [ Elapsed: 00:02, Remaining: 00:00 ]\n",
      "      Downloading: 100%|██████████████████████████████████████████████|  [ Elapsed: 00:00, Remaining: 00:00 ] (0.094MB)\n"
     ]
    },
    {
     "name": "stdout",
     "output_type": "stream",
     "text": [
      "Process for: 2014-09-15 :\n"
     ]
    },
    {
     "name": "stderr",
     "output_type": "stream",
     "text": [
      "[1/1] Processing:  100%|████████████████████████████████████████████████████████|  [ Elapsed: 00:02, Remaining: 00:00 ]\n",
      "      Downloading: 100%|██████████████████████████████████████████████|  [ Elapsed: 00:00, Remaining: 00:00 ] (0.094MB)\n",
      "[1/1] Processing:  100%|████████████████████████████████████████████████████████|  [ Elapsed: 00:02, Remaining: 00:00 ]\n",
      "      Downloading: 100%|██████████████████████████████████████████████|  [ Elapsed: 00:00, Remaining: 00:00 ] (0.094MB)\n",
      "[1/1] Processing:  100%|████████████████████████████████████████████████████████|  [ Elapsed: 00:02, Remaining: 00:00 ]\n",
      "      Downloading: 100%|██████████████████████████████████████████████|  [ Elapsed: 00:00, Remaining: 00:00 ] (0.094MB)\n"
     ]
    },
    {
     "name": "stdout",
     "output_type": "stream",
     "text": [
      "Process for: 2014-09-17 :\n"
     ]
    },
    {
     "name": "stderr",
     "output_type": "stream",
     "text": [
      "[1/1] Processing:  100%|████████████████████████████████████████████████████████|  [ Elapsed: 00:02, Remaining: 00:00 ]\n",
      "      Downloading: 100%|██████████████████████████████████████████████|  [ Elapsed: 00:00, Remaining: 00:00 ] (0.094MB)\n",
      "[1/1] Processing:  100%|████████████████████████████████████████████████████████|  [ Elapsed: 00:02, Remaining: 00:00 ]\n",
      "      Downloading: 100%|██████████████████████████████████████████████|  [ Elapsed: 00:00, Remaining: 00:00 ] (0.094MB)\n",
      "[1/1] Processing:  100%|████████████████████████████████████████████████████████|  [ Elapsed: 00:02, Remaining: 00:00 ]\n",
      "      Downloading: 100%|██████████████████████████████████████████████|  [ Elapsed: 00:00, Remaining: 00:00 ] (0.094MB)\n"
     ]
    },
    {
     "name": "stdout",
     "output_type": "stream",
     "text": [
      "Process for: 2014-09-18 :\n"
     ]
    },
    {
     "name": "stderr",
     "output_type": "stream",
     "text": [
      "[1/1] Processing:  100%|████████████████████████████████████████████████████████|  [ Elapsed: 00:02, Remaining: 00:00 ]\n",
      "      Downloading: 100%|██████████████████████████████████████████████|  [ Elapsed: 00:00, Remaining: 00:00 ] (0.094MB)\n",
      "[1/1] Processing:  100%|████████████████████████████████████████████████████████|  [ Elapsed: 00:02, Remaining: 00:00 ]\n",
      "      Downloading: 100%|██████████████████████████████████████████████|  [ Elapsed: 00:00, Remaining: 00:00 ] (0.094MB)\n",
      "[1/1] Processing:  100%|████████████████████████████████████████████████████████|  [ Elapsed: 00:02, Remaining: 00:00 ]\n",
      "      Downloading: 100%|██████████████████████████████████████████████|  [ Elapsed: 00:00, Remaining: 00:00 ] (0.094MB)\n"
     ]
    },
    {
     "name": "stdout",
     "output_type": "stream",
     "text": [
      "Process for: 2014-09-19 :\n"
     ]
    },
    {
     "name": "stderr",
     "output_type": "stream",
     "text": [
      "[1/1] Processing:  100%|████████████████████████████████████████████████████████|  [ Elapsed: 00:02, Remaining: 00:00 ]\n",
      "      Downloading: 100%|██████████████████████████████████████████████|  [ Elapsed: 00:01, Remaining: 00:00 ] (0.094MB)\n",
      "[1/1] Processing:  100%|████████████████████████████████████████████████████████|  [ Elapsed: 00:02, Remaining: 00:00 ]\n",
      "      Downloading: 100%|██████████████████████████████████████████████|  [ Elapsed: 00:00, Remaining: 00:00 ] (0.094MB)\n",
      "[1/1] Processing:  100%|████████████████████████████████████████████████████████|  [ Elapsed: 00:02, Remaining: 00:00 ]\n",
      "      Downloading: 100%|██████████████████████████████████████████████|  [ Elapsed: 00:00, Remaining: 00:00 ] (0.094MB)\n"
     ]
    },
    {
     "name": "stdout",
     "output_type": "stream",
     "text": [
      "Process for: 2014-09-20 :\n"
     ]
    },
    {
     "name": "stderr",
     "output_type": "stream",
     "text": [
      "[1/1] Processing:  100%|████████████████████████████████████████████████████████|  [ Elapsed: 00:02, Remaining: 00:00 ]\n",
      "      Downloading: 100%|██████████████████████████████████████████████|  [ Elapsed: 00:00, Remaining: 00:00 ] (0.094MB)\n",
      "[1/1] Processing:  100%|████████████████████████████████████████████████████████|  [ Elapsed: 00:02, Remaining: 00:00 ]\n",
      "      Downloading: 100%|██████████████████████████████████████████████|  [ Elapsed: 00:00, Remaining: 00:00 ] (0.094MB)\n",
      "[1/1] Processing:  100%|████████████████████████████████████████████████████████|  [ Elapsed: 00:02, Remaining: 00:00 ]\n",
      "      Downloading: 100%|██████████████████████████████████████████████|  [ Elapsed: 00:00, Remaining: 00:00 ] (0.094MB)\n"
     ]
    },
    {
     "name": "stdout",
     "output_type": "stream",
     "text": [
      "Process for: 2014-09-21 :\n"
     ]
    },
    {
     "name": "stderr",
     "output_type": "stream",
     "text": [
      "[1/1] Processing:  100%|████████████████████████████████████████████████████████|  [ Elapsed: 00:02, Remaining: 00:00 ]\n",
      "      Downloading: 100%|██████████████████████████████████████████████|  [ Elapsed: 00:00, Remaining: 00:00 ] (0.094MB)\n",
      "[1/1] Processing:  100%|████████████████████████████████████████████████████████|  [ Elapsed: 00:02, Remaining: 00:00 ]\n",
      "      Downloading: 100%|██████████████████████████████████████████████|  [ Elapsed: 00:00, Remaining: 00:00 ] (0.094MB)\n",
      "[1/1] Processing:  100%|████████████████████████████████████████████████████████|  [ Elapsed: 00:02, Remaining: 00:00 ]\n",
      "      Downloading: 100%|██████████████████████████████████████████████|  [ Elapsed: 00:00, Remaining: 00:00 ] (0.094MB)\n"
     ]
    },
    {
     "name": "stdout",
     "output_type": "stream",
     "text": [
      "Process for: 2014-09-22 :\n"
     ]
    },
    {
     "name": "stderr",
     "output_type": "stream",
     "text": [
      "[1/1] Processing:  100%|████████████████████████████████████████████████████████|  [ Elapsed: 00:02, Remaining: 00:00 ]\n",
      "      Downloading: 100%|██████████████████████████████████████████████|  [ Elapsed: 00:00, Remaining: 00:00 ] (0.094MB)\n",
      "[1/1] Processing:  100%|████████████████████████████████████████████████████████|  [ Elapsed: 00:02, Remaining: 00:00 ]\n",
      "      Downloading: 100%|██████████████████████████████████████████████|  [ Elapsed: 00:00, Remaining: 00:00 ] (0.094MB)\n",
      "[1/1] Processing:  100%|████████████████████████████████████████████████████████|  [ Elapsed: 00:02, Remaining: 00:00 ]\n",
      "      Downloading: 100%|██████████████████████████████████████████████|  [ Elapsed: 00:00, Remaining: 00:00 ] (0.094MB)\n"
     ]
    },
    {
     "name": "stdout",
     "output_type": "stream",
     "text": [
      "Process for: 2014-09-23 :\n"
     ]
    },
    {
     "name": "stderr",
     "output_type": "stream",
     "text": [
      "[1/1] Processing:  100%|████████████████████████████████████████████████████████|  [ Elapsed: 00:02, Remaining: 00:00 ]\n",
      "      Downloading: 100%|██████████████████████████████████████████████|  [ Elapsed: 00:00, Remaining: 00:00 ] (0.094MB)\n",
      "[1/1] Processing:  100%|████████████████████████████████████████████████████████|  [ Elapsed: 00:02, Remaining: 00:00 ]\n",
      "      Downloading: 100%|██████████████████████████████████████████████|  [ Elapsed: 00:00, Remaining: 00:00 ] (0.094MB)\n",
      "[1/1] Processing:  100%|████████████████████████████████████████████████████████|  [ Elapsed: 00:02, Remaining: 00:00 ]\n",
      "      Downloading: 100%|██████████████████████████████████████████████|  [ Elapsed: 00:00, Remaining: 00:00 ] (0.094MB)\n"
     ]
    },
    {
     "name": "stdout",
     "output_type": "stream",
     "text": [
      "Process for: 2014-09-24 :\n"
     ]
    },
    {
     "name": "stderr",
     "output_type": "stream",
     "text": [
      "[1/1] Processing:  100%|████████████████████████████████████████████████████████|  [ Elapsed: 00:02, Remaining: 00:00 ]\n",
      "      Downloading: 100%|██████████████████████████████████████████████|  [ Elapsed: 00:00, Remaining: 00:00 ] (0.094MB)\n",
      "[1/1] Processing:  100%|████████████████████████████████████████████████████████|  [ Elapsed: 00:02, Remaining: 00:00 ]\n",
      "      Downloading: 100%|██████████████████████████████████████████████|  [ Elapsed: 00:00, Remaining: 00:00 ] (0.094MB)\n",
      "[1/1] Processing:  100%|████████████████████████████████████████████████████████|  [ Elapsed: 00:02, Remaining: 00:00 ]\n",
      "      Downloading: 100%|██████████████████████████████████████████████|  [ Elapsed: 00:00, Remaining: 00:00 ] (0.094MB)\n"
     ]
    },
    {
     "name": "stdout",
     "output_type": "stream",
     "text": [
      "Process for: 2014-09-25 :\n"
     ]
    },
    {
     "name": "stderr",
     "output_type": "stream",
     "text": [
      "[1/1] Processing:  100%|████████████████████████████████████████████████████████|  [ Elapsed: 00:02, Remaining: 00:00 ]\n",
      "      Downloading: 100%|██████████████████████████████████████████████|  [ Elapsed: 00:00, Remaining: 00:00 ] (0.094MB)\n",
      "[1/1] Processing:  100%|████████████████████████████████████████████████████████|  [ Elapsed: 00:03, Remaining: 00:00 ]\n",
      "      Downloading: 100%|██████████████████████████████████████████████|  [ Elapsed: 00:00, Remaining: 00:00 ] (0.094MB)\n",
      "[1/1] Processing:  100%|████████████████████████████████████████████████████████|  [ Elapsed: 00:02, Remaining: 00:00 ]\n",
      "      Downloading: 100%|██████████████████████████████████████████████|  [ Elapsed: 00:00, Remaining: 00:00 ] (0.094MB)\n"
     ]
    },
    {
     "name": "stdout",
     "output_type": "stream",
     "text": [
      "Process for: 2014-09-26 :\n"
     ]
    },
    {
     "name": "stderr",
     "output_type": "stream",
     "text": [
      "[1/1] Processing:  100%|████████████████████████████████████████████████████████|  [ Elapsed: 00:02, Remaining: 00:00 ]\n",
      "      Downloading: 100%|██████████████████████████████████████████████|  [ Elapsed: 00:00, Remaining: 00:00 ] (0.094MB)\n",
      "[1/1] Processing:  100%|████████████████████████████████████████████████████████|  [ Elapsed: 00:02, Remaining: 00:00 ]\n",
      "      Downloading: 100%|██████████████████████████████████████████████|  [ Elapsed: 00:00, Remaining: 00:00 ] (0.094MB)\n",
      "[1/1] Processing:  100%|████████████████████████████████████████████████████████|  [ Elapsed: 00:02, Remaining: 00:00 ]\n",
      "      Downloading: 100%|██████████████████████████████████████████████|  [ Elapsed: 00:00, Remaining: 00:00 ] (0.094MB)\n"
     ]
    },
    {
     "name": "stdout",
     "output_type": "stream",
     "text": [
      "Process for: 2014-09-27 :\n"
     ]
    },
    {
     "name": "stderr",
     "output_type": "stream",
     "text": [
      "[1/1] Processing:  100%|████████████████████████████████████████████████████████|  [ Elapsed: 00:02, Remaining: 00:00 ]\n",
      "      Downloading: 100%|██████████████████████████████████████████████|  [ Elapsed: 00:00, Remaining: 00:00 ] (0.094MB)\n",
      "[1/1] Processing:  100%|████████████████████████████████████████████████████████|  [ Elapsed: 00:02, Remaining: 00:00 ]\n",
      "      Downloading: 100%|██████████████████████████████████████████████|  [ Elapsed: 00:00, Remaining: 00:00 ] (0.094MB)\n",
      "[1/1] Processing:  100%|████████████████████████████████████████████████████████|  [ Elapsed: 00:02, Remaining: 00:00 ]\n",
      "      Downloading: 100%|██████████████████████████████████████████████|  [ Elapsed: 00:00, Remaining: 00:00 ] (0.094MB)\n"
     ]
    },
    {
     "name": "stdout",
     "output_type": "stream",
     "text": [
      "Process for: 2014-09-29 :\n"
     ]
    },
    {
     "name": "stderr",
     "output_type": "stream",
     "text": [
      "[1/1] Processing:  100%|████████████████████████████████████████████████████████|  [ Elapsed: 00:02, Remaining: 00:00 ]\n",
      "      Downloading: 100%|██████████████████████████████████████████████|  [ Elapsed: 00:00, Remaining: 00:00 ] (0.094MB)\n",
      "[1/1] Processing:  100%|████████████████████████████████████████████████████████|  [ Elapsed: 00:02, Remaining: 00:00 ]\n",
      "      Downloading: 100%|██████████████████████████████████████████████|  [ Elapsed: 00:00, Remaining: 00:00 ] (0.094MB)\n",
      "[1/1] Processing:  100%|████████████████████████████████████████████████████████|  [ Elapsed: 00:02, Remaining: 00:00 ]\n",
      "      Downloading: 100%|██████████████████████████████████████████████|  [ Elapsed: 00:00, Remaining: 00:00 ] (0.094MB)\n"
     ]
    },
    {
     "name": "stdout",
     "output_type": "stream",
     "text": [
      "Process for: 2014-09-30 :\n"
     ]
    },
    {
     "name": "stderr",
     "output_type": "stream",
     "text": [
      "[1/1] Processing:  100%|████████████████████████████████████████████████████████|  [ Elapsed: 00:02, Remaining: 00:00 ]\n",
      "      Downloading: 100%|██████████████████████████████████████████████|  [ Elapsed: 00:00, Remaining: 00:00 ] (0.094MB)\n",
      "[1/1] Processing:  100%|████████████████████████████████████████████████████████|  [ Elapsed: 00:02, Remaining: 00:00 ]\n",
      "      Downloading: 100%|██████████████████████████████████████████████|  [ Elapsed: 00:00, Remaining: 00:00 ] (0.094MB)\n",
      "[1/1] Processing:  100%|████████████████████████████████████████████████████████|  [ Elapsed: 00:02, Remaining: 00:00 ]\n",
      "      Downloading: 100%|██████████████████████████████████████████████|  [ Elapsed: 00:00, Remaining: 00:00 ] (0.094MB)\n"
     ]
    },
    {
     "name": "stdout",
     "output_type": "stream",
     "text": [
      "Process for: 2014-10-01 :\n"
     ]
    },
    {
     "name": "stderr",
     "output_type": "stream",
     "text": [
      "[1/1] Processing:  100%|████████████████████████████████████████████████████████|  [ Elapsed: 00:02, Remaining: 00:00 ]\n",
      "      Downloading: 100%|██████████████████████████████████████████████|  [ Elapsed: 00:00, Remaining: 00:00 ] (0.094MB)\n",
      "[1/1] Processing:  100%|████████████████████████████████████████████████████████|  [ Elapsed: 00:02, Remaining: 00:00 ]\n",
      "      Downloading: 100%|██████████████████████████████████████████████|  [ Elapsed: 00:00, Remaining: 00:00 ] (0.094MB)\n",
      "[1/1] Processing:  100%|████████████████████████████████████████████████████████|  [ Elapsed: 00:02, Remaining: 00:00 ]\n",
      "      Downloading: 100%|██████████████████████████████████████████████|  [ Elapsed: 00:00, Remaining: 00:00 ] (0.094MB)\n"
     ]
    },
    {
     "name": "stdout",
     "output_type": "stream",
     "text": [
      "Process for: 2014-10-02 :\n"
     ]
    },
    {
     "name": "stderr",
     "output_type": "stream",
     "text": [
      "[1/1] Processing:  100%|████████████████████████████████████████████████████████|  [ Elapsed: 00:02, Remaining: 00:00 ]\n",
      "      Downloading: 100%|██████████████████████████████████████████████|  [ Elapsed: 00:00, Remaining: 00:00 ] (0.094MB)\n",
      "[1/1] Processing:  100%|████████████████████████████████████████████████████████|  [ Elapsed: 00:02, Remaining: 00:00 ]\n",
      "      Downloading: 100%|██████████████████████████████████████████████|  [ Elapsed: 00:00, Remaining: 00:00 ] (0.094MB)\n",
      "[1/1] Processing:  100%|████████████████████████████████████████████████████████|  [ Elapsed: 00:02, Remaining: 00:00 ]\n",
      "      Downloading: 100%|██████████████████████████████████████████████|  [ Elapsed: 00:00, Remaining: 00:00 ] (0.094MB)\n"
     ]
    },
    {
     "name": "stdout",
     "output_type": "stream",
     "text": [
      "Process for: 2014-10-03 :\n"
     ]
    },
    {
     "name": "stderr",
     "output_type": "stream",
     "text": [
      "[1/1] Processing:  100%|████████████████████████████████████████████████████████|  [ Elapsed: 00:02, Remaining: 00:00 ]\n",
      "      Downloading: 100%|██████████████████████████████████████████████|  [ Elapsed: 00:00, Remaining: 00:00 ] (0.094MB)\n",
      "[1/1] Processing:  100%|████████████████████████████████████████████████████████|  [ Elapsed: 00:02, Remaining: 00:00 ]\n",
      "      Downloading: 100%|██████████████████████████████████████████████|  [ Elapsed: 00:00, Remaining: 00:00 ] (0.094MB)\n",
      "[1/1] Processing:  100%|████████████████████████████████████████████████████████|  [ Elapsed: 00:02, Remaining: 00:00 ]\n",
      "      Downloading: 100%|██████████████████████████████████████████████|  [ Elapsed: 00:00, Remaining: 00:00 ] (0.094MB)\n"
     ]
    },
    {
     "name": "stdout",
     "output_type": "stream",
     "text": [
      "Process for: 2014-10-04 :\n"
     ]
    },
    {
     "name": "stderr",
     "output_type": "stream",
     "text": [
      "[1/1] Processing:  100%|████████████████████████████████████████████████████████|  [ Elapsed: 00:02, Remaining: 00:00 ]\n",
      "      Downloading: 100%|██████████████████████████████████████████████|  [ Elapsed: 00:00, Remaining: 00:00 ] (0.094MB)\n",
      "[1/1] Processing:  100%|████████████████████████████████████████████████████████|  [ Elapsed: 00:02, Remaining: 00:00 ]\n",
      "      Downloading: 100%|██████████████████████████████████████████████|  [ Elapsed: 00:00, Remaining: 00:00 ] (0.094MB)\n",
      "[1/1] Processing:  100%|████████████████████████████████████████████████████████|  [ Elapsed: 00:02, Remaining: 00:00 ]\n",
      "      Downloading: 100%|██████████████████████████████████████████████|  [ Elapsed: 00:00, Remaining: 00:00 ] (0.094MB)\n"
     ]
    },
    {
     "name": "stdout",
     "output_type": "stream",
     "text": [
      "Process for: 2014-10-05 :\n"
     ]
    },
    {
     "name": "stderr",
     "output_type": "stream",
     "text": [
      "[1/1] Processing:  100%|████████████████████████████████████████████████████████|  [ Elapsed: 00:02, Remaining: 00:00 ]\n",
      "      Downloading: 100%|██████████████████████████████████████████████|  [ Elapsed: 00:00, Remaining: 00:00 ] (0.094MB)\n",
      "[1/1] Processing:  100%|████████████████████████████████████████████████████████|  [ Elapsed: 00:02, Remaining: 00:00 ]\n",
      "      Downloading: 100%|██████████████████████████████████████████████|  [ Elapsed: 00:00, Remaining: 00:00 ] (0.094MB)\n",
      "[1/1] Processing:  100%|████████████████████████████████████████████████████████|  [ Elapsed: 00:02, Remaining: 00:00 ]\n",
      "      Downloading: 100%|██████████████████████████████████████████████|  [ Elapsed: 00:00, Remaining: 00:00 ] (0.094MB)\n"
     ]
    },
    {
     "name": "stdout",
     "output_type": "stream",
     "text": [
      "Process for: 2014-10-06 :\n"
     ]
    },
    {
     "name": "stderr",
     "output_type": "stream",
     "text": [
      "[1/1] Processing:  100%|████████████████████████████████████████████████████████|  [ Elapsed: 00:02, Remaining: 00:00 ]\n",
      "      Downloading: 100%|██████████████████████████████████████████████|  [ Elapsed: 00:00, Remaining: 00:00 ] (0.094MB)\n",
      "[1/1] Processing:  100%|████████████████████████████████████████████████████████|  [ Elapsed: 00:02, Remaining: 00:00 ]\n",
      "      Downloading: 100%|██████████████████████████████████████████████|  [ Elapsed: 00:00, Remaining: 00:00 ] (0.094MB)\n",
      "[1/1] Processing:  100%|████████████████████████████████████████████████████████|  [ Elapsed: 00:02, Remaining: 00:00 ]\n",
      "      Downloading: 100%|██████████████████████████████████████████████|  [ Elapsed: 00:00, Remaining: 00:00 ] (0.094MB)\n"
     ]
    },
    {
     "name": "stdout",
     "output_type": "stream",
     "text": [
      "Process for: 2014-10-10 :\n"
     ]
    },
    {
     "name": "stderr",
     "output_type": "stream",
     "text": [
      "[1/1] Processing:  100%|████████████████████████████████████████████████████████|  [ Elapsed: 00:02, Remaining: 00:00 ]\n",
      "      Downloading: 100%|██████████████████████████████████████████████|  [ Elapsed: 00:00, Remaining: 00:00 ] (0.094MB)\n",
      "[1/1] Processing:  100%|████████████████████████████████████████████████████████|  [ Elapsed: 00:02, Remaining: 00:00 ]\n",
      "      Downloading: 100%|██████████████████████████████████████████████|  [ Elapsed: 00:00, Remaining: 00:00 ] (0.094MB)\n",
      "[1/1] Processing:  100%|████████████████████████████████████████████████████████|  [ Elapsed: 00:02, Remaining: 00:00 ]\n",
      "      Downloading: 100%|██████████████████████████████████████████████|  [ Elapsed: 00:00, Remaining: 00:00 ] (0.094MB)\n"
     ]
    },
    {
     "name": "stdout",
     "output_type": "stream",
     "text": [
      "Process for: 2014-10-13 :\n"
     ]
    },
    {
     "name": "stderr",
     "output_type": "stream",
     "text": [
      "[1/1] Processing:  100%|████████████████████████████████████████████████████████|  [ Elapsed: 00:02, Remaining: 00:00 ]\n",
      "      Downloading: 100%|██████████████████████████████████████████████|  [ Elapsed: 00:00, Remaining: 00:00 ] (0.094MB)\n",
      "[1/1] Processing:  100%|████████████████████████████████████████████████████████|  [ Elapsed: 00:02, Remaining: 00:00 ]\n",
      "      Downloading: 100%|██████████████████████████████████████████████|  [ Elapsed: 00:00, Remaining: 00:00 ] (0.094MB)\n",
      "[1/1] Processing:  100%|████████████████████████████████████████████████████████|  [ Elapsed: 00:02, Remaining: 00:00 ]\n",
      "      Downloading: 100%|██████████████████████████████████████████████|  [ Elapsed: 00:00, Remaining: 00:00 ] (0.094MB)\n"
     ]
    },
    {
     "name": "stdout",
     "output_type": "stream",
     "text": [
      "Process for: 2014-10-14 :\n"
     ]
    },
    {
     "name": "stderr",
     "output_type": "stream",
     "text": [
      "[1/1] Processing:  100%|████████████████████████████████████████████████████████|  [ Elapsed: 00:02, Remaining: 00:00 ]\n",
      "      Downloading: 100%|██████████████████████████████████████████████|  [ Elapsed: 00:00, Remaining: 00:00 ] (0.094MB)\n",
      "[1/1] Processing:  100%|████████████████████████████████████████████████████████|  [ Elapsed: 00:02, Remaining: 00:00 ]\n",
      "      Downloading: 100%|██████████████████████████████████████████████|  [ Elapsed: 00:00, Remaining: 00:00 ] (0.094MB)\n",
      "[1/1] Processing:  100%|████████████████████████████████████████████████████████|  [ Elapsed: 00:02, Remaining: 00:00 ]\n",
      "      Downloading: 100%|██████████████████████████████████████████████|  [ Elapsed: 00:00, Remaining: 00:00 ] (0.094MB)\n"
     ]
    },
    {
     "name": "stdout",
     "output_type": "stream",
     "text": [
      "Process for: 2014-10-15 :\n"
     ]
    },
    {
     "name": "stderr",
     "output_type": "stream",
     "text": [
      "[1/1] Processing:  100%|████████████████████████████████████████████████████████|  [ Elapsed: 00:02, Remaining: 00:00 ]\n",
      "      Downloading: 100%|██████████████████████████████████████████████|  [ Elapsed: 00:00, Remaining: 00:00 ] (0.094MB)\n",
      "[1/1] Processing:  100%|████████████████████████████████████████████████████████|  [ Elapsed: 00:02, Remaining: 00:00 ]\n",
      "      Downloading: 100%|██████████████████████████████████████████████|  [ Elapsed: 00:00, Remaining: 00:00 ] (0.094MB)\n",
      "[1/1] Processing:  100%|████████████████████████████████████████████████████████|  [ Elapsed: 00:02, Remaining: 00:00 ]\n",
      "      Downloading: 100%|██████████████████████████████████████████████|  [ Elapsed: 00:00, Remaining: 00:00 ] (0.094MB)\n"
     ]
    },
    {
     "name": "stdout",
     "output_type": "stream",
     "text": [
      "Process for: 2014-10-22 :\n"
     ]
    },
    {
     "name": "stderr",
     "output_type": "stream",
     "text": [
      "[1/1] Processing:  100%|████████████████████████████████████████████████████████|  [ Elapsed: 00:02, Remaining: 00:00 ]\n",
      "      Downloading: 100%|██████████████████████████████████████████████|  [ Elapsed: 00:00, Remaining: 00:00 ] (0.094MB)\n",
      "[1/1] Processing:  100%|████████████████████████████████████████████████████████|  [ Elapsed: 00:02, Remaining: 00:00 ]\n",
      "      Downloading: 100%|██████████████████████████████████████████████|  [ Elapsed: 00:00, Remaining: 00:00 ] (0.094MB)\n",
      "[1/1] Processing:  100%|████████████████████████████████████████████████████████|  [ Elapsed: 00:02, Remaining: 00:00 ]\n",
      "      Downloading: 100%|██████████████████████████████████████████████|  [ Elapsed: 00:00, Remaining: 00:00 ] (0.094MB)\n"
     ]
    },
    {
     "name": "stdout",
     "output_type": "stream",
     "text": [
      "Process for: 2014-10-23 :\n"
     ]
    },
    {
     "name": "stderr",
     "output_type": "stream",
     "text": [
      "[1/1] Processing:  100%|████████████████████████████████████████████████████████|  [ Elapsed: 00:02, Remaining: 00:00 ]\n",
      "      Downloading: 100%|██████████████████████████████████████████████|  [ Elapsed: 00:00, Remaining: 00:00 ] (0.094MB)\n",
      "[1/1] Processing:  100%|████████████████████████████████████████████████████████|  [ Elapsed: 00:02, Remaining: 00:00 ]\n",
      "      Downloading: 100%|██████████████████████████████████████████████|  [ Elapsed: 00:00, Remaining: 00:00 ] (0.094MB)\n",
      "[1/1] Processing:  100%|████████████████████████████████████████████████████████|  [ Elapsed: 00:02, Remaining: 00:00 ]\n",
      "      Downloading: 100%|██████████████████████████████████████████████|  [ Elapsed: 00:00, Remaining: 00:00 ] (0.094MB)\n"
     ]
    },
    {
     "name": "stdout",
     "output_type": "stream",
     "text": [
      "Process for: 2014-10-24 :\n"
     ]
    },
    {
     "name": "stderr",
     "output_type": "stream",
     "text": [
      "[1/1] Processing:  100%|████████████████████████████████████████████████████████|  [ Elapsed: 00:03, Remaining: 00:00 ]\n",
      "      Downloading: 100%|██████████████████████████████████████████████|  [ Elapsed: 00:00, Remaining: 00:00 ] (0.094MB)\n",
      "[1/1] Processing:  100%|████████████████████████████████████████████████████████|  [ Elapsed: 00:02, Remaining: 00:00 ]\n",
      "      Downloading: 100%|██████████████████████████████████████████████|  [ Elapsed: 00:00, Remaining: 00:00 ] (0.094MB)\n",
      "[1/1] Processing:  100%|████████████████████████████████████████████████████████|  [ Elapsed: 00:02, Remaining: 00:00 ]\n",
      "      Downloading: 100%|██████████████████████████████████████████████|  [ Elapsed: 00:00, Remaining: 00:00 ] (0.094MB)\n"
     ]
    },
    {
     "name": "stdout",
     "output_type": "stream",
     "text": [
      "Wall time: 21min 42s\n"
     ]
    }
   ],
   "source": [
    "%%time\n",
    "\n",
    "hours_t_day = 24\n",
    "hours_added = datetime.timedelta(hours = hours_t_day)\n",
    "\n",
    "listdfa = []\n",
    "listdfb = []\n",
    "listdfc = []\n",
    "\n",
    "cc = ClientConfig()\n",
    "cc.set_site_config(\"https://vires.services/ows\", token=\"rp-foC8gz-VTFz7He6SMPnQtKEpasEaB\")\n",
    "cc.default_url = \"https://vires.services/ows\"\n",
    "cc.save()\n",
    "\n",
    "for d in uniquelist_dates:\n",
    "    print(\"Process for:\",d,\":\" )\n",
    "    startdate = datetime.datetime.combine(d, datetime.datetime.min.time())\n",
    "    enddate = startdate + hours_added\n",
    "    mid_date = d\n",
    "    SwarmDataA,SwarmDataB,SwarmDataC = GetSwarmData_and_residuals(startdate, enddate,mid_date)\n",
    "    listdfa.append(SwarmDataA)\n",
    "    listdfb.append(SwarmDataB)\n",
    "    listdfc.append(SwarmDataC)"
   ]
  },
  {
   "cell_type": "markdown",
   "metadata": {},
   "source": [
    "**3.**  As you might noted in the previous cell we append the results from each iteration into a empty python list. In here we join a sequence of arrays along the 0 axis (by applying the `concant` function ), to get a pandas dataframe that contains the data for each Swarm satellite for all the unique dates we identified in the GPS track `datetime` column."
   ]
  },
  {
   "cell_type": "code",
   "execution_count": 9,
   "metadata": {
    "ExecuteTime": {
     "end_time": "2020-09-15T13:58:08.944713Z",
     "start_time": "2020-09-15T13:58:08.661699Z"
    }
   },
   "outputs": [
    {
     "data": {
      "text/html": [
       "<div>\n",
       "<style scoped>\n",
       "    .dataframe tbody tr th:only-of-type {\n",
       "        vertical-align: middle;\n",
       "    }\n",
       "\n",
       "    .dataframe tbody tr th {\n",
       "        vertical-align: top;\n",
       "    }\n",
       "\n",
       "    .dataframe thead th {\n",
       "        text-align: right;\n",
       "    }\n",
       "</style>\n",
       "<table border=\"1\" class=\"dataframe\">\n",
       "  <thead>\n",
       "    <tr style=\"text-align: right;\">\n",
       "      <th></th>\n",
       "      <th>Na</th>\n",
       "      <th>Ea</th>\n",
       "      <th>Ca</th>\n",
       "      <th>Ta</th>\n",
       "      <th>LatA</th>\n",
       "      <th>LongA</th>\n",
       "    </tr>\n",
       "    <tr>\n",
       "      <th>epoch</th>\n",
       "      <th></th>\n",
       "      <th></th>\n",
       "      <th></th>\n",
       "      <th></th>\n",
       "      <th></th>\n",
       "      <th></th>\n",
       "    </tr>\n",
       "  </thead>\n",
       "  <tbody>\n",
       "    <tr>\n",
       "      <th>1408320000</th>\n",
       "      <td>8487.964606</td>\n",
       "      <td>3678.068749</td>\n",
       "      <td>56977.141293</td>\n",
       "      <td>2014-08-18 00:00:00</td>\n",
       "      <td>66.843847</td>\n",
       "      <td>-134.672531</td>\n",
       "    </tr>\n",
       "    <tr>\n",
       "      <th>1408320060</th>\n",
       "      <td>6299.632166</td>\n",
       "      <td>2809.570149</td>\n",
       "      <td>57193.842168</td>\n",
       "      <td>2014-08-18 00:01:00</td>\n",
       "      <td>70.654918</td>\n",
       "      <td>-133.562740</td>\n",
       "    </tr>\n",
       "    <tr>\n",
       "      <th>1408320120</th>\n",
       "      <td>4255.868592</td>\n",
       "      <td>1903.377059</td>\n",
       "      <td>57385.386674</td>\n",
       "      <td>2014-08-18 00:02:00</td>\n",
       "      <td>74.451293</td>\n",
       "      <td>-131.817227</td>\n",
       "    </tr>\n",
       "    <tr>\n",
       "      <th>1408320180</th>\n",
       "      <td>2557.186251</td>\n",
       "      <td>950.335875</td>\n",
       "      <td>57136.758114</td>\n",
       "      <td>2014-08-18 00:03:00</td>\n",
       "      <td>78.218581</td>\n",
       "      <td>-128.828006</td>\n",
       "    </tr>\n",
       "    <tr>\n",
       "      <th>1408320240</th>\n",
       "      <td>948.020528</td>\n",
       "      <td>29.628735</td>\n",
       "      <td>56837.405710</td>\n",
       "      <td>2014-08-18 00:04:00</td>\n",
       "      <td>81.915833</td>\n",
       "      <td>-122.893911</td>\n",
       "    </tr>\n",
       "    <tr>\n",
       "      <th>1408320300</th>\n",
       "      <td>-37.700700</td>\n",
       "      <td>-1153.141683</td>\n",
       "      <td>56609.999181</td>\n",
       "      <td>2014-08-18 00:05:00</td>\n",
       "      <td>85.371832</td>\n",
       "      <td>-107.323979</td>\n",
       "    </tr>\n",
       "    <tr>\n",
       "      <th>1408320360</th>\n",
       "      <td>1577.813280</td>\n",
       "      <td>-2222.666826</td>\n",
       "      <td>55856.164308</td>\n",
       "      <td>2014-08-18 00:06:00</td>\n",
       "      <td>87.354036</td>\n",
       "      <td>-51.425113</td>\n",
       "    </tr>\n",
       "    <tr>\n",
       "      <th>1408320420</th>\n",
       "      <td>4210.353845</td>\n",
       "      <td>-219.288529</td>\n",
       "      <td>55309.030281</td>\n",
       "      <td>2014-08-18 00:07:00</td>\n",
       "      <td>85.299258</td>\n",
       "      <td>3.178611</td>\n",
       "    </tr>\n",
       "    <tr>\n",
       "      <th>1408320480</th>\n",
       "      <td>5542.614707</td>\n",
       "      <td>1123.011724</td>\n",
       "      <td>54874.372353</td>\n",
       "      <td>2014-08-18 00:08:00</td>\n",
       "      <td>81.832625</td>\n",
       "      <td>18.336577</td>\n",
       "    </tr>\n",
       "    <tr>\n",
       "      <th>1408320540</th>\n",
       "      <td>6966.236258</td>\n",
       "      <td>1727.956784</td>\n",
       "      <td>54271.331889</td>\n",
       "      <td>2014-08-18 00:09:00</td>\n",
       "      <td>78.133003</td>\n",
       "      <td>24.163814</td>\n",
       "    </tr>\n",
       "  </tbody>\n",
       "</table>\n",
       "</div>"
      ],
      "text/plain": [
       "                     Na           Ea            Ca                  Ta  \\\n",
       "epoch                                                                    \n",
       "1408320000  8487.964606  3678.068749  56977.141293 2014-08-18 00:00:00   \n",
       "1408320060  6299.632166  2809.570149  57193.842168 2014-08-18 00:01:00   \n",
       "1408320120  4255.868592  1903.377059  57385.386674 2014-08-18 00:02:00   \n",
       "1408320180  2557.186251   950.335875  57136.758114 2014-08-18 00:03:00   \n",
       "1408320240   948.020528    29.628735  56837.405710 2014-08-18 00:04:00   \n",
       "1408320300   -37.700700 -1153.141683  56609.999181 2014-08-18 00:05:00   \n",
       "1408320360  1577.813280 -2222.666826  55856.164308 2014-08-18 00:06:00   \n",
       "1408320420  4210.353845  -219.288529  55309.030281 2014-08-18 00:07:00   \n",
       "1408320480  5542.614707  1123.011724  54874.372353 2014-08-18 00:08:00   \n",
       "1408320540  6966.236258  1727.956784  54271.331889 2014-08-18 00:09:00   \n",
       "\n",
       "                 LatA       LongA  \n",
       "epoch                              \n",
       "1408320000  66.843847 -134.672531  \n",
       "1408320060  70.654918 -133.562740  \n",
       "1408320120  74.451293 -131.817227  \n",
       "1408320180  78.218581 -128.828006  \n",
       "1408320240  81.915833 -122.893911  \n",
       "1408320300  85.371832 -107.323979  \n",
       "1408320360  87.354036  -51.425113  \n",
       "1408320420  85.299258    3.178611  \n",
       "1408320480  81.832625   18.336577  \n",
       "1408320540  78.133003   24.163814  "
      ]
     },
     "execution_count": 9,
     "metadata": {},
     "output_type": "execute_result"
    }
   ],
   "source": [
    "TotalSwarm_A = pd.concat(listdfa, join='outer', axis=0)\n",
    "TotalSwarm_B = pd.concat(listdfb, join='outer', axis=0)\n",
    "TotalSwarm_C = pd.concat(listdfc, join='outer', axis=0)\n",
    "# Preview the compiled data from Satellite Alpha\n",
    "TotalSwarm_A.head(10)"
   ]
  },
  {
   "cell_type": "markdown",
   "metadata": {},
   "source": [
    "## Interpolation (ST-IDW) and Annotation Process\n",
    "\n",
    "Once we have requested the data we need for each point in the GPS Track and considering we have gathered the available data from the three satellites for one day ( *24 hours, every 60 seconds around 1440 Swarm measures per satellite*). Now we need to `filter` in space and time the available points to compute the magnetic values for each GPS point in its particular date and time. Therefore, before running the interpolation process we set **four** functions that will require the *latitude* and *longitude* and the *epoch* time of each GPS point to filter the Swarm points into what we called **Space-Time Cylinder**. The following picture can provide a better explanation about how the points inside the space-time cylinder are included or excluded. **Figure I**, shows the idea behind the interpolation process for each GPS point, requesting and processing the avaliable Swarm messuares by the three satellites. **Figure II**, illustrate the geometric components behing the space-time cylinder where the points are filtered and included in the interpolation process. Figure B, will help you to understand how the following functions compute the required parameters **Figure III** shows how the R of the Space-Time cylinder is based on the GPS point latitude. For more information about the time-space windows please read the full paper where we explain the details of it.\n",
    "\n",
    "<img src=\"./images/AnnotateServiceJupiter.jpg\" >"
   ]
  },
  {
   "cell_type": "markdown",
   "metadata": {},
   "source": [
    "<div class=\"alert alert-info\" role=\"alert\">\n",
    "<strong>📘 Auxiliary Functions:</strong>\n",
    "    \n",
    "<ol>\n",
    "  <li><strong>distance_to_GPS</strong> function: Is the function in charge to calculate the distance between each GPS Point and the Swarm Point.</li>\n",
    "  <li><strong>Kradius</strong> function: Is the function in charge to compute the R (radius) value in the cylinder. The R value will be considered based on the latitude of each GPS Point.</li>\n",
    "    <li><strong>DistJ</strong> function: This function will calculate the <code>d</code> value as the hypotenuse created in the triangle created amount the locations of the GPS point, the location of the Swarm points and the radius value.</li>\n",
    "  <li><strong>DfTime_func</strong> function: This is a time function to selected the points in the range of a the DeltaTime - <code>DT</code> window. The Delta time window has been set as 4 hours for each satellite trajectory.</li>\n",
    "</ol> \n",
    "    \n",
    "</div>"
   ]
  },
  {
   "cell_type": "code",
   "execution_count": 10,
   "metadata": {
    "ExecuteTime": {
     "end_time": "2020-09-15T13:58:14.695869Z",
     "start_time": "2020-09-15T13:58:14.654858Z"
    }
   },
   "outputs": [],
   "source": [
    "def distance_to_GPS(s_lat, s_lng, e_lat, e_lng): \n",
    "    # approximate radius of earth in km\n",
    "    R = 6373.0\n",
    "    s_lat = s_lat*(np.pi)/180.0                     \n",
    "    s_lng = np.deg2rad(s_lng)     \n",
    "    e_lat = np.deg2rad(e_lat)                       \n",
    "    e_lng = np.deg2rad(e_lng)\n",
    "    d = np.sin((e_lat - s_lat)/2)**2 + np.cos(s_lat)*np.cos(e_lat) * np.sin((e_lng - s_lng)/2)**2\n",
    "    return 2 * R * np.arcsin(np.sqrt(d))\n",
    "\n",
    "def Kradius (lat):\n",
    "    if 0 <= lat < 90 :\n",
    "        #for Northern Latitudes \n",
    "        nlat = (-10 * lat) + 1800\n",
    "        #print(\"The R on the North\")\n",
    "    if -90 < lat < 0:\n",
    "        #for Southern Latitudes\n",
    "        nlat = (10 * lat) + 1800\n",
    "        #print (\"The R on the South\")\n",
    "    return nlat\n",
    "\n",
    "def DistJ(ds, r, dt, DT):\n",
    "    eDist = np.sqrt((ds/r)**2 + (dt/DT)**2)\n",
    "    return eDist\n",
    "\n",
    "def DfTime_func (SwarmData, GPSTime, DT):\n",
    "#     DT= 14400 #deltaT of 14400 secs, 4 hours, if the Period is 1s. 1440 for 10s of period. 240 for data every 60s.\n",
    "    DataFrame_Per_Time = []\n",
    "    for index in SwarmData.index:\n",
    "        if index == GPSTime:\n",
    "            DataFrame_Per_Time = pd.DataFrame(SwarmData.loc[index-DT:index+DT])\n",
    "    return DataFrame_Per_Time"
   ]
  },
  {
   "cell_type": "markdown",
   "metadata": {},
   "source": [
    "<div class=\"alert alert-info\" role=\"alert\">\n",
    "<strong>📘 SwarmMagAnnotation function:</strong>\n",
    "    \n",
    "Working as the main function for the annotation process, this functions meets the previous functions running the space-time window filters, and the computing the <code>ST- IDW process</code>. This function will run a interpolation process for each GPS Point considering only the Swarm points inside the Space-Time cylinder computed by the four previous functions. The return value will be an array with the values the annotated magnetic values for the GPS point. The function will be executed inside a loop going through the GPS track. This function is the annotation process per se, and through this process at first we run the interpolation getting the magnetic values in NEC reference frame and then we compute the extra magnetic values that are useful to get a better understating of the earth's magnetic field at this particular location, date and time.\n",
    " \n",
    " </div>"
   ]
  },
  {
   "cell_type": "code",
   "execution_count": 11,
   "metadata": {
    "ExecuteTime": {
     "end_time": "2020-09-15T16:06:49.570438Z",
     "start_time": "2020-09-15T16:06:49.443442Z"
    }
   },
   "outputs": [],
   "source": [
    "def SwarmMagAnnotation (GPSLat,GPSLong,GPSDateTime,GPSTime, DT):\n",
    "  \n",
    "    # 1. Runnig the DfTime_func function to filter by the defined Delta Time.\n",
    "    DfTimeA = DfTime_func(TotalSwarm_A,GPSTime,DT)\n",
    "    DfTimeB = DfTime_func(TotalSwarm_B,GPSTime,DT)\n",
    "    DfTimeC = DfTime_func(TotalSwarm_C,GPSTime,DT)\n",
    "    #2. Computing the dt as the difference between the datetime and the datetime from swarm point. At this point\n",
    "    #   we have filtered the swarm point by time.\n",
    "    DfTimeA['dTa'] = (GPSTime - (DfTimeA.index))\n",
    "    DfTimeB['dTb'] = (GPSTime - (DfTimeB.index))\n",
    "    DfTimeC['dTc'] = (GPSTime - (DfTimeC.index))\n",
    "    \n",
    "    #3.Computing the ds\n",
    "    # 3.1 Parsing the requieres parameters for distance_to_GPS function\n",
    "    \n",
    "    s_lat = GPSLat; e_lat = DfTimeA['LatA']; s_lng = GPSLong; e_lng = DfTimeA['LongA']  \n",
    "    ## Running the function, based on the previous parameters, for SatA\n",
    "    DfTimeA['distance']= distance_to_GPS(s_lat, s_lng, e_lat, e_lng) \n",
    "    \n",
    "    s_lat = GPSLat; e_lat = DfTimeB['LatB']; s_lng = GPSLong; e_lng = DfTimeB['LongB']  \n",
    "    # Running the function, based on the previous parameters, for SatB\n",
    "    DfTimeB['distance']= distance_to_GPS(s_lat, s_lng, e_lat, e_lng)\n",
    "    \n",
    "    s_lat = GPSLat; e_lat = DfTimeC['LatC']; s_lng = GPSLong; e_lng = DfTimeC['LongC']  \n",
    "    # Running the function, based on the previous parameters, for SatC\n",
    "    DfTimeC['distance']= distance_to_GPS(s_lat, s_lng, e_lat, e_lng) \n",
    "    \n",
    "    #3.2 Computing the R distance.\n",
    "    DfTimeA['r']= Kradius(GPSLat)\n",
    "    DfTimeB['r']= Kradius(GPSLat)\n",
    "    DfTimeC['r']= Kradius(GPSLat)\n",
    "    \n",
    "    #3.3 Filtering row that only fall into the computed R value.\n",
    "    dfFinalA=DfTimeA[DfTimeA['distance']<=DfTimeA['r']]\n",
    "    dfFinalB=DfTimeB[DfTimeB['distance']<=DfTimeB['r']]\n",
    "    dfFinalC=DfTimeC[DfTimeC['distance']<=DfTimeC['r']]\n",
    "    \n",
    "    #4. Calculating the number of points per satellite that have passed the Space and Time Windows.\n",
    "    NumSatA = len(dfFinalA.index)\n",
    "    NumSatB = len(dfFinalB.index)\n",
    "    NumSatC = len(dfFinalC.index)\n",
    "    TolSatPts = (NumSatA+NumSatB+NumSatC)\n",
    "    \n",
    "    #5. Getting ride of the unnecesarry columns.\n",
    "    dfFinalA.drop(['Ta'], axis=1, inplace=True) \n",
    "    dfFinalB.drop(['Tb'], axis=1, inplace=True)\n",
    "    dfFinalC.drop(['Tc'], axis=1, inplace=True)\n",
    "    \n",
    "    #6. Formatting columns for the filtered Swarm points to have the same schema.     \n",
    "    dfFinalA.rename(columns={\"LatA\": \"Lat\", \"LongA\": \"Long\", \"Na\": \"N\", \"Ea\": \"E\", \"Ca\": \"C\", \"dTa\": \"dT\"}, inplace=True)\n",
    "    dfFinalB.rename(columns={\"LatB\": \"Lat\", \"LongB\": \"Long\", \"Nb\": \"N\", \"Eb\": \"E\", \"Cb\": \"C\", \"dTb\": \"dT\"}, inplace=True)\n",
    "    dfFinalC.rename(columns={\"LatC\": \"Lat\", \"LongC\": \"Long\", \"Nc\": \"N\", \"Ec\": \"E\", \"Cc\": \"C\", \"dTc\": \"dT\"}, inplace=True)\n",
    "    \n",
    "    #7. Combining the three satellited messures into a bigger dataframe that store all the Swarm points that were filtered. \n",
    "    frames = [dfFinalA, dfFinalB, dfFinalC] #List to index the specific SatId to the new full DF.\n",
    "    SwarmData = pd.concat(frames, keys=['A', 'B', 'C'], sort=False)\n",
    "    \n",
    "    #8. Computing the minimum distance and the average distance.\n",
    "    MinDistance = SwarmData['distance'].min()\n",
    "    AvDistance = SwarmData['distance'].mean()\n",
    "    \n",
    "    #9. Computing the d (hypotenuse compused from the edges ds, dt values\n",
    "    ds = SwarmData['distance']\n",
    "    r = SwarmData['r']\n",
    "    dt = SwarmData['dT']\n",
    "    SwarmData['Dj']= DistJ(ds, r, dt, DT)\n",
    "   \n",
    "    #10 Calculating the weigth values based on the previuos parameters.\n",
    "    SwarmData['W']= 1/((SwarmData['Dj'])**2)\n",
    "    \n",
    "    #11. Computing the Sum of weigths\n",
    "    SumW = SwarmData['W'].sum()\n",
    "    #12. Distribution of weigths\n",
    "    SwarmData['Wj'] = SwarmData['W']/SumW\n",
    "    \n",
    "    #13. Computing the Magnetic componente based on the weigths prevoius weigths. \n",
    "    Ngps = (SwarmData['Wj']*SwarmData['N']).sum()\n",
    "    Egps = (SwarmData['Wj']*SwarmData['E']).sum()\n",
    "    Cgps = (SwarmData['Wj']*SwarmData['C']).sum()\n",
    "\n",
    "    #14. Having Intepolated and weigth magnetic values, we can compute the other magnectic components. \n",
    "    Hgps = np.sqrt((Ngps**2)+(Egps**2))\n",
    "    DgpsRad = np.arctan(Egps/Ngps)\n",
    "    Dgps = np.degrees(DgpsRad)\n",
    "    Fgps = np.sqrt((Ngps**2)+(Egps**2)+(Cgps**2))\n",
    "    IgpsRad = np.arctan(Cgps/Hgps)\n",
    "    Igps = np.degrees(IgpsRad)\n",
    "    #15. Write the results into an array that will be a dictionay for the final dataframe.\n",
    "    resultrow = {'Latitude': GPSLat, 'Longitude': GPSLong, 'DateTime': GPSDateTime, 'Fgps':Fgps, 'N': Ngps, 'E': Egps, 'C':Cgps, 'H':Hgps, 'D':Dgps,'I':Igps, 'TotalPoints':TolSatPts, 'MinDist':MinDistance, 'AvDist':AvDistance}  \n",
    "    return resultrow"
   ]
  },
  {
   "cell_type": "markdown",
   "metadata": {},
   "source": [
    "**6.** Loop to run the `SwarmMagAnnotation` function, for each GPS Point, getting the `Latitude`, `Longitude`, `DateTime`, `Epoch`, and a `DT` of **4 hours** (1440 seconds). The return of every iteration will be include in a empty list using the `append` function."
   ]
  },
  {
   "cell_type": "code",
   "execution_count": 12,
   "metadata": {
    "ExecuteTime": {
     "end_time": "2020-09-15T16:08:33.800234Z",
     "start_time": "2020-09-15T16:06:53.187330Z"
    },
    "scrolled": true
   },
   "outputs": [
    {
     "name": "stdout",
     "output_type": "stream",
     "text": [
      "Process for: 0 Epoch: 2014-09-08 05:54:00\n"
     ]
    },
    {
     "name": "stderr",
     "output_type": "stream",
     "text": [
      "C:\\Users\\admcit\\Miniconda3\\envs\\jgpenv\\lib\\site-packages\\pandas\\core\\frame.py:4110: SettingWithCopyWarning: \n",
      "A value is trying to be set on a copy of a slice from a DataFrame\n",
      "\n",
      "See the caveats in the documentation: http://pandas.pydata.org/pandas-docs/stable/user_guide/indexing.html#returning-a-view-versus-a-copy\n",
      "  return super().drop(\n",
      "C:\\Users\\admcit\\Miniconda3\\envs\\jgpenv\\lib\\site-packages\\pandas\\core\\frame.py:4238: SettingWithCopyWarning: \n",
      "A value is trying to be set on a copy of a slice from a DataFrame\n",
      "\n",
      "See the caveats in the documentation: http://pandas.pydata.org/pandas-docs/stable/user_guide/indexing.html#returning-a-view-versus-a-copy\n",
      "  return super().rename(**kwargs)\n"
     ]
    },
    {
     "name": "stdout",
     "output_type": "stream",
     "text": [
      "Process for: 1 Epoch: 2014-09-08 06:10:00\n",
      "Process for: 2 Epoch: 2014-09-08 06:26:00\n",
      "Process for: 3 Epoch: 2014-09-08 06:42:00\n",
      "Process for: 4 Epoch: 2014-09-08 07:14:00\n",
      "Process for: 5 Epoch: 2014-09-08 07:30:00\n",
      "Process for: 6 Epoch: 2014-09-08 07:46:00\n",
      "Process for: 7 Epoch: 2014-09-08 08:03:00\n",
      "Process for: 8 Epoch: 2014-09-08 08:34:00\n",
      "Process for: 9 Epoch: 2014-09-08 08:50:00\n",
      "Process for: 10 Epoch: 2014-09-08 09:37:00\n",
      "Process for: 11 Epoch: 2014-09-08 09:54:00\n",
      "Process for: 12 Epoch: 2014-09-08 13:53:00\n",
      "Process for: 13 Epoch: 2014-09-08 14:09:00\n",
      "Process for: 14 Epoch: 2014-09-08 14:25:00\n",
      "Process for: 15 Epoch: 2014-09-08 14:41:00\n",
      "Process for: 16 Epoch: 2014-09-08 15:13:00\n",
      "Process for: 17 Epoch: 2014-09-08 15:29:00\n",
      "Process for: 18 Epoch: 2014-09-08 15:45:00\n",
      "Process for: 19 Epoch: 2014-09-08 16:01:00\n",
      "Process for: 20 Epoch: 2014-09-08 16:33:00\n",
      "Process for: 21 Epoch: 2014-09-08 16:49:00\n",
      "Process for: 22 Epoch: 2014-09-08 17:05:00\n",
      "Process for: 23 Epoch: 2014-09-08 17:38:00\n",
      "Process for: 24 Epoch: 2014-09-08 17:53:00\n",
      "Process for: 25 Epoch: 2014-09-21 12:23:00\n",
      "Process for: 26 Epoch: 2014-09-21 12:55:00\n",
      "Process for: 27 Epoch: 2014-09-21 13:11:00\n",
      "Process for: 28 Epoch: 2014-09-21 13:43:00\n",
      "Process for: 29 Epoch: 2014-09-21 14:00:00\n",
      "Process for: 30 Epoch: 2014-09-21 14:17:00\n",
      "Process for: 31 Epoch: 2014-09-21 14:31:00\n",
      "Process for: 32 Epoch: 2014-09-21 15:03:00\n",
      "Process for: 33 Epoch: 2014-09-21 15:19:00\n",
      "Process for: 34 Epoch: 2014-09-21 15:35:00\n",
      "Process for: 35 Epoch: 2014-09-21 16:07:00\n",
      "Process for: 36 Epoch: 2014-09-21 16:23:00\n",
      "Process for: 37 Epoch: 2014-09-22 05:52:00\n",
      "Process for: 38 Epoch: 2014-09-22 06:08:00\n",
      "Process for: 39 Epoch: 2014-09-22 06:24:00\n",
      "Process for: 40 Epoch: 2014-09-22 06:40:00\n",
      "Process for: 41 Epoch: 2014-09-22 07:13:00\n",
      "Process for: 42 Epoch: 2014-09-22 08:02:00\n",
      "Process for: 43 Epoch: 2014-09-30 06:35:00\n",
      "Process for: 44 Epoch: 2014-09-30 06:51:00\n",
      "Process for: 45 Epoch: 2014-09-30 07:07:00\n",
      "Process for: 46 Epoch: 2014-09-30 07:23:00\n",
      "Process for: 47 Epoch: 2014-09-30 08:04:00\n",
      "Process for: 48 Epoch: 2014-09-30 08:46:00\n",
      "Process for: 49 Epoch: 2014-09-30 10:10:00\n",
      "Process for: 50 Epoch: 2014-09-30 10:26:00\n",
      "Process for: 51 Epoch: 2014-09-30 11:04:00\n",
      "Process for: 52 Epoch: 2014-09-30 11:21:00\n",
      "Process for: 53 Epoch: 2014-09-30 11:53:00\n",
      "Process for: 54 Epoch: 2014-09-30 12:09:00\n",
      "Process for: 55 Epoch: 2014-09-30 16:27:00\n",
      "Process for: 56 Epoch: 2014-09-30 16:59:00\n",
      "Process for: 57 Epoch: 2014-09-30 17:15:00\n",
      "Process for: 58 Epoch: 2014-09-30 17:47:00\n",
      "Process for: 59 Epoch: 2014-09-30 18:04:00\n",
      "Process for: 60 Epoch: 2014-09-30 18:20:00\n",
      "Process for: 61 Epoch: 2014-09-30 18:35:00\n",
      "Process for: 62 Epoch: 2014-09-30 19:08:00\n",
      "Process for: 63 Epoch: 2014-09-30 19:24:00\n",
      "Process for: 64 Epoch: 2014-09-30 19:40:00\n",
      "Process for: 65 Epoch: 2014-09-30 19:56:00\n",
      "Process for: 66 Epoch: 2014-09-30 20:12:00\n",
      "Process for: 67 Epoch: 2014-09-30 20:28:00\n",
      "Process for: 68 Epoch: 2014-10-01 00:29:00\n",
      "Process for: 69 Epoch: 2014-10-01 00:44:00\n",
      "Process for: 70 Epoch: 2014-10-01 01:00:00\n",
      "Process for: 71 Epoch: 2014-10-01 02:42:00\n",
      "Process for: 72 Epoch: 2014-10-01 02:59:00\n"
     ]
    },
    {
     "name": "stderr",
     "output_type": "stream",
     "text": [
      "<ipython-input-11-f2e2a6b6bf01>:83: RuntimeWarning: invalid value encountered in double_scalars\n",
      "  DgpsRad = np.arctan(Egps/Ngps)\n",
      "<ipython-input-11-f2e2a6b6bf01>:86: RuntimeWarning: invalid value encountered in double_scalars\n",
      "  IgpsRad = np.arctan(Cgps/Hgps)\n"
     ]
    },
    {
     "name": "stdout",
     "output_type": "stream",
     "text": [
      "Process for: 73 Epoch: 2014-10-01 03:14:00\n",
      "Process for: 74 Epoch: 2014-10-01 05:05:00\n",
      "Process for: 75 Epoch: 2014-10-01 06:19:00\n",
      "Process for: 76 Epoch: 2014-10-01 06:35:00\n",
      "Process for: 77 Epoch: 2014-10-01 07:23:00\n",
      "Process for: 78 Epoch: 2014-10-01 07:40:00\n",
      "Process for: 79 Epoch: 2014-10-01 07:56:00\n",
      "Process for: 80 Epoch: 2014-10-01 11:42:00\n",
      "Process for: 81 Epoch: 2014-10-01 12:13:00\n",
      "Process for: 82 Epoch: 2014-10-01 12:29:00\n",
      "Process for: 83 Epoch: 2014-10-01 13:02:00\n",
      "Process for: 84 Epoch: 2014-10-01 13:18:00\n",
      "Process for: 85 Epoch: 2014-10-01 13:34:00\n",
      "Process for: 86 Epoch: 2014-10-01 13:50:00\n",
      "Process for: 87 Epoch: 2014-10-01 14:22:00\n",
      "Process for: 88 Epoch: 2014-10-01 14:38:00\n",
      "Process for: 89 Epoch: 2014-10-01 14:54:00\n",
      "Process for: 90 Epoch: 2014-10-01 15:26:00\n",
      "Process for: 91 Epoch: 2014-10-01 15:42:00\n",
      "Process for: 92 Epoch: 2014-10-01 19:42:00\n",
      "Process for: 93 Epoch: 2014-10-01 19:57:00\n",
      "Process for: 94 Epoch: 2014-10-01 20:13:00\n",
      "Process for: 95 Epoch: 2014-10-01 20:30:00\n",
      "Process for: 96 Epoch: 2014-10-01 21:02:00\n",
      "Process for: 97 Epoch: 2014-10-01 21:18:00\n",
      "Process for: 98 Epoch: 2014-10-01 21:34:00\n",
      "Process for: 99 Epoch: 2014-10-01 21:50:00\n",
      "Process for: 100 Epoch: 2014-10-01 22:22:00\n",
      "Process for: 101 Epoch: 2014-10-01 22:38:00\n",
      "Process for: 102 Epoch: 2014-10-01 23:10:00\n",
      "Process for: 103 Epoch: 2014-10-01 23:26:00\n",
      "Process for: 104 Epoch: 2014-10-01 23:42:00\n",
      "Process for: 105 Epoch: 2014-10-01 23:58:00\n",
      "Process for: 106 Epoch: 2014-10-02 03:42:00\n",
      "Process for: 107 Epoch: 2014-10-02 04:14:00\n",
      "Process for: 108 Epoch: 2014-10-02 05:02:00\n",
      "Process for: 109 Epoch: 2014-10-02 05:18:00\n",
      "Process for: 110 Epoch: 2014-10-02 05:35:00\n",
      "Process for: 111 Epoch: 2014-10-02 05:51:00\n",
      "Process for: 112 Epoch: 2014-10-02 06:22:00\n",
      "Process for: 113 Epoch: 2014-10-02 06:38:00\n",
      "Process for: 114 Epoch: 2014-10-02 07:26:00\n",
      "Process for: 115 Epoch: 2014-10-02 07:43:00\n",
      "Process for: 116 Epoch: 2014-10-02 11:43:00\n",
      "Process for: 117 Epoch: 2014-10-02 11:59:00\n",
      "Process for: 118 Epoch: 2014-10-02 12:15:00\n",
      "Process for: 119 Epoch: 2014-10-02 12:31:00\n",
      "Process for: 120 Epoch: 2014-10-02 13:04:00\n",
      "Process for: 121 Epoch: 2014-10-02 13:20:00\n",
      "Process for: 122 Epoch: 2014-10-02 13:36:00\n",
      "Process for: 123 Epoch: 2014-10-02 13:52:00\n",
      "Process for: 124 Epoch: 2014-10-02 14:24:00\n",
      "Process for: 125 Epoch: 2014-10-02 14:41:00\n",
      "Process for: 126 Epoch: 2014-10-02 14:57:00\n",
      "Process for: 127 Epoch: 2014-10-02 15:29:00\n",
      "Process for: 128 Epoch: 2014-10-02 15:45:00\n",
      "Process for: 129 Epoch: 2014-10-02 19:45:00\n",
      "Process for: 130 Epoch: 2014-10-02 20:01:00\n",
      "Process for: 131 Epoch: 2014-10-02 20:17:00\n",
      "Process for: 132 Epoch: 2014-10-02 20:34:00\n",
      "Process for: 133 Epoch: 2014-10-02 21:06:00\n",
      "Process for: 134 Epoch: 2014-10-02 21:22:00\n",
      "Process for: 135 Epoch: 2014-10-02 21:38:00\n",
      "Process for: 136 Epoch: 2014-10-02 21:54:00\n",
      "Process for: 137 Epoch: 2014-10-02 22:26:00\n",
      "Process for: 138 Epoch: 2014-10-02 22:42:00\n",
      "Process for: 139 Epoch: 2014-10-02 23:30:00\n",
      "Process for: 140 Epoch: 2014-10-02 23:46:00\n",
      "Process for: 141 Epoch: 2014-10-03 03:47:00\n",
      "Process for: 142 Epoch: 2014-10-03 04:03:00\n",
      "Process for: 143 Epoch: 2014-10-03 04:19:00\n",
      "Process for: 144 Epoch: 2014-10-03 04:35:00\n",
      "Process for: 145 Epoch: 2014-10-03 05:23:00\n",
      "Process for: 146 Epoch: 2014-10-03 05:39:00\n",
      "Process for: 147 Epoch: 2014-10-03 05:55:00\n",
      "Process for: 148 Epoch: 2014-10-03 06:27:00\n",
      "Process for: 149 Epoch: 2014-10-03 06:43:00\n",
      "Process for: 150 Epoch: 2014-10-03 06:59:00\n",
      "Process for: 151 Epoch: 2014-10-03 07:15:00\n",
      "Process for: 152 Epoch: 2014-10-03 07:33:00\n",
      "Process for: 153 Epoch: 2014-10-03 07:47:00\n",
      "Process for: 154 Epoch: 2014-10-03 11:49:00\n",
      "Process for: 155 Epoch: 2014-10-03 12:05:00\n",
      "Process for: 156 Epoch: 2014-10-03 12:22:00\n",
      "Process for: 157 Epoch: 2014-10-03 12:37:00\n",
      "Process for: 158 Epoch: 2014-10-03 13:10:00\n",
      "Process for: 159 Epoch: 2014-10-03 13:26:00\n",
      "Process for: 160 Epoch: 2014-10-03 13:42:00\n",
      "Process for: 161 Epoch: 2014-10-03 13:58:00\n",
      "Process for: 162 Epoch: 2014-10-03 14:30:00\n",
      "Process for: 163 Epoch: 2014-10-03 14:47:00\n",
      "Process for: 164 Epoch: 2014-10-03 15:35:00\n",
      "Process for: 165 Epoch: 2014-10-03 15:51:00\n",
      "Process for: 166 Epoch: 2014-10-03 19:52:00\n",
      "Process for: 167 Epoch: 2014-10-03 20:08:00\n",
      "Process for: 168 Epoch: 2014-10-03 20:24:00\n",
      "Process for: 169 Epoch: 2014-10-03 20:40:00\n",
      "Process for: 170 Epoch: 2014-10-03 21:28:00\n",
      "Process for: 171 Epoch: 2014-10-03 21:44:00\n",
      "Process for: 172 Epoch: 2014-10-03 22:00:00\n",
      "Process for: 173 Epoch: 2014-10-03 22:32:00\n",
      "Process for: 174 Epoch: 2014-10-03 22:48:00\n",
      "Process for: 175 Epoch: 2014-10-03 23:04:00\n",
      "Process for: 176 Epoch: 2014-10-03 23:20:00\n",
      "Process for: 177 Epoch: 2014-10-03 23:36:00\n",
      "Process for: 178 Epoch: 2014-10-03 23:52:00\n",
      "Process for: 179 Epoch: 2014-10-04 03:53:00\n",
      "Process for: 180 Epoch: 2014-10-04 04:09:00\n",
      "Process for: 181 Epoch: 2014-10-04 04:25:00\n",
      "Process for: 182 Epoch: 2014-10-04 04:41:00\n",
      "Process for: 183 Epoch: 2014-10-04 05:29:00\n",
      "Process for: 184 Epoch: 2014-10-04 05:45:00\n",
      "Process for: 185 Epoch: 2014-10-04 06:01:00\n",
      "Process for: 186 Epoch: 2014-10-04 06:33:00\n",
      "Process for: 187 Epoch: 2014-10-04 06:49:00\n",
      "Process for: 188 Epoch: 2014-10-04 07:38:00\n",
      "Process for: 189 Epoch: 2014-10-04 07:53:00\n",
      "Process for: 190 Epoch: 2014-08-30 12:39:00\n",
      "Process for: 191 Epoch: 2014-08-30 14:42:00\n",
      "Process for: 192 Epoch: 2014-08-30 18:49:00\n",
      "Process for: 193 Epoch: 2014-09-27 10:54:00\n",
      "Process for: 194 Epoch: 2014-09-27 11:09:00\n",
      "Process for: 195 Epoch: 2014-09-27 11:25:00\n",
      "Process for: 196 Epoch: 2014-09-27 11:40:00\n",
      "Process for: 197 Epoch: 2014-09-27 11:56:00\n",
      "Process for: 198 Epoch: 2014-09-27 12:11:00\n",
      "Process for: 199 Epoch: 2014-09-27 12:27:00\n",
      "Process for: 200 Epoch: 2014-09-29 22:56:00\n",
      "Process for: 201 Epoch: 2014-09-30 00:59:00\n",
      "Process for: 202 Epoch: 2014-09-30 10:44:00\n",
      "Process for: 203 Epoch: 2014-09-30 11:00:00\n",
      "Process for: 204 Epoch: 2014-09-30 11:15:00\n",
      "Process for: 205 Epoch: 2014-09-30 11:56:00\n",
      "Process for: 206 Epoch: 2014-09-30 12:11:00\n",
      "Process for: 207 Epoch: 2014-10-01 08:10:00\n",
      "Process for: 208 Epoch: 2014-10-01 08:25:00\n",
      "Process for: 209 Epoch: 2014-10-01 08:41:00\n",
      "Process for: 210 Epoch: 2014-10-01 08:56:00\n",
      "Process for: 211 Epoch: 2014-10-01 09:12:00\n",
      "Process for: 212 Epoch: 2014-10-01 09:27:00\n",
      "Process for: 213 Epoch: 2014-10-01 09:43:00\n",
      "Process for: 214 Epoch: 2014-10-01 15:06:00\n",
      "Process for: 215 Epoch: 2014-10-01 15:52:00\n",
      "Process for: 216 Epoch: 2014-10-01 16:07:00\n",
      "Process for: 217 Epoch: 2014-10-01 16:22:00\n",
      "Process for: 218 Epoch: 2014-10-01 16:39:00\n",
      "Process for: 219 Epoch: 2014-10-01 16:53:00\n",
      "Process for: 220 Epoch: 2014-10-01 17:09:00\n",
      "Process for: 221 Epoch: 2014-10-01 17:24:00\n",
      "Process for: 222 Epoch: 2014-10-01 22:02:00\n",
      "Process for: 223 Epoch: 2014-10-02 01:26:00\n",
      "Process for: 224 Epoch: 2014-10-02 03:29:00\n",
      "Process for: 225 Epoch: 2014-10-02 09:42:00\n",
      "Process for: 226 Epoch: 2014-10-02 11:45:00\n",
      "Process for: 227 Epoch: 2014-10-02 13:49:00\n",
      "Process for: 228 Epoch: 2014-10-02 15:55:00\n",
      "Process for: 229 Epoch: 2014-10-02 17:58:00\n",
      "Process for: 230 Epoch: 2014-08-19 02:41:00\n",
      "Process for: 231 Epoch: 2014-08-19 03:06:00\n",
      "Process for: 232 Epoch: 2014-09-30 14:38:00\n",
      "Process for: 233 Epoch: 2014-09-30 14:54:00\n",
      "Process for: 234 Epoch: 2014-10-02 10:16:00\n",
      "Process for: 235 Epoch: 2014-10-02 10:32:00\n",
      "Process for: 236 Epoch: 2014-10-02 19:21:00\n",
      "Process for: 237 Epoch: 2014-10-02 19:38:00\n",
      "Process for: 238 Epoch: 2014-10-03 10:10:00\n",
      "Process for: 239 Epoch: 2014-10-03 10:26:00\n",
      "Process for: 240 Epoch: 2014-10-03 19:17:00\n",
      "Process for: 241 Epoch: 2014-10-03 19:32:00\n",
      "Process for: 242 Epoch: 2014-10-04 04:21:00\n",
      "Process for: 243 Epoch: 2014-10-04 04:37:00\n",
      "Process for: 244 Epoch: 2014-08-28 19:24:00\n",
      "Process for: 245 Epoch: 2014-08-28 20:30:00\n",
      "Process for: 246 Epoch: 2014-08-28 21:36:00\n",
      "Process for: 247 Epoch: 2014-09-30 10:03:00\n",
      "Process for: 248 Epoch: 2014-09-30 11:09:00\n",
      "Process for: 249 Epoch: 2014-09-30 12:17:00\n",
      "Process for: 250 Epoch: 2014-09-30 21:41:00\n",
      "Process for: 251 Epoch: 2014-09-30 22:47:00\n",
      "Process for: 252 Epoch: 2014-09-30 23:54:00\n",
      "Process for: 253 Epoch: 2014-10-01 01:01:00\n",
      "Process for: 254 Epoch: 2014-10-01 09:51:00\n",
      "Process for: 255 Epoch: 2014-10-01 10:56:00\n",
      "Process for: 256 Epoch: 2014-10-01 20:52:00\n",
      "Process for: 257 Epoch: 2014-10-01 21:58:00\n",
      "Process for: 258 Epoch: 2014-10-01 23:05:00\n",
      "Process for: 259 Epoch: 2014-08-28 10:09:00\n",
      "Process for: 260 Epoch: 2014-08-28 10:25:00\n",
      "Process for: 261 Epoch: 2014-08-28 13:36:00\n"
     ]
    },
    {
     "name": "stdout",
     "output_type": "stream",
     "text": [
      "Process for: 262 Epoch: 2014-08-28 18:38:00\n",
      "Process for: 263 Epoch: 2014-08-28 18:54:00\n",
      "Process for: 264 Epoch: 2014-08-28 19:10:00\n",
      "Process for: 265 Epoch: 2014-08-29 11:23:00\n",
      "Process for: 266 Epoch: 2014-08-29 11:56:00\n",
      "Process for: 267 Epoch: 2014-08-29 12:12:00\n",
      "Process for: 268 Epoch: 2014-08-29 14:03:00\n",
      "Process for: 269 Epoch: 2014-08-29 22:20:00\n",
      "Process for: 270 Epoch: 2014-08-30 00:28:00\n",
      "Process for: 271 Epoch: 2014-09-30 08:17:00\n",
      "Process for: 272 Epoch: 2014-09-30 09:32:00\n",
      "Process for: 273 Epoch: 2014-09-30 13:47:00\n",
      "Process for: 274 Epoch: 2014-10-01 13:52:00\n",
      "Process for: 275 Epoch: 2014-10-01 14:09:00\n",
      "Process for: 276 Epoch: 2014-10-02 02:03:00\n",
      "Process for: 277 Epoch: 2014-08-27 07:56:00\n",
      "Process for: 278 Epoch: 2014-08-27 08:27:00\n",
      "Process for: 279 Epoch: 2014-08-27 09:13:00\n",
      "Process for: 280 Epoch: 2014-08-27 17:13:00\n",
      "Process for: 281 Epoch: 2014-08-27 17:44:00\n",
      "Process for: 282 Epoch: 2014-08-27 18:30:00\n",
      "Process for: 283 Epoch: 2014-08-28 02:29:00\n",
      "Process for: 284 Epoch: 2014-08-28 02:59:00\n",
      "Process for: 285 Epoch: 2014-08-28 03:46:00\n",
      "Process for: 286 Epoch: 2014-08-28 11:43:00\n",
      "Process for: 287 Epoch: 2014-08-28 12:15:00\n",
      "Process for: 288 Epoch: 2014-08-28 13:00:00\n",
      "Process for: 289 Epoch: 2014-09-29 17:58:00\n",
      "Process for: 290 Epoch: 2014-09-29 20:02:00\n",
      "Process for: 291 Epoch: 2014-09-29 22:04:00\n",
      "Process for: 292 Epoch: 2014-09-30 16:10:00\n",
      "Process for: 293 Epoch: 2014-09-30 16:55:00\n",
      "Process for: 294 Epoch: 2014-09-30 17:26:00\n",
      "Process for: 295 Epoch: 2014-10-01 09:55:00\n",
      "Process for: 296 Epoch: 2014-10-01 10:41:00\n",
      "Process for: 297 Epoch: 2014-10-01 10:57:00\n",
      "Process for: 298 Epoch: 2014-10-01 11:12:00\n",
      "Process for: 299 Epoch: 2014-10-01 19:10:00\n",
      "Process for: 300 Epoch: 2014-10-01 19:57:00\n",
      "Process for: 301 Epoch: 2014-10-01 20:27:00\n",
      "Process for: 302 Epoch: 2014-10-02 04:26:00\n",
      "Process for: 303 Epoch: 2014-10-02 05:12:00\n",
      "Process for: 304 Epoch: 2014-10-02 05:43:00\n",
      "Process for: 305 Epoch: 2014-10-02 13:43:00\n",
      "Process for: 306 Epoch: 2014-10-02 14:29:00\n",
      "Process for: 307 Epoch: 2014-10-02 14:45:00\n",
      "Process for: 308 Epoch: 2014-10-02 22:59:00\n",
      "Process for: 309 Epoch: 2014-10-02 23:45:00\n",
      "Process for: 310 Epoch: 2014-10-03 00:16:00\n",
      "Process for: 311 Epoch: 2014-10-03 08:15:00\n",
      "Process for: 312 Epoch: 2014-08-30 09:20:00\n",
      "Process for: 313 Epoch: 2014-08-30 21:39:00\n",
      "Process for: 314 Epoch: 2014-08-31 09:56:00\n",
      "Process for: 315 Epoch: 2014-10-01 23:33:00\n",
      "Process for: 316 Epoch: 2014-10-02 22:03:00\n",
      "Process for: 317 Epoch: 2014-10-03 15:26:00\n",
      "Process for: 318 Epoch: 2014-10-04 08:54:00\n",
      "Process for: 319 Epoch: 2014-10-05 16:42:00\n",
      "Process for: 320 Epoch: 2014-10-06 06:04:00\n",
      "Process for: 321 Epoch: 2014-08-25 18:36:00\n",
      "Process for: 322 Epoch: 2014-08-25 18:52:00\n",
      "Process for: 323 Epoch: 2014-08-26 01:39:00\n",
      "Process for: 324 Epoch: 2014-08-26 08:09:00\n",
      "Process for: 325 Epoch: 2014-08-26 08:26:00\n",
      "Process for: 326 Epoch: 2014-08-26 14:39:00\n",
      "Process for: 327 Epoch: 2014-08-26 15:11:00\n",
      "Process for: 328 Epoch: 2014-08-27 00:40:00\n",
      "Process for: 329 Epoch: 2014-08-27 01:29:00\n",
      "Process for: 330 Epoch: 2014-08-27 07:16:00\n",
      "Process for: 331 Epoch: 2014-08-27 08:20:00\n",
      "Process for: 332 Epoch: 2014-08-27 13:45:00\n",
      "Process for: 333 Epoch: 2014-08-27 15:06:00\n",
      "Process for: 334 Epoch: 2014-08-28 02:48:00\n",
      "Process for: 335 Epoch: 2014-08-28 04:26:00\n",
      "Process for: 336 Epoch: 2014-08-28 09:19:00\n",
      "Process for: 337 Epoch: 2014-08-28 11:13:00\n",
      "Process for: 338 Epoch: 2014-08-28 16:22:00\n",
      "Process for: 339 Epoch: 2014-08-28 18:32:00\n",
      "Process for: 340 Epoch: 2014-08-28 22:51:00\n",
      "Process for: 341 Epoch: 2014-09-25 05:29:00\n",
      "Process for: 342 Epoch: 2014-09-25 07:39:00\n",
      "Process for: 343 Epoch: 2014-09-25 14:18:00\n",
      "Process for: 344 Epoch: 2014-09-25 16:48:00\n",
      "Process for: 345 Epoch: 2014-09-26 14:40:00\n",
      "Process for: 346 Epoch: 2014-10-05 05:18:00\n",
      "Process for: 347 Epoch: 2014-10-05 06:14:00\n",
      "Process for: 348 Epoch: 2014-08-26 12:44:00\n",
      "Process for: 349 Epoch: 2014-08-26 17:07:00\n",
      "Process for: 350 Epoch: 2014-08-26 19:17:00\n",
      "Process for: 351 Epoch: 2014-08-27 08:24:00\n",
      "Process for: 352 Epoch: 2014-08-27 19:17:00\n",
      "Process for: 353 Epoch: 2014-08-28 06:12:00\n",
      "Process for: 354 Epoch: 2014-08-28 08:23:00\n",
      "Process for: 355 Epoch: 2014-08-30 08:36:00\n",
      "Process for: 356 Epoch: 2014-08-30 09:00:00\n",
      "Process for: 357 Epoch: 2014-08-30 09:22:00\n",
      "Process for: 358 Epoch: 2014-09-03 08:52:00\n",
      "Process for: 359 Epoch: 2014-09-17 06:34:00\n",
      "Process for: 360 Epoch: 2014-09-17 09:34:00\n",
      "Process for: 361 Epoch: 2014-09-17 09:49:00\n",
      "Process for: 362 Epoch: 2014-09-17 10:23:00\n",
      "Process for: 363 Epoch: 2014-09-17 10:38:00\n",
      "Process for: 364 Epoch: 2014-09-18 07:53:00\n",
      "Process for: 365 Epoch: 2014-09-18 08:35:00\n",
      "Process for: 366 Epoch: 2014-09-18 15:07:00\n",
      "Process for: 367 Epoch: 2014-09-18 23:49:00\n",
      "Process for: 368 Epoch: 2014-09-20 06:45:00\n",
      "Process for: 369 Epoch: 2014-09-20 09:54:00\n",
      "Process for: 370 Epoch: 2014-09-20 10:12:00\n",
      "Process for: 371 Epoch: 2014-09-22 15:29:00\n",
      "Process for: 372 Epoch: 2014-09-23 00:14:00\n",
      "Process for: 373 Epoch: 2014-09-30 11:56:00\n",
      "Process for: 374 Epoch: 2014-09-30 18:46:00\n",
      "Process for: 375 Epoch: 2014-10-01 10:49:00\n",
      "Process for: 376 Epoch: 2014-10-01 11:22:00\n",
      "Process for: 377 Epoch: 2014-10-01 11:37:00\n",
      "Process for: 378 Epoch: 2014-10-01 11:54:00\n",
      "Process for: 379 Epoch: 2014-10-01 12:10:00\n",
      "Process for: 380 Epoch: 2014-08-18 06:00:00\n",
      "Process for: 381 Epoch: 2014-08-18 06:30:00\n",
      "Process for: 382 Epoch: 2014-08-18 07:00:00\n",
      "Process for: 383 Epoch: 2014-08-18 07:30:00\n",
      "Process for: 384 Epoch: 2014-08-18 08:00:00\n",
      "Process for: 385 Epoch: 2014-08-18 08:30:00\n",
      "Process for: 386 Epoch: 2014-08-18 09:00:00\n",
      "Process for: 387 Epoch: 2014-08-18 09:30:00\n",
      "Process for: 388 Epoch: 2014-08-18 10:00:00\n",
      "Process for: 389 Epoch: 2014-09-13 10:30:00\n",
      "Process for: 390 Epoch: 2014-09-13 11:00:00\n",
      "Process for: 391 Epoch: 2014-09-13 11:30:00\n",
      "Process for: 392 Epoch: 2014-09-13 12:00:00\n",
      "Process for: 393 Epoch: 2014-09-13 12:30:00\n",
      "Process for: 394 Epoch: 2014-09-13 13:00:00\n",
      "Process for: 395 Epoch: 2014-09-13 13:30:00\n",
      "Process for: 396 Epoch: 2014-09-13 14:00:00\n",
      "Process for: 397 Epoch: 2014-09-13 14:30:00\n",
      "Process for: 398 Epoch: 2014-09-13 15:00:00\n",
      "Process for: 399 Epoch: 2014-09-13 15:30:00\n",
      "Process for: 400 Epoch: 2014-09-13 16:00:00\n",
      "Process for: 401 Epoch: 2014-09-13 16:30:00\n",
      "Process for: 402 Epoch: 2014-09-13 17:00:00\n",
      "Process for: 403 Epoch: 2014-09-13 17:30:00\n",
      "Process for: 404 Epoch: 2014-09-13 18:00:00\n",
      "Process for: 405 Epoch: 2014-09-13 18:30:00\n",
      "Process for: 406 Epoch: 2014-09-13 19:00:00\n",
      "Process for: 407 Epoch: 2014-09-13 19:30:00\n",
      "Process for: 408 Epoch: 2014-09-13 20:00:00\n",
      "Process for: 409 Epoch: 2014-09-13 20:30:00\n",
      "Process for: 410 Epoch: 2014-09-13 21:00:00\n",
      "Process for: 411 Epoch: 2014-09-13 21:30:00\n",
      "Process for: 412 Epoch: 2014-09-13 22:00:00\n",
      "Process for: 413 Epoch: 2014-09-13 22:30:00\n",
      "Process for: 414 Epoch: 2014-09-13 23:00:00\n",
      "Process for: 415 Epoch: 2014-09-13 23:30:00\n",
      "Process for: 416 Epoch: 2014-09-14 00:00:00\n",
      "Process for: 417 Epoch: 2014-09-14 00:30:00\n",
      "Process for: 418 Epoch: 2014-09-14 01:00:00\n",
      "Process for: 419 Epoch: 2014-09-14 01:30:00\n",
      "Process for: 420 Epoch: 2014-09-14 02:00:00\n",
      "Process for: 421 Epoch: 2014-09-14 02:30:00\n",
      "Process for: 422 Epoch: 2014-09-14 03:00:00\n",
      "Process for: 423 Epoch: 2014-09-14 03:30:00\n",
      "Process for: 424 Epoch: 2014-09-14 04:00:00\n",
      "Process for: 425 Epoch: 2014-09-14 04:30:00\n",
      "Process for: 426 Epoch: 2014-09-14 05:00:00\n",
      "Process for: 427 Epoch: 2014-09-14 05:30:00\n",
      "Process for: 428 Epoch: 2014-09-14 06:00:00\n",
      "Process for: 429 Epoch: 2014-09-14 06:30:00\n",
      "Process for: 430 Epoch: 2014-09-14 07:00:00\n",
      "Process for: 431 Epoch: 2014-09-14 07:30:00\n",
      "Process for: 432 Epoch: 2014-09-14 08:00:00\n",
      "Process for: 433 Epoch: 2014-09-14 08:30:00\n",
      "Process for: 434 Epoch: 2014-09-14 09:00:00\n",
      "Process for: 435 Epoch: 2014-09-14 09:30:00\n",
      "Process for: 436 Epoch: 2014-09-14 10:00:00\n",
      "Process for: 437 Epoch: 2014-09-14 10:30:00\n",
      "Process for: 438 Epoch: 2014-09-14 11:00:00\n",
      "Process for: 439 Epoch: 2014-09-14 11:30:00\n",
      "Process for: 440 Epoch: 2014-09-14 12:00:00\n",
      "Process for: 441 Epoch: 2014-09-14 12:30:00\n",
      "Process for: 442 Epoch: 2014-09-14 13:00:00\n",
      "Process for: 443 Epoch: 2014-09-14 13:30:00\n",
      "Process for: 444 Epoch: 2014-09-14 14:00:00\n",
      "Process for: 445 Epoch: 2014-09-14 14:30:00\n",
      "Process for: 446 Epoch: 2014-09-14 15:00:00\n",
      "Process for: 447 Epoch: 2014-09-14 15:30:00\n",
      "Process for: 448 Epoch: 2014-09-14 16:00:00\n",
      "Process for: 449 Epoch: 2014-09-14 16:30:00\n"
     ]
    },
    {
     "name": "stdout",
     "output_type": "stream",
     "text": [
      "Process for: 450 Epoch: 2014-09-14 17:00:00\n",
      "Process for: 451 Epoch: 2014-09-14 17:30:00\n",
      "Process for: 452 Epoch: 2014-09-14 18:00:00\n",
      "Process for: 453 Epoch: 2014-09-14 18:30:00\n",
      "Process for: 454 Epoch: 2014-09-14 19:00:00\n",
      "Process for: 455 Epoch: 2014-09-14 19:30:00\n",
      "Process for: 456 Epoch: 2014-09-14 20:00:00\n",
      "Process for: 457 Epoch: 2014-09-14 20:30:00\n",
      "Process for: 458 Epoch: 2014-09-14 21:00:00\n",
      "Process for: 459 Epoch: 2014-09-14 21:30:00\n",
      "Process for: 460 Epoch: 2014-09-14 22:00:00\n",
      "Process for: 461 Epoch: 2014-09-14 22:30:00\n",
      "Process for: 462 Epoch: 2014-09-14 23:00:00\n",
      "Process for: 463 Epoch: 2014-09-14 23:30:00\n",
      "Process for: 464 Epoch: 2014-09-15 00:00:00\n",
      "Process for: 465 Epoch: 2014-09-15 00:30:00\n",
      "Process for: 466 Epoch: 2014-09-15 01:00:00\n",
      "Process for: 467 Epoch: 2014-09-15 01:30:00\n",
      "Process for: 468 Epoch: 2014-09-15 02:00:00\n",
      "Process for: 469 Epoch: 2014-09-15 02:30:00\n",
      "Process for: 470 Epoch: 2014-09-15 03:00:00\n",
      "Process for: 471 Epoch: 2014-09-22 14:30:00\n",
      "Process for: 472 Epoch: 2014-09-22 15:00:00\n",
      "Process for: 473 Epoch: 2014-09-22 15:30:00\n",
      "Process for: 474 Epoch: 2014-09-22 16:00:00\n",
      "Process for: 475 Epoch: 2014-09-22 16:30:00\n",
      "Process for: 476 Epoch: 2014-09-22 17:00:00\n",
      "Process for: 477 Epoch: 2014-09-22 17:30:00\n",
      "Process for: 478 Epoch: 2014-09-22 18:00:00\n",
      "Process for: 479 Epoch: 2014-09-22 18:30:00\n",
      "Process for: 480 Epoch: 2014-09-22 19:00:00\n",
      "Process for: 481 Epoch: 2014-09-22 19:30:00\n",
      "Process for: 482 Epoch: 2014-09-22 20:00:00\n",
      "Process for: 483 Epoch: 2014-09-22 20:30:00\n",
      "Process for: 484 Epoch: 2014-09-22 21:00:00\n",
      "Process for: 485 Epoch: 2014-09-22 21:30:00\n",
      "Process for: 486 Epoch: 2014-09-22 22:00:00\n",
      "Process for: 487 Epoch: 2014-09-22 22:30:00\n",
      "Process for: 488 Epoch: 2014-09-22 23:00:00\n",
      "Process for: 489 Epoch: 2014-09-22 23:30:00\n",
      "Process for: 490 Epoch: 2014-09-23 00:00:00\n",
      "Process for: 491 Epoch: 2014-09-23 00:30:00\n",
      "Process for: 492 Epoch: 2014-09-23 01:00:00\n",
      "Process for: 493 Epoch: 2014-09-23 01:30:00\n",
      "Process for: 494 Epoch: 2014-09-23 02:00:00\n",
      "Process for: 495 Epoch: 2014-09-23 02:30:00\n",
      "Process for: 496 Epoch: 2014-09-30 03:30:00\n",
      "Process for: 497 Epoch: 2014-09-30 04:00:00\n",
      "Process for: 498 Epoch: 2014-09-30 04:30:00\n",
      "Process for: 499 Epoch: 2014-09-30 05:00:00\n",
      "Process for: 500 Epoch: 2014-09-30 05:30:00\n",
      "Process for: 501 Epoch: 2014-09-30 06:00:00\n",
      "Process for: 502 Epoch: 2014-09-30 06:30:00\n",
      "Process for: 503 Epoch: 2014-09-30 07:00:00\n",
      "Process for: 504 Epoch: 2014-09-30 07:30:00\n",
      "Process for: 505 Epoch: 2014-09-30 08:00:00\n",
      "Process for: 506 Epoch: 2014-09-30 08:30:00\n",
      "Process for: 507 Epoch: 2014-09-30 09:00:00\n",
      "Process for: 508 Epoch: 2014-09-30 09:30:00\n",
      "Process for: 509 Epoch: 2014-09-30 10:00:00\n",
      "Process for: 510 Epoch: 2014-09-30 10:30:00\n",
      "Process for: 511 Epoch: 2014-09-30 11:00:00\n",
      "Process for: 512 Epoch: 2014-09-30 11:30:00\n",
      "Process for: 513 Epoch: 2014-09-30 12:00:00\n",
      "Process for: 514 Epoch: 2014-09-30 12:30:00\n",
      "Process for: 515 Epoch: 2014-09-30 13:00:00\n",
      "Process for: 516 Epoch: 2014-09-30 13:30:00\n",
      "Process for: 517 Epoch: 2014-09-30 14:00:00\n",
      "Process for: 518 Epoch: 2014-09-30 14:30:00\n",
      "Process for: 519 Epoch: 2014-09-30 15:00:00\n",
      "Process for: 520 Epoch: 2014-09-30 15:30:00\n",
      "Process for: 521 Epoch: 2014-09-30 16:00:00\n",
      "Process for: 522 Epoch: 2014-09-30 16:30:00\n",
      "Process for: 523 Epoch: 2014-09-30 17:00:00\n",
      "Process for: 524 Epoch: 2014-09-30 17:30:00\n",
      "Process for: 525 Epoch: 2014-09-30 18:00:00\n",
      "Process for: 526 Epoch: 2014-09-30 18:30:00\n",
      "Process for: 527 Epoch: 2014-09-30 19:00:00\n",
      "Process for: 528 Epoch: 2014-09-30 19:30:00\n",
      "Process for: 529 Epoch: 2014-09-30 20:00:00\n",
      "Process for: 530 Epoch: 2014-09-30 20:30:00\n",
      "Process for: 531 Epoch: 2014-09-30 21:00:00\n",
      "Process for: 532 Epoch: 2014-09-30 21:30:00\n",
      "Process for: 533 Epoch: 2014-09-30 22:00:00\n",
      "Process for: 534 Epoch: 2014-09-30 22:30:00\n",
      "Process for: 535 Epoch: 2014-09-30 23:00:00\n",
      "Process for: 536 Epoch: 2014-09-30 23:30:00\n",
      "Process for: 537 Epoch: 2014-10-01 00:00:00\n",
      "Process for: 538 Epoch: 2014-10-01 00:30:00\n",
      "Process for: 539 Epoch: 2014-10-01 01:00:00\n",
      "Process for: 540 Epoch: 2014-10-01 01:30:00\n",
      "Process for: 541 Epoch: 2014-10-01 02:00:00\n",
      "Process for: 542 Epoch: 2014-10-01 02:30:00\n",
      "Process for: 543 Epoch: 2014-10-01 03:00:00\n",
      "Process for: 544 Epoch: 2014-10-01 03:30:00\n",
      "Process for: 545 Epoch: 2014-10-01 04:00:00\n",
      "Process for: 546 Epoch: 2014-10-01 04:30:00\n",
      "Process for: 547 Epoch: 2014-10-01 05:00:00\n",
      "Process for: 548 Epoch: 2014-10-01 05:30:00\n",
      "Process for: 549 Epoch: 2014-10-01 06:00:00\n",
      "Process for: 550 Epoch: 2014-10-01 06:30:00\n",
      "Process for: 551 Epoch: 2014-10-01 07:00:00\n",
      "Process for: 552 Epoch: 2014-10-01 07:30:00\n",
      "Process for: 553 Epoch: 2014-10-01 08:00:00\n",
      "Process for: 554 Epoch: 2014-10-01 08:30:00\n",
      "Process for: 555 Epoch: 2014-10-01 09:00:00\n",
      "Process for: 556 Epoch: 2014-10-01 09:30:00\n",
      "Process for: 557 Epoch: 2014-10-01 10:00:00\n",
      "Process for: 558 Epoch: 2014-10-01 10:30:00\n",
      "Process for: 559 Epoch: 2014-10-01 11:00:00\n",
      "Process for: 560 Epoch: 2014-10-01 11:30:00\n",
      "Process for: 561 Epoch: 2014-10-01 12:00:00\n",
      "Process for: 562 Epoch: 2014-10-01 12:30:00\n",
      "Process for: 563 Epoch: 2014-10-01 13:00:00\n",
      "Process for: 564 Epoch: 2014-10-01 13:30:00\n",
      "Process for: 565 Epoch: 2014-10-01 14:00:00\n",
      "Process for: 566 Epoch: 2014-10-01 14:30:00\n",
      "Process for: 567 Epoch: 2014-10-01 15:00:00\n",
      "Process for: 568 Epoch: 2014-10-01 15:30:00\n",
      "Process for: 569 Epoch: 2014-10-01 16:00:00\n",
      "Process for: 570 Epoch: 2014-10-01 16:30:00\n",
      "Process for: 571 Epoch: 2014-10-01 17:00:00\n",
      "Process for: 572 Epoch: 2014-08-27 21:30:00\n",
      "Process for: 573 Epoch: 2014-08-27 22:00:00\n",
      "Process for: 574 Epoch: 2014-08-27 22:30:00\n",
      "Process for: 575 Epoch: 2014-08-27 23:00:00\n",
      "Process for: 576 Epoch: 2014-08-27 23:30:00\n",
      "Process for: 577 Epoch: 2014-08-28 00:00:00\n",
      "Process for: 578 Epoch: 2014-08-28 00:30:00\n",
      "Process for: 579 Epoch: 2014-08-28 01:00:00\n",
      "Process for: 580 Epoch: 2014-08-28 01:30:00\n",
      "Process for: 581 Epoch: 2014-08-28 02:00:00\n",
      "Process for: 582 Epoch: 2014-08-28 02:30:00\n",
      "Process for: 583 Epoch: 2014-08-28 03:00:00\n",
      "Process for: 584 Epoch: 2014-08-28 03:30:00\n",
      "Process for: 585 Epoch: 2014-08-28 04:00:00\n",
      "Process for: 586 Epoch: 2014-08-28 04:30:00\n",
      "Process for: 587 Epoch: 2014-08-28 05:00:00\n",
      "Process for: 588 Epoch: 2014-08-28 05:30:00\n",
      "Process for: 589 Epoch: 2014-08-28 06:00:00\n",
      "Process for: 590 Epoch: 2014-08-28 06:30:00\n",
      "Process for: 591 Epoch: 2014-08-28 07:00:00\n",
      "Process for: 592 Epoch: 2014-08-28 07:30:00\n",
      "Process for: 593 Epoch: 2014-08-28 08:00:00\n",
      "Process for: 594 Epoch: 2014-08-28 08:30:00\n",
      "Process for: 595 Epoch: 2014-08-28 09:00:00\n",
      "Process for: 596 Epoch: 2014-08-28 09:30:00\n",
      "Process for: 597 Epoch: 2014-08-28 10:00:00\n",
      "Process for: 598 Epoch: 2014-08-28 10:30:00\n",
      "Process for: 599 Epoch: 2014-08-28 11:00:00\n",
      "Process for: 600 Epoch: 2014-08-28 11:30:00\n",
      "Process for: 601 Epoch: 2014-08-28 12:00:00\n",
      "Process for: 602 Epoch: 2014-08-28 12:30:00\n",
      "Process for: 603 Epoch: 2014-08-28 13:00:00\n",
      "Process for: 604 Epoch: 2014-08-28 13:30:00\n",
      "Process for: 605 Epoch: 2014-08-28 14:00:00\n",
      "Process for: 606 Epoch: 2014-08-28 14:30:00\n",
      "Process for: 607 Epoch: 2014-08-28 15:00:00\n",
      "Process for: 608 Epoch: 2014-08-28 15:30:00\n",
      "Process for: 609 Epoch: 2014-08-28 16:00:00\n",
      "Process for: 610 Epoch: 2014-08-28 16:30:00\n",
      "Process for: 611 Epoch: 2014-08-28 17:00:00\n",
      "Process for: 612 Epoch: 2014-08-28 17:30:00\n",
      "Process for: 613 Epoch: 2014-08-28 18:00:00\n",
      "Process for: 614 Epoch: 2014-08-28 18:30:00\n",
      "Process for: 615 Epoch: 2014-08-28 19:00:00\n",
      "Process for: 616 Epoch: 2014-08-28 19:30:00\n",
      "Process for: 617 Epoch: 2014-08-28 20:00:00\n",
      "Process for: 618 Epoch: 2014-08-28 20:30:00\n",
      "Process for: 619 Epoch: 2014-08-28 21:00:00\n",
      "Process for: 620 Epoch: 2014-08-28 21:30:00\n",
      "Process for: 621 Epoch: 2014-08-28 22:00:00\n",
      "Process for: 622 Epoch: 2014-08-28 22:30:00\n",
      "Process for: 623 Epoch: 2014-08-28 23:00:00\n",
      "Process for: 624 Epoch: 2014-08-28 23:30:00\n",
      "Process for: 625 Epoch: 2014-08-29 00:00:00\n",
      "Process for: 626 Epoch: 2014-08-29 00:30:00\n",
      "Process for: 627 Epoch: 2014-08-29 01:00:00\n",
      "Process for: 628 Epoch: 2014-08-29 01:30:00\n",
      "Process for: 629 Epoch: 2014-08-29 02:00:00\n",
      "Process for: 630 Epoch: 2014-08-29 02:30:00\n",
      "Process for: 631 Epoch: 2014-08-29 03:00:00\n",
      "Process for: 632 Epoch: 2014-08-29 03:30:00\n",
      "Process for: 633 Epoch: 2014-08-29 04:00:00\n",
      "Process for: 634 Epoch: 2014-08-29 04:30:00\n",
      "Process for: 635 Epoch: 2014-08-29 05:00:00\n",
      "Process for: 636 Epoch: 2014-08-29 05:30:00\n"
     ]
    },
    {
     "name": "stdout",
     "output_type": "stream",
     "text": [
      "Process for: 637 Epoch: 2014-08-29 06:00:00\n",
      "Process for: 638 Epoch: 2014-08-29 06:30:00\n",
      "Process for: 639 Epoch: 2014-08-29 07:00:00\n",
      "Process for: 640 Epoch: 2014-08-29 07:30:00\n",
      "Process for: 641 Epoch: 2014-08-29 08:00:00\n",
      "Process for: 642 Epoch: 2014-08-29 08:30:00\n",
      "Process for: 643 Epoch: 2014-08-29 09:00:00\n",
      "Process for: 644 Epoch: 2014-08-29 09:30:00\n",
      "Process for: 645 Epoch: 2014-08-29 10:00:00\n",
      "Process for: 646 Epoch: 2014-08-29 10:30:00\n",
      "Process for: 647 Epoch: 2014-08-29 11:00:00\n",
      "Process for: 648 Epoch: 2014-08-29 11:30:00\n",
      "Process for: 649 Epoch: 2014-08-29 12:00:00\n",
      "Process for: 650 Epoch: 2014-08-29 12:30:00\n",
      "Process for: 651 Epoch: 2014-08-29 13:00:00\n",
      "Process for: 652 Epoch: 2014-08-29 13:30:00\n",
      "Process for: 653 Epoch: 2014-08-29 14:00:00\n",
      "Process for: 654 Epoch: 2014-08-29 14:30:00\n",
      "Process for: 655 Epoch: 2014-08-29 15:00:00\n",
      "Process for: 656 Epoch: 2014-08-29 15:30:00\n",
      "Process for: 657 Epoch: 2014-08-29 16:00:00\n",
      "Process for: 658 Epoch: 2014-08-29 16:30:00\n",
      "Process for: 659 Epoch: 2014-08-29 17:00:00\n",
      "Process for: 660 Epoch: 2014-08-29 17:30:00\n",
      "Process for: 661 Epoch: 2014-08-29 18:00:00\n",
      "Process for: 662 Epoch: 2014-08-29 18:30:00\n",
      "Process for: 663 Epoch: 2014-08-29 19:00:00\n",
      "Process for: 664 Epoch: 2014-08-29 19:30:00\n",
      "Process for: 665 Epoch: 2014-08-29 20:00:00\n",
      "Process for: 666 Epoch: 2014-08-29 20:30:00\n",
      "Process for: 667 Epoch: 2014-08-29 21:00:00\n",
      "Process for: 668 Epoch: 2014-08-29 21:30:00\n",
      "Process for: 669 Epoch: 2014-08-29 22:00:00\n",
      "Process for: 670 Epoch: 2014-08-29 22:30:00\n",
      "Process for: 671 Epoch: 2014-08-29 23:00:00\n",
      "Process for: 672 Epoch: 2014-08-29 23:30:00\n",
      "Process for: 673 Epoch: 2014-08-30 00:00:00\n",
      "Process for: 674 Epoch: 2014-08-30 00:30:00\n",
      "Process for: 675 Epoch: 2014-08-30 01:00:00\n",
      "Process for: 676 Epoch: 2014-08-30 01:30:00\n",
      "Process for: 677 Epoch: 2014-08-30 02:00:00\n",
      "Process for: 678 Epoch: 2014-08-30 02:30:00\n",
      "Process for: 679 Epoch: 2014-08-30 03:00:00\n",
      "Process for: 680 Epoch: 2014-08-30 03:30:00\n",
      "Process for: 681 Epoch: 2014-08-30 04:00:00\n",
      "Process for: 682 Epoch: 2014-08-30 04:30:00\n",
      "Process for: 683 Epoch: 2014-08-30 05:00:00\n",
      "Process for: 684 Epoch: 2014-08-30 05:30:00\n",
      "Process for: 685 Epoch: 2014-08-30 06:00:00\n",
      "Process for: 686 Epoch: 2014-08-30 06:30:00\n",
      "Process for: 687 Epoch: 2014-08-30 07:00:00\n",
      "Process for: 688 Epoch: 2014-08-30 07:30:00\n",
      "Process for: 689 Epoch: 2014-08-30 08:00:00\n",
      "Process for: 690 Epoch: 2014-08-30 08:30:00\n",
      "Process for: 691 Epoch: 2014-08-30 09:00:00\n",
      "Process for: 692 Epoch: 2014-08-30 09:30:00\n",
      "Process for: 693 Epoch: 2014-08-30 10:00:00\n",
      "Process for: 694 Epoch: 2014-08-30 10:30:00\n",
      "Process for: 695 Epoch: 2014-08-30 11:00:00\n",
      "Process for: 696 Epoch: 2014-08-30 11:30:00\n",
      "Process for: 697 Epoch: 2014-08-30 12:00:00\n",
      "Process for: 698 Epoch: 2014-08-30 12:30:00\n",
      "Process for: 699 Epoch: 2014-08-30 13:00:00\n",
      "Process for: 700 Epoch: 2014-08-30 13:30:00\n",
      "Process for: 701 Epoch: 2014-08-30 14:00:00\n",
      "Process for: 702 Epoch: 2014-08-30 14:30:00\n",
      "Process for: 703 Epoch: 2014-08-30 15:00:00\n",
      "Process for: 704 Epoch: 2014-08-30 15:30:00\n",
      "Process for: 705 Epoch: 2014-08-30 16:00:00\n",
      "Process for: 706 Epoch: 2014-08-30 16:30:00\n",
      "Process for: 707 Epoch: 2014-08-30 17:00:00\n",
      "Process for: 708 Epoch: 2014-08-30 17:30:00\n",
      "Process for: 709 Epoch: 2014-08-30 18:00:00\n",
      "Process for: 710 Epoch: 2014-08-30 18:30:00\n",
      "Process for: 711 Epoch: 2014-08-30 19:00:00\n",
      "Process for: 712 Epoch: 2014-08-30 19:30:00\n",
      "Process for: 713 Epoch: 2014-08-30 20:00:00\n",
      "Process for: 714 Epoch: 2014-08-30 20:30:00\n",
      "Process for: 715 Epoch: 2014-08-30 21:00:00\n",
      "Process for: 716 Epoch: 2014-08-30 21:30:00\n",
      "Process for: 717 Epoch: 2014-08-30 22:00:00\n",
      "Process for: 718 Epoch: 2014-08-30 22:30:00\n",
      "Process for: 719 Epoch: 2014-08-30 23:00:00\n",
      "Process for: 720 Epoch: 2014-08-30 23:30:00\n",
      "Process for: 721 Epoch: 2014-08-31 00:00:00\n",
      "Process for: 722 Epoch: 2014-08-31 00:30:00\n",
      "Process for: 723 Epoch: 2014-08-31 01:00:00\n",
      "Process for: 724 Epoch: 2014-08-31 01:30:00\n",
      "Process for: 725 Epoch: 2014-08-31 02:00:00\n",
      "Process for: 726 Epoch: 2014-08-31 02:30:00\n",
      "Process for: 727 Epoch: 2014-08-31 03:00:00\n",
      "Process for: 728 Epoch: 2014-08-31 03:30:00\n",
      "Process for: 729 Epoch: 2014-08-31 04:00:00\n",
      "Process for: 730 Epoch: 2014-08-31 04:30:00\n",
      "Process for: 731 Epoch: 2014-08-31 05:00:00\n",
      "Process for: 732 Epoch: 2014-08-31 05:30:00\n",
      "Process for: 733 Epoch: 2014-08-31 06:00:00\n",
      "Process for: 734 Epoch: 2014-08-31 06:30:00\n",
      "Process for: 735 Epoch: 2014-08-31 07:00:00\n",
      "Process for: 736 Epoch: 2014-08-31 07:30:00\n",
      "Process for: 737 Epoch: 2014-08-31 08:00:00\n",
      "Process for: 738 Epoch: 2014-08-31 08:30:00\n",
      "Process for: 739 Epoch: 2014-08-31 09:00:00\n",
      "Process for: 740 Epoch: 2014-08-31 09:30:00\n",
      "Process for: 741 Epoch: 2014-08-31 10:00:00\n",
      "Process for: 742 Epoch: 2014-08-31 10:30:00\n",
      "Process for: 743 Epoch: 2014-08-31 11:00:00\n",
      "Process for: 744 Epoch: 2014-08-31 11:30:00\n",
      "Process for: 745 Epoch: 2014-08-31 12:00:00\n",
      "Process for: 746 Epoch: 2014-08-31 12:30:00\n",
      "Process for: 747 Epoch: 2014-08-31 13:00:00\n",
      "Process for: 748 Epoch: 2014-08-31 13:30:00\n",
      "Process for: 749 Epoch: 2014-08-31 14:00:00\n",
      "Process for: 750 Epoch: 2014-08-31 14:30:00\n",
      "Process for: 751 Epoch: 2014-09-05 13:30:00\n",
      "Process for: 752 Epoch: 2014-09-05 14:00:00\n",
      "Process for: 753 Epoch: 2014-09-05 14:30:00\n",
      "Process for: 754 Epoch: 2014-09-05 15:00:00\n",
      "Process for: 755 Epoch: 2014-09-05 15:30:00\n",
      "Process for: 756 Epoch: 2014-09-05 16:00:00\n",
      "Process for: 757 Epoch: 2014-09-05 16:30:00\n",
      "Process for: 758 Epoch: 2014-09-05 17:00:00\n",
      "Process for: 759 Epoch: 2014-09-05 17:30:00\n",
      "Process for: 760 Epoch: 2014-09-05 18:00:00\n",
      "Process for: 761 Epoch: 2014-09-05 18:30:00\n",
      "Process for: 762 Epoch: 2014-09-05 19:00:00\n",
      "Process for: 763 Epoch: 2014-09-05 19:30:00\n",
      "Process for: 764 Epoch: 2014-09-05 20:00:00\n",
      "Process for: 765 Epoch: 2014-09-05 20:30:00\n",
      "Process for: 766 Epoch: 2014-09-05 21:00:00\n",
      "Process for: 767 Epoch: 2014-09-05 21:30:00\n",
      "Process for: 768 Epoch: 2014-09-05 22:00:00\n",
      "Process for: 769 Epoch: 2014-09-05 22:30:00\n",
      "Process for: 770 Epoch: 2014-09-05 23:00:00\n",
      "Process for: 771 Epoch: 2014-09-05 23:30:00\n",
      "Process for: 772 Epoch: 2014-09-06 00:00:00\n",
      "Process for: 773 Epoch: 2014-09-06 00:30:00\n",
      "Process for: 774 Epoch: 2014-09-06 01:00:00\n",
      "Process for: 775 Epoch: 2014-09-06 01:30:00\n",
      "Process for: 776 Epoch: 2014-09-06 02:00:00\n",
      "Process for: 777 Epoch: 2014-09-06 02:30:00\n",
      "Process for: 778 Epoch: 2014-09-06 03:00:00\n",
      "Process for: 779 Epoch: 2014-09-06 03:30:00\n",
      "Process for: 780 Epoch: 2014-09-06 04:00:00\n",
      "Process for: 781 Epoch: 2014-09-06 04:30:00\n",
      "Process for: 782 Epoch: 2014-09-06 05:00:00\n",
      "Process for: 783 Epoch: 2014-09-06 05:30:00\n",
      "Process for: 784 Epoch: 2014-09-06 06:00:00\n",
      "Process for: 785 Epoch: 2014-09-06 06:30:00\n",
      "Process for: 786 Epoch: 2014-09-06 07:00:00\n",
      "Process for: 787 Epoch: 2014-09-06 07:30:00\n",
      "Process for: 788 Epoch: 2014-09-06 08:00:00\n",
      "Process for: 789 Epoch: 2014-09-06 08:30:00\n",
      "Process for: 790 Epoch: 2014-09-06 09:00:00\n",
      "Process for: 791 Epoch: 2014-09-06 09:30:00\n",
      "Process for: 792 Epoch: 2014-09-06 10:00:00\n",
      "Process for: 793 Epoch: 2014-09-06 10:30:00\n",
      "Process for: 794 Epoch: 2014-09-06 11:00:00\n",
      "Process for: 795 Epoch: 2014-09-06 11:30:00\n",
      "Process for: 796 Epoch: 2014-09-06 12:00:00\n",
      "Process for: 797 Epoch: 2014-09-06 12:30:00\n",
      "Process for: 798 Epoch: 2014-09-06 13:00:00\n",
      "Process for: 799 Epoch: 2014-09-06 13:30:00\n",
      "Process for: 800 Epoch: 2014-09-06 14:00:00\n",
      "Process for: 801 Epoch: 2014-09-06 14:30:00\n",
      "Process for: 802 Epoch: 2014-09-06 15:00:00\n",
      "Process for: 803 Epoch: 2014-09-06 15:30:00\n",
      "Process for: 804 Epoch: 2014-09-23 08:30:00\n",
      "Process for: 805 Epoch: 2014-09-23 09:00:00\n",
      "Process for: 806 Epoch: 2014-09-23 09:30:00\n",
      "Process for: 807 Epoch: 2014-09-23 10:00:00\n",
      "Process for: 808 Epoch: 2014-09-23 10:30:00\n",
      "Process for: 809 Epoch: 2014-09-23 11:00:00\n",
      "Process for: 810 Epoch: 2014-09-23 11:30:00\n",
      "Process for: 811 Epoch: 2014-09-23 12:00:00\n",
      "Process for: 812 Epoch: 2014-09-23 12:30:00\n",
      "Process for: 813 Epoch: 2014-09-23 13:00:00\n",
      "Process for: 814 Epoch: 2014-09-23 13:30:00\n",
      "Process for: 815 Epoch: 2014-09-23 14:00:00\n",
      "Process for: 816 Epoch: 2014-09-23 14:30:00\n",
      "Process for: 817 Epoch: 2014-09-23 15:00:00\n",
      "Process for: 818 Epoch: 2014-09-23 15:30:00\n",
      "Process for: 819 Epoch: 2014-09-23 16:00:00\n",
      "Process for: 820 Epoch: 2014-09-23 16:30:00\n",
      "Process for: 821 Epoch: 2014-09-23 17:00:00\n",
      "Process for: 822 Epoch: 2014-09-23 17:30:00\n",
      "Process for: 823 Epoch: 2014-09-23 18:00:00\n",
      "Process for: 824 Epoch: 2014-09-23 18:30:00\n"
     ]
    },
    {
     "name": "stdout",
     "output_type": "stream",
     "text": [
      "Process for: 825 Epoch: 2014-09-23 19:00:00\n",
      "Process for: 826 Epoch: 2014-09-23 19:30:00\n",
      "Process for: 827 Epoch: 2014-09-23 20:00:00\n",
      "Process for: 828 Epoch: 2014-09-23 20:30:00\n",
      "Process for: 829 Epoch: 2014-09-23 21:00:00\n",
      "Process for: 830 Epoch: 2014-09-23 21:30:00\n",
      "Process for: 831 Epoch: 2014-09-23 22:00:00\n",
      "Process for: 832 Epoch: 2014-09-23 22:30:00\n",
      "Process for: 833 Epoch: 2014-09-23 23:00:00\n",
      "Process for: 834 Epoch: 2014-09-23 23:30:00\n",
      "Process for: 835 Epoch: 2014-09-24 00:00:00\n",
      "Process for: 836 Epoch: 2014-09-24 00:30:00\n",
      "Process for: 837 Epoch: 2014-09-24 01:00:00\n",
      "Process for: 838 Epoch: 2014-09-24 01:30:00\n",
      "Process for: 839 Epoch: 2014-09-24 02:00:00\n",
      "Process for: 840 Epoch: 2014-09-24 02:30:00\n",
      "Process for: 841 Epoch: 2014-09-24 03:00:00\n",
      "Process for: 842 Epoch: 2014-09-24 03:30:00\n",
      "Process for: 843 Epoch: 2014-09-24 04:00:00\n",
      "Process for: 844 Epoch: 2014-09-24 04:30:00\n",
      "Process for: 845 Epoch: 2014-09-30 06:30:00\n",
      "Process for: 846 Epoch: 2014-09-30 07:00:00\n",
      "Process for: 847 Epoch: 2014-09-30 07:30:00\n",
      "Process for: 848 Epoch: 2014-09-30 08:00:00\n",
      "Process for: 849 Epoch: 2014-09-30 08:30:00\n",
      "Process for: 850 Epoch: 2014-09-30 09:00:00\n",
      "Process for: 851 Epoch: 2014-09-30 09:30:00\n",
      "Process for: 852 Epoch: 2014-09-30 10:00:00\n",
      "Process for: 853 Epoch: 2014-09-30 10:30:00\n",
      "Process for: 854 Epoch: 2014-09-30 11:00:00\n",
      "Process for: 855 Epoch: 2014-09-30 11:30:00\n",
      "Process for: 856 Epoch: 2014-09-30 12:00:00\n",
      "Process for: 857 Epoch: 2014-10-04 04:00:00\n",
      "Process for: 858 Epoch: 2014-10-04 04:30:00\n",
      "Process for: 859 Epoch: 2014-10-04 05:00:00\n",
      "Process for: 860 Epoch: 2014-10-04 05:30:00\n",
      "Process for: 861 Epoch: 2014-10-04 06:00:00\n",
      "Process for: 862 Epoch: 2014-10-04 06:30:00\n",
      "Process for: 863 Epoch: 2014-10-04 07:00:00\n",
      "Process for: 864 Epoch: 2014-10-04 07:30:00\n",
      "Process for: 865 Epoch: 2014-10-04 08:00:00\n",
      "Process for: 866 Epoch: 2014-10-04 08:30:00\n",
      "Process for: 867 Epoch: 2014-10-04 09:00:00\n",
      "Process for: 868 Epoch: 2014-10-04 09:30:00\n",
      "Process for: 869 Epoch: 2014-10-04 10:00:00\n",
      "Process for: 870 Epoch: 2014-10-04 10:30:00\n",
      "Process for: 871 Epoch: 2014-10-04 11:00:00\n",
      "Process for: 872 Epoch: 2014-10-04 11:30:00\n",
      "Process for: 873 Epoch: 2014-10-04 12:00:00\n",
      "Process for: 874 Epoch: 2014-10-04 12:30:00\n",
      "Process for: 875 Epoch: 2014-10-04 13:00:00\n",
      "Process for: 876 Epoch: 2014-10-04 13:30:00\n",
      "Process for: 877 Epoch: 2014-10-04 14:00:00\n",
      "Process for: 878 Epoch: 2014-10-04 14:30:00\n",
      "Process for: 879 Epoch: 2014-10-04 15:00:00\n",
      "Process for: 880 Epoch: 2014-10-04 15:30:00\n",
      "Process for: 881 Epoch: 2014-10-04 16:00:00\n",
      "Process for: 882 Epoch: 2014-10-04 16:30:00\n",
      "Process for: 883 Epoch: 2014-10-13 16:30:00\n",
      "Process for: 884 Epoch: 2014-10-13 17:00:00\n",
      "Process for: 885 Epoch: 2014-10-13 17:30:00\n",
      "Process for: 886 Epoch: 2014-10-13 18:00:00\n",
      "Process for: 887 Epoch: 2014-10-13 18:30:00\n",
      "Process for: 888 Epoch: 2014-10-13 19:00:00\n",
      "Process for: 889 Epoch: 2014-10-13 19:30:00\n",
      "Process for: 890 Epoch: 2014-10-13 20:00:00\n",
      "Process for: 891 Epoch: 2014-10-13 20:30:00\n",
      "Process for: 892 Epoch: 2014-10-13 21:00:00\n",
      "Process for: 893 Epoch: 2014-10-13 21:30:00\n",
      "Process for: 894 Epoch: 2014-10-13 22:00:00\n",
      "Process for: 895 Epoch: 2014-10-13 22:30:00\n",
      "Process for: 896 Epoch: 2014-10-13 23:00:00\n",
      "Process for: 897 Epoch: 2014-10-13 23:30:00\n",
      "Process for: 898 Epoch: 2014-10-14 00:00:00\n",
      "Process for: 899 Epoch: 2014-10-14 00:30:00\n",
      "Process for: 900 Epoch: 2014-10-14 01:00:00\n",
      "Process for: 901 Epoch: 2014-10-14 01:30:00\n",
      "Process for: 902 Epoch: 2014-10-14 02:00:00\n",
      "Process for: 903 Epoch: 2014-10-14 02:30:00\n",
      "Process for: 904 Epoch: 2014-10-14 03:00:00\n",
      "Process for: 905 Epoch: 2014-10-14 03:30:00\n",
      "Process for: 906 Epoch: 2014-10-14 04:00:00\n",
      "Process for: 907 Epoch: 2014-10-14 04:30:00\n",
      "Process for: 908 Epoch: 2014-10-14 05:00:00\n",
      "Process for: 909 Epoch: 2014-10-14 05:30:00\n",
      "Process for: 910 Epoch: 2014-10-14 06:00:00\n",
      "Process for: 911 Epoch: 2014-10-14 06:30:00\n",
      "Process for: 912 Epoch: 2014-10-14 07:00:00\n",
      "Process for: 913 Epoch: 2014-10-14 07:30:00\n",
      "Process for: 914 Epoch: 2014-10-14 08:00:00\n",
      "Process for: 915 Epoch: 2014-10-14 08:30:00\n",
      "Process for: 916 Epoch: 2014-10-14 09:00:00\n",
      "Process for: 917 Epoch: 2014-10-14 09:30:00\n",
      "Process for: 918 Epoch: 2014-10-14 10:00:00\n",
      "Process for: 919 Epoch: 2014-10-23 20:30:00\n",
      "Process for: 920 Epoch: 2014-10-23 21:00:00\n",
      "Process for: 921 Epoch: 2014-10-23 21:30:00\n",
      "Process for: 922 Epoch: 2014-10-23 22:00:00\n",
      "Process for: 923 Epoch: 2014-10-23 22:30:00\n",
      "Process for: 924 Epoch: 2014-10-23 23:00:00\n",
      "Process for: 925 Epoch: 2014-10-23 23:30:00\n",
      "Process for: 926 Epoch: 2014-10-24 00:00:00\n",
      "Process for: 927 Epoch: 2014-10-24 00:30:00\n",
      "Process for: 928 Epoch: 2014-10-24 01:00:00\n",
      "Process for: 929 Epoch: 2014-10-24 01:30:00\n",
      "Process for: 930 Epoch: 2014-10-24 02:00:00\n",
      "Process for: 931 Epoch: 2014-10-24 02:30:00\n",
      "Process for: 932 Epoch: 2014-10-24 03:00:00\n",
      "Process for: 933 Epoch: 2014-10-24 03:30:00\n",
      "Process for: 934 Epoch: 2014-10-24 04:00:00\n",
      "Process for: 935 Epoch: 2014-10-24 04:30:00\n",
      "Process for: 936 Epoch: 2014-10-24 05:00:00\n",
      "Process for: 937 Epoch: 2014-10-24 05:30:00\n",
      "Process for: 938 Epoch: 2014-10-24 06:00:00\n",
      "Process for: 939 Epoch: 2014-10-24 06:30:00\n",
      "Process for: 940 Epoch: 2014-10-24 07:00:00\n",
      "Process for: 941 Epoch: 2014-10-24 07:30:00\n",
      "Process for: 942 Epoch: 2014-10-24 08:00:00\n",
      "Process for: 943 Epoch: 2014-10-24 08:30:00\n",
      "Process for: 944 Epoch: 2014-10-24 09:00:00\n",
      "Process for: 945 Epoch: 2014-10-02 13:11:00\n",
      "Process for: 946 Epoch: 2014-10-02 13:45:00\n",
      "Process for: 947 Epoch: 2014-10-02 18:47:00\n",
      "Process for: 948 Epoch: 2014-10-02 19:19:00\n",
      "Process for: 949 Epoch: 2014-10-03 00:19:00\n",
      "Process for: 950 Epoch: 2014-10-03 03:00:00\n",
      "Process for: 951 Epoch: 2014-09-23 18:08:00\n",
      "Process for: 952 Epoch: 2014-09-30 07:36:00\n",
      "Process for: 953 Epoch: 2014-09-30 18:35:00\n",
      "Process for: 954 Epoch: 2014-10-01 05:19:00\n",
      "Process for: 955 Epoch: 2014-10-01 16:01:00\n",
      "Process for: 956 Epoch: 2014-10-02 02:45:00\n",
      "Process for: 957 Epoch: 2014-10-10 08:30:00\n",
      "Process for: 958 Epoch: 2014-10-10 13:30:00\n",
      "Process for: 959 Epoch: 2014-10-15 08:30:00\n",
      "Process for: 960 Epoch: 2014-10-15 13:30:00\n",
      "Process for: 961 Epoch: 2014-10-22 13:31:00\n",
      "Process for: 962 Epoch: 2014-10-23 08:30:00\n",
      "Process for: 963 Epoch: 2014-10-23 13:30:00\n",
      "Process for: 964 Epoch: 2014-10-24 08:30:00\n",
      "Process for: 965 Epoch: 2014-10-24 13:30:00\n",
      "Process for: 966 Epoch: 2014-08-28 07:09:00\n",
      "Process for: 967 Epoch: 2014-09-30 16:12:00\n",
      "Process for: 968 Epoch: 2014-10-01 10:37:00\n",
      "Process for: 969 Epoch: 2014-10-03 11:28:00\n",
      "Process for: 970 Epoch: 2014-10-04 07:11:00\n",
      "Process for: 971 Epoch: 2014-10-04 14:12:00\n",
      "Process for: 972 Epoch: 2014-10-04 21:05:00\n",
      "Wall time: 1min 40s\n"
     ]
    }
   ],
   "source": [
    "%%time\n",
    "#Sequential mode, applying a traditional loop using iterrows.\n",
    "DT= 14400\n",
    "if __name__ == '__main__':\n",
    "    dn = [] ## List used to add all the GPS points with the annotated MAG Data. See the last bullet point of this process        \n",
    "    for index, row in GPSData.iterrows():\n",
    "        GPSLat = row['gpsLat']\n",
    "        GPSLong = row['gpsLong']\n",
    "        GPSDateTime = row['gpsDateTime']\n",
    "        GPSTime = row['epoch']\n",
    "        print(\"Process for:\", index,\"Epoch:\",GPSDateTime)\n",
    "        result=SwarmMagAnnotation(GPSLat,GPSLong,GPSDateTime,GPSTime, DT)\n",
    "        dn.append(result)"
   ]
  },
  {
   "cell_type": "markdown",
   "metadata": {},
   "source": [
    "**7.** Parsing the appended list to a dataframe and display the results."
   ]
  },
  {
   "cell_type": "code",
   "execution_count": 13,
   "metadata": {
    "ExecuteTime": {
     "end_time": "2020-09-15T17:13:50.228094Z",
     "start_time": "2020-09-15T17:13:50.199082Z"
    }
   },
   "outputs": [],
   "source": [
    "GeoMagResults = pd.DataFrame(dn)\n",
    "# SwarmAnnotation.describe()"
   ]
  },
  {
   "cell_type": "markdown",
   "metadata": {},
   "source": [
    "##  The final result \n",
    "\n",
    "<div class=\"alert alert-info\" role=\"alert\">\n",
    "    <strong>📘 The annotated dataframe will include the following attributes:</strong> If you need more information about how the geomagnetic component are described go to the main MagGeo Notebook (Add Link).\n",
    "    <ul>\n",
    "      <li><strong>Latitude</strong> from the GPS Track.</li>\n",
    "      <li><strong>Longitude</strong> from the GPS Track.</li>\n",
    "      <li><strong>Timestamp</strong> from the GPS Track.</li>\n",
    "      <li><strong>Magnetic Field Intensity</strong>  mapped as Fgps in nanoTeslas (nT).</li>\n",
    "      <li><strong>N (Northwards) component</strong> mapped as N in nanoTeslas (nT).</li>\n",
    "      <li><strong>E (Eastwards) component</strong> mapped as E. in nanoteslas (nT).</li>\n",
    "      <li><strong>C (Downwards or Center)</strong> component mapped as C in nanoTeslas (nT).</li>\n",
    "      <li><strong>Horizontal component</strong> mapped as H in nanoTeslas (nT).</li>\n",
    "      <li><strong>Magnetic Declination or dip angle</strong> mapped as D in degrees</li>\n",
    "        <li><strong>Total Points</strong> as the amount of Swarm messuares included in the ST-IDW process from the trajectories requested in the three satellites.</li>\n",
    "        <li><strong>Minimum Distance</strong> mapped as MinDist, representing the minimum distance amount the set of identified point inside the Space Time cylinder and each GPS point location.</li>\n",
    "        <li><strong>Average Distance</strong> mapped as AvDist, representing the average distance amount the set of distances between the identified Swarm Point in the Space Time cylinder and the GPS Points location.</li>\n",
    "    </ul>\n",
    "\n",
    "</div> "
   ]
  },
  {
   "cell_type": "code",
   "execution_count": 14,
   "metadata": {
    "ExecuteTime": {
     "end_time": "2020-09-15T17:13:53.607186Z",
     "start_time": "2020-09-15T17:13:53.552170Z"
    }
   },
   "outputs": [
    {
     "data": {
      "text/html": [
       "<div>\n",
       "<style scoped>\n",
       "    .dataframe tbody tr th:only-of-type {\n",
       "        vertical-align: middle;\n",
       "    }\n",
       "\n",
       "    .dataframe tbody tr th {\n",
       "        vertical-align: top;\n",
       "    }\n",
       "\n",
       "    .dataframe thead th {\n",
       "        text-align: right;\n",
       "    }\n",
       "</style>\n",
       "<table border=\"1\" class=\"dataframe\">\n",
       "  <thead>\n",
       "    <tr style=\"text-align: right;\">\n",
       "      <th></th>\n",
       "      <th>Latitude</th>\n",
       "      <th>Longitude</th>\n",
       "      <th>DateTime</th>\n",
       "      <th>Fgps</th>\n",
       "      <th>N</th>\n",
       "      <th>E</th>\n",
       "      <th>C</th>\n",
       "      <th>H</th>\n",
       "      <th>D</th>\n",
       "      <th>I</th>\n",
       "      <th>TotalPoints</th>\n",
       "      <th>MinDist</th>\n",
       "      <th>AvDist</th>\n",
       "    </tr>\n",
       "  </thead>\n",
       "  <tbody>\n",
       "    <tr>\n",
       "      <th>0</th>\n",
       "      <td>70.854717</td>\n",
       "      <td>68.307333</td>\n",
       "      <td>2014-09-08 05:54:00</td>\n",
       "      <td>58263.658562</td>\n",
       "      <td>6533.825067</td>\n",
       "      <td>3145.150001</td>\n",
       "      <td>57810.648418</td>\n",
       "      <td>7251.402521</td>\n",
       "      <td>25.704502</td>\n",
       "      <td>82.850519</td>\n",
       "      <td>21</td>\n",
       "      <td>327.950987</td>\n",
       "      <td>626.701218</td>\n",
       "    </tr>\n",
       "    <tr>\n",
       "      <th>1</th>\n",
       "      <td>70.830300</td>\n",
       "      <td>67.975050</td>\n",
       "      <td>2014-09-08 06:10:00</td>\n",
       "      <td>58261.265474</td>\n",
       "      <td>6538.145361</td>\n",
       "      <td>3149.837642</td>\n",
       "      <td>57807.492877</td>\n",
       "      <td>7257.328843</td>\n",
       "      <td>25.723055</td>\n",
       "      <td>82.844350</td>\n",
       "      <td>21</td>\n",
       "      <td>340.038476</td>\n",
       "      <td>628.953831</td>\n",
       "    </tr>\n",
       "    <tr>\n",
       "      <th>2</th>\n",
       "      <td>70.761717</td>\n",
       "      <td>67.752417</td>\n",
       "      <td>2014-09-08 06:26:00</td>\n",
       "      <td>58059.119198</td>\n",
       "      <td>6682.143657</td>\n",
       "      <td>3212.142668</td>\n",
       "      <td>57583.786066</td>\n",
       "      <td>7414.101724</td>\n",
       "      <td>25.673846</td>\n",
       "      <td>82.663343</td>\n",
       "      <td>26</td>\n",
       "      <td>348.223318</td>\n",
       "      <td>656.804069</td>\n",
       "    </tr>\n",
       "    <tr>\n",
       "      <th>3</th>\n",
       "      <td>70.686517</td>\n",
       "      <td>67.561983</td>\n",
       "      <td>2014-09-08 06:42:00</td>\n",
       "      <td>58056.995277</td>\n",
       "      <td>6699.987563</td>\n",
       "      <td>3220.482589</td>\n",
       "      <td>57579.105231</td>\n",
       "      <td>7433.797243</td>\n",
       "      <td>25.672194</td>\n",
       "      <td>82.643475</td>\n",
       "      <td>26</td>\n",
       "      <td>355.472899</td>\n",
       "      <td>657.901776</td>\n",
       "    </tr>\n",
       "    <tr>\n",
       "      <th>4</th>\n",
       "      <td>70.685450</td>\n",
       "      <td>67.548317</td>\n",
       "      <td>2014-09-08 07:14:00</td>\n",
       "      <td>58045.814714</td>\n",
       "      <td>6704.986598</td>\n",
       "      <td>3235.572391</td>\n",
       "      <td>57566.403672</td>\n",
       "      <td>7444.848822</td>\n",
       "      <td>25.760195</td>\n",
       "      <td>82.631051</td>\n",
       "      <td>26</td>\n",
       "      <td>355.980432</td>\n",
       "      <td>657.921513</td>\n",
       "    </tr>\n",
       "  </tbody>\n",
       "</table>\n",
       "</div>"
      ],
      "text/plain": [
       "    Latitude  Longitude            DateTime          Fgps            N  \\\n",
       "0  70.854717  68.307333 2014-09-08 05:54:00  58263.658562  6533.825067   \n",
       "1  70.830300  67.975050 2014-09-08 06:10:00  58261.265474  6538.145361   \n",
       "2  70.761717  67.752417 2014-09-08 06:26:00  58059.119198  6682.143657   \n",
       "3  70.686517  67.561983 2014-09-08 06:42:00  58056.995277  6699.987563   \n",
       "4  70.685450  67.548317 2014-09-08 07:14:00  58045.814714  6704.986598   \n",
       "\n",
       "             E             C            H          D          I  TotalPoints  \\\n",
       "0  3145.150001  57810.648418  7251.402521  25.704502  82.850519           21   \n",
       "1  3149.837642  57807.492877  7257.328843  25.723055  82.844350           21   \n",
       "2  3212.142668  57583.786066  7414.101724  25.673846  82.663343           26   \n",
       "3  3220.482589  57579.105231  7433.797243  25.672194  82.643475           26   \n",
       "4  3235.572391  57566.403672  7444.848822  25.760195  82.631051           26   \n",
       "\n",
       "      MinDist      AvDist  \n",
       "0  327.950987  626.701218  \n",
       "1  340.038476  628.953831  \n",
       "2  348.223318  656.804069  \n",
       "3  355.472899  657.901776  \n",
       "4  355.980432  657.921513  "
      ]
     },
     "execution_count": 14,
     "metadata": {},
     "output_type": "execute_result"
    }
   ],
   "source": [
    "GeoMagResults.head()\n",
    "# GeoMagResults.tail()"
   ]
  },
  {
   "cell_type": "markdown",
   "metadata": {},
   "source": [
    "## Validating the results\n",
    "To validate the results we plot the `Fgps`column. You will note that there is an significat outlier with Magnetic Intensity values with Zero."
   ]
  },
  {
   "cell_type": "code",
   "execution_count": 15,
   "metadata": {
    "ExecuteTime": {
     "end_time": "2020-09-15T17:13:59.707742Z",
     "start_time": "2020-09-15T17:13:59.690741Z"
    }
   },
   "outputs": [],
   "source": [
    "## Creating a copy of the results and setting the Datetime Column as dataframe index.\n",
    "ValidateDF = GeoMagResults.copy()\n",
    "ValidateDF.set_index(\"DateTime\", inplace=True)"
   ]
  },
  {
   "cell_type": "code",
   "execution_count": 16,
   "metadata": {
    "ExecuteTime": {
     "end_time": "2020-09-15T17:14:02.665967Z",
     "start_time": "2020-09-15T17:14:01.184971Z"
    }
   },
   "outputs": [
    {
     "data": {
      "image/png": "[encoded data removed]",
      "text/plain": [
       "<Figure size 432x288 with 1 Axes>"
      ]
     },
     "metadata": {
      "needs_background": "light"
     },
     "output_type": "display_data"
    }
   ],
   "source": [
    "## Plotting the Fgps column.\n",
    "import matplotlib.pyplot as plt\n",
    "hist = ValidateDF.hist(column='Fgps')"
   ]
  },
  {
   "cell_type": "markdown",
   "metadata": {},
   "source": [
    "<div class=\"alert alert-warning\" role=\"alert\">\n",
    "  <strong>🔈  Note: 🔈 </strong>\n",
    "    <br> Based on the previous plot you can realize that there were over 100 point with Zero value for Magnetic intensity. Having Zero values means that there were no Swarm points into the <strong>ST-Cylinder</strong> (see the MagGeo Main Notebook) for certain rows with specific date and time. This could be a common output when we use satellite data source, as the mission could have maintenance, calibration or other data processing chain issues. For  more information, you might want to check <a href=\"https://earth.esa.int/web/guest/missions/esa-eo-missions/swarm/operational-news\">Swarm Operational News website</a>.\n",
    "</div>"
   ]
  },
  {
   "cell_type": "markdown",
   "metadata": {},
   "source": [
    "## Optional: Mapping the GPS Track using the annotated Magnetic Values\n",
    "\n",
    "Now we are going to plot the annotated GPS track stored into the MagDataFinal dataframe to see how the different magnetic components in a map to have a better prespective of the impact of the earth magnetic field."
   ]
  },
  {
   "cell_type": "code",
   "execution_count": 126,
   "metadata": {
    "ExecuteTime": {
     "end_time": "2020-09-22T15:44:17.680491Z",
     "start_time": "2020-09-22T15:44:16.167389Z"
    }
   },
   "outputs": [
    {
     "data": {
      "image/png": "[encoded data removed]",
      "text/plain": [
       "<Figure size 720x504 with 2 Axes>"
      ]
     },
     "metadata": {
      "needs_background": "light"
     },
     "output_type": "display_data"
    }
   ],
   "source": [
    "import matplotlib.pyplot as plt\n",
    "\n",
    "GeoMagResultsNoZero = GeoMagResults[(GeoMagResults[['TotalPoints']] != 0).all(axis=1)]\n",
    "\n",
    "GeoMagResultsNoZero.plot(kind=\"scatter\", x=\"Latitude\", y=\"Longitude\",\n",
    "    label=\"Magnetic Intensity\",\n",
    "    c=\"Fgps\", cmap=plt.get_cmap(\"gist_rainbow\"),\n",
    "    colorbar=True, alpha=0.4, figsize=(10,7)\n",
    "    \n",
    ")\n",
    "\n",
    "plt.ylabel(\"Longitude\", fontsize=12)\n",
    "plt.xlabel(\"Latitude\", fontsize=12)\n",
    "plt.legend(fontsize=12)\n",
    "plt.show()"
   ]
  },
  {
   "cell_type": "code",
   "execution_count": 127,
   "metadata": {
    "ExecuteTime": {
     "end_time": "2020-09-22T15:45:19.871888Z",
     "start_time": "2020-09-22T15:45:19.768890Z"
    }
   },
   "outputs": [
    {
     "data": {
      "text/html": [
       "<div>\n",
       "<style scoped>\n",
       "    .dataframe tbody tr th:only-of-type {\n",
       "        vertical-align: middle;\n",
       "    }\n",
       "\n",
       "    .dataframe tbody tr th {\n",
       "        vertical-align: top;\n",
       "    }\n",
       "\n",
       "    .dataframe thead th {\n",
       "        text-align: right;\n",
       "    }\n",
       "</style>\n",
       "<table border=\"1\" class=\"dataframe\">\n",
       "  <thead>\n",
       "    <tr style=\"text-align: right;\">\n",
       "      <th></th>\n",
       "      <th>Latitude</th>\n",
       "      <th>Longitude</th>\n",
       "      <th>DateTime</th>\n",
       "      <th>Fgps</th>\n",
       "      <th>N</th>\n",
       "      <th>E</th>\n",
       "      <th>C</th>\n",
       "      <th>H</th>\n",
       "      <th>D</th>\n",
       "      <th>I</th>\n",
       "      <th>TotalPoints</th>\n",
       "      <th>MinDist</th>\n",
       "      <th>AvDist</th>\n",
       "      <th>geometry</th>\n",
       "    </tr>\n",
       "  </thead>\n",
       "  <tbody>\n",
       "    <tr>\n",
       "      <th>0</th>\n",
       "      <td>70.854717</td>\n",
       "      <td>68.307333</td>\n",
       "      <td>2014-09-08 05:54:00</td>\n",
       "      <td>58263.658562</td>\n",
       "      <td>6533.825067</td>\n",
       "      <td>3145.150001</td>\n",
       "      <td>57810.648418</td>\n",
       "      <td>7251.402521</td>\n",
       "      <td>25.704502</td>\n",
       "      <td>82.850519</td>\n",
       "      <td>21</td>\n",
       "      <td>327.950987</td>\n",
       "      <td>626.701218</td>\n",
       "      <td>POINT (68.30733 70.85472)</td>\n",
       "    </tr>\n",
       "    <tr>\n",
       "      <th>1</th>\n",
       "      <td>70.830300</td>\n",
       "      <td>67.975050</td>\n",
       "      <td>2014-09-08 06:10:00</td>\n",
       "      <td>58261.265474</td>\n",
       "      <td>6538.145361</td>\n",
       "      <td>3149.837642</td>\n",
       "      <td>57807.492877</td>\n",
       "      <td>7257.328843</td>\n",
       "      <td>25.723055</td>\n",
       "      <td>82.844350</td>\n",
       "      <td>21</td>\n",
       "      <td>340.038476</td>\n",
       "      <td>628.953831</td>\n",
       "      <td>POINT (67.97505 70.83030)</td>\n",
       "    </tr>\n",
       "    <tr>\n",
       "      <th>2</th>\n",
       "      <td>70.761717</td>\n",
       "      <td>67.752417</td>\n",
       "      <td>2014-09-08 06:26:00</td>\n",
       "      <td>58059.119198</td>\n",
       "      <td>6682.143657</td>\n",
       "      <td>3212.142668</td>\n",
       "      <td>57583.786066</td>\n",
       "      <td>7414.101724</td>\n",
       "      <td>25.673846</td>\n",
       "      <td>82.663343</td>\n",
       "      <td>26</td>\n",
       "      <td>348.223318</td>\n",
       "      <td>656.804069</td>\n",
       "      <td>POINT (67.75242 70.76172)</td>\n",
       "    </tr>\n",
       "    <tr>\n",
       "      <th>3</th>\n",
       "      <td>70.686517</td>\n",
       "      <td>67.561983</td>\n",
       "      <td>2014-09-08 06:42:00</td>\n",
       "      <td>58056.995277</td>\n",
       "      <td>6699.987563</td>\n",
       "      <td>3220.482589</td>\n",
       "      <td>57579.105231</td>\n",
       "      <td>7433.797243</td>\n",
       "      <td>25.672194</td>\n",
       "      <td>82.643475</td>\n",
       "      <td>26</td>\n",
       "      <td>355.472899</td>\n",
       "      <td>657.901776</td>\n",
       "      <td>POINT (67.56198 70.68652)</td>\n",
       "    </tr>\n",
       "    <tr>\n",
       "      <th>4</th>\n",
       "      <td>70.685450</td>\n",
       "      <td>67.548317</td>\n",
       "      <td>2014-09-08 07:14:00</td>\n",
       "      <td>58045.814714</td>\n",
       "      <td>6704.986598</td>\n",
       "      <td>3235.572391</td>\n",
       "      <td>57566.403672</td>\n",
       "      <td>7444.848822</td>\n",
       "      <td>25.760195</td>\n",
       "      <td>82.631051</td>\n",
       "      <td>26</td>\n",
       "      <td>355.980432</td>\n",
       "      <td>657.921513</td>\n",
       "      <td>POINT (67.54832 70.68545)</td>\n",
       "    </tr>\n",
       "  </tbody>\n",
       "</table>\n",
       "</div>"
      ],
      "text/plain": [
       "    Latitude  Longitude            DateTime          Fgps            N  \\\n",
       "0  70.854717  68.307333 2014-09-08 05:54:00  58263.658562  6533.825067   \n",
       "1  70.830300  67.975050 2014-09-08 06:10:00  58261.265474  6538.145361   \n",
       "2  70.761717  67.752417 2014-09-08 06:26:00  58059.119198  6682.143657   \n",
       "3  70.686517  67.561983 2014-09-08 06:42:00  58056.995277  6699.987563   \n",
       "4  70.685450  67.548317 2014-09-08 07:14:00  58045.814714  6704.986598   \n",
       "\n",
       "             E             C            H          D          I  TotalPoints  \\\n",
       "0  3145.150001  57810.648418  7251.402521  25.704502  82.850519           21   \n",
       "1  3149.837642  57807.492877  7257.328843  25.723055  82.844350           21   \n",
       "2  3212.142668  57583.786066  7414.101724  25.673846  82.663343           26   \n",
       "3  3220.482589  57579.105231  7433.797243  25.672194  82.643475           26   \n",
       "4  3235.572391  57566.403672  7444.848822  25.760195  82.631051           26   \n",
       "\n",
       "      MinDist      AvDist                   geometry  \n",
       "0  327.950987  626.701218  POINT (68.30733 70.85472)  \n",
       "1  340.038476  628.953831  POINT (67.97505 70.83030)  \n",
       "2  348.223318  656.804069  POINT (67.75242 70.76172)  \n",
       "3  355.472899  657.901776  POINT (67.56198 70.68652)  \n",
       "4  355.980432  657.921513  POINT (67.54832 70.68545)  "
      ]
     },
     "execution_count": 127,
     "metadata": {},
     "output_type": "execute_result"
    }
   ],
   "source": [
    "import geopandas\n",
    "import geoplot\n",
    "gdf = geopandas.GeoDataFrame(GeoMagResultsNoZero, geometry=geopandas.points_from_xy(GeoMagResultsNoZero.Longitude, GeoMagResultsNoZero.Latitude))\n",
    "gdf.head()"
   ]
  },
  {
   "cell_type": "code",
   "execution_count": 139,
   "metadata": {
    "ExecuteTime": {
     "end_time": "2020-09-22T16:09:17.510814Z",
     "start_time": "2020-09-22T16:09:15.464808Z"
    }
   },
   "outputs": [
    {
     "data": {
      "image/png": "[encoded data removed]",
      "text/plain": [
       "<Figure size 864x864 with 2 Axes>"
      ]
     },
     "metadata": {
      "needs_background": "light"
     },
     "output_type": "display_data"
    }
   ],
   "source": [
    "world = geopandas.read_file(geopandas.datasets.get_path('naturalearth_lowres'))\n",
    "\n",
    "ax = world.plot(color='white', edgecolor='gray', figsize = (12,12))\n",
    "\n",
    "minx, miny, maxx, maxy = gdf.total_bounds\n",
    "ax.set_xlim(minx, maxx)\n",
    "ax.set_ylim(miny, maxy)\n",
    "\n",
    "gdf.plot(ax=ax, column='Fgps', legend=True, \n",
    "         legend_kwds={'label': \"Magnetic Intensity in nT\",\n",
    "                      'orientation': \"horizontal\"})\n",
    "plt.ylabel(\"Longitude\", fontsize=9)\n",
    "plt.xlabel(\"Latitude\", fontsize=9)\n",
    "\n",
    "plt.show()"
   ]
  },
  {
   "cell_type": "code",
   "execution_count": 143,
   "metadata": {
    "ExecuteTime": {
     "end_time": "2020-09-22T16:10:29.853024Z",
     "start_time": "2020-09-22T16:10:26.470019Z"
    }
   },
   "outputs": [
    {
     "data": {
      "text/plain": [
       "Text(686.1045454545454, 0.5, 'Longitude')"
      ]
     },
     "execution_count": 143,
     "metadata": {},
     "output_type": "execute_result"
    },
    {
     "data": {
      "image/png": "[encoded data removed]",
      "text/plain": [
       "<Figure size 1296x720 with 4 Axes>"
      ]
     },
     "metadata": {
      "needs_background": "light"
     },
     "output_type": "display_data"
    }
   ],
   "source": [
    "fig, (ax1, ax2) = plt.subplots(ncols=2, figsize = (18,10))\n",
    "\n",
    "ax1 = world.plot(ax=ax1, color='white', edgecolor='black')\n",
    "xlim = ([gdf.total_bounds[0],  gdf.total_bounds[2]])\n",
    "ylim = ([gdf.total_bounds[1],  gdf.total_bounds[3]])\n",
    "ax1.set_xlim(xlim)\n",
    "ax1.set_ylim(ylim)\n",
    "\n",
    "\n",
    "gdf.plot(ax=ax1, column='Fgps', legend=True,\n",
    "         legend_kwds={'label': \"Magnetic Intensity in nT\",\n",
    "                      'orientation': \"horizontal\"})\n",
    "plt.ylabel(\"Longitude\", fontsize=9)\n",
    "plt.xlabel(\"Latitude\", fontsize=9)\n",
    "ax1.set_title('Magnetic Intensity - F')\n",
    "ax1.set_xlabel('Latitude')\n",
    "ax1.set_ylabel('Longitude')\n",
    "\n",
    "\n",
    "ax2 = world.plot( ax=ax2, color='white', edgecolor='black')\n",
    "xlim = ([gdf.total_bounds[0],  gdf.total_bounds[2]])\n",
    "ylim = ([gdf.total_bounds[1],  gdf.total_bounds[3]])\n",
    "ax2.set_xlim(xlim)\n",
    "ax2.set_ylim(ylim)\n",
    "\n",
    "\n",
    "# We can now plot our ``GeoDataFrame``.\n",
    "gdf.plot(ax=ax2, column='D', legend=True, cmap='Spectral', \n",
    "         legend_kwds={'label': \" Declination in Degrees\",\n",
    "                      'orientation': \"horizontal\"})\n",
    "ax2.set_title('Declination - D')\n",
    "ax2.set_xlabel('Latitude')\n",
    "ax2.set_ylabel('Longitude')"
   ]
  },
  {
   "cell_type": "markdown",
   "metadata": {},
   "source": [
    "## Exporting the final results to a CSV file"
   ]
  },
  {
   "cell_type": "code",
   "execution_count": 21,
   "metadata": {
    "ExecuteTime": {
     "end_time": "2020-09-15T17:23:08.940568Z",
     "start_time": "2020-09-15T17:23:08.666574Z"
    }
   },
   "outputs": [],
   "source": [
    "#Exporting the CSV file\n",
    "os.chdir(r\"./results\")\n",
    "outputfile =\"GeoMag_\"+gpsfilename\n",
    "export_csv = GeoMagResults.to_csv (outputfile, index = None, header=True)"
   ]
  }
 ],
 "metadata": {
  "kernelspec": {
   "display_name": "Python 3",
   "language": "python",
   "name": "python3"
  },
  "language_info": {
   "codemirror_mode": {
    "name": "ipython",
    "version": 3
   },
   "file_extension": ".py",
   "mimetype": "text/x-python",
   "name": "python",
   "nbconvert_exporter": "python",
   "pygments_lexer": "ipython3",
   "version": "3.8.1"
  },
  "toc": {
   "base_numbering": 1,
   "nav_menu": {},
   "number_sections": true,
   "sideBar": true,
   "skip_h1_title": false,
   "title_cell": "Table of Contents",
   "title_sidebar": "Contents",
   "toc_cell": false,
   "toc_position": {
    "height": "calc(100% - 180px)",
    "left": "10px",
    "top": "150px",
    "width": "449.006px"
   },
   "toc_section_display": true,
   "toc_window_display": true
  }
 },
 "nbformat": 4,
 "nbformat_minor": 4
}
